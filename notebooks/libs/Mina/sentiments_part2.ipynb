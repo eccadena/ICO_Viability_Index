{
 "cells": [
  {
   "cell_type": "code",
   "execution_count": 12,
   "metadata": {},
   "outputs": [],
   "source": [
    "import pandas as pd\n",
    "import os\n",
    "from pathlib import Path\n",
    "from pathlib import Path\n",
    "from newsapi import NewsApiClient\n",
    "from nltk.sentiment.vader import SentimentIntensityAnalyzer\n",
    "%matplotlib inline"
   ]
  },
  {
   "cell_type": "code",
   "execution_count": 2,
   "metadata": {},
   "outputs": [
    {
     "data": {
      "text/html": [
       "<div>\n",
       "<style scoped>\n",
       "    .dataframe tbody tr th:only-of-type {\n",
       "        vertical-align: middle;\n",
       "    }\n",
       "\n",
       "    .dataframe tbody tr th {\n",
       "        vertical-align: top;\n",
       "    }\n",
       "\n",
       "    .dataframe thead th {\n",
       "        text-align: right;\n",
       "    }\n",
       "</style>\n",
       "<table border=\"1\" class=\"dataframe\">\n",
       "  <thead>\n",
       "    <tr style=\"text-align: right;\">\n",
       "      <th></th>\n",
       "      <th>rank_cnc</th>\n",
       "      <th>Name</th>\n",
       "      <th>ticker</th>\n",
       "      <th>market_cap</th>\n",
       "      <th>price</th>\n",
       "      <th>volume24</th>\n",
       "      <th>pct1h</th>\n",
       "      <th>pct24h</th>\n",
       "      <th>pct7d</th>\n",
       "    </tr>\n",
       "  </thead>\n",
       "  <tbody>\n",
       "    <tr>\n",
       "      <th>0</th>\n",
       "      <td>1</td>\n",
       "      <td>Bitcoin</td>\n",
       "      <td>BTC</td>\n",
       "      <td>156,629,905,950</td>\n",
       "      <td>8,678.58</td>\n",
       "      <td>19,216,389,896</td>\n",
       "      <td>-0.28</td>\n",
       "      <td>-1.35</td>\n",
       "      <td>-6.14</td>\n",
       "    </tr>\n",
       "    <tr>\n",
       "      <th>1</th>\n",
       "      <td>2</td>\n",
       "      <td>Ethereum</td>\n",
       "      <td>ETH</td>\n",
       "      <td>20,155,411,771</td>\n",
       "      <td>185.67</td>\n",
       "      <td>7,906,136,399</td>\n",
       "      <td>-0.10</td>\n",
       "      <td>-1.20</td>\n",
       "      <td>-0.96</td>\n",
       "    </tr>\n",
       "    <tr>\n",
       "      <th>2</th>\n",
       "      <td>3</td>\n",
       "      <td>XRP</td>\n",
       "      <td>XRP</td>\n",
       "      <td>11,612,597,542</td>\n",
       "      <td>0.268199</td>\n",
       "      <td>1,265,885,288</td>\n",
       "      <td>-0.57</td>\n",
       "      <td>-1.75</td>\n",
       "      <td>-7.36</td>\n",
       "    </tr>\n",
       "    <tr>\n",
       "      <th>3</th>\n",
       "      <td>4</td>\n",
       "      <td>Bitcoin Cash</td>\n",
       "      <td>BCH</td>\n",
       "      <td>5,016,918,192</td>\n",
       "      <td>276.97</td>\n",
       "      <td>1,842,963,894</td>\n",
       "      <td>-0.75</td>\n",
       "      <td>-3.01</td>\n",
       "      <td>-5.39</td>\n",
       "    </tr>\n",
       "    <tr>\n",
       "      <th>4</th>\n",
       "      <td>5</td>\n",
       "      <td>Tether</td>\n",
       "      <td>USDT</td>\n",
       "      <td>4,135,369,515</td>\n",
       "      <td>1.01</td>\n",
       "      <td>22,054,927,684</td>\n",
       "      <td>-0.08</td>\n",
       "      <td>0.36</td>\n",
       "      <td>0.34</td>\n",
       "    </tr>\n",
       "  </tbody>\n",
       "</table>\n",
       "</div>"
      ],
      "text/plain": [
       "   rank_cnc           Name ticker       market_cap     price        volume24  \\\n",
       "0         1        Bitcoin    BTC  156,629,905,950  8,678.58  19,216,389,896   \n",
       "1         2       Ethereum    ETH   20,155,411,771    185.67   7,906,136,399   \n",
       "2         3            XRP    XRP   11,612,597,542  0.268199   1,265,885,288   \n",
       "3         4   Bitcoin Cash    BCH    5,016,918,192    276.97   1,842,963,894   \n",
       "4         5         Tether   USDT    4,135,369,515      1.01  22,054,927,684   \n",
       "\n",
       "   pct1h  pct24h  pct7d  \n",
       "0  -0.28   -1.35  -6.14  \n",
       "1  -0.10   -1.20  -0.96  \n",
       "2  -0.57   -1.75  -7.36  \n",
       "3  -0.75   -3.01  -5.39  \n",
       "4  -0.08    0.36   0.34  "
      ]
     },
     "execution_count": 2,
     "metadata": {},
     "output_type": "execute_result"
    }
   ],
   "source": [
    "file = Path('../../../data/cleandata/CMC_df.csv')\n",
    "tickers_df = pd.read_csv(file)\n",
    "tickers_df.head()"
   ]
  },
  {
   "cell_type": "code",
   "execution_count": 3,
   "metadata": {},
   "outputs": [],
   "source": [
    "tickers_dict = tickers_df.set_index('ticker').to_dict()['Name']"
   ]
  },
  {
   "cell_type": "code",
   "execution_count": 4,
   "metadata": {},
   "outputs": [],
   "source": [
    "file2 = Path('./tickers.csv')\n",
    "tickers_df = pd.read_csv(file2)\n",
    "tickers_df.dropna(inplace=True)\n",
    "tickers_df.sort_values(by=['End'])\n",
    "tickers_df = tickers_df.iloc[0:720]\n",
    "tickers_dict2 = tickers_df.set_index('Ticker').to_dict()['Name']"
   ]
  },
  {
   "cell_type": "code",
   "execution_count": 5,
   "metadata": {},
   "outputs": [
    {
     "data": {
      "text/plain": [
       "2270"
      ]
     },
     "execution_count": 5,
     "metadata": {},
     "output_type": "execute_result"
    }
   ],
   "source": [
    "len(tickers_dict)"
   ]
  },
  {
   "cell_type": "code",
   "execution_count": 6,
   "metadata": {},
   "outputs": [
    {
     "data": {
      "text/plain": [
       "703"
      ]
     },
     "execution_count": 6,
     "metadata": {},
     "output_type": "execute_result"
    }
   ],
   "source": [
    "len(tickers_dict2)"
   ]
  },
  {
   "cell_type": "code",
   "execution_count": 7,
   "metadata": {},
   "outputs": [],
   "source": [
    "new_dict = {}\n",
    "for key, value in tickers_dict.items():\n",
    "    if key not in tickers_dict2:\n",
    "        new_dict[key] = value"
   ]
  },
  {
   "cell_type": "code",
   "execution_count": 8,
   "metadata": {},
   "outputs": [
    {
     "data": {
      "text/plain": [
       "1954"
      ]
     },
     "execution_count": 8,
     "metadata": {},
     "output_type": "execute_result"
    }
   ],
   "source": [
    "len(new_dict)"
   ]
  },
  {
   "cell_type": "code",
   "execution_count": 15,
   "metadata": {},
   "outputs": [],
   "source": [
    "dict_group1 = {k: new_dict[k] for k in sorted(new_dict.keys())[:1000]}"
   ]
  },
  {
   "cell_type": "code",
   "execution_count": 40,
   "metadata": {},
   "outputs": [],
   "source": [
    "dict_group2 = {k: new_dict[k] for k in sorted(dict_group1.keys())[247:1000]}"
   ]
  },
  {
   "cell_type": "code",
   "execution_count": 41,
   "metadata": {},
   "outputs": [
    {
     "data": {
      "text/plain": [
       "753"
      ]
     },
     "execution_count": 41,
     "metadata": {},
     "output_type": "execute_result"
    }
   ],
   "source": [
    "len(dict_group2)"
   ]
  },
  {
   "cell_type": "code",
   "execution_count": 13,
   "metadata": {},
   "outputs": [],
   "source": [
    "import webhoseio\n",
    "api_key = os.getenv(\"WEBHOSE_API_2\")\n",
    "webhoseio.config(token=api_key)"
   ]
  },
  {
   "cell_type": "code",
   "execution_count": 44,
   "metadata": {},
   "outputs": [],
   "source": [
    "articles_dict = {}\n",
    "for key, value in dict_group2.items():\n",
    "    try:\n",
    "        articles_dict[key] = webhoseio.query(\"filterWebContent\", {\"q\": f\"crypto AND ({key} OR {value})\", \"language\":\"english\"})\n",
    "        \n",
    "    except:\n",
    "        pass"
   ]
  },
  {
   "cell_type": "code",
   "execution_count": 45,
   "metadata": {},
   "outputs": [
    {
     "data": {
      "text/plain": [
       "672"
      ]
     },
     "execution_count": 45,
     "metadata": {},
     "output_type": "execute_result"
    }
   ],
   "source": [
    "len(articles_dict)"
   ]
  },
  {
   "cell_type": "code",
   "execution_count": 46,
   "metadata": {},
   "outputs": [],
   "source": [
    "sentiment_df = pd.DataFrame()\n",
    "analyzer = SentimentIntensityAnalyzer()"
   ]
  },
  {
   "cell_type": "code",
   "execution_count": 47,
   "metadata": {},
   "outputs": [],
   "source": [
    "for key in articles_dict:\n",
    "    sentiments = []\n",
    "    for article in articles_dict[key][\"posts\"]:\n",
    "        try:\n",
    "            sentiment = analyzer.polarity_scores(article[\"text\"])\n",
    "      \n",
    "            sentiments.append({\n",
    "                \"ticker\": key,\n",
    "                \"compound\": sentiment[\"compound\"],\n",
    "                \"positive\": sentiment[\"pos\"],\n",
    "                \"negative\": sentiment[\"neg\"],\n",
    "                \"neutral\": sentiment[\"neu\"]\n",
    "            \n",
    "            })\n",
    "        \n",
    "        except AttributeError:\n",
    "            pass\n",
    "      \n",
    "    sentiment_df = sentiment_df.append(pd.DataFrame(sentiments))"
   ]
  },
  {
   "cell_type": "code",
   "execution_count": 48,
   "metadata": {},
   "outputs": [
    {
     "data": {
      "text/html": [
       "<div>\n",
       "<style scoped>\n",
       "    .dataframe tbody tr th:only-of-type {\n",
       "        vertical-align: middle;\n",
       "    }\n",
       "\n",
       "    .dataframe tbody tr th {\n",
       "        vertical-align: top;\n",
       "    }\n",
       "\n",
       "    .dataframe thead th {\n",
       "        text-align: right;\n",
       "    }\n",
       "</style>\n",
       "<table border=\"1\" class=\"dataframe\">\n",
       "  <thead>\n",
       "    <tr style=\"text-align: right;\">\n",
       "      <th></th>\n",
       "      <th>ticker</th>\n",
       "      <th>compound</th>\n",
       "      <th>positive</th>\n",
       "      <th>negative</th>\n",
       "      <th>neutral</th>\n",
       "    </tr>\n",
       "  </thead>\n",
       "  <tbody>\n",
       "    <tr>\n",
       "      <th>0</th>\n",
       "      <td>BPRO</td>\n",
       "      <td>0.9929</td>\n",
       "      <td>0.169</td>\n",
       "      <td>0.025</td>\n",
       "      <td>0.806</td>\n",
       "    </tr>\n",
       "    <tr>\n",
       "      <th>1</th>\n",
       "      <td>BPRO</td>\n",
       "      <td>0.9954</td>\n",
       "      <td>0.080</td>\n",
       "      <td>0.012</td>\n",
       "      <td>0.908</td>\n",
       "    </tr>\n",
       "    <tr>\n",
       "      <th>2</th>\n",
       "      <td>BPRO</td>\n",
       "      <td>0.8239</td>\n",
       "      <td>0.070</td>\n",
       "      <td>0.058</td>\n",
       "      <td>0.872</td>\n",
       "    </tr>\n",
       "    <tr>\n",
       "      <th>3</th>\n",
       "      <td>BPRO</td>\n",
       "      <td>0.9989</td>\n",
       "      <td>0.104</td>\n",
       "      <td>0.025</td>\n",
       "      <td>0.871</td>\n",
       "    </tr>\n",
       "    <tr>\n",
       "      <th>4</th>\n",
       "      <td>BPRO</td>\n",
       "      <td>0.9981</td>\n",
       "      <td>0.035</td>\n",
       "      <td>0.015</td>\n",
       "      <td>0.950</td>\n",
       "    </tr>\n",
       "  </tbody>\n",
       "</table>\n",
       "</div>"
      ],
      "text/plain": [
       "  ticker  compound  positive  negative  neutral\n",
       "0   BPRO    0.9929     0.169     0.025    0.806\n",
       "1   BPRO    0.9954     0.080     0.012    0.908\n",
       "2   BPRO    0.8239     0.070     0.058    0.872\n",
       "3   BPRO    0.9989     0.104     0.025    0.871\n",
       "4   BPRO    0.9981     0.035     0.015    0.950"
      ]
     },
     "execution_count": 48,
     "metadata": {},
     "output_type": "execute_result"
    }
   ],
   "source": [
    "sentiment_df.head()"
   ]
  },
  {
   "cell_type": "code",
   "execution_count": 49,
   "metadata": {},
   "outputs": [
    {
     "data": {
      "text/plain": [
       "23472"
      ]
     },
     "execution_count": 49,
     "metadata": {},
     "output_type": "execute_result"
    }
   ],
   "source": [
    "len(sentiment_df)"
   ]
  },
  {
   "cell_type": "code",
   "execution_count": 50,
   "metadata": {},
   "outputs": [],
   "source": [
    "sentiment_df = sentiment_df.set_index(\"ticker\")"
   ]
  },
  {
   "cell_type": "code",
   "execution_count": 51,
   "metadata": {},
   "outputs": [
    {
     "data": {
      "text/html": [
       "<div>\n",
       "<style scoped>\n",
       "    .dataframe tbody tr th:only-of-type {\n",
       "        vertical-align: middle;\n",
       "    }\n",
       "\n",
       "    .dataframe tbody tr th {\n",
       "        vertical-align: top;\n",
       "    }\n",
       "\n",
       "    .dataframe thead th {\n",
       "        text-align: right;\n",
       "    }\n",
       "</style>\n",
       "<table border=\"1\" class=\"dataframe\">\n",
       "  <thead>\n",
       "    <tr style=\"text-align: right;\">\n",
       "      <th></th>\n",
       "      <th>compound</th>\n",
       "      <th>positive</th>\n",
       "      <th>negative</th>\n",
       "      <th>neutral</th>\n",
       "    </tr>\n",
       "    <tr>\n",
       "      <th>ticker</th>\n",
       "      <th></th>\n",
       "      <th></th>\n",
       "      <th></th>\n",
       "      <th></th>\n",
       "    </tr>\n",
       "  </thead>\n",
       "  <tbody>\n",
       "    <tr>\n",
       "      <th>BPRO</th>\n",
       "      <td>0.613429</td>\n",
       "      <td>0.095810</td>\n",
       "      <td>0.040670</td>\n",
       "      <td>0.863480</td>\n",
       "    </tr>\n",
       "    <tr>\n",
       "      <th>BPT</th>\n",
       "      <td>0.085700</td>\n",
       "      <td>0.013000</td>\n",
       "      <td>0.014000</td>\n",
       "      <td>0.973000</td>\n",
       "    </tr>\n",
       "    <tr>\n",
       "      <th>BQT</th>\n",
       "      <td>-0.999700</td>\n",
       "      <td>0.059000</td>\n",
       "      <td>0.080000</td>\n",
       "      <td>0.860000</td>\n",
       "    </tr>\n",
       "    <tr>\n",
       "      <th>BQTX</th>\n",
       "      <td>-0.177867</td>\n",
       "      <td>0.006333</td>\n",
       "      <td>0.011333</td>\n",
       "      <td>0.982333</td>\n",
       "    </tr>\n",
       "    <tr>\n",
       "      <th>BRAT</th>\n",
       "      <td>0.220290</td>\n",
       "      <td>0.094581</td>\n",
       "      <td>0.086720</td>\n",
       "      <td>0.818731</td>\n",
       "    </tr>\n",
       "  </tbody>\n",
       "</table>\n",
       "</div>"
      ],
      "text/plain": [
       "        compound  positive  negative   neutral\n",
       "ticker                                        \n",
       "BPRO    0.613429  0.095810  0.040670  0.863480\n",
       "BPT     0.085700  0.013000  0.014000  0.973000\n",
       "BQT    -0.999700  0.059000  0.080000  0.860000\n",
       "BQTX   -0.177867  0.006333  0.011333  0.982333\n",
       "BRAT    0.220290  0.094581  0.086720  0.818731"
      ]
     },
     "execution_count": 51,
     "metadata": {},
     "output_type": "execute_result"
    }
   ],
   "source": [
    "sentiment_avg = sentiment_df.groupby(['ticker']).mean()\n",
    "sentiment_avg.head()"
   ]
  },
  {
   "cell_type": "code",
   "execution_count": 52,
   "metadata": {},
   "outputs": [
    {
     "data": {
      "text/html": [
       "<div>\n",
       "<style scoped>\n",
       "    .dataframe tbody tr th:only-of-type {\n",
       "        vertical-align: middle;\n",
       "    }\n",
       "\n",
       "    .dataframe tbody tr th {\n",
       "        vertical-align: top;\n",
       "    }\n",
       "\n",
       "    .dataframe thead th {\n",
       "        text-align: right;\n",
       "    }\n",
       "</style>\n",
       "<table border=\"1\" class=\"dataframe\">\n",
       "  <thead>\n",
       "    <tr style=\"text-align: right;\">\n",
       "      <th></th>\n",
       "      <th>compound</th>\n",
       "      <th>positive</th>\n",
       "      <th>negative</th>\n",
       "      <th>neutral</th>\n",
       "    </tr>\n",
       "    <tr>\n",
       "      <th>ticker</th>\n",
       "      <th></th>\n",
       "      <th></th>\n",
       "      <th></th>\n",
       "      <th></th>\n",
       "    </tr>\n",
       "  </thead>\n",
       "  <tbody>\n",
       "    <tr>\n",
       "      <th>BPRO</th>\n",
       "      <td>100</td>\n",
       "      <td>100</td>\n",
       "      <td>100</td>\n",
       "      <td>100</td>\n",
       "    </tr>\n",
       "    <tr>\n",
       "      <th>BPT</th>\n",
       "      <td>1</td>\n",
       "      <td>1</td>\n",
       "      <td>1</td>\n",
       "      <td>1</td>\n",
       "    </tr>\n",
       "    <tr>\n",
       "      <th>BQT</th>\n",
       "      <td>1</td>\n",
       "      <td>1</td>\n",
       "      <td>1</td>\n",
       "      <td>1</td>\n",
       "    </tr>\n",
       "    <tr>\n",
       "      <th>BQTX</th>\n",
       "      <td>3</td>\n",
       "      <td>3</td>\n",
       "      <td>3</td>\n",
       "      <td>3</td>\n",
       "    </tr>\n",
       "    <tr>\n",
       "      <th>BRAT</th>\n",
       "      <td>93</td>\n",
       "      <td>93</td>\n",
       "      <td>93</td>\n",
       "      <td>93</td>\n",
       "    </tr>\n",
       "  </tbody>\n",
       "</table>\n",
       "</div>"
      ],
      "text/plain": [
       "        compound  positive  negative  neutral\n",
       "ticker                                       \n",
       "BPRO         100       100       100      100\n",
       "BPT            1         1         1        1\n",
       "BQT            1         1         1        1\n",
       "BQTX           3         3         3        3\n",
       "BRAT          93        93        93       93"
      ]
     },
     "execution_count": 52,
     "metadata": {},
     "output_type": "execute_result"
    }
   ],
   "source": [
    "sentiment_count = sentiment_df.groupby(['ticker']).count()\n",
    "sentiment_count.head()"
   ]
  },
  {
   "cell_type": "code",
   "execution_count": 53,
   "metadata": {},
   "outputs": [
    {
     "data": {
      "text/html": [
       "<div>\n",
       "<style scoped>\n",
       "    .dataframe tbody tr th:only-of-type {\n",
       "        vertical-align: middle;\n",
       "    }\n",
       "\n",
       "    .dataframe tbody tr th {\n",
       "        vertical-align: top;\n",
       "    }\n",
       "\n",
       "    .dataframe thead th {\n",
       "        text-align: right;\n",
       "    }\n",
       "</style>\n",
       "<table border=\"1\" class=\"dataframe\">\n",
       "  <thead>\n",
       "    <tr style=\"text-align: right;\">\n",
       "      <th></th>\n",
       "      <th>no_of_posts</th>\n",
       "    </tr>\n",
       "    <tr>\n",
       "      <th>ticker</th>\n",
       "      <th></th>\n",
       "    </tr>\n",
       "  </thead>\n",
       "  <tbody>\n",
       "    <tr>\n",
       "      <th>BPRO</th>\n",
       "      <td>100</td>\n",
       "    </tr>\n",
       "    <tr>\n",
       "      <th>BPT</th>\n",
       "      <td>1</td>\n",
       "    </tr>\n",
       "    <tr>\n",
       "      <th>BQT</th>\n",
       "      <td>1</td>\n",
       "    </tr>\n",
       "    <tr>\n",
       "      <th>BQTX</th>\n",
       "      <td>3</td>\n",
       "    </tr>\n",
       "    <tr>\n",
       "      <th>BRAT</th>\n",
       "      <td>93</td>\n",
       "    </tr>\n",
       "  </tbody>\n",
       "</table>\n",
       "</div>"
      ],
      "text/plain": [
       "        no_of_posts\n",
       "ticker             \n",
       "BPRO            100\n",
       "BPT               1\n",
       "BQT               1\n",
       "BQTX              3\n",
       "BRAT             93"
      ]
     },
     "execution_count": 53,
     "metadata": {},
     "output_type": "execute_result"
    }
   ],
   "source": [
    "sentiment_count = sentiment_count.drop(columns=['negative','neutral','positive'])\n",
    "sentiment_count = sentiment_count.rename(columns={'compound':'no_of_posts'})\n",
    "sentiment_count.head()"
   ]
  },
  {
   "cell_type": "code",
   "execution_count": 54,
   "metadata": {},
   "outputs": [
    {
     "data": {
      "text/html": [
       "<div>\n",
       "<style scoped>\n",
       "    .dataframe tbody tr th:only-of-type {\n",
       "        vertical-align: middle;\n",
       "    }\n",
       "\n",
       "    .dataframe tbody tr th {\n",
       "        vertical-align: top;\n",
       "    }\n",
       "\n",
       "    .dataframe thead th {\n",
       "        text-align: right;\n",
       "    }\n",
       "</style>\n",
       "<table border=\"1\" class=\"dataframe\">\n",
       "  <thead>\n",
       "    <tr style=\"text-align: right;\">\n",
       "      <th></th>\n",
       "      <th>compound</th>\n",
       "      <th>positive</th>\n",
       "      <th>negative</th>\n",
       "      <th>neutral</th>\n",
       "      <th>no_of_posts</th>\n",
       "    </tr>\n",
       "    <tr>\n",
       "      <th>ticker</th>\n",
       "      <th></th>\n",
       "      <th></th>\n",
       "      <th></th>\n",
       "      <th></th>\n",
       "      <th></th>\n",
       "    </tr>\n",
       "  </thead>\n",
       "  <tbody>\n",
       "    <tr>\n",
       "      <th>BPRO</th>\n",
       "      <td>0.613429</td>\n",
       "      <td>0.095810</td>\n",
       "      <td>0.040670</td>\n",
       "      <td>0.863480</td>\n",
       "      <td>100</td>\n",
       "    </tr>\n",
       "    <tr>\n",
       "      <th>BPT</th>\n",
       "      <td>0.085700</td>\n",
       "      <td>0.013000</td>\n",
       "      <td>0.014000</td>\n",
       "      <td>0.973000</td>\n",
       "      <td>1</td>\n",
       "    </tr>\n",
       "    <tr>\n",
       "      <th>BQT</th>\n",
       "      <td>-0.999700</td>\n",
       "      <td>0.059000</td>\n",
       "      <td>0.080000</td>\n",
       "      <td>0.860000</td>\n",
       "      <td>1</td>\n",
       "    </tr>\n",
       "    <tr>\n",
       "      <th>BQTX</th>\n",
       "      <td>-0.177867</td>\n",
       "      <td>0.006333</td>\n",
       "      <td>0.011333</td>\n",
       "      <td>0.982333</td>\n",
       "      <td>3</td>\n",
       "    </tr>\n",
       "    <tr>\n",
       "      <th>BRAT</th>\n",
       "      <td>0.220290</td>\n",
       "      <td>0.094581</td>\n",
       "      <td>0.086720</td>\n",
       "      <td>0.818731</td>\n",
       "      <td>93</td>\n",
       "    </tr>\n",
       "  </tbody>\n",
       "</table>\n",
       "</div>"
      ],
      "text/plain": [
       "        compound  positive  negative   neutral  no_of_posts\n",
       "ticker                                                     \n",
       "BPRO    0.613429  0.095810  0.040670  0.863480          100\n",
       "BPT     0.085700  0.013000  0.014000  0.973000            1\n",
       "BQT    -0.999700  0.059000  0.080000  0.860000            1\n",
       "BQTX   -0.177867  0.006333  0.011333  0.982333            3\n",
       "BRAT    0.220290  0.094581  0.086720  0.818731           93"
      ]
     },
     "execution_count": 54,
     "metadata": {},
     "output_type": "execute_result"
    }
   ],
   "source": [
    "ticker_sentiments = pd.concat([sentiment_avg, sentiment_count], axis=1)\n",
    "ticker_sentiments.head()"
   ]
  },
  {
   "cell_type": "code",
   "execution_count": 55,
   "metadata": {},
   "outputs": [],
   "source": [
    "file = Path(f\"./ticker_sentiments.csv\")\n",
    "ticker_sentiments.to_csv(file, mode='a', header=False)"
   ]
  },
  {
   "cell_type": "code",
   "execution_count": null,
   "metadata": {},
   "outputs": [],
   "source": []
  }
 ],
 "metadata": {
  "kernelspec": {
   "display_name": "Python 3",
   "language": "python",
   "name": "python3"
  },
  "language_info": {
   "codemirror_mode": {
    "name": "ipython",
    "version": 3
   },
   "file_extension": ".py",
   "mimetype": "text/x-python",
   "name": "python",
   "nbconvert_exporter": "python",
   "pygments_lexer": "ipython3",
   "version": "3.7.3"
  }
 },
 "nbformat": 4,
 "nbformat_minor": 2
}
