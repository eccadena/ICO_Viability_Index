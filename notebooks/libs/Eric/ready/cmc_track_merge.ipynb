{
 "cells": [
  {
   "cell_type": "code",
   "execution_count": 30,
   "metadata": {},
   "outputs": [],
   "source": [
    "import pandas as pd\n",
    "from path import Path"
   ]
  },
  {
   "cell_type": "code",
   "execution_count": 31,
   "metadata": {},
   "outputs": [],
   "source": [
    "cmc_df = pd.read_csv(Path(f\"../../../../data/cleandata/CMC_df.csv\"))"
   ]
  },
  {
   "cell_type": "code",
   "execution_count": 32,
   "metadata": {},
   "outputs": [
    {
     "data": {
      "text/plain": [
       "(2369, 10)"
      ]
     },
     "execution_count": 32,
     "metadata": {},
     "output_type": "execute_result"
    }
   ],
   "source": [
    "cmc_df.shape"
   ]
  },
  {
   "cell_type": "code",
   "execution_count": 33,
   "metadata": {},
   "outputs": [
    {
     "data": {
      "text/html": [
       "<div>\n",
       "<style scoped>\n",
       "    .dataframe tbody tr th:only-of-type {\n",
       "        vertical-align: middle;\n",
       "    }\n",
       "\n",
       "    .dataframe tbody tr th {\n",
       "        vertical-align: top;\n",
       "    }\n",
       "\n",
       "    .dataframe thead th {\n",
       "        text-align: right;\n",
       "    }\n",
       "</style>\n",
       "<table border=\"1\" class=\"dataframe\">\n",
       "  <thead>\n",
       "    <tr style=\"text-align: right;\">\n",
       "      <th></th>\n",
       "      <th>rank_cnc</th>\n",
       "      <th>Name</th>\n",
       "      <th>ticker</th>\n",
       "      <th>market_cap</th>\n",
       "      <th>price</th>\n",
       "      <th>supply</th>\n",
       "      <th>volume24</th>\n",
       "      <th>pct1h</th>\n",
       "      <th>pct24h</th>\n",
       "      <th>pct7d</th>\n",
       "    </tr>\n",
       "  </thead>\n",
       "  <tbody>\n",
       "    <tr>\n",
       "      <th>0</th>\n",
       "      <td>1</td>\n",
       "      <td>Bitcoin</td>\n",
       "      <td>BTC</td>\n",
       "      <td>156,629,905,950</td>\n",
       "      <td>8,678.58</td>\n",
       "      <td>-6.14</td>\n",
       "      <td>19,216,389,896</td>\n",
       "      <td>-0.28</td>\n",
       "      <td>-1.35</td>\n",
       "      <td>-6.14</td>\n",
       "    </tr>\n",
       "    <tr>\n",
       "      <th>1</th>\n",
       "      <td>2</td>\n",
       "      <td>Ethereum</td>\n",
       "      <td>ETH</td>\n",
       "      <td>20,155,411,771</td>\n",
       "      <td>185.67</td>\n",
       "      <td>-0.96</td>\n",
       "      <td>7,906,136,399</td>\n",
       "      <td>-0.10</td>\n",
       "      <td>-1.20</td>\n",
       "      <td>-0.96</td>\n",
       "    </tr>\n",
       "    <tr>\n",
       "      <th>2</th>\n",
       "      <td>3</td>\n",
       "      <td>XRP</td>\n",
       "      <td>XRP</td>\n",
       "      <td>11,612,597,542</td>\n",
       "      <td>0.268199</td>\n",
       "      <td>-7.36</td>\n",
       "      <td>1,265,885,288</td>\n",
       "      <td>-0.57</td>\n",
       "      <td>-1.75</td>\n",
       "      <td>-7.36</td>\n",
       "    </tr>\n",
       "    <tr>\n",
       "      <th>3</th>\n",
       "      <td>4</td>\n",
       "      <td>Bitcoin Cash</td>\n",
       "      <td>BCH</td>\n",
       "      <td>5,016,918,192</td>\n",
       "      <td>276.97</td>\n",
       "      <td>-5.39</td>\n",
       "      <td>1,842,963,894</td>\n",
       "      <td>-0.75</td>\n",
       "      <td>-3.01</td>\n",
       "      <td>-5.39</td>\n",
       "    </tr>\n",
       "    <tr>\n",
       "      <th>4</th>\n",
       "      <td>5</td>\n",
       "      <td>Tether</td>\n",
       "      <td>USDT</td>\n",
       "      <td>4,135,369,515</td>\n",
       "      <td>1.01</td>\n",
       "      <td>0.34</td>\n",
       "      <td>22,054,927,684</td>\n",
       "      <td>-0.08</td>\n",
       "      <td>0.36</td>\n",
       "      <td>0.34</td>\n",
       "    </tr>\n",
       "  </tbody>\n",
       "</table>\n",
       "</div>"
      ],
      "text/plain": [
       "   rank_cnc           Name ticker       market_cap     price supply  \\\n",
       "0         1        Bitcoin    BTC  156,629,905,950  8,678.58  -6.14   \n",
       "1         2       Ethereum    ETH   20,155,411,771    185.67  -0.96   \n",
       "2         3            XRP    XRP   11,612,597,542  0.268199  -7.36   \n",
       "3         4   Bitcoin Cash    BCH    5,016,918,192    276.97  -5.39   \n",
       "4         5         Tether   USDT    4,135,369,515      1.01   0.34   \n",
       "\n",
       "         volume24  pct1h  pct24h  pct7d  \n",
       "0  19,216,389,896  -0.28   -1.35  -6.14  \n",
       "1   7,906,136,399  -0.10   -1.20  -0.96  \n",
       "2   1,265,885,288  -0.57   -1.75  -7.36  \n",
       "3   1,842,963,894  -0.75   -3.01  -5.39  \n",
       "4  22,054,927,684  -0.08    0.36   0.34  "
      ]
     },
     "execution_count": 33,
     "metadata": {},
     "output_type": "execute_result"
    }
   ],
   "source": [
    "cmc_df.head()"
   ]
  },
  {
   "cell_type": "code",
   "execution_count": 34,
   "metadata": {},
   "outputs": [
    {
     "ename": "TypeError",
     "evalue": "get_TrackICOAPI() takes 0 positional arguments but 1 was given",
     "output_type": "error",
     "traceback": [
      "\u001b[1;31m---------------------------------------------------------------------------\u001b[0m",
      "\u001b[1;31mTypeError\u001b[0m                                 Traceback (most recent call last)",
      "\u001b[1;32m<ipython-input-34-22ad5a9c7361>\u001b[0m in \u001b[0;36m<module>\u001b[1;34m\u001b[0m\n\u001b[0;32m      1\u001b[0m \u001b[1;32mfrom\u001b[0m \u001b[0mapis\u001b[0m \u001b[1;32mimport\u001b[0m \u001b[0mget_TrackICOAPI\u001b[0m\u001b[1;33m\u001b[0m\u001b[1;33m\u001b[0m\u001b[0m\n\u001b[0;32m      2\u001b[0m \u001b[1;33m\u001b[0m\u001b[0m\n\u001b[1;32m----> 3\u001b[1;33m \u001b[0mtrack_df\u001b[0m \u001b[1;33m=\u001b[0m \u001b[0mget_TrackICOAPI\u001b[0m\u001b[1;33m(\u001b[0m\u001b[1;36m10\u001b[0m\u001b[1;33m)\u001b[0m\u001b[1;33m\u001b[0m\u001b[1;33m\u001b[0m\u001b[0m\n\u001b[0m",
      "\u001b[1;31mTypeError\u001b[0m: get_TrackICOAPI() takes 0 positional arguments but 1 was given"
     ]
    }
   ],
   "source": [
    "from apis import get_TrackICOAPI\n",
    "\n",
    "track_df = get_TrackICOAPI(10)"
   ]
  },
  {
   "cell_type": "code",
   "execution_count": 29,
   "metadata": {},
   "outputs": [
    {
     "data": {
      "text/plain": [
       "(24, 12)"
      ]
     },
     "execution_count": 29,
     "metadata": {},
     "output_type": "execute_result"
    }
   ],
   "source": [
    "track_df.shape"
   ]
  },
  {
   "cell_type": "code",
   "execution_count": 10,
   "metadata": {},
   "outputs": [
    {
     "data": {
      "text/html": [
       "<div>\n",
       "<style scoped>\n",
       "    .dataframe tbody tr th:only-of-type {\n",
       "        vertical-align: middle;\n",
       "    }\n",
       "\n",
       "    .dataframe tbody tr th {\n",
       "        vertical-align: top;\n",
       "    }\n",
       "\n",
       "    .dataframe thead th {\n",
       "        text-align: right;\n",
       "    }\n",
       "</style>\n",
       "<table border=\"1\" class=\"dataframe\">\n",
       "  <thead>\n",
       "    <tr style=\"text-align: right;\">\n",
       "      <th></th>\n",
       "      <th>country</th>\n",
       "      <th>platform</th>\n",
       "      <th>pre_ico_end</th>\n",
       "      <th>pre_ico_start</th>\n",
       "      <th>rating</th>\n",
       "      <th>status</th>\n",
       "      <th>Name</th>\n",
       "      <th>type</th>\n",
       "      <th>End</th>\n",
       "      <th>Start</th>\n",
       "      <th>Duration</th>\n",
       "      <th>pre_Duration</th>\n",
       "    </tr>\n",
       "    <tr>\n",
       "      <th>Ticker</th>\n",
       "      <th></th>\n",
       "      <th></th>\n",
       "      <th></th>\n",
       "      <th></th>\n",
       "      <th></th>\n",
       "      <th></th>\n",
       "      <th></th>\n",
       "      <th></th>\n",
       "      <th></th>\n",
       "      <th></th>\n",
       "      <th></th>\n",
       "      <th></th>\n",
       "    </tr>\n",
       "  </thead>\n",
       "  <tbody>\n",
       "    <tr>\n",
       "      <th>DACX</th>\n",
       "      <td>United Kingdom</td>\n",
       "      <td>Ethereum</td>\n",
       "      <td>2020-01-10 00:00:00</td>\n",
       "      <td>2020-01-10 00:00:00</td>\n",
       "      <td>5.0</td>\n",
       "      <td>Ongoing</td>\n",
       "      <td>DACX</td>\n",
       "      <td>IEO</td>\n",
       "      <td>2020-01-10 00:00:00</td>\n",
       "      <td>2019-10-25 00:00:00</td>\n",
       "      <td>77 days 00:00:00</td>\n",
       "      <td>0 days</td>\n",
       "    </tr>\n",
       "    <tr>\n",
       "      <th>GIGJ</th>\n",
       "      <td>Malta</td>\n",
       "      <td>Ethereum</td>\n",
       "      <td>2019-12-31 00:00:00</td>\n",
       "      <td>2019-11-01 00:00:00</td>\n",
       "      <td>4.4</td>\n",
       "      <td>Pre-Sale</td>\n",
       "      <td>Gigajoule</td>\n",
       "      <td>STO</td>\n",
       "      <td>2020-04-30 23:59:00</td>\n",
       "      <td>2020-01-01 12:00:00</td>\n",
       "      <td>120 days 11:59:00</td>\n",
       "      <td>60 days</td>\n",
       "    </tr>\n",
       "    <tr>\n",
       "      <th>PTR</th>\n",
       "      <td>Switzerland</td>\n",
       "      <td>Ethereum</td>\n",
       "      <td>2020-01-24 16:00:00</td>\n",
       "      <td>2019-12-13 16:00:00</td>\n",
       "      <td>3.9</td>\n",
       "      <td>Upcoming</td>\n",
       "      <td>ProTravelcoin</td>\n",
       "      <td>ICO</td>\n",
       "      <td>2020-01-10 00:00:00</td>\n",
       "      <td>2020-01-10 00:00:00</td>\n",
       "      <td>0 days 00:00:00</td>\n",
       "      <td>42 days</td>\n",
       "    </tr>\n",
       "    <tr>\n",
       "      <th>CALL</th>\n",
       "      <td>Malta</td>\n",
       "      <td>Ethereum</td>\n",
       "      <td>2020-01-10 00:00:00</td>\n",
       "      <td>2020-01-10 00:00:00</td>\n",
       "      <td>5.0</td>\n",
       "      <td>Ongoing</td>\n",
       "      <td>Global Crypto Alliance</td>\n",
       "      <td>IEO</td>\n",
       "      <td>2019-11-28 08:00:00</td>\n",
       "      <td>2019-10-30 08:00:00</td>\n",
       "      <td>29 days 00:00:00</td>\n",
       "      <td>0 days</td>\n",
       "    </tr>\n",
       "    <tr>\n",
       "      <th>STAT</th>\n",
       "      <td>Singapore</td>\n",
       "      <td>Ethereum</td>\n",
       "      <td>2020-01-10 00:00:00</td>\n",
       "      <td>2020-01-10 00:00:00</td>\n",
       "      <td>4.1</td>\n",
       "      <td>Ongoing</td>\n",
       "      <td>Statizex</td>\n",
       "      <td>IEO</td>\n",
       "      <td>2019-11-24 00:00:00</td>\n",
       "      <td>2019-10-10 00:00:00</td>\n",
       "      <td>45 days 00:00:00</td>\n",
       "      <td>0 days</td>\n",
       "    </tr>\n",
       "  </tbody>\n",
       "</table>\n",
       "</div>"
      ],
      "text/plain": [
       "               country  platform         pre_ico_end       pre_ico_start  \\\n",
       "Ticker                                                                     \n",
       "DACX    United Kingdom  Ethereum 2020-01-10 00:00:00 2020-01-10 00:00:00   \n",
       "GIGJ             Malta  Ethereum 2019-12-31 00:00:00 2019-11-01 00:00:00   \n",
       "PTR        Switzerland  Ethereum 2020-01-24 16:00:00 2019-12-13 16:00:00   \n",
       "CALL             Malta  Ethereum 2020-01-10 00:00:00 2020-01-10 00:00:00   \n",
       "STAT         Singapore  Ethereum 2020-01-10 00:00:00 2020-01-10 00:00:00   \n",
       "\n",
       "       rating    status                    Name type                 End  \\\n",
       "Ticker                                                                     \n",
       "DACX      5.0   Ongoing                    DACX  IEO 2020-01-10 00:00:00   \n",
       "GIGJ      4.4  Pre-Sale               Gigajoule  STO 2020-04-30 23:59:00   \n",
       "PTR       3.9  Upcoming           ProTravelcoin  ICO 2020-01-10 00:00:00   \n",
       "CALL      5.0   Ongoing  Global Crypto Alliance  IEO 2019-11-28 08:00:00   \n",
       "STAT      4.1   Ongoing                Statizex  IEO 2019-11-24 00:00:00   \n",
       "\n",
       "                     Start          Duration pre_Duration  \n",
       "Ticker                                                     \n",
       "DACX   2019-10-25 00:00:00  77 days 00:00:00       0 days  \n",
       "GIGJ   2020-01-01 12:00:00 120 days 11:59:00      60 days  \n",
       "PTR    2020-01-10 00:00:00   0 days 00:00:00      42 days  \n",
       "CALL   2019-10-30 08:00:00  29 days 00:00:00       0 days  \n",
       "STAT   2019-10-10 00:00:00  45 days 00:00:00       0 days  "
      ]
     },
     "execution_count": 10,
     "metadata": {},
     "output_type": "execute_result"
    }
   ],
   "source": [
    "track_df.head()"
   ]
  },
  {
   "cell_type": "code",
   "execution_count": 16,
   "metadata": {},
   "outputs": [],
   "source": [
    "merged_inner = pd.merge(left=cmc_df,right=track_df, left_on='Name', right_on='Name')"
   ]
  },
  {
   "cell_type": "code",
   "execution_count": 17,
   "metadata": {},
   "outputs": [
    {
     "data": {
      "text/html": [
       "<div>\n",
       "<style scoped>\n",
       "    .dataframe tbody tr th:only-of-type {\n",
       "        vertical-align: middle;\n",
       "    }\n",
       "\n",
       "    .dataframe tbody tr th {\n",
       "        vertical-align: top;\n",
       "    }\n",
       "\n",
       "    .dataframe thead th {\n",
       "        text-align: right;\n",
       "    }\n",
       "</style>\n",
       "<table border=\"1\" class=\"dataframe\">\n",
       "  <thead>\n",
       "    <tr style=\"text-align: right;\">\n",
       "      <th></th>\n",
       "      <th>rank_cnc</th>\n",
       "      <th>Name</th>\n",
       "      <th>ticker</th>\n",
       "      <th>market_cap</th>\n",
       "      <th>price</th>\n",
       "      <th>supply</th>\n",
       "      <th>volume24</th>\n",
       "      <th>pct1h</th>\n",
       "      <th>pct24h</th>\n",
       "      <th>pct7d</th>\n",
       "      <th>...</th>\n",
       "      <th>platform</th>\n",
       "      <th>pre_ico_end</th>\n",
       "      <th>pre_ico_start</th>\n",
       "      <th>rating</th>\n",
       "      <th>status</th>\n",
       "      <th>type</th>\n",
       "      <th>End</th>\n",
       "      <th>Start</th>\n",
       "      <th>Duration</th>\n",
       "      <th>pre_Duration</th>\n",
       "    </tr>\n",
       "  </thead>\n",
       "  <tbody>\n",
       "  </tbody>\n",
       "</table>\n",
       "<p>0 rows × 21 columns</p>\n",
       "</div>"
      ],
      "text/plain": [
       "Empty DataFrame\n",
       "Columns: [rank_cnc, Name, ticker, market_cap, price, supply, volume24, pct1h, pct24h, pct7d, country, platform, pre_ico_end, pre_ico_start, rating, status, type, End, Start, Duration, pre_Duration]\n",
       "Index: []\n",
       "\n",
       "[0 rows x 21 columns]"
      ]
     },
     "execution_count": 17,
     "metadata": {},
     "output_type": "execute_result"
    }
   ],
   "source": [
    "merged_inner"
   ]
  },
  {
   "cell_type": "code",
   "execution_count": null,
   "metadata": {},
   "outputs": [],
   "source": []
  }
 ],
 "metadata": {
  "kernelspec": {
   "display_name": "Python 3",
   "language": "python",
   "name": "python3"
  },
  "language_info": {
   "codemirror_mode": {
    "name": "ipython",
    "version": 3
   },
   "file_extension": ".py",
   "mimetype": "text/x-python",
   "name": "python",
   "nbconvert_exporter": "python",
   "pygments_lexer": "ipython3",
   "version": "3.7.3"
  }
 },
 "nbformat": 4,
 "nbformat_minor": 4
}
