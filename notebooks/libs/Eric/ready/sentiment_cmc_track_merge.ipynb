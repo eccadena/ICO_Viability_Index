{
 "cells": [
  {
   "cell_type": "code",
   "execution_count": 319,
   "metadata": {},
   "outputs": [],
   "source": [
    "import pandas as pd\n",
    "from path import Path\n",
    "\n",
    "import requests\n",
    "import pprint\n",
    "import requests\n",
    "from requests.exceptions import HTTPError\n",
    "from datetime import datetime as dt\n",
    "import pandas as pd\n",
    "import numpy as np\n",
    "import timeit\n",
    "import time\n",
    "import datetime\n",
    "import copy\n",
    "\n",
    "import numpy as np\n",
    "from sklearn import preprocessing\n",
    "%matplotlib inline"
   ]
  },
  {
   "cell_type": "code",
   "execution_count": 320,
   "metadata": {},
   "outputs": [],
   "source": [
    "track_cmc_merged_df = pd.read_csv(Path(f\"../../../../data/cleandata/track_cmc_merged_df.csv\"))"
   ]
  },
  {
   "cell_type": "code",
   "execution_count": null,
   "metadata": {},
   "outputs": [],
   "source": []
  },
  {
   "cell_type": "code",
   "execution_count": 321,
   "metadata": {},
   "outputs": [],
   "source": [
    "ticker_sentiments_df = pd.read_csv(Path(f\"../../../../data/cleandata/ticker_sentiments.csv\"))"
   ]
  },
  {
   "cell_type": "code",
   "execution_count": 322,
   "metadata": {},
   "outputs": [],
   "source": [
    "ticker_sentiments_df.rename(columns = {'ticker':'Ticker'}, inplace = True)"
   ]
  },
  {
   "cell_type": "code",
   "execution_count": 323,
   "metadata": {},
   "outputs": [],
   "source": [
    "merged_inner = pd.merge(left=track_cmc_merged_df,right=ticker_sentiments_df, left_on='Ticker', right_on='Ticker')"
   ]
  },
  {
   "cell_type": "code",
   "execution_count": 324,
   "metadata": {},
   "outputs": [
    {
     "data": {
      "text/plain": [
       "848"
      ]
     },
     "execution_count": 324,
     "metadata": {},
     "output_type": "execute_result"
    }
   ],
   "source": [
    "(datetime.datetime.now() - datetime.datetime.strptime(merged_inner.loc[1, \"End\"][:10], '%Y-%m-%d')).days"
   ]
  },
  {
   "cell_type": "code",
   "execution_count": 299,
   "metadata": {},
   "outputs": [],
   "source": [
    "# merged_inner.drop(merged_inner.loc[merged_inner['Ticker']=='ALGO'].index, inplace = True)"
   ]
  },
  {
   "cell_type": "code",
   "execution_count": 325,
   "metadata": {},
   "outputs": [],
   "source": [
    "# merged_inner.drop(merged_inner.loc[merged_inner['Ticker']=='AIB'].index, inplace = True)"
   ]
  },
  {
   "cell_type": "code",
   "execution_count": 326,
   "metadata": {},
   "outputs": [],
   "source": [
    "merged_inner.reset_index(inplace=True)"
   ]
  },
  {
   "cell_type": "code",
   "execution_count": 327,
   "metadata": {},
   "outputs": [],
   "source": [
    "merged_inner.drop(columns = ['index'], inplace = True)"
   ]
  },
  {
   "cell_type": "code",
   "execution_count": 328,
   "metadata": {},
   "outputs": [
    {
     "data": {
      "text/plain": [
       "(573, 26)"
      ]
     },
     "execution_count": 328,
     "metadata": {},
     "output_type": "execute_result"
    }
   ],
   "source": [
    "merged_inner.shape"
   ]
  },
  {
   "cell_type": "code",
   "execution_count": null,
   "metadata": {},
   "outputs": [],
   "source": []
  },
  {
   "cell_type": "code",
   "execution_count": 329,
   "metadata": {},
   "outputs": [],
   "source": [
    "merged_inner['Longevity'] = 0\n",
    "merged_inner['custom_index'] = 0"
   ]
  },
  {
   "cell_type": "code",
   "execution_count": 332,
   "metadata": {},
   "outputs": [],
   "source": [
    "def custom_index_success(df):\n",
    "    \n",
    "    for i in range(len(df)) : \n",
    "        # get the longevity of the ICO\n",
    "        longevity = (datetime.datetime.now() - datetime.datetime.strptime(df.loc[i, \"End\"][:10], '%Y-%m-%d')).days\n",
    "        # return to a column for df\n",
    "        df.loc[i, \"Longevity\"] = longevity\n",
    "        # get current price of df, remove commas\n",
    "        current_price = df.loc[i, \"price\"].replace(',', '')\n",
    "        # create custom index\n",
    "        custom = float(current_price) / (1/(int(str(longevity))))\n",
    "        # retrun to df\n",
    "        df.loc[i, \"custom_index\"] = custom\n",
    "    return df"
   ]
  },
  {
   "cell_type": "code",
   "execution_count": null,
   "metadata": {},
   "outputs": [],
   "source": []
  },
  {
   "cell_type": "code",
   "execution_count": 334,
   "metadata": {},
   "outputs": [
    {
     "data": {
      "text/html": [
       "<div>\n",
       "<style scoped>\n",
       "    .dataframe tbody tr th:only-of-type {\n",
       "        vertical-align: middle;\n",
       "    }\n",
       "\n",
       "    .dataframe tbody tr th {\n",
       "        vertical-align: top;\n",
       "    }\n",
       "\n",
       "    .dataframe thead th {\n",
       "        text-align: right;\n",
       "    }\n",
       "</style>\n",
       "<table border=\"1\" class=\"dataframe\">\n",
       "  <thead>\n",
       "    <tr style=\"text-align: right;\">\n",
       "      <th></th>\n",
       "      <th>rank_cnc</th>\n",
       "      <th>Name</th>\n",
       "      <th>Ticker</th>\n",
       "      <th>market_cap</th>\n",
       "      <th>price</th>\n",
       "      <th>volume24</th>\n",
       "      <th>pct1h</th>\n",
       "      <th>pct24h</th>\n",
       "      <th>pct7d</th>\n",
       "      <th>country</th>\n",
       "      <th>...</th>\n",
       "      <th>Start</th>\n",
       "      <th>Duration</th>\n",
       "      <th>pre_Duration</th>\n",
       "      <th>compound</th>\n",
       "      <th>negative</th>\n",
       "      <th>neutral</th>\n",
       "      <th>positive</th>\n",
       "      <th>no_of_posts</th>\n",
       "      <th>Longevity</th>\n",
       "      <th>custom_index</th>\n",
       "    </tr>\n",
       "  </thead>\n",
       "  <tbody>\n",
       "    <tr>\n",
       "      <th>0</th>\n",
       "      <td>2</td>\n",
       "      <td>Ethereum</td>\n",
       "      <td>ETH</td>\n",
       "      <td>20,155,411,771</td>\n",
       "      <td>185.67</td>\n",
       "      <td>7,906,136,399</td>\n",
       "      <td>-0.10</td>\n",
       "      <td>-1.20</td>\n",
       "      <td>-0.96</td>\n",
       "      <td>Switzerland</td>\n",
       "      <td>...</td>\n",
       "      <td>2017-09-28 03:00:00</td>\n",
       "      <td>0 days 00:00:00.000000000</td>\n",
       "      <td>0 days 00:00:00.000000000</td>\n",
       "      <td>0.460570</td>\n",
       "      <td>0.061160</td>\n",
       "      <td>0.027390</td>\n",
       "      <td>0.901510</td>\n",
       "      <td>100</td>\n",
       "      <td>779</td>\n",
       "      <td>144636.930000</td>\n",
       "    </tr>\n",
       "    <tr>\n",
       "      <th>1</th>\n",
       "      <td>7</td>\n",
       "      <td>Binance Coin</td>\n",
       "      <td>BNB</td>\n",
       "      <td>3,277,372,658</td>\n",
       "      <td>21.07</td>\n",
       "      <td>231,846,713</td>\n",
       "      <td>-0.46</td>\n",
       "      <td>-1.33</td>\n",
       "      <td>2.49</td>\n",
       "      <td>Japan</td>\n",
       "      <td>...</td>\n",
       "      <td>2017-07-01 07:00:00</td>\n",
       "      <td>20 days 00:00:00.000000000</td>\n",
       "      <td>0 days 00:00:00.000000000</td>\n",
       "      <td>0.563773</td>\n",
       "      <td>0.096670</td>\n",
       "      <td>0.041410</td>\n",
       "      <td>0.861890</td>\n",
       "      <td>100</td>\n",
       "      <td>848</td>\n",
       "      <td>17867.360000</td>\n",
       "    </tr>\n",
       "    <tr>\n",
       "      <th>2</th>\n",
       "      <td>8</td>\n",
       "      <td>EOS</td>\n",
       "      <td>EOS</td>\n",
       "      <td>3,214,893,394</td>\n",
       "      <td>3.42</td>\n",
       "      <td>1,735,988,258</td>\n",
       "      <td>0.11</td>\n",
       "      <td>-1.49</td>\n",
       "      <td>-2.55</td>\n",
       "      <td>Cayman Islands</td>\n",
       "      <td>...</td>\n",
       "      <td>2017-06-26 16:00:00</td>\n",
       "      <td>350 days 08:00:00.000000000</td>\n",
       "      <td>0 days 00:00:00.000000000</td>\n",
       "      <td>0.828470</td>\n",
       "      <td>0.032200</td>\n",
       "      <td>0.858550</td>\n",
       "      <td>0.109270</td>\n",
       "      <td>100</td>\n",
       "      <td>522</td>\n",
       "      <td>1785.240000</td>\n",
       "    </tr>\n",
       "    <tr>\n",
       "      <th>3</th>\n",
       "      <td>13</td>\n",
       "      <td>Cardano</td>\n",
       "      <td>ADA</td>\n",
       "      <td>1,105,888,653</td>\n",
       "      <td>0.042654</td>\n",
       "      <td>53,437,224</td>\n",
       "      <td>-0.50</td>\n",
       "      <td>-1.72</td>\n",
       "      <td>-2.12</td>\n",
       "      <td>Switzerland</td>\n",
       "      <td>...</td>\n",
       "      <td>2015-09-01 00:00:00</td>\n",
       "      <td>488 days 00:00:00.000000000</td>\n",
       "      <td>0 days 00:00:00.000000000</td>\n",
       "      <td>0.589474</td>\n",
       "      <td>0.098387</td>\n",
       "      <td>0.032946</td>\n",
       "      <td>0.868753</td>\n",
       "      <td>93</td>\n",
       "      <td>1049</td>\n",
       "      <td>44.744046</td>\n",
       "    </tr>\n",
       "    <tr>\n",
       "      <th>4</th>\n",
       "      <td>16</td>\n",
       "      <td>Huobi Token</td>\n",
       "      <td>HT</td>\n",
       "      <td>913,746,412</td>\n",
       "      <td>3.79</td>\n",
       "      <td>252,881,495</td>\n",
       "      <td>-0.27</td>\n",
       "      <td>-1.89</td>\n",
       "      <td>-4.79</td>\n",
       "      <td>Seychelles</td>\n",
       "      <td>...</td>\n",
       "      <td>2017-09-28 03:00:00</td>\n",
       "      <td>0 days 00:00:00.000000000</td>\n",
       "      <td>0 days 00:00:00.000000000</td>\n",
       "      <td>0.525717</td>\n",
       "      <td>0.081630</td>\n",
       "      <td>0.033480</td>\n",
       "      <td>0.884940</td>\n",
       "      <td>100</td>\n",
       "      <td>779</td>\n",
       "      <td>2952.410000</td>\n",
       "    </tr>\n",
       "  </tbody>\n",
       "</table>\n",
       "<p>5 rows × 28 columns</p>\n",
       "</div>"
      ],
      "text/plain": [
       "   rank_cnc           Name Ticker      market_cap     price       volume24  \\\n",
       "0         2       Ethereum    ETH  20,155,411,771    185.67  7,906,136,399   \n",
       "1         7   Binance Coin    BNB   3,277,372,658     21.07    231,846,713   \n",
       "2         8            EOS    EOS   3,214,893,394      3.42  1,735,988,258   \n",
       "3        13        Cardano    ADA   1,105,888,653  0.042654     53,437,224   \n",
       "4        16    Huobi Token     HT     913,746,412      3.79    252,881,495   \n",
       "\n",
       "   pct1h  pct24h  pct7d         country  ...                Start  \\\n",
       "0  -0.10   -1.20  -0.96     Switzerland  ...  2017-09-28 03:00:00   \n",
       "1  -0.46   -1.33   2.49           Japan  ...  2017-07-01 07:00:00   \n",
       "2   0.11   -1.49  -2.55  Cayman Islands  ...  2017-06-26 16:00:00   \n",
       "3  -0.50   -1.72  -2.12     Switzerland  ...  2015-09-01 00:00:00   \n",
       "4  -0.27   -1.89  -4.79      Seychelles  ...  2017-09-28 03:00:00   \n",
       "\n",
       "                      Duration               pre_Duration  compound  negative  \\\n",
       "0    0 days 00:00:00.000000000  0 days 00:00:00.000000000  0.460570  0.061160   \n",
       "1   20 days 00:00:00.000000000  0 days 00:00:00.000000000  0.563773  0.096670   \n",
       "2  350 days 08:00:00.000000000  0 days 00:00:00.000000000  0.828470  0.032200   \n",
       "3  488 days 00:00:00.000000000  0 days 00:00:00.000000000  0.589474  0.098387   \n",
       "4    0 days 00:00:00.000000000  0 days 00:00:00.000000000  0.525717  0.081630   \n",
       "\n",
       "    neutral  positive no_of_posts Longevity   custom_index  \n",
       "0  0.027390  0.901510         100       779  144636.930000  \n",
       "1  0.041410  0.861890         100       848   17867.360000  \n",
       "2  0.858550  0.109270         100       522    1785.240000  \n",
       "3  0.032946  0.868753          93      1049      44.744046  \n",
       "4  0.033480  0.884940         100       779    2952.410000  \n",
       "\n",
       "[5 rows x 28 columns]"
      ]
     },
     "execution_count": 334,
     "metadata": {},
     "output_type": "execute_result"
    }
   ],
   "source": [
    "merged_df = custom_index_success(merged_inner)\n",
    "merged_df.head()"
   ]
  },
  {
   "cell_type": "markdown",
   "metadata": {},
   "source": [
    "# using min max scaler"
   ]
  },
  {
   "cell_type": "code",
   "execution_count": 347,
   "metadata": {
    "collapsed": true,
    "jupyter": {
     "outputs_hidden": true
    }
   },
   "outputs": [
    {
     "data": {
      "text/plain": [
       "0      1.291616e-01\n",
       "1      1.595565e-02\n",
       "2      1.594229e-03\n",
       "3      3.995667e-05\n",
       "4      2.636519e-03\n",
       "5      9.467646e-04\n",
       "6      3.399190e-03\n",
       "7      4.804865e-02\n",
       "8      3.311301e-03\n",
       "9      2.055215e-04\n",
       "10     1.601390e-02\n",
       "11     2.026944e-03\n",
       "12     2.377592e-04\n",
       "13     2.096889e-04\n",
       "14     4.906213e-07\n",
       "15     7.900957e-04\n",
       "16     1.501868e-02\n",
       "17     2.294540e-05\n",
       "18     7.980025e-05\n",
       "19     8.811699e-04\n",
       "20     5.390471e-04\n",
       "21     1.985679e-04\n",
       "22     7.706617e-07\n",
       "23     2.800292e-07\n",
       "24     1.080065e-04\n",
       "25     8.677370e-04\n",
       "26     1.839788e-05\n",
       "27     2.573745e-07\n",
       "28     1.849497e-04\n",
       "29     3.367239e-03\n",
       "           ...     \n",
       "543    3.747480e-05\n",
       "544    6.911405e-05\n",
       "545    4.311387e-08\n",
       "546    1.516059e-06\n",
       "547    1.211483e-07\n",
       "548    4.779871e-07\n",
       "549    2.843401e-06\n",
       "550    5.008110e-08\n",
       "551    3.245000e-07\n",
       "552    9.424961e-04\n",
       "553    2.570498e-05\n",
       "554    6.197058e-08\n",
       "555    1.551710e-06\n",
       "556    4.207576e-06\n",
       "557    1.299460e-06\n",
       "558    1.020183e-07\n",
       "559    4.870222e-06\n",
       "560    1.196355e-07\n",
       "561    3.039832e-07\n",
       "562    2.455690e-07\n",
       "563    2.736853e-07\n",
       "564    0.000000e+00\n",
       "565    2.198093e-07\n",
       "566    4.480791e-06\n",
       "567    4.931936e-08\n",
       "568    1.554022e-07\n",
       "569    8.347237e-08\n",
       "570    8.199130e-09\n",
       "571    2.257568e-07\n",
       "572    6.298814e-09\n",
       "Name: custom_index, Length: 573, dtype: float64"
      ]
     },
     "execution_count": 347,
     "metadata": {},
     "output_type": "execute_result"
    }
   ],
   "source": [
    "#min max scaler not doing much as the min value is practically 0... thus its taking all the values and dividing it by the max value\n",
    "list1 = merged_df['custom_index'] - merged_df['custom_index'].min()\n",
    "list2 = (list1)/(list1.max())\n",
    "list2"
   ]
  },
  {
   "cell_type": "code",
   "execution_count": 348,
   "metadata": {},
   "outputs": [
    {
     "data": {
      "text/plain": [
       "1.8502e-05"
      ]
     },
     "execution_count": 348,
     "metadata": {},
     "output_type": "execute_result"
    }
   ],
   "source": [
    "merged_df['custom_index'].min()"
   ]
  },
  {
   "cell_type": "code",
   "execution_count": 349,
   "metadata": {},
   "outputs": [],
   "source": [
    "scaler = preprocessing.MinMaxScaler()"
   ]
  },
  {
   "cell_type": "code",
   "execution_count": 350,
   "metadata": {},
   "outputs": [],
   "source": [
    "list3 = scaler.fit_transform(merged_df[['custom_index']])"
   ]
  },
  {
   "cell_type": "code",
   "execution_count": 360,
   "metadata": {},
   "outputs": [
    {
     "data": {
      "text/plain": [
       "False"
      ]
     },
     "execution_count": 360,
     "metadata": {},
     "output_type": "execute_result"
    }
   ],
   "source": [
    "list2.to_list() == list3.tolist"
   ]
  },
  {
   "cell_type": "code",
   "execution_count": 361,
   "metadata": {},
   "outputs": [],
   "source": [
    "merged_df['custom_index_scaled'] = list2"
   ]
  },
  {
   "cell_type": "code",
   "execution_count": 373,
   "metadata": {},
   "outputs": [
    {
     "data": {
      "text/plain": [
       "0.0023699774699249844"
      ]
     },
     "execution_count": 373,
     "metadata": {},
     "output_type": "execute_result"
    }
   ],
   "source": [
    "merged_df['custom_index_scaled'].mean()"
   ]
  },
  {
   "cell_type": "code",
   "execution_count": 418,
   "metadata": {},
   "outputs": [],
   "source": [
    "def success_of_ico(df):\n",
    "    mean = df['custom_index_scaled'].mean()\n",
    "    \n",
    "    for i in range(len(df)) : \n",
    "        if df.loc[i, 'custom_index_scaled'] >= mean:\n",
    "            df.loc[i, 'success'] = 1\n",
    "        \n",
    "        else:\n",
    "            df.loc[i, 'success'] = 0\n",
    "            \n",
    "    return df"
   ]
  },
  {
   "cell_type": "code",
   "execution_count": 419,
   "metadata": {},
   "outputs": [],
   "source": [
    "merged_df['success'] = 0\n",
    "success_df = success_of_ico(merged_df)"
   ]
  },
  {
   "cell_type": "code",
   "execution_count": 445,
   "metadata": {},
   "outputs": [],
   "source": [
    "success_df.drop(columns = ['Name_y'], inplace = True)"
   ]
  },
  {
   "cell_type": "code",
   "execution_count": 447,
   "metadata": {},
   "outputs": [],
   "source": []
  },
  {
   "cell_type": "code",
   "execution_count": 447,
   "metadata": {},
   "outputs": [],
   "source": []
  },
  {
   "cell_type": "code",
   "execution_count": 446,
   "metadata": {},
   "outputs": [],
   "source": [
    "file_path = Path(\"../../../../data/cleandata/success_df.csv\")\n",
    "success_df.to_csv(file_path, index=False)"
   ]
  },
  {
   "cell_type": "code",
   "execution_count": null,
   "metadata": {},
   "outputs": [],
   "source": []
  }
 ],
 "metadata": {
  "kernelspec": {
   "display_name": "Python 3",
   "language": "python",
   "name": "python3"
  },
  "language_info": {
   "codemirror_mode": {
    "name": "ipython",
    "version": 3
   },
   "file_extension": ".py",
   "mimetype": "text/x-python",
   "name": "python",
   "nbconvert_exporter": "python",
   "pygments_lexer": "ipython3",
   "version": "3.7.3"
  }
 },
 "nbformat": 4,
 "nbformat_minor": 4
}
