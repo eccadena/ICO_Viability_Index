{
 "cells": [
  {
   "cell_type": "code",
   "execution_count": 1,
   "metadata": {},
   "outputs": [],
   "source": [
    "import pandas as pd\n",
    "from path import Path"
   ]
  },
  {
   "cell_type": "code",
   "execution_count": 3,
   "metadata": {},
   "outputs": [],
   "source": [
    "track_cmc_merged_df = pd.read_csv(Path(f\"../../../../data/cleandata/track_cmc_merged_df.csv\"))"
   ]
  },
  {
   "cell_type": "code",
   "execution_count": 16,
   "metadata": {},
   "outputs": [
    {
     "data": {
      "text/plain": [
       "(1010, 21)"
      ]
     },
     "execution_count": 16,
     "metadata": {},
     "output_type": "execute_result"
    }
   ],
   "source": [
    "track_cmc_merged_df.shape"
   ]
  },
  {
   "cell_type": "code",
   "execution_count": 4,
   "metadata": {},
   "outputs": [],
   "source": [
    "ticker_sentiments_df = pd.read_csv(Path(f\"../../../../data/cleandata/ticker_sentiments.csv\"))"
   ]
  },
  {
   "cell_type": "code",
   "execution_count": 15,
   "metadata": {},
   "outputs": [
    {
     "data": {
      "text/plain": [
       "(899, 6)"
      ]
     },
     "execution_count": 15,
     "metadata": {},
     "output_type": "execute_result"
    }
   ],
   "source": [
    "ticker_sentiments_df.shape"
   ]
  },
  {
   "cell_type": "code",
   "execution_count": 7,
   "metadata": {},
   "outputs": [],
   "source": [
    "ticker_sentiments_df.rename(columns = {'ticker':'Ticker'}, inplace = True)"
   ]
  },
  {
   "cell_type": "code",
   "execution_count": 9,
   "metadata": {},
   "outputs": [
    {
     "data": {
      "text/html": [
       "<div>\n",
       "<style scoped>\n",
       "    .dataframe tbody tr th:only-of-type {\n",
       "        vertical-align: middle;\n",
       "    }\n",
       "\n",
       "    .dataframe tbody tr th {\n",
       "        vertical-align: top;\n",
       "    }\n",
       "\n",
       "    .dataframe thead th {\n",
       "        text-align: right;\n",
       "    }\n",
       "</style>\n",
       "<table border=\"1\" class=\"dataframe\">\n",
       "  <thead>\n",
       "    <tr style=\"text-align: right;\">\n",
       "      <th></th>\n",
       "      <th>rank_cnc</th>\n",
       "      <th>Name</th>\n",
       "      <th>Ticker</th>\n",
       "      <th>market_cap</th>\n",
       "      <th>price</th>\n",
       "      <th>volume24</th>\n",
       "      <th>pct1h</th>\n",
       "      <th>pct24h</th>\n",
       "      <th>pct7d</th>\n",
       "      <th>country</th>\n",
       "      <th>...</th>\n",
       "      <th>type</th>\n",
       "      <th>End</th>\n",
       "      <th>Start</th>\n",
       "      <th>Duration</th>\n",
       "      <th>pre_Duration</th>\n",
       "      <th>compound</th>\n",
       "      <th>negative</th>\n",
       "      <th>neutral</th>\n",
       "      <th>positive</th>\n",
       "      <th>no_of_posts</th>\n",
       "    </tr>\n",
       "  </thead>\n",
       "  <tbody>\n",
       "    <tr>\n",
       "      <th>0</th>\n",
       "      <td>7</td>\n",
       "      <td>Binance Coin</td>\n",
       "      <td>BNB</td>\n",
       "      <td>3,277,372,658</td>\n",
       "      <td>21.07</td>\n",
       "      <td>231,846,713</td>\n",
       "      <td>-0.46</td>\n",
       "      <td>-1.33</td>\n",
       "      <td>2.49</td>\n",
       "      <td>Japan</td>\n",
       "      <td>...</td>\n",
       "      <td>ICO</td>\n",
       "      <td>2017-07-21 07:00:00</td>\n",
       "      <td>2017-07-01 07:00:00</td>\n",
       "      <td>20 days 00:00:00.000000000</td>\n",
       "      <td>0 days 00:00:00.000000000</td>\n",
       "      <td>0.563773</td>\n",
       "      <td>0.096670</td>\n",
       "      <td>0.041410</td>\n",
       "      <td>0.861890</td>\n",
       "      <td>100</td>\n",
       "    </tr>\n",
       "    <tr>\n",
       "      <th>1</th>\n",
       "      <td>8</td>\n",
       "      <td>EOS</td>\n",
       "      <td>EOS</td>\n",
       "      <td>3,214,893,394</td>\n",
       "      <td>3.42</td>\n",
       "      <td>1,735,988,258</td>\n",
       "      <td>0.11</td>\n",
       "      <td>-1.49</td>\n",
       "      <td>-2.55</td>\n",
       "      <td>Cayman Islands</td>\n",
       "      <td>...</td>\n",
       "      <td>ICO</td>\n",
       "      <td>2018-06-12 00:00:00</td>\n",
       "      <td>2017-06-26 16:00:00</td>\n",
       "      <td>350 days 08:00:00.000000000</td>\n",
       "      <td>0 days 00:00:00.000000000</td>\n",
       "      <td>0.828470</td>\n",
       "      <td>0.032200</td>\n",
       "      <td>0.858550</td>\n",
       "      <td>0.109270</td>\n",
       "      <td>100</td>\n",
       "    </tr>\n",
       "    <tr>\n",
       "      <th>2</th>\n",
       "      <td>13</td>\n",
       "      <td>Cardano</td>\n",
       "      <td>ADA</td>\n",
       "      <td>1,105,888,653</td>\n",
       "      <td>0.042654</td>\n",
       "      <td>53,437,224</td>\n",
       "      <td>-0.50</td>\n",
       "      <td>-1.72</td>\n",
       "      <td>-2.12</td>\n",
       "      <td>Switzerland</td>\n",
       "      <td>...</td>\n",
       "      <td>ICO</td>\n",
       "      <td>2017-01-01 00:00:00</td>\n",
       "      <td>2015-09-01 00:00:00</td>\n",
       "      <td>488 days 00:00:00.000000000</td>\n",
       "      <td>0 days 00:00:00.000000000</td>\n",
       "      <td>0.589474</td>\n",
       "      <td>0.098387</td>\n",
       "      <td>0.032946</td>\n",
       "      <td>0.868753</td>\n",
       "      <td>93</td>\n",
       "    </tr>\n",
       "    <tr>\n",
       "      <th>3</th>\n",
       "      <td>18</td>\n",
       "      <td>Tezos</td>\n",
       "      <td>XTZ</td>\n",
       "      <td>821,746,518</td>\n",
       "      <td>1.24</td>\n",
       "      <td>44,390,717</td>\n",
       "      <td>-0.25</td>\n",
       "      <td>10.13</td>\n",
       "      <td>2.47</td>\n",
       "      <td>United States of America</td>\n",
       "      <td>...</td>\n",
       "      <td>ICO</td>\n",
       "      <td>2017-07-14 12:00:00</td>\n",
       "      <td>2017-07-01 12:00:00</td>\n",
       "      <td>13 days 00:00:00.000000000</td>\n",
       "      <td>0 days 00:00:00.000000000</td>\n",
       "      <td>0.663939</td>\n",
       "      <td>0.021939</td>\n",
       "      <td>0.878857</td>\n",
       "      <td>0.099327</td>\n",
       "      <td>49</td>\n",
       "    </tr>\n",
       "    <tr>\n",
       "      <th>4</th>\n",
       "      <td>19</td>\n",
       "      <td>Cosmos</td>\n",
       "      <td>ATOM</td>\n",
       "      <td>760,265,147</td>\n",
       "      <td>3.99</td>\n",
       "      <td>147,439,544</td>\n",
       "      <td>-1.62</td>\n",
       "      <td>1.29</td>\n",
       "      <td>2.14</td>\n",
       "      <td>Canada</td>\n",
       "      <td>...</td>\n",
       "      <td>ICO</td>\n",
       "      <td>2017-04-06 13:00:00</td>\n",
       "      <td>2017-04-06 12:00:00</td>\n",
       "      <td>0 days 01:00:00.000000000</td>\n",
       "      <td>0 days 00:00:00.000000000</td>\n",
       "      <td>0.340496</td>\n",
       "      <td>0.060687</td>\n",
       "      <td>0.023224</td>\n",
       "      <td>0.916194</td>\n",
       "      <td>67</td>\n",
       "    </tr>\n",
       "  </tbody>\n",
       "</table>\n",
       "<p>5 rows × 26 columns</p>\n",
       "</div>"
      ],
      "text/plain": [
       "   rank_cnc           Name Ticker     market_cap     price       volume24  \\\n",
       "0         7   Binance Coin    BNB  3,277,372,658     21.07    231,846,713   \n",
       "1         8            EOS    EOS  3,214,893,394      3.42  1,735,988,258   \n",
       "2        13        Cardano    ADA  1,105,888,653  0.042654     53,437,224   \n",
       "3        18          Tezos    XTZ    821,746,518      1.24     44,390,717   \n",
       "4        19         Cosmos   ATOM    760,265,147      3.99    147,439,544   \n",
       "\n",
       "   pct1h  pct24h  pct7d                   country  ... type  \\\n",
       "0  -0.46   -1.33   2.49                     Japan  ...  ICO   \n",
       "1   0.11   -1.49  -2.55            Cayman Islands  ...  ICO   \n",
       "2  -0.50   -1.72  -2.12               Switzerland  ...  ICO   \n",
       "3  -0.25   10.13   2.47  United States of America  ...  ICO   \n",
       "4  -1.62    1.29   2.14                    Canada  ...  ICO   \n",
       "\n",
       "                   End                Start                     Duration  \\\n",
       "0  2017-07-21 07:00:00  2017-07-01 07:00:00   20 days 00:00:00.000000000   \n",
       "1  2018-06-12 00:00:00  2017-06-26 16:00:00  350 days 08:00:00.000000000   \n",
       "2  2017-01-01 00:00:00  2015-09-01 00:00:00  488 days 00:00:00.000000000   \n",
       "3  2017-07-14 12:00:00  2017-07-01 12:00:00   13 days 00:00:00.000000000   \n",
       "4  2017-04-06 13:00:00  2017-04-06 12:00:00    0 days 01:00:00.000000000   \n",
       "\n",
       "                pre_Duration  compound  negative   neutral  positive  \\\n",
       "0  0 days 00:00:00.000000000  0.563773  0.096670  0.041410  0.861890   \n",
       "1  0 days 00:00:00.000000000  0.828470  0.032200  0.858550  0.109270   \n",
       "2  0 days 00:00:00.000000000  0.589474  0.098387  0.032946  0.868753   \n",
       "3  0 days 00:00:00.000000000  0.663939  0.021939  0.878857  0.099327   \n",
       "4  0 days 00:00:00.000000000  0.340496  0.060687  0.023224  0.916194   \n",
       "\n",
       "  no_of_posts  \n",
       "0         100  \n",
       "1         100  \n",
       "2          93  \n",
       "3          49  \n",
       "4          67  \n",
       "\n",
       "[5 rows x 26 columns]"
      ]
     },
     "execution_count": 9,
     "metadata": {},
     "output_type": "execute_result"
    }
   ],
   "source": [
    "merged_inner = pd.merge(left=track_cmc_merged_df,right=ticker_sentiments_df, left_on='Ticker', right_on='Ticker')\n",
    "merged_inner.head()"
   ]
  },
  {
   "cell_type": "code",
   "execution_count": 11,
   "metadata": {},
   "outputs": [
    {
     "data": {
      "text/plain": [
       "(364, 26)"
      ]
     },
     "execution_count": 11,
     "metadata": {},
     "output_type": "execute_result"
    }
   ],
   "source": [
    "merged_inner.shape"
   ]
  },
  {
   "cell_type": "code",
   "execution_count": 13,
   "metadata": {},
   "outputs": [],
   "source": [
    "def check_what_matches(df1,df2):\n",
    "    duplicates = []\n",
    "    \n",
    "    for track in df1.index.unique().tolist():\n",
    "        for watch in df2.index.unique().tolist():\n",
    "            if track == watch:\n",
    "                duplicates.append(track)\n",
    "            else:\n",
    "                continue\n",
    "    return duplicates\n",
    "#len(check_what_matches(track_cmc_merged_df,ticker_sentiments_df))"
   ]
  },
  {
   "cell_type": "code",
   "execution_count": 14,
   "metadata": {},
   "outputs": [],
   "source": [
    "file_path = Path(\"../../../../data/cleandata/sentiment_cmc_track_merge.csv\")\n",
    "merged_inner.to_csv(file_path, index=False)"
   ]
  },
  {
   "cell_type": "code",
   "execution_count": null,
   "metadata": {},
   "outputs": [],
   "source": []
  }
 ],
 "metadata": {
  "kernelspec": {
   "display_name": "Python 3",
   "language": "python",
   "name": "python3"
  },
  "language_info": {
   "codemirror_mode": {
    "name": "ipython",
    "version": 3
   },
   "file_extension": ".py",
   "mimetype": "text/x-python",
   "name": "python",
   "nbconvert_exporter": "python",
   "pygments_lexer": "ipython3",
   "version": "3.7.3"
  }
 },
 "nbformat": 4,
 "nbformat_minor": 4
}
