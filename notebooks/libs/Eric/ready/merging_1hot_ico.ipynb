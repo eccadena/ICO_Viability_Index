{
 "cells": [
  {
   "cell_type": "markdown",
   "metadata": {},
   "source": [
    "### Group redirection. Merging dataframe of ICO features ONLY. Merging 1-Hot encoding columns from Mina with success_df."
   ]
  },
  {
   "cell_type": "code",
   "execution_count": 148,
   "metadata": {},
   "outputs": [],
   "source": [
    "import pandas as pd\n",
    "from path import Path\n",
    "\n",
    "import requests\n",
    "import pprint\n",
    "import requests\n",
    "from requests.exceptions import HTTPError\n",
    "from datetime import datetime as dt\n",
    "import pandas as pd\n",
    "import numpy as np\n",
    "import timeit\n",
    "import time\n",
    "import datetime\n",
    "import copy\n",
    "\n",
    "import numpy as np\n",
    "from sklearn import preprocessing\n",
    "%matplotlib inline"
   ]
  },
  {
   "cell_type": "code",
   "execution_count": 149,
   "metadata": {},
   "outputs": [],
   "source": [
    "## Call christians tweets\n",
    "twitter_df = pd.read_csv(Path(f'../../df.csv'))"
   ]
  },
  {
   "cell_type": "code",
   "execution_count": 150,
   "metadata": {},
   "outputs": [
    {
     "data": {
      "text/html": [
       "<div>\n",
       "<style scoped>\n",
       "    .dataframe tbody tr th:only-of-type {\n",
       "        vertical-align: middle;\n",
       "    }\n",
       "\n",
       "    .dataframe tbody tr th {\n",
       "        vertical-align: top;\n",
       "    }\n",
       "\n",
       "    .dataframe thead th {\n",
       "        text-align: right;\n",
       "    }\n",
       "</style>\n",
       "<table border=\"1\" class=\"dataframe\">\n",
       "  <thead>\n",
       "    <tr style=\"text-align: right;\">\n",
       "      <th></th>\n",
       "      <th>Unnamed: 0</th>\n",
       "      <th>Name</th>\n",
       "      <th>Compound</th>\n",
       "      <th>Description</th>\n",
       "      <th>Duration</th>\n",
       "      <th>End</th>\n",
       "      <th>Negative</th>\n",
       "      <th>Neutral</th>\n",
       "      <th>Positive</th>\n",
       "      <th>Price(USD)</th>\n",
       "      <th>ROI(Pct)</th>\n",
       "      <th>Start</th>\n",
       "      <th>Ticker</th>\n",
       "      <th>Timezone</th>\n",
       "    </tr>\n",
       "  </thead>\n",
       "  <tbody>\n",
       "    <tr>\n",
       "      <th>0</th>\n",
       "      <td>i</td>\n",
       "      <td>SaltMine</td>\n",
       "      <td>0.17255</td>\n",
       "      <td>NaN</td>\n",
       "      <td>NaN</td>\n",
       "      <td>NaN</td>\n",
       "      <td>0.000</td>\n",
       "      <td>0.94575</td>\n",
       "      <td>0.05425</td>\n",
       "      <td>NaN</td>\n",
       "      <td>NaN</td>\n",
       "      <td>NaN</td>\n",
       "      <td>NaN</td>\n",
       "      <td>NaN</td>\n",
       "    </tr>\n",
       "    <tr>\n",
       "      <th>1</th>\n",
       "      <td>i</td>\n",
       "      <td>VANM</td>\n",
       "      <td>-0.12800</td>\n",
       "      <td>NaN</td>\n",
       "      <td>NaN</td>\n",
       "      <td>NaN</td>\n",
       "      <td>0.048</td>\n",
       "      <td>0.95200</td>\n",
       "      <td>0.00000</td>\n",
       "      <td>NaN</td>\n",
       "      <td>NaN</td>\n",
       "      <td>NaN</td>\n",
       "      <td>NaN</td>\n",
       "      <td>NaN</td>\n",
       "    </tr>\n",
       "  </tbody>\n",
       "</table>\n",
       "</div>"
      ],
      "text/plain": [
       "  Unnamed: 0      Name  Compound Description Duration  End  Negative  Neutral  \\\n",
       "0          i  SaltMine   0.17255         NaN      NaN  NaN     0.000  0.94575   \n",
       "1          i      VANM  -0.12800         NaN      NaN  NaN     0.048  0.95200   \n",
       "\n",
       "   Positive  Price(USD)  ROI(Pct) Start Ticker Timezone  \n",
       "0   0.05425         NaN       NaN   NaN    NaN      NaN  \n",
       "1   0.00000         NaN       NaN   NaN    NaN      NaN  "
      ]
     },
     "execution_count": 150,
     "metadata": {},
     "output_type": "execute_result"
    }
   ],
   "source": [
    "twitter_df.head(2)"
   ]
  },
  {
   "cell_type": "code",
   "execution_count": 151,
   "metadata": {},
   "outputs": [],
   "source": [
    "### rename netural, positive, negative to tweeter_neutral, tweeter_positive, tweeter_negative\n",
    "twitter_df.rename(columns ={'Negative':'Twitter_Negative', 'Positive':'Twitter_Positive', 'Neutral':'Twitter_Neutral'}, inplace = True)"
   ]
  },
  {
   "cell_type": "code",
   "execution_count": 152,
   "metadata": {},
   "outputs": [
    {
     "data": {
      "text/html": [
       "<div>\n",
       "<style scoped>\n",
       "    .dataframe tbody tr th:only-of-type {\n",
       "        vertical-align: middle;\n",
       "    }\n",
       "\n",
       "    .dataframe tbody tr th {\n",
       "        vertical-align: top;\n",
       "    }\n",
       "\n",
       "    .dataframe thead th {\n",
       "        text-align: right;\n",
       "    }\n",
       "</style>\n",
       "<table border=\"1\" class=\"dataframe\">\n",
       "  <thead>\n",
       "    <tr style=\"text-align: right;\">\n",
       "      <th></th>\n",
       "      <th>Unnamed: 0</th>\n",
       "      <th>Name</th>\n",
       "      <th>Compound</th>\n",
       "      <th>Description</th>\n",
       "      <th>Duration</th>\n",
       "      <th>End</th>\n",
       "      <th>Twitter_Negative</th>\n",
       "      <th>Twitter_Neutral</th>\n",
       "      <th>Twitter_Positive</th>\n",
       "      <th>Price(USD)</th>\n",
       "      <th>ROI(Pct)</th>\n",
       "      <th>Start</th>\n",
       "      <th>Ticker</th>\n",
       "      <th>Timezone</th>\n",
       "    </tr>\n",
       "  </thead>\n",
       "  <tbody>\n",
       "    <tr>\n",
       "      <th>0</th>\n",
       "      <td>i</td>\n",
       "      <td>SaltMine</td>\n",
       "      <td>0.17255</td>\n",
       "      <td>NaN</td>\n",
       "      <td>NaN</td>\n",
       "      <td>NaN</td>\n",
       "      <td>0.000</td>\n",
       "      <td>0.94575</td>\n",
       "      <td>0.05425</td>\n",
       "      <td>NaN</td>\n",
       "      <td>NaN</td>\n",
       "      <td>NaN</td>\n",
       "      <td>NaN</td>\n",
       "      <td>NaN</td>\n",
       "    </tr>\n",
       "    <tr>\n",
       "      <th>1</th>\n",
       "      <td>i</td>\n",
       "      <td>VANM</td>\n",
       "      <td>-0.12800</td>\n",
       "      <td>NaN</td>\n",
       "      <td>NaN</td>\n",
       "      <td>NaN</td>\n",
       "      <td>0.048</td>\n",
       "      <td>0.95200</td>\n",
       "      <td>0.00000</td>\n",
       "      <td>NaN</td>\n",
       "      <td>NaN</td>\n",
       "      <td>NaN</td>\n",
       "      <td>NaN</td>\n",
       "      <td>NaN</td>\n",
       "    </tr>\n",
       "  </tbody>\n",
       "</table>\n",
       "</div>"
      ],
      "text/plain": [
       "  Unnamed: 0      Name  Compound Description Duration  End  Twitter_Negative  \\\n",
       "0          i  SaltMine   0.17255         NaN      NaN  NaN             0.000   \n",
       "1          i      VANM  -0.12800         NaN      NaN  NaN             0.048   \n",
       "\n",
       "   Twitter_Neutral  Twitter_Positive  Price(USD)  ROI(Pct) Start Ticker  \\\n",
       "0          0.94575           0.05425         NaN       NaN   NaN    NaN   \n",
       "1          0.95200           0.00000         NaN       NaN   NaN    NaN   \n",
       "\n",
       "  Timezone  \n",
       "0      NaN  \n",
       "1      NaN  "
      ]
     },
     "execution_count": 152,
     "metadata": {},
     "output_type": "execute_result"
    }
   ],
   "source": [
    "twitter_df.head(2)"
   ]
  },
  {
   "cell_type": "code",
   "execution_count": 153,
   "metadata": {},
   "outputs": [
    {
     "data": {
      "text/plain": [
       "Index(['Unnamed: 0', 'Name', 'Compound', 'Description', 'Duration', 'End',\n",
       "       'Twitter_Negative', 'Twitter_Neutral', 'Twitter_Positive', 'Price(USD)',\n",
       "       'ROI(Pct)', 'Start', 'Ticker', 'Timezone'],\n",
       "      dtype='object')"
      ]
     },
     "execution_count": 153,
     "metadata": {},
     "output_type": "execute_result"
    }
   ],
   "source": [
    "twitter_df.columns"
   ]
  },
  {
   "cell_type": "code",
   "execution_count": 154,
   "metadata": {},
   "outputs": [],
   "source": [
    "twitter_df.drop(columns = ['Unnamed: 0', 'Compound', 'Description', 'Duration', 'End', 'Price(USD)','ROI(Pct)', 'Start', 'Timezone'], inplace = True)"
   ]
  },
  {
   "cell_type": "code",
   "execution_count": 155,
   "metadata": {},
   "outputs": [
    {
     "data": {
      "text/html": [
       "<div>\n",
       "<style scoped>\n",
       "    .dataframe tbody tr th:only-of-type {\n",
       "        vertical-align: middle;\n",
       "    }\n",
       "\n",
       "    .dataframe tbody tr th {\n",
       "        vertical-align: top;\n",
       "    }\n",
       "\n",
       "    .dataframe thead th {\n",
       "        text-align: right;\n",
       "    }\n",
       "</style>\n",
       "<table border=\"1\" class=\"dataframe\">\n",
       "  <thead>\n",
       "    <tr style=\"text-align: right;\">\n",
       "      <th></th>\n",
       "      <th>Name</th>\n",
       "      <th>Twitter_Negative</th>\n",
       "      <th>Twitter_Neutral</th>\n",
       "      <th>Twitter_Positive</th>\n",
       "      <th>Ticker</th>\n",
       "    </tr>\n",
       "  </thead>\n",
       "  <tbody>\n",
       "    <tr>\n",
       "      <th>0</th>\n",
       "      <td>SaltMine</td>\n",
       "      <td>0.000</td>\n",
       "      <td>0.94575</td>\n",
       "      <td>0.05425</td>\n",
       "      <td>NaN</td>\n",
       "    </tr>\n",
       "    <tr>\n",
       "      <th>1</th>\n",
       "      <td>VANM</td>\n",
       "      <td>0.048</td>\n",
       "      <td>0.95200</td>\n",
       "      <td>0.00000</td>\n",
       "      <td>NaN</td>\n",
       "    </tr>\n",
       "  </tbody>\n",
       "</table>\n",
       "</div>"
      ],
      "text/plain": [
       "       Name  Twitter_Negative  Twitter_Neutral  Twitter_Positive Ticker\n",
       "0  SaltMine             0.000          0.94575           0.05425    NaN\n",
       "1      VANM             0.048          0.95200           0.00000    NaN"
      ]
     },
     "execution_count": 155,
     "metadata": {},
     "output_type": "execute_result"
    }
   ],
   "source": [
    "twitter_df.head(2)"
   ]
  },
  {
   "cell_type": "code",
   "execution_count": 156,
   "metadata": {},
   "outputs": [],
   "source": [
    "#keeping only twitter data\n",
    "twitter_df = twitter_df.iloc[:743].tail()"
   ]
  },
  {
   "cell_type": "code",
   "execution_count": 157,
   "metadata": {},
   "outputs": [],
   "source": [
    "### append to success_df and one_hot_features"
   ]
  },
  {
   "cell_type": "code",
   "execution_count": 174,
   "metadata": {},
   "outputs": [],
   "source": [
    "success_df = pd.read_csv(Path(f'../../../../data/cleandata/merges/success_df.csv'))"
   ]
  },
  {
   "cell_type": "code",
   "execution_count": 175,
   "metadata": {},
   "outputs": [
    {
     "data": {
      "text/html": [
       "<div>\n",
       "<style scoped>\n",
       "    .dataframe tbody tr th:only-of-type {\n",
       "        vertical-align: middle;\n",
       "    }\n",
       "\n",
       "    .dataframe tbody tr th {\n",
       "        vertical-align: top;\n",
       "    }\n",
       "\n",
       "    .dataframe thead th {\n",
       "        text-align: right;\n",
       "    }\n",
       "</style>\n",
       "<table border=\"1\" class=\"dataframe\">\n",
       "  <thead>\n",
       "    <tr style=\"text-align: right;\">\n",
       "      <th></th>\n",
       "      <th>rank_cnc</th>\n",
       "      <th>Name</th>\n",
       "      <th>Ticker</th>\n",
       "      <th>market_cap</th>\n",
       "      <th>price</th>\n",
       "      <th>volume24</th>\n",
       "      <th>pct1h</th>\n",
       "      <th>pct24h</th>\n",
       "      <th>pct7d</th>\n",
       "      <th>country</th>\n",
       "      <th>...</th>\n",
       "      <th>pre_Duration</th>\n",
       "      <th>compound</th>\n",
       "      <th>negative</th>\n",
       "      <th>neutral</th>\n",
       "      <th>positive</th>\n",
       "      <th>no_of_posts</th>\n",
       "      <th>Longevity</th>\n",
       "      <th>custom_index</th>\n",
       "      <th>custom_index_scaled</th>\n",
       "      <th>success</th>\n",
       "    </tr>\n",
       "  </thead>\n",
       "  <tbody>\n",
       "    <tr>\n",
       "      <th>0</th>\n",
       "      <td>2</td>\n",
       "      <td>Ethereum</td>\n",
       "      <td>ETH</td>\n",
       "      <td>20,155,411,771</td>\n",
       "      <td>185.67</td>\n",
       "      <td>7,906,136,399</td>\n",
       "      <td>-0.10</td>\n",
       "      <td>-1.20</td>\n",
       "      <td>-0.96</td>\n",
       "      <td>Switzerland</td>\n",
       "      <td>...</td>\n",
       "      <td>0 days 00:00:00.000000000</td>\n",
       "      <td>0.460570</td>\n",
       "      <td>0.06116</td>\n",
       "      <td>0.02739</td>\n",
       "      <td>0.90151</td>\n",
       "      <td>100</td>\n",
       "      <td>779</td>\n",
       "      <td>144636.93</td>\n",
       "      <td>0.129162</td>\n",
       "      <td>1</td>\n",
       "    </tr>\n",
       "    <tr>\n",
       "      <th>1</th>\n",
       "      <td>7</td>\n",
       "      <td>Binance Coin</td>\n",
       "      <td>BNB</td>\n",
       "      <td>3,277,372,658</td>\n",
       "      <td>21.07</td>\n",
       "      <td>231,846,713</td>\n",
       "      <td>-0.46</td>\n",
       "      <td>-1.33</td>\n",
       "      <td>2.49</td>\n",
       "      <td>Japan</td>\n",
       "      <td>...</td>\n",
       "      <td>0 days 00:00:00.000000000</td>\n",
       "      <td>0.563773</td>\n",
       "      <td>0.09667</td>\n",
       "      <td>0.04141</td>\n",
       "      <td>0.86189</td>\n",
       "      <td>100</td>\n",
       "      <td>848</td>\n",
       "      <td>17867.36</td>\n",
       "      <td>0.015956</td>\n",
       "      <td>1</td>\n",
       "    </tr>\n",
       "  </tbody>\n",
       "</table>\n",
       "<p>2 rows × 29 columns</p>\n",
       "</div>"
      ],
      "text/plain": [
       "   rank_cnc           Name Ticker      market_cap   price       volume24  \\\n",
       "0         2       Ethereum    ETH  20,155,411,771  185.67  7,906,136,399   \n",
       "1         7   Binance Coin    BNB   3,277,372,658   21.07    231,846,713   \n",
       "\n",
       "   pct1h  pct24h  pct7d      country  ...               pre_Duration  \\\n",
       "0  -0.10   -1.20  -0.96  Switzerland  ...  0 days 00:00:00.000000000   \n",
       "1  -0.46   -1.33   2.49        Japan  ...  0 days 00:00:00.000000000   \n",
       "\n",
       "   compound negative  neutral positive no_of_posts Longevity custom_index  \\\n",
       "0  0.460570  0.06116  0.02739  0.90151         100       779    144636.93   \n",
       "1  0.563773  0.09667  0.04141  0.86189         100       848     17867.36   \n",
       "\n",
       "  custom_index_scaled success  \n",
       "0            0.129162       1  \n",
       "1            0.015956       1  \n",
       "\n",
       "[2 rows x 29 columns]"
      ]
     },
     "execution_count": 175,
     "metadata": {},
     "output_type": "execute_result"
    }
   ],
   "source": [
    "success_df.head(2)"
   ]
  },
  {
   "cell_type": "code",
   "execution_count": 176,
   "metadata": {},
   "outputs": [
    {
     "data": {
      "text/plain": [
       "(573, 29)"
      ]
     },
     "execution_count": 176,
     "metadata": {},
     "output_type": "execute_result"
    }
   ],
   "source": [
    "success_df.shape"
   ]
  },
  {
   "cell_type": "code",
   "execution_count": 177,
   "metadata": {},
   "outputs": [
    {
     "data": {
      "text/plain": [
       "Index(['rank_cnc', 'Name', 'Ticker', 'market_cap', 'price', 'volume24',\n",
       "       'pct1h', 'pct24h', 'pct7d', 'country', 'platform', 'pre_ico_end',\n",
       "       'pre_ico_start', 'rating', 'status', 'type', 'End', 'Start', 'Duration',\n",
       "       'pre_Duration', 'compound', 'negative', 'neutral', 'positive',\n",
       "       'no_of_posts', 'Longevity', 'custom_index', 'custom_index_scaled',\n",
       "       'success'],\n",
       "      dtype='object')"
      ]
     },
     "execution_count": 177,
     "metadata": {},
     "output_type": "execute_result"
    }
   ],
   "source": [
    "success_df.columns"
   ]
  },
  {
   "cell_type": "code",
   "execution_count": 178,
   "metadata": {},
   "outputs": [],
   "source": [
    "success_df.drop(columns = ['rank_cnc', 'market_cap', 'price', 'volume24',\n",
    "       'pct1h', 'pct24h', 'pct7d', 'country', 'platform', 'pre_ico_end',\n",
    "       'pre_ico_start', 'rating', 'status', 'type', 'End', 'Start', 'Longevity', 'custom_index', 'custom_index_scaled'], inplace = True)"
   ]
  },
  {
   "cell_type": "code",
   "execution_count": 179,
   "metadata": {},
   "outputs": [
    {
     "data": {
      "text/plain": [
       "Index(['Name', 'Ticker', 'Duration', 'pre_Duration', 'compound', 'negative',\n",
       "       'neutral', 'positive', 'no_of_posts', 'success'],\n",
       "      dtype='object')"
      ]
     },
     "execution_count": 179,
     "metadata": {},
     "output_type": "execute_result"
    }
   ],
   "source": [
    "success_df.columns"
   ]
  },
  {
   "cell_type": "code",
   "execution_count": 180,
   "metadata": {},
   "outputs": [
    {
     "data": {
      "text/html": [
       "<div>\n",
       "<style scoped>\n",
       "    .dataframe tbody tr th:only-of-type {\n",
       "        vertical-align: middle;\n",
       "    }\n",
       "\n",
       "    .dataframe tbody tr th {\n",
       "        vertical-align: top;\n",
       "    }\n",
       "\n",
       "    .dataframe thead th {\n",
       "        text-align: right;\n",
       "    }\n",
       "</style>\n",
       "<table border=\"1\" class=\"dataframe\">\n",
       "  <thead>\n",
       "    <tr style=\"text-align: right;\">\n",
       "      <th></th>\n",
       "      <th>Name</th>\n",
       "      <th>Ticker</th>\n",
       "      <th>Duration</th>\n",
       "      <th>pre_Duration</th>\n",
       "      <th>compound</th>\n",
       "      <th>negative</th>\n",
       "      <th>neutral</th>\n",
       "      <th>positive</th>\n",
       "      <th>no_of_posts</th>\n",
       "      <th>success</th>\n",
       "    </tr>\n",
       "  </thead>\n",
       "  <tbody>\n",
       "    <tr>\n",
       "      <th>0</th>\n",
       "      <td>Ethereum</td>\n",
       "      <td>ETH</td>\n",
       "      <td>0 days 00:00:00.000000000</td>\n",
       "      <td>0 days 00:00:00.000000000</td>\n",
       "      <td>0.460570</td>\n",
       "      <td>0.06116</td>\n",
       "      <td>0.02739</td>\n",
       "      <td>0.90151</td>\n",
       "      <td>100</td>\n",
       "      <td>1</td>\n",
       "    </tr>\n",
       "    <tr>\n",
       "      <th>1</th>\n",
       "      <td>Binance Coin</td>\n",
       "      <td>BNB</td>\n",
       "      <td>20 days 00:00:00.000000000</td>\n",
       "      <td>0 days 00:00:00.000000000</td>\n",
       "      <td>0.563773</td>\n",
       "      <td>0.09667</td>\n",
       "      <td>0.04141</td>\n",
       "      <td>0.86189</td>\n",
       "      <td>100</td>\n",
       "      <td>1</td>\n",
       "    </tr>\n",
       "  </tbody>\n",
       "</table>\n",
       "</div>"
      ],
      "text/plain": [
       "            Name Ticker                    Duration  \\\n",
       "0       Ethereum    ETH   0 days 00:00:00.000000000   \n",
       "1   Binance Coin    BNB  20 days 00:00:00.000000000   \n",
       "\n",
       "                pre_Duration  compound  negative  neutral  positive  \\\n",
       "0  0 days 00:00:00.000000000  0.460570   0.06116  0.02739   0.90151   \n",
       "1  0 days 00:00:00.000000000  0.563773   0.09667  0.04141   0.86189   \n",
       "\n",
       "   no_of_posts  success  \n",
       "0          100        1  \n",
       "1          100        1  "
      ]
     },
     "execution_count": 180,
     "metadata": {},
     "output_type": "execute_result"
    }
   ],
   "source": [
    "success_df.head(2)"
   ]
  },
  {
   "cell_type": "code",
   "execution_count": 181,
   "metadata": {},
   "outputs": [
    {
     "data": {
      "text/plain": [
       "Name             object\n",
       "Ticker           object\n",
       "Duration         object\n",
       "pre_Duration     object\n",
       "compound        float64\n",
       "negative        float64\n",
       "neutral         float64\n",
       "positive        float64\n",
       "no_of_posts       int64\n",
       "success           int64\n",
       "dtype: object"
      ]
     },
     "execution_count": 181,
     "metadata": {},
     "output_type": "execute_result"
    }
   ],
   "source": [
    "success_df.dtypes"
   ]
  },
  {
   "cell_type": "code",
   "execution_count": 182,
   "metadata": {},
   "outputs": [],
   "source": [
    "for i in range(len(success_df)) : \n",
    "    success_df.loc[i, 'Duration'] = int(success_df.loc[i, 'Duration'][:-24])"
   ]
  },
  {
   "cell_type": "code",
   "execution_count": 183,
   "metadata": {},
   "outputs": [],
   "source": [
    "for i in range(len(success_df)) : \n",
    "    success_df.loc[i, 'pre_Duration'] = int(success_df.loc[i, 'pre_Duration'][:-24])"
   ]
  },
  {
   "cell_type": "code",
   "execution_count": 184,
   "metadata": {},
   "outputs": [
    {
     "data": {
      "text/html": [
       "<div>\n",
       "<style scoped>\n",
       "    .dataframe tbody tr th:only-of-type {\n",
       "        vertical-align: middle;\n",
       "    }\n",
       "\n",
       "    .dataframe tbody tr th {\n",
       "        vertical-align: top;\n",
       "    }\n",
       "\n",
       "    .dataframe thead th {\n",
       "        text-align: right;\n",
       "    }\n",
       "</style>\n",
       "<table border=\"1\" class=\"dataframe\">\n",
       "  <thead>\n",
       "    <tr style=\"text-align: right;\">\n",
       "      <th></th>\n",
       "      <th>Name</th>\n",
       "      <th>Ticker</th>\n",
       "      <th>Duration</th>\n",
       "      <th>pre_Duration</th>\n",
       "      <th>compound</th>\n",
       "      <th>negative</th>\n",
       "      <th>neutral</th>\n",
       "      <th>positive</th>\n",
       "      <th>no_of_posts</th>\n",
       "      <th>success</th>\n",
       "    </tr>\n",
       "  </thead>\n",
       "  <tbody>\n",
       "    <tr>\n",
       "      <th>0</th>\n",
       "      <td>Ethereum</td>\n",
       "      <td>ETH</td>\n",
       "      <td>0</td>\n",
       "      <td>0</td>\n",
       "      <td>0.460570</td>\n",
       "      <td>0.061160</td>\n",
       "      <td>0.027390</td>\n",
       "      <td>0.901510</td>\n",
       "      <td>100</td>\n",
       "      <td>1</td>\n",
       "    </tr>\n",
       "    <tr>\n",
       "      <th>1</th>\n",
       "      <td>Binance Coin</td>\n",
       "      <td>BNB</td>\n",
       "      <td>20</td>\n",
       "      <td>0</td>\n",
       "      <td>0.563773</td>\n",
       "      <td>0.096670</td>\n",
       "      <td>0.041410</td>\n",
       "      <td>0.861890</td>\n",
       "      <td>100</td>\n",
       "      <td>1</td>\n",
       "    </tr>\n",
       "    <tr>\n",
       "      <th>2</th>\n",
       "      <td>EOS</td>\n",
       "      <td>EOS</td>\n",
       "      <td>350</td>\n",
       "      <td>0</td>\n",
       "      <td>0.828470</td>\n",
       "      <td>0.032200</td>\n",
       "      <td>0.858550</td>\n",
       "      <td>0.109270</td>\n",
       "      <td>100</td>\n",
       "      <td>0</td>\n",
       "    </tr>\n",
       "    <tr>\n",
       "      <th>3</th>\n",
       "      <td>Cardano</td>\n",
       "      <td>ADA</td>\n",
       "      <td>488</td>\n",
       "      <td>0</td>\n",
       "      <td>0.589474</td>\n",
       "      <td>0.098387</td>\n",
       "      <td>0.032946</td>\n",
       "      <td>0.868753</td>\n",
       "      <td>93</td>\n",
       "      <td>0</td>\n",
       "    </tr>\n",
       "    <tr>\n",
       "      <th>4</th>\n",
       "      <td>Huobi Token</td>\n",
       "      <td>HT</td>\n",
       "      <td>0</td>\n",
       "      <td>0</td>\n",
       "      <td>0.525717</td>\n",
       "      <td>0.081630</td>\n",
       "      <td>0.033480</td>\n",
       "      <td>0.884940</td>\n",
       "      <td>100</td>\n",
       "      <td>1</td>\n",
       "    </tr>\n",
       "  </tbody>\n",
       "</table>\n",
       "</div>"
      ],
      "text/plain": [
       "            Name Ticker  Duration  pre_Duration  compound  negative   neutral  \\\n",
       "0       Ethereum    ETH         0             0  0.460570  0.061160  0.027390   \n",
       "1   Binance Coin    BNB        20             0  0.563773  0.096670  0.041410   \n",
       "2            EOS    EOS       350             0  0.828470  0.032200  0.858550   \n",
       "3        Cardano    ADA       488             0  0.589474  0.098387  0.032946   \n",
       "4    Huobi Token     HT         0             0  0.525717  0.081630  0.033480   \n",
       "\n",
       "   positive  no_of_posts  success  \n",
       "0  0.901510          100        1  \n",
       "1  0.861890          100        1  \n",
       "2  0.109270          100        0  \n",
       "3  0.868753           93        0  \n",
       "4  0.884940          100        1  "
      ]
     },
     "execution_count": 184,
     "metadata": {},
     "output_type": "execute_result"
    }
   ],
   "source": [
    "success_df.head()"
   ]
  },
  {
   "cell_type": "code",
   "execution_count": 185,
   "metadata": {},
   "outputs": [
    {
     "data": {
      "text/plain": [
       "Name             object\n",
       "Ticker           object\n",
       "Duration          int64\n",
       "pre_Duration      int64\n",
       "compound        float64\n",
       "negative        float64\n",
       "neutral         float64\n",
       "positive        float64\n",
       "no_of_posts       int64\n",
       "success           int64\n",
       "dtype: object"
      ]
     },
     "execution_count": 185,
     "metadata": {},
     "output_type": "execute_result"
    }
   ],
   "source": [
    "success_df.dtypes"
   ]
  },
  {
   "cell_type": "code",
   "execution_count": 186,
   "metadata": {},
   "outputs": [],
   "source": [
    "one_hot_features = pd.read_csv(Path(f\"../../../../data/cleandata/encoded.csv\"))"
   ]
  },
  {
   "cell_type": "code",
   "execution_count": 187,
   "metadata": {},
   "outputs": [
    {
     "data": {
      "text/html": [
       "<div>\n",
       "<style scoped>\n",
       "    .dataframe tbody tr th:only-of-type {\n",
       "        vertical-align: middle;\n",
       "    }\n",
       "\n",
       "    .dataframe tbody tr th {\n",
       "        vertical-align: top;\n",
       "    }\n",
       "\n",
       "    .dataframe thead th {\n",
       "        text-align: right;\n",
       "    }\n",
       "</style>\n",
       "<table border=\"1\" class=\"dataframe\">\n",
       "  <thead>\n",
       "    <tr style=\"text-align: right;\">\n",
       "      <th></th>\n",
       "      <th>Ticker</th>\n",
       "      <th>country_Argentina</th>\n",
       "      <th>country_Armenia</th>\n",
       "      <th>country_Australia</th>\n",
       "      <th>country_Austria</th>\n",
       "      <th>country_Azerbaijan</th>\n",
       "      <th>country_Bahamas</th>\n",
       "      <th>country_Belarus</th>\n",
       "      <th>country_Belgium</th>\n",
       "      <th>country_Belize</th>\n",
       "      <th>...</th>\n",
       "      <th>platform_Hyperledger</th>\n",
       "      <th>platform_Litecoin</th>\n",
       "      <th>platform_NEM</th>\n",
       "      <th>platform_NEO</th>\n",
       "      <th>platform_Nxt</th>\n",
       "      <th>platform_Omni</th>\n",
       "      <th>platform_Own Blockchain</th>\n",
       "      <th>platform_Scrypt</th>\n",
       "      <th>platform_Stellar</th>\n",
       "      <th>platform_Waves</th>\n",
       "    </tr>\n",
       "  </thead>\n",
       "  <tbody>\n",
       "    <tr>\n",
       "      <th>0</th>\n",
       "      <td>ETH</td>\n",
       "      <td>0</td>\n",
       "      <td>0</td>\n",
       "      <td>0</td>\n",
       "      <td>0</td>\n",
       "      <td>0</td>\n",
       "      <td>0</td>\n",
       "      <td>0</td>\n",
       "      <td>0</td>\n",
       "      <td>0</td>\n",
       "      <td>...</td>\n",
       "      <td>0</td>\n",
       "      <td>0</td>\n",
       "      <td>0</td>\n",
       "      <td>0</td>\n",
       "      <td>0</td>\n",
       "      <td>0</td>\n",
       "      <td>0</td>\n",
       "      <td>0</td>\n",
       "      <td>0</td>\n",
       "      <td>0</td>\n",
       "    </tr>\n",
       "    <tr>\n",
       "      <th>1</th>\n",
       "      <td>BNB</td>\n",
       "      <td>0</td>\n",
       "      <td>0</td>\n",
       "      <td>0</td>\n",
       "      <td>0</td>\n",
       "      <td>0</td>\n",
       "      <td>0</td>\n",
       "      <td>0</td>\n",
       "      <td>0</td>\n",
       "      <td>0</td>\n",
       "      <td>...</td>\n",
       "      <td>0</td>\n",
       "      <td>0</td>\n",
       "      <td>0</td>\n",
       "      <td>0</td>\n",
       "      <td>0</td>\n",
       "      <td>0</td>\n",
       "      <td>0</td>\n",
       "      <td>0</td>\n",
       "      <td>0</td>\n",
       "      <td>0</td>\n",
       "    </tr>\n",
       "  </tbody>\n",
       "</table>\n",
       "<p>2 rows × 84 columns</p>\n",
       "</div>"
      ],
      "text/plain": [
       "  Ticker  country_Argentina  country_Armenia  country_Australia  \\\n",
       "0    ETH                  0                0                  0   \n",
       "1    BNB                  0                0                  0   \n",
       "\n",
       "   country_Austria  country_Azerbaijan  country_Bahamas  country_Belarus  \\\n",
       "0                0                   0                0                0   \n",
       "1                0                   0                0                0   \n",
       "\n",
       "   country_Belgium  country_Belize  ...  platform_Hyperledger  \\\n",
       "0                0               0  ...                     0   \n",
       "1                0               0  ...                     0   \n",
       "\n",
       "   platform_Litecoin  platform_NEM  platform_NEO  platform_Nxt  platform_Omni  \\\n",
       "0                  0             0             0             0              0   \n",
       "1                  0             0             0             0              0   \n",
       "\n",
       "   platform_Own Blockchain  platform_Scrypt  platform_Stellar  platform_Waves  \n",
       "0                        0                0                 0               0  \n",
       "1                        0                0                 0               0  \n",
       "\n",
       "[2 rows x 84 columns]"
      ]
     },
     "execution_count": 187,
     "metadata": {},
     "output_type": "execute_result"
    }
   ],
   "source": [
    "one_hot_features.head(2)"
   ]
  },
  {
   "cell_type": "code",
   "execution_count": 188,
   "metadata": {},
   "outputs": [
    {
     "data": {
      "text/plain": [
       "(573, 84)"
      ]
     },
     "execution_count": 188,
     "metadata": {},
     "output_type": "execute_result"
    }
   ],
   "source": [
    "one_hot_features.shape"
   ]
  },
  {
   "cell_type": "code",
   "execution_count": null,
   "metadata": {},
   "outputs": [],
   "source": []
  },
  {
   "cell_type": "code",
   "execution_count": 189,
   "metadata": {},
   "outputs": [],
   "source": [
    "#merging twitter and success by Name\n",
    "merged = pd.merge(left=success_df, right=twitter_df, left_on='Name', right_on='Name')"
   ]
  },
  {
   "cell_type": "code",
   "execution_count": 190,
   "metadata": {},
   "outputs": [
    {
     "data": {
      "text/html": [
       "<div>\n",
       "<style scoped>\n",
       "    .dataframe tbody tr th:only-of-type {\n",
       "        vertical-align: middle;\n",
       "    }\n",
       "\n",
       "    .dataframe tbody tr th {\n",
       "        vertical-align: top;\n",
       "    }\n",
       "\n",
       "    .dataframe thead th {\n",
       "        text-align: right;\n",
       "    }\n",
       "</style>\n",
       "<table border=\"1\" class=\"dataframe\">\n",
       "  <thead>\n",
       "    <tr style=\"text-align: right;\">\n",
       "      <th></th>\n",
       "      <th>Name</th>\n",
       "      <th>Ticker_x</th>\n",
       "      <th>Duration</th>\n",
       "      <th>pre_Duration</th>\n",
       "      <th>compound</th>\n",
       "      <th>negative</th>\n",
       "      <th>neutral</th>\n",
       "      <th>positive</th>\n",
       "      <th>no_of_posts</th>\n",
       "      <th>success</th>\n",
       "      <th>Twitter_Negative</th>\n",
       "      <th>Twitter_Neutral</th>\n",
       "      <th>Twitter_Positive</th>\n",
       "      <th>Ticker_y</th>\n",
       "    </tr>\n",
       "  </thead>\n",
       "  <tbody>\n",
       "  </tbody>\n",
       "</table>\n",
       "</div>"
      ],
      "text/plain": [
       "Empty DataFrame\n",
       "Columns: [Name, Ticker_x, Duration, pre_Duration, compound, negative, neutral, positive, no_of_posts, success, Twitter_Negative, Twitter_Neutral, Twitter_Positive, Ticker_y]\n",
       "Index: []"
      ]
     },
     "execution_count": 190,
     "metadata": {},
     "output_type": "execute_result"
    }
   ],
   "source": [
    "merged.head(2)"
   ]
  },
  {
   "cell_type": "code",
   "execution_count": 79,
   "metadata": {},
   "outputs": [],
   "source": [
    "merged.shape"
   ]
  },
  {
   "cell_type": "code",
   "execution_count": 80,
   "metadata": {},
   "outputs": [],
   "source": [
    "merged_twitter = pd.merge(left=merged, right=twitter_df, left_on='Ticker', right_on='Ticker')"
   ]
  },
  {
   "cell_type": "code",
   "execution_count": 82,
   "metadata": {},
   "outputs": [
    {
     "data": {
      "text/plain": [
       "(292, 95)"
      ]
     },
     "execution_count": 82,
     "metadata": {},
     "output_type": "execute_result"
    }
   ],
   "source": [
    "merged_twitter.shape"
   ]
  },
  {
   "cell_type": "code",
   "execution_count": 67,
   "metadata": {},
   "outputs": [],
   "source": []
  },
  {
   "cell_type": "code",
   "execution_count": 67,
   "metadata": {},
   "outputs": [],
   "source": [
    "file_path = Path(\"../../../../data/cleandata/1hot_merged_post_ICO.csv\")\n",
    "merged_post_ICO.to_csv(file_path, index=False)"
   ]
  },
  {
   "cell_type": "code",
   "execution_count": null,
   "metadata": {},
   "outputs": [],
   "source": [
    "file_path = Path(\"../../../../data/cleandata/1hot_merged_360_ICO.csv\")\n",
    "merged_360_ICO.to_csv(file_path, index=False)"
   ]
  }
 ],
 "metadata": {
  "kernelspec": {
   "display_name": "Python 3",
   "language": "python",
   "name": "python3"
  },
  "language_info": {
   "codemirror_mode": {
    "name": "ipython",
    "version": 3
   },
   "file_extension": ".py",
   "mimetype": "text/x-python",
   "name": "python",
   "nbconvert_exporter": "python",
   "pygments_lexer": "ipython3",
   "version": "3.7.3"
  }
 },
 "nbformat": 4,
 "nbformat_minor": 4
}
