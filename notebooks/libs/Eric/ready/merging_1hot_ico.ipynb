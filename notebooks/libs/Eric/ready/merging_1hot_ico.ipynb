{
 "cells": [
  {
   "cell_type": "markdown",
   "metadata": {},
   "source": [
    "### Group redirection. Merging dataframe of ICO features ONLY. Merging 1-Hot encoding columns from Mina with success_df."
   ]
  },
  {
   "cell_type": "code",
   "execution_count": 1,
   "metadata": {},
   "outputs": [],
   "source": [
    "import pandas as pd\n",
    "from path import Path\n",
    "\n",
    "import requests\n",
    "import pprint\n",
    "import requests\n",
    "from requests.exceptions import HTTPError\n",
    "from datetime import datetime as dt\n",
    "import pandas as pd\n",
    "import numpy as np\n",
    "import timeit\n",
    "import time\n",
    "import datetime\n",
    "import copy\n",
    "\n",
    "import numpy as np\n",
    "from sklearn import preprocessing\n",
    "%matplotlib inline"
   ]
  },
  {
   "cell_type": "code",
   "execution_count": 31,
   "metadata": {},
   "outputs": [],
   "source": [
    "## Call christians tweets\n",
    "twitter_df = pd.read_csv(Path('../../../../data/cleandata/twitter_scores.csv'))"
   ]
  },
  {
   "cell_type": "code",
   "execution_count": 32,
   "metadata": {},
   "outputs": [
    {
     "data": {
      "text/html": [
       "<div>\n",
       "<style scoped>\n",
       "    .dataframe tbody tr th:only-of-type {\n",
       "        vertical-align: middle;\n",
       "    }\n",
       "\n",
       "    .dataframe tbody tr th {\n",
       "        vertical-align: top;\n",
       "    }\n",
       "\n",
       "    .dataframe thead th {\n",
       "        text-align: right;\n",
       "    }\n",
       "</style>\n",
       "<table border=\"1\" class=\"dataframe\">\n",
       "  <thead>\n",
       "    <tr style=\"text-align: right;\">\n",
       "      <th></th>\n",
       "      <th>Unnamed: 0</th>\n",
       "      <th>Compound</th>\n",
       "      <th>Negative</th>\n",
       "      <th>Neutral</th>\n",
       "      <th>Positive</th>\n",
       "    </tr>\n",
       "  </thead>\n",
       "  <tbody>\n",
       "    <tr>\n",
       "      <th>0</th>\n",
       "      <td>Ethereum</td>\n",
       "      <td>0.147122</td>\n",
       "      <td>0.01278</td>\n",
       "      <td>0.9201</td>\n",
       "      <td>0.06712</td>\n",
       "    </tr>\n",
       "    <tr>\n",
       "      <th>1</th>\n",
       "      <td>Binance Coin</td>\n",
       "      <td>0.081454</td>\n",
       "      <td>0.00598</td>\n",
       "      <td>0.9694</td>\n",
       "      <td>0.02460</td>\n",
       "    </tr>\n",
       "  </tbody>\n",
       "</table>\n",
       "</div>"
      ],
      "text/plain": [
       "      Unnamed: 0  Compound  Negative  Neutral  Positive\n",
       "0       Ethereum  0.147122   0.01278   0.9201   0.06712\n",
       "1   Binance Coin  0.081454   0.00598   0.9694   0.02460"
      ]
     },
     "execution_count": 32,
     "metadata": {},
     "output_type": "execute_result"
    }
   ],
   "source": [
    "twitter_df.head(2)"
   ]
  },
  {
   "cell_type": "code",
   "execution_count": 33,
   "metadata": {},
   "outputs": [],
   "source": [
    "### rename netural, positive, negative to tweeter_neutral, tweeter_positive, tweeter_negative\n",
    "twitter_df.rename(columns ={'Unnamed: 0':'Name','Negative':'Twitter_Negative', 'Positive':'Twitter_Positive', 'Neutral':'Twitter_Neutral', 'Compound':'Twitter_Compound'}, inplace = True)"
   ]
  },
  {
   "cell_type": "code",
   "execution_count": 34,
   "metadata": {},
   "outputs": [
    {
     "data": {
      "text/html": [
       "<div>\n",
       "<style scoped>\n",
       "    .dataframe tbody tr th:only-of-type {\n",
       "        vertical-align: middle;\n",
       "    }\n",
       "\n",
       "    .dataframe tbody tr th {\n",
       "        vertical-align: top;\n",
       "    }\n",
       "\n",
       "    .dataframe thead th {\n",
       "        text-align: right;\n",
       "    }\n",
       "</style>\n",
       "<table border=\"1\" class=\"dataframe\">\n",
       "  <thead>\n",
       "    <tr style=\"text-align: right;\">\n",
       "      <th></th>\n",
       "      <th>Name</th>\n",
       "      <th>Twitter_Compound</th>\n",
       "      <th>Twitter_Negative</th>\n",
       "      <th>Twitter_Neutral</th>\n",
       "      <th>Twitter_Positive</th>\n",
       "    </tr>\n",
       "  </thead>\n",
       "  <tbody>\n",
       "    <tr>\n",
       "      <th>0</th>\n",
       "      <td>Ethereum</td>\n",
       "      <td>0.147122</td>\n",
       "      <td>0.01278</td>\n",
       "      <td>0.9201</td>\n",
       "      <td>0.06712</td>\n",
       "    </tr>\n",
       "    <tr>\n",
       "      <th>1</th>\n",
       "      <td>Binance Coin</td>\n",
       "      <td>0.081454</td>\n",
       "      <td>0.00598</td>\n",
       "      <td>0.9694</td>\n",
       "      <td>0.02460</td>\n",
       "    </tr>\n",
       "  </tbody>\n",
       "</table>\n",
       "</div>"
      ],
      "text/plain": [
       "            Name  Twitter_Compound  Twitter_Negative  Twitter_Neutral  \\\n",
       "0       Ethereum          0.147122           0.01278           0.9201   \n",
       "1   Binance Coin          0.081454           0.00598           0.9694   \n",
       "\n",
       "   Twitter_Positive  \n",
       "0           0.06712  \n",
       "1           0.02460  "
      ]
     },
     "execution_count": 34,
     "metadata": {},
     "output_type": "execute_result"
    }
   ],
   "source": [
    "twitter_df.head(2)"
   ]
  },
  {
   "cell_type": "code",
   "execution_count": 35,
   "metadata": {},
   "outputs": [
    {
     "data": {
      "text/plain": [
       "Index(['Name', 'Twitter_Compound', 'Twitter_Negative', 'Twitter_Neutral',\n",
       "       'Twitter_Positive'],\n",
       "      dtype='object')"
      ]
     },
     "execution_count": 35,
     "metadata": {},
     "output_type": "execute_result"
    }
   ],
   "source": [
    "twitter_df.columns"
   ]
  },
  {
   "cell_type": "code",
   "execution_count": 36,
   "metadata": {},
   "outputs": [],
   "source": [
    "### append to success_df and one_hot_features"
   ]
  },
  {
   "cell_type": "code",
   "execution_count": 37,
   "metadata": {},
   "outputs": [],
   "source": [
    "success_df = pd.read_csv(Path(f'../../../../data/cleandata/merges/success_df.csv'))"
   ]
  },
  {
   "cell_type": "code",
   "execution_count": 38,
   "metadata": {},
   "outputs": [
    {
     "data": {
      "text/html": [
       "<div>\n",
       "<style scoped>\n",
       "    .dataframe tbody tr th:only-of-type {\n",
       "        vertical-align: middle;\n",
       "    }\n",
       "\n",
       "    .dataframe tbody tr th {\n",
       "        vertical-align: top;\n",
       "    }\n",
       "\n",
       "    .dataframe thead th {\n",
       "        text-align: right;\n",
       "    }\n",
       "</style>\n",
       "<table border=\"1\" class=\"dataframe\">\n",
       "  <thead>\n",
       "    <tr style=\"text-align: right;\">\n",
       "      <th></th>\n",
       "      <th>rank_cnc</th>\n",
       "      <th>Name</th>\n",
       "      <th>Ticker</th>\n",
       "      <th>market_cap</th>\n",
       "      <th>price</th>\n",
       "      <th>volume24</th>\n",
       "      <th>pct1h</th>\n",
       "      <th>pct24h</th>\n",
       "      <th>pct7d</th>\n",
       "      <th>country</th>\n",
       "      <th>...</th>\n",
       "      <th>pre_Duration</th>\n",
       "      <th>compound</th>\n",
       "      <th>negative</th>\n",
       "      <th>neutral</th>\n",
       "      <th>positive</th>\n",
       "      <th>no_of_posts</th>\n",
       "      <th>Longevity</th>\n",
       "      <th>custom_index</th>\n",
       "      <th>custom_index_scaled</th>\n",
       "      <th>success</th>\n",
       "    </tr>\n",
       "  </thead>\n",
       "  <tbody>\n",
       "    <tr>\n",
       "      <th>0</th>\n",
       "      <td>2</td>\n",
       "      <td>Ethereum</td>\n",
       "      <td>ETH</td>\n",
       "      <td>20,155,411,771</td>\n",
       "      <td>185.67</td>\n",
       "      <td>7,906,136,399</td>\n",
       "      <td>-0.10</td>\n",
       "      <td>-1.20</td>\n",
       "      <td>-0.96</td>\n",
       "      <td>Switzerland</td>\n",
       "      <td>...</td>\n",
       "      <td>0 days 00:00:00.000000000</td>\n",
       "      <td>0.460570</td>\n",
       "      <td>0.06116</td>\n",
       "      <td>0.02739</td>\n",
       "      <td>0.90151</td>\n",
       "      <td>100</td>\n",
       "      <td>779</td>\n",
       "      <td>144636.93</td>\n",
       "      <td>0.129162</td>\n",
       "      <td>1</td>\n",
       "    </tr>\n",
       "    <tr>\n",
       "      <th>1</th>\n",
       "      <td>7</td>\n",
       "      <td>Binance Coin</td>\n",
       "      <td>BNB</td>\n",
       "      <td>3,277,372,658</td>\n",
       "      <td>21.07</td>\n",
       "      <td>231,846,713</td>\n",
       "      <td>-0.46</td>\n",
       "      <td>-1.33</td>\n",
       "      <td>2.49</td>\n",
       "      <td>Japan</td>\n",
       "      <td>...</td>\n",
       "      <td>0 days 00:00:00.000000000</td>\n",
       "      <td>0.563773</td>\n",
       "      <td>0.09667</td>\n",
       "      <td>0.04141</td>\n",
       "      <td>0.86189</td>\n",
       "      <td>100</td>\n",
       "      <td>848</td>\n",
       "      <td>17867.36</td>\n",
       "      <td>0.015956</td>\n",
       "      <td>1</td>\n",
       "    </tr>\n",
       "  </tbody>\n",
       "</table>\n",
       "<p>2 rows × 29 columns</p>\n",
       "</div>"
      ],
      "text/plain": [
       "   rank_cnc           Name Ticker      market_cap   price       volume24  \\\n",
       "0         2       Ethereum    ETH  20,155,411,771  185.67  7,906,136,399   \n",
       "1         7   Binance Coin    BNB   3,277,372,658   21.07    231,846,713   \n",
       "\n",
       "   pct1h  pct24h  pct7d      country  ...               pre_Duration  \\\n",
       "0  -0.10   -1.20  -0.96  Switzerland  ...  0 days 00:00:00.000000000   \n",
       "1  -0.46   -1.33   2.49        Japan  ...  0 days 00:00:00.000000000   \n",
       "\n",
       "   compound negative  neutral positive no_of_posts Longevity custom_index  \\\n",
       "0  0.460570  0.06116  0.02739  0.90151         100       779    144636.93   \n",
       "1  0.563773  0.09667  0.04141  0.86189         100       848     17867.36   \n",
       "\n",
       "  custom_index_scaled success  \n",
       "0            0.129162       1  \n",
       "1            0.015956       1  \n",
       "\n",
       "[2 rows x 29 columns]"
      ]
     },
     "execution_count": 38,
     "metadata": {},
     "output_type": "execute_result"
    }
   ],
   "source": [
    "success_df.head(2)"
   ]
  },
  {
   "cell_type": "code",
   "execution_count": 39,
   "metadata": {},
   "outputs": [
    {
     "data": {
      "text/plain": [
       "(573, 29)"
      ]
     },
     "execution_count": 39,
     "metadata": {},
     "output_type": "execute_result"
    }
   ],
   "source": [
    "success_df.shape"
   ]
  },
  {
   "cell_type": "code",
   "execution_count": 40,
   "metadata": {},
   "outputs": [
    {
     "data": {
      "text/plain": [
       "Index(['rank_cnc', 'Name', 'Ticker', 'market_cap', 'price', 'volume24',\n",
       "       'pct1h', 'pct24h', 'pct7d', 'country', 'platform', 'pre_ico_end',\n",
       "       'pre_ico_start', 'rating', 'status', 'type', 'End', 'Start', 'Duration',\n",
       "       'pre_Duration', 'compound', 'negative', 'neutral', 'positive',\n",
       "       'no_of_posts', 'Longevity', 'custom_index', 'custom_index_scaled',\n",
       "       'success'],\n",
       "      dtype='object')"
      ]
     },
     "execution_count": 40,
     "metadata": {},
     "output_type": "execute_result"
    }
   ],
   "source": [
    "success_df.columns"
   ]
  },
  {
   "cell_type": "code",
   "execution_count": 41,
   "metadata": {},
   "outputs": [],
   "source": [
    "success_df.drop(columns = ['rank_cnc', 'market_cap', 'price', 'volume24',\n",
    "       'pct1h', 'pct24h', 'pct7d', 'country', 'platform', 'pre_ico_end',\n",
    "       'pre_ico_start', 'rating', 'status', 'type', 'End', 'Start', 'custom_index', 'custom_index_scaled'], inplace = True)"
   ]
  },
  {
   "cell_type": "code",
   "execution_count": 42,
   "metadata": {},
   "outputs": [
    {
     "data": {
      "text/plain": [
       "Index(['Name', 'Ticker', 'Duration', 'pre_Duration', 'compound', 'negative',\n",
       "       'neutral', 'positive', 'no_of_posts', 'Longevity', 'success'],\n",
       "      dtype='object')"
      ]
     },
     "execution_count": 42,
     "metadata": {},
     "output_type": "execute_result"
    }
   ],
   "source": [
    "success_df.columns"
   ]
  },
  {
   "cell_type": "code",
   "execution_count": 43,
   "metadata": {},
   "outputs": [
    {
     "data": {
      "text/html": [
       "<div>\n",
       "<style scoped>\n",
       "    .dataframe tbody tr th:only-of-type {\n",
       "        vertical-align: middle;\n",
       "    }\n",
       "\n",
       "    .dataframe tbody tr th {\n",
       "        vertical-align: top;\n",
       "    }\n",
       "\n",
       "    .dataframe thead th {\n",
       "        text-align: right;\n",
       "    }\n",
       "</style>\n",
       "<table border=\"1\" class=\"dataframe\">\n",
       "  <thead>\n",
       "    <tr style=\"text-align: right;\">\n",
       "      <th></th>\n",
       "      <th>Name</th>\n",
       "      <th>Ticker</th>\n",
       "      <th>Duration</th>\n",
       "      <th>pre_Duration</th>\n",
       "      <th>compound</th>\n",
       "      <th>negative</th>\n",
       "      <th>neutral</th>\n",
       "      <th>positive</th>\n",
       "      <th>no_of_posts</th>\n",
       "      <th>Longevity</th>\n",
       "      <th>success</th>\n",
       "    </tr>\n",
       "  </thead>\n",
       "  <tbody>\n",
       "    <tr>\n",
       "      <th>0</th>\n",
       "      <td>Ethereum</td>\n",
       "      <td>ETH</td>\n",
       "      <td>0 days 00:00:00.000000000</td>\n",
       "      <td>0 days 00:00:00.000000000</td>\n",
       "      <td>0.460570</td>\n",
       "      <td>0.06116</td>\n",
       "      <td>0.02739</td>\n",
       "      <td>0.90151</td>\n",
       "      <td>100</td>\n",
       "      <td>779</td>\n",
       "      <td>1</td>\n",
       "    </tr>\n",
       "    <tr>\n",
       "      <th>1</th>\n",
       "      <td>Binance Coin</td>\n",
       "      <td>BNB</td>\n",
       "      <td>20 days 00:00:00.000000000</td>\n",
       "      <td>0 days 00:00:00.000000000</td>\n",
       "      <td>0.563773</td>\n",
       "      <td>0.09667</td>\n",
       "      <td>0.04141</td>\n",
       "      <td>0.86189</td>\n",
       "      <td>100</td>\n",
       "      <td>848</td>\n",
       "      <td>1</td>\n",
       "    </tr>\n",
       "  </tbody>\n",
       "</table>\n",
       "</div>"
      ],
      "text/plain": [
       "            Name Ticker                    Duration  \\\n",
       "0       Ethereum    ETH   0 days 00:00:00.000000000   \n",
       "1   Binance Coin    BNB  20 days 00:00:00.000000000   \n",
       "\n",
       "                pre_Duration  compound  negative  neutral  positive  \\\n",
       "0  0 days 00:00:00.000000000  0.460570   0.06116  0.02739   0.90151   \n",
       "1  0 days 00:00:00.000000000  0.563773   0.09667  0.04141   0.86189   \n",
       "\n",
       "   no_of_posts  Longevity  success  \n",
       "0          100        779        1  \n",
       "1          100        848        1  "
      ]
     },
     "execution_count": 43,
     "metadata": {},
     "output_type": "execute_result"
    }
   ],
   "source": [
    "success_df.head(2)"
   ]
  },
  {
   "cell_type": "code",
   "execution_count": 44,
   "metadata": {},
   "outputs": [
    {
     "data": {
      "text/plain": [
       "Name             object\n",
       "Ticker           object\n",
       "Duration         object\n",
       "pre_Duration     object\n",
       "compound        float64\n",
       "negative        float64\n",
       "neutral         float64\n",
       "positive        float64\n",
       "no_of_posts       int64\n",
       "Longevity         int64\n",
       "success           int64\n",
       "dtype: object"
      ]
     },
     "execution_count": 44,
     "metadata": {},
     "output_type": "execute_result"
    }
   ],
   "source": [
    "success_df.dtypes"
   ]
  },
  {
   "cell_type": "code",
   "execution_count": 45,
   "metadata": {},
   "outputs": [],
   "source": [
    "for i in range(len(success_df)) : \n",
    "    success_df.loc[i, 'Duration'] = int(success_df.loc[i, 'Duration'][:-24])"
   ]
  },
  {
   "cell_type": "code",
   "execution_count": 46,
   "metadata": {},
   "outputs": [],
   "source": [
    "for i in range(len(success_df)) : \n",
    "    success_df.loc[i, 'pre_Duration'] = int(success_df.loc[i, 'pre_Duration'][:-24])"
   ]
  },
  {
   "cell_type": "code",
   "execution_count": 47,
   "metadata": {},
   "outputs": [
    {
     "data": {
      "text/html": [
       "<div>\n",
       "<style scoped>\n",
       "    .dataframe tbody tr th:only-of-type {\n",
       "        vertical-align: middle;\n",
       "    }\n",
       "\n",
       "    .dataframe tbody tr th {\n",
       "        vertical-align: top;\n",
       "    }\n",
       "\n",
       "    .dataframe thead th {\n",
       "        text-align: right;\n",
       "    }\n",
       "</style>\n",
       "<table border=\"1\" class=\"dataframe\">\n",
       "  <thead>\n",
       "    <tr style=\"text-align: right;\">\n",
       "      <th></th>\n",
       "      <th>Name</th>\n",
       "      <th>Ticker</th>\n",
       "      <th>Duration</th>\n",
       "      <th>pre_Duration</th>\n",
       "      <th>compound</th>\n",
       "      <th>negative</th>\n",
       "      <th>neutral</th>\n",
       "      <th>positive</th>\n",
       "      <th>no_of_posts</th>\n",
       "      <th>Longevity</th>\n",
       "      <th>success</th>\n",
       "    </tr>\n",
       "  </thead>\n",
       "  <tbody>\n",
       "    <tr>\n",
       "      <th>0</th>\n",
       "      <td>Ethereum</td>\n",
       "      <td>ETH</td>\n",
       "      <td>0</td>\n",
       "      <td>0</td>\n",
       "      <td>0.460570</td>\n",
       "      <td>0.061160</td>\n",
       "      <td>0.027390</td>\n",
       "      <td>0.901510</td>\n",
       "      <td>100</td>\n",
       "      <td>779</td>\n",
       "      <td>1</td>\n",
       "    </tr>\n",
       "    <tr>\n",
       "      <th>1</th>\n",
       "      <td>Binance Coin</td>\n",
       "      <td>BNB</td>\n",
       "      <td>20</td>\n",
       "      <td>0</td>\n",
       "      <td>0.563773</td>\n",
       "      <td>0.096670</td>\n",
       "      <td>0.041410</td>\n",
       "      <td>0.861890</td>\n",
       "      <td>100</td>\n",
       "      <td>848</td>\n",
       "      <td>1</td>\n",
       "    </tr>\n",
       "    <tr>\n",
       "      <th>2</th>\n",
       "      <td>EOS</td>\n",
       "      <td>EOS</td>\n",
       "      <td>350</td>\n",
       "      <td>0</td>\n",
       "      <td>0.828470</td>\n",
       "      <td>0.032200</td>\n",
       "      <td>0.858550</td>\n",
       "      <td>0.109270</td>\n",
       "      <td>100</td>\n",
       "      <td>522</td>\n",
       "      <td>0</td>\n",
       "    </tr>\n",
       "    <tr>\n",
       "      <th>3</th>\n",
       "      <td>Cardano</td>\n",
       "      <td>ADA</td>\n",
       "      <td>488</td>\n",
       "      <td>0</td>\n",
       "      <td>0.589474</td>\n",
       "      <td>0.098387</td>\n",
       "      <td>0.032946</td>\n",
       "      <td>0.868753</td>\n",
       "      <td>93</td>\n",
       "      <td>1049</td>\n",
       "      <td>0</td>\n",
       "    </tr>\n",
       "    <tr>\n",
       "      <th>4</th>\n",
       "      <td>Huobi Token</td>\n",
       "      <td>HT</td>\n",
       "      <td>0</td>\n",
       "      <td>0</td>\n",
       "      <td>0.525717</td>\n",
       "      <td>0.081630</td>\n",
       "      <td>0.033480</td>\n",
       "      <td>0.884940</td>\n",
       "      <td>100</td>\n",
       "      <td>779</td>\n",
       "      <td>1</td>\n",
       "    </tr>\n",
       "  </tbody>\n",
       "</table>\n",
       "</div>"
      ],
      "text/plain": [
       "            Name Ticker  Duration  pre_Duration  compound  negative   neutral  \\\n",
       "0       Ethereum    ETH         0             0  0.460570  0.061160  0.027390   \n",
       "1   Binance Coin    BNB        20             0  0.563773  0.096670  0.041410   \n",
       "2            EOS    EOS       350             0  0.828470  0.032200  0.858550   \n",
       "3        Cardano    ADA       488             0  0.589474  0.098387  0.032946   \n",
       "4    Huobi Token     HT         0             0  0.525717  0.081630  0.033480   \n",
       "\n",
       "   positive  no_of_posts  Longevity  success  \n",
       "0  0.901510          100        779        1  \n",
       "1  0.861890          100        848        1  \n",
       "2  0.109270          100        522        0  \n",
       "3  0.868753           93       1049        0  \n",
       "4  0.884940          100        779        1  "
      ]
     },
     "execution_count": 47,
     "metadata": {},
     "output_type": "execute_result"
    }
   ],
   "source": [
    "success_df.head()"
   ]
  },
  {
   "cell_type": "code",
   "execution_count": 48,
   "metadata": {},
   "outputs": [
    {
     "data": {
      "text/plain": [
       "Name             object\n",
       "Ticker           object\n",
       "Duration          int64\n",
       "pre_Duration      int64\n",
       "compound        float64\n",
       "negative        float64\n",
       "neutral         float64\n",
       "positive        float64\n",
       "no_of_posts       int64\n",
       "Longevity         int64\n",
       "success           int64\n",
       "dtype: object"
      ]
     },
     "execution_count": 48,
     "metadata": {},
     "output_type": "execute_result"
    }
   ],
   "source": [
    "success_df.dtypes"
   ]
  },
  {
   "cell_type": "code",
   "execution_count": 49,
   "metadata": {},
   "outputs": [],
   "source": [
    "one_hot_features = pd.read_csv(Path(f\"../../../../data/cleandata/encoded.csv\"))"
   ]
  },
  {
   "cell_type": "code",
   "execution_count": 50,
   "metadata": {},
   "outputs": [
    {
     "data": {
      "text/html": [
       "<div>\n",
       "<style scoped>\n",
       "    .dataframe tbody tr th:only-of-type {\n",
       "        vertical-align: middle;\n",
       "    }\n",
       "\n",
       "    .dataframe tbody tr th {\n",
       "        vertical-align: top;\n",
       "    }\n",
       "\n",
       "    .dataframe thead th {\n",
       "        text-align: right;\n",
       "    }\n",
       "</style>\n",
       "<table border=\"1\" class=\"dataframe\">\n",
       "  <thead>\n",
       "    <tr style=\"text-align: right;\">\n",
       "      <th></th>\n",
       "      <th>Ticker</th>\n",
       "      <th>country_Argentina</th>\n",
       "      <th>country_Armenia</th>\n",
       "      <th>country_Australia</th>\n",
       "      <th>country_Austria</th>\n",
       "      <th>country_Azerbaijan</th>\n",
       "      <th>country_Bahamas</th>\n",
       "      <th>country_Belarus</th>\n",
       "      <th>country_Belgium</th>\n",
       "      <th>country_Belize</th>\n",
       "      <th>...</th>\n",
       "      <th>platform_Hyperledger</th>\n",
       "      <th>platform_Litecoin</th>\n",
       "      <th>platform_NEM</th>\n",
       "      <th>platform_NEO</th>\n",
       "      <th>platform_Nxt</th>\n",
       "      <th>platform_Omni</th>\n",
       "      <th>platform_Own Blockchain</th>\n",
       "      <th>platform_Scrypt</th>\n",
       "      <th>platform_Stellar</th>\n",
       "      <th>platform_Waves</th>\n",
       "    </tr>\n",
       "  </thead>\n",
       "  <tbody>\n",
       "    <tr>\n",
       "      <th>0</th>\n",
       "      <td>ETH</td>\n",
       "      <td>0</td>\n",
       "      <td>0</td>\n",
       "      <td>0</td>\n",
       "      <td>0</td>\n",
       "      <td>0</td>\n",
       "      <td>0</td>\n",
       "      <td>0</td>\n",
       "      <td>0</td>\n",
       "      <td>0</td>\n",
       "      <td>...</td>\n",
       "      <td>0</td>\n",
       "      <td>0</td>\n",
       "      <td>0</td>\n",
       "      <td>0</td>\n",
       "      <td>0</td>\n",
       "      <td>0</td>\n",
       "      <td>0</td>\n",
       "      <td>0</td>\n",
       "      <td>0</td>\n",
       "      <td>0</td>\n",
       "    </tr>\n",
       "    <tr>\n",
       "      <th>1</th>\n",
       "      <td>BNB</td>\n",
       "      <td>0</td>\n",
       "      <td>0</td>\n",
       "      <td>0</td>\n",
       "      <td>0</td>\n",
       "      <td>0</td>\n",
       "      <td>0</td>\n",
       "      <td>0</td>\n",
       "      <td>0</td>\n",
       "      <td>0</td>\n",
       "      <td>...</td>\n",
       "      <td>0</td>\n",
       "      <td>0</td>\n",
       "      <td>0</td>\n",
       "      <td>0</td>\n",
       "      <td>0</td>\n",
       "      <td>0</td>\n",
       "      <td>0</td>\n",
       "      <td>0</td>\n",
       "      <td>0</td>\n",
       "      <td>0</td>\n",
       "    </tr>\n",
       "  </tbody>\n",
       "</table>\n",
       "<p>2 rows × 84 columns</p>\n",
       "</div>"
      ],
      "text/plain": [
       "  Ticker  country_Argentina  country_Armenia  country_Australia  \\\n",
       "0    ETH                  0                0                  0   \n",
       "1    BNB                  0                0                  0   \n",
       "\n",
       "   country_Austria  country_Azerbaijan  country_Bahamas  country_Belarus  \\\n",
       "0                0                   0                0                0   \n",
       "1                0                   0                0                0   \n",
       "\n",
       "   country_Belgium  country_Belize  ...  platform_Hyperledger  \\\n",
       "0                0               0  ...                     0   \n",
       "1                0               0  ...                     0   \n",
       "\n",
       "   platform_Litecoin  platform_NEM  platform_NEO  platform_Nxt  platform_Omni  \\\n",
       "0                  0             0             0             0              0   \n",
       "1                  0             0             0             0              0   \n",
       "\n",
       "   platform_Own Blockchain  platform_Scrypt  platform_Stellar  platform_Waves  \n",
       "0                        0                0                 0               0  \n",
       "1                        0                0                 0               0  \n",
       "\n",
       "[2 rows x 84 columns]"
      ]
     },
     "execution_count": 50,
     "metadata": {},
     "output_type": "execute_result"
    }
   ],
   "source": [
    "one_hot_features.head(2)"
   ]
  },
  {
   "cell_type": "code",
   "execution_count": 51,
   "metadata": {},
   "outputs": [
    {
     "data": {
      "text/plain": [
       "(573, 84)"
      ]
     },
     "execution_count": 51,
     "metadata": {},
     "output_type": "execute_result"
    }
   ],
   "source": [
    "one_hot_features.shape"
   ]
  },
  {
   "cell_type": "code",
   "execution_count": null,
   "metadata": {},
   "outputs": [],
   "source": []
  },
  {
   "cell_type": "code",
   "execution_count": 52,
   "metadata": {},
   "outputs": [],
   "source": [
    "#merging twitter and success by Name\n",
    "merged = pd.merge(left=success_df, right=twitter_df, left_on='Name', right_on='Name')"
   ]
  },
  {
   "cell_type": "code",
   "execution_count": 53,
   "metadata": {},
   "outputs": [
    {
     "data": {
      "text/html": [
       "<div>\n",
       "<style scoped>\n",
       "    .dataframe tbody tr th:only-of-type {\n",
       "        vertical-align: middle;\n",
       "    }\n",
       "\n",
       "    .dataframe tbody tr th {\n",
       "        vertical-align: top;\n",
       "    }\n",
       "\n",
       "    .dataframe thead th {\n",
       "        text-align: right;\n",
       "    }\n",
       "</style>\n",
       "<table border=\"1\" class=\"dataframe\">\n",
       "  <thead>\n",
       "    <tr style=\"text-align: right;\">\n",
       "      <th></th>\n",
       "      <th>Name</th>\n",
       "      <th>Ticker</th>\n",
       "      <th>Duration</th>\n",
       "      <th>pre_Duration</th>\n",
       "      <th>compound</th>\n",
       "      <th>negative</th>\n",
       "      <th>neutral</th>\n",
       "      <th>positive</th>\n",
       "      <th>no_of_posts</th>\n",
       "      <th>Longevity</th>\n",
       "      <th>success</th>\n",
       "      <th>Twitter_Compound</th>\n",
       "      <th>Twitter_Negative</th>\n",
       "      <th>Twitter_Neutral</th>\n",
       "      <th>Twitter_Positive</th>\n",
       "    </tr>\n",
       "  </thead>\n",
       "  <tbody>\n",
       "    <tr>\n",
       "      <th>0</th>\n",
       "      <td>Ethereum</td>\n",
       "      <td>ETH</td>\n",
       "      <td>0</td>\n",
       "      <td>0</td>\n",
       "      <td>0.460570</td>\n",
       "      <td>0.06116</td>\n",
       "      <td>0.02739</td>\n",
       "      <td>0.90151</td>\n",
       "      <td>100</td>\n",
       "      <td>779</td>\n",
       "      <td>1</td>\n",
       "      <td>0.147122</td>\n",
       "      <td>0.01278</td>\n",
       "      <td>0.9201</td>\n",
       "      <td>0.06712</td>\n",
       "    </tr>\n",
       "    <tr>\n",
       "      <th>1</th>\n",
       "      <td>Binance Coin</td>\n",
       "      <td>BNB</td>\n",
       "      <td>20</td>\n",
       "      <td>0</td>\n",
       "      <td>0.563773</td>\n",
       "      <td>0.09667</td>\n",
       "      <td>0.04141</td>\n",
       "      <td>0.86189</td>\n",
       "      <td>100</td>\n",
       "      <td>848</td>\n",
       "      <td>1</td>\n",
       "      <td>0.081454</td>\n",
       "      <td>0.00598</td>\n",
       "      <td>0.9694</td>\n",
       "      <td>0.02460</td>\n",
       "    </tr>\n",
       "  </tbody>\n",
       "</table>\n",
       "</div>"
      ],
      "text/plain": [
       "            Name Ticker  Duration  pre_Duration  compound  negative  neutral  \\\n",
       "0       Ethereum    ETH         0             0  0.460570   0.06116  0.02739   \n",
       "1   Binance Coin    BNB        20             0  0.563773   0.09667  0.04141   \n",
       "\n",
       "   positive  no_of_posts  Longevity  success  Twitter_Compound  \\\n",
       "0   0.90151          100        779        1          0.147122   \n",
       "1   0.86189          100        848        1          0.081454   \n",
       "\n",
       "   Twitter_Negative  Twitter_Neutral  Twitter_Positive  \n",
       "0           0.01278           0.9201           0.06712  \n",
       "1           0.00598           0.9694           0.02460  "
      ]
     },
     "execution_count": 53,
     "metadata": {},
     "output_type": "execute_result"
    }
   ],
   "source": [
    "merged.head(2)"
   ]
  },
  {
   "cell_type": "code",
   "execution_count": 54,
   "metadata": {},
   "outputs": [
    {
     "data": {
      "text/plain": [
       "(573, 15)"
      ]
     },
     "execution_count": 54,
     "metadata": {},
     "output_type": "execute_result"
    }
   ],
   "source": [
    "merged.shape"
   ]
  },
  {
   "cell_type": "code",
   "execution_count": 55,
   "metadata": {},
   "outputs": [],
   "source": [
    "merged_final = pd.merge(left=merged, right=one_hot_features, left_on='Ticker', right_on='Ticker')"
   ]
  },
  {
   "cell_type": "code",
   "execution_count": 56,
   "metadata": {},
   "outputs": [
    {
     "data": {
      "text/plain": [
       "(573, 98)"
      ]
     },
     "execution_count": 56,
     "metadata": {},
     "output_type": "execute_result"
    }
   ],
   "source": [
    "merged_final.shape"
   ]
  },
  {
   "cell_type": "code",
   "execution_count": 57,
   "metadata": {},
   "outputs": [
    {
     "data": {
      "text/html": [
       "<div>\n",
       "<style scoped>\n",
       "    .dataframe tbody tr th:only-of-type {\n",
       "        vertical-align: middle;\n",
       "    }\n",
       "\n",
       "    .dataframe tbody tr th {\n",
       "        vertical-align: top;\n",
       "    }\n",
       "\n",
       "    .dataframe thead th {\n",
       "        text-align: right;\n",
       "    }\n",
       "</style>\n",
       "<table border=\"1\" class=\"dataframe\">\n",
       "  <thead>\n",
       "    <tr style=\"text-align: right;\">\n",
       "      <th></th>\n",
       "      <th>Name</th>\n",
       "      <th>Ticker</th>\n",
       "      <th>Duration</th>\n",
       "      <th>pre_Duration</th>\n",
       "      <th>compound</th>\n",
       "      <th>negative</th>\n",
       "      <th>neutral</th>\n",
       "      <th>positive</th>\n",
       "      <th>no_of_posts</th>\n",
       "      <th>Longevity</th>\n",
       "      <th>...</th>\n",
       "      <th>platform_Hyperledger</th>\n",
       "      <th>platform_Litecoin</th>\n",
       "      <th>platform_NEM</th>\n",
       "      <th>platform_NEO</th>\n",
       "      <th>platform_Nxt</th>\n",
       "      <th>platform_Omni</th>\n",
       "      <th>platform_Own Blockchain</th>\n",
       "      <th>platform_Scrypt</th>\n",
       "      <th>platform_Stellar</th>\n",
       "      <th>platform_Waves</th>\n",
       "    </tr>\n",
       "  </thead>\n",
       "  <tbody>\n",
       "    <tr>\n",
       "      <th>0</th>\n",
       "      <td>Ethereum</td>\n",
       "      <td>ETH</td>\n",
       "      <td>0</td>\n",
       "      <td>0</td>\n",
       "      <td>0.460570</td>\n",
       "      <td>0.06116</td>\n",
       "      <td>0.02739</td>\n",
       "      <td>0.90151</td>\n",
       "      <td>100</td>\n",
       "      <td>779</td>\n",
       "      <td>...</td>\n",
       "      <td>0</td>\n",
       "      <td>0</td>\n",
       "      <td>0</td>\n",
       "      <td>0</td>\n",
       "      <td>0</td>\n",
       "      <td>0</td>\n",
       "      <td>0</td>\n",
       "      <td>0</td>\n",
       "      <td>0</td>\n",
       "      <td>0</td>\n",
       "    </tr>\n",
       "    <tr>\n",
       "      <th>1</th>\n",
       "      <td>Binance Coin</td>\n",
       "      <td>BNB</td>\n",
       "      <td>20</td>\n",
       "      <td>0</td>\n",
       "      <td>0.563773</td>\n",
       "      <td>0.09667</td>\n",
       "      <td>0.04141</td>\n",
       "      <td>0.86189</td>\n",
       "      <td>100</td>\n",
       "      <td>848</td>\n",
       "      <td>...</td>\n",
       "      <td>0</td>\n",
       "      <td>0</td>\n",
       "      <td>0</td>\n",
       "      <td>0</td>\n",
       "      <td>0</td>\n",
       "      <td>0</td>\n",
       "      <td>0</td>\n",
       "      <td>0</td>\n",
       "      <td>0</td>\n",
       "      <td>0</td>\n",
       "    </tr>\n",
       "  </tbody>\n",
       "</table>\n",
       "<p>2 rows × 98 columns</p>\n",
       "</div>"
      ],
      "text/plain": [
       "            Name Ticker  Duration  pre_Duration  compound  negative  neutral  \\\n",
       "0       Ethereum    ETH         0             0  0.460570   0.06116  0.02739   \n",
       "1   Binance Coin    BNB        20             0  0.563773   0.09667  0.04141   \n",
       "\n",
       "   positive  no_of_posts  Longevity  ...  platform_Hyperledger  \\\n",
       "0   0.90151          100        779  ...                     0   \n",
       "1   0.86189          100        848  ...                     0   \n",
       "\n",
       "   platform_Litecoin  platform_NEM  platform_NEO  platform_Nxt  platform_Omni  \\\n",
       "0                  0             0             0             0              0   \n",
       "1                  0             0             0             0              0   \n",
       "\n",
       "   platform_Own Blockchain  platform_Scrypt  platform_Stellar  platform_Waves  \n",
       "0                        0                0                 0               0  \n",
       "1                        0                0                 0               0  \n",
       "\n",
       "[2 rows x 98 columns]"
      ]
     },
     "execution_count": 57,
     "metadata": {},
     "output_type": "execute_result"
    }
   ],
   "source": [
    "merged_final.head(2)"
   ]
  },
  {
   "cell_type": "code",
   "execution_count": 59,
   "metadata": {},
   "outputs": [
    {
     "data": {
      "text/html": [
       "<div>\n",
       "<style scoped>\n",
       "    .dataframe tbody tr th:only-of-type {\n",
       "        vertical-align: middle;\n",
       "    }\n",
       "\n",
       "    .dataframe tbody tr th {\n",
       "        vertical-align: top;\n",
       "    }\n",
       "\n",
       "    .dataframe thead th {\n",
       "        text-align: right;\n",
       "    }\n",
       "</style>\n",
       "<table border=\"1\" class=\"dataframe\">\n",
       "  <thead>\n",
       "    <tr style=\"text-align: right;\">\n",
       "      <th></th>\n",
       "      <th>Name</th>\n",
       "      <th>Ticker</th>\n",
       "      <th>Duration</th>\n",
       "      <th>pre_Duration</th>\n",
       "      <th>compound</th>\n",
       "      <th>negative</th>\n",
       "      <th>neutral</th>\n",
       "      <th>positive</th>\n",
       "      <th>no_of_posts</th>\n",
       "      <th>Longevity</th>\n",
       "      <th>...</th>\n",
       "      <th>platform_Hyperledger</th>\n",
       "      <th>platform_Litecoin</th>\n",
       "      <th>platform_NEM</th>\n",
       "      <th>platform_NEO</th>\n",
       "      <th>platform_Nxt</th>\n",
       "      <th>platform_Omni</th>\n",
       "      <th>platform_Own Blockchain</th>\n",
       "      <th>platform_Scrypt</th>\n",
       "      <th>platform_Stellar</th>\n",
       "      <th>platform_Waves</th>\n",
       "    </tr>\n",
       "  </thead>\n",
       "  <tbody>\n",
       "    <tr>\n",
       "      <th>0</th>\n",
       "      <td>Ethereum</td>\n",
       "      <td>ETH</td>\n",
       "      <td>0</td>\n",
       "      <td>0</td>\n",
       "      <td>0.460570</td>\n",
       "      <td>0.061160</td>\n",
       "      <td>0.027390</td>\n",
       "      <td>0.901510</td>\n",
       "      <td>100</td>\n",
       "      <td>779</td>\n",
       "      <td>...</td>\n",
       "      <td>0</td>\n",
       "      <td>0</td>\n",
       "      <td>0</td>\n",
       "      <td>0</td>\n",
       "      <td>0</td>\n",
       "      <td>0</td>\n",
       "      <td>0</td>\n",
       "      <td>0</td>\n",
       "      <td>0</td>\n",
       "      <td>0</td>\n",
       "    </tr>\n",
       "    <tr>\n",
       "      <th>1</th>\n",
       "      <td>Binance Coin</td>\n",
       "      <td>BNB</td>\n",
       "      <td>20</td>\n",
       "      <td>0</td>\n",
       "      <td>0.563773</td>\n",
       "      <td>0.096670</td>\n",
       "      <td>0.041410</td>\n",
       "      <td>0.861890</td>\n",
       "      <td>100</td>\n",
       "      <td>848</td>\n",
       "      <td>...</td>\n",
       "      <td>0</td>\n",
       "      <td>0</td>\n",
       "      <td>0</td>\n",
       "      <td>0</td>\n",
       "      <td>0</td>\n",
       "      <td>0</td>\n",
       "      <td>0</td>\n",
       "      <td>0</td>\n",
       "      <td>0</td>\n",
       "      <td>0</td>\n",
       "    </tr>\n",
       "    <tr>\n",
       "      <th>2</th>\n",
       "      <td>EOS</td>\n",
       "      <td>EOS</td>\n",
       "      <td>350</td>\n",
       "      <td>0</td>\n",
       "      <td>0.828470</td>\n",
       "      <td>0.032200</td>\n",
       "      <td>0.858550</td>\n",
       "      <td>0.109270</td>\n",
       "      <td>100</td>\n",
       "      <td>522</td>\n",
       "      <td>...</td>\n",
       "      <td>0</td>\n",
       "      <td>0</td>\n",
       "      <td>0</td>\n",
       "      <td>0</td>\n",
       "      <td>0</td>\n",
       "      <td>0</td>\n",
       "      <td>1</td>\n",
       "      <td>0</td>\n",
       "      <td>0</td>\n",
       "      <td>0</td>\n",
       "    </tr>\n",
       "    <tr>\n",
       "      <th>3</th>\n",
       "      <td>Cardano</td>\n",
       "      <td>ADA</td>\n",
       "      <td>488</td>\n",
       "      <td>0</td>\n",
       "      <td>0.589474</td>\n",
       "      <td>0.098387</td>\n",
       "      <td>0.032946</td>\n",
       "      <td>0.868753</td>\n",
       "      <td>93</td>\n",
       "      <td>1049</td>\n",
       "      <td>...</td>\n",
       "      <td>0</td>\n",
       "      <td>0</td>\n",
       "      <td>0</td>\n",
       "      <td>0</td>\n",
       "      <td>0</td>\n",
       "      <td>0</td>\n",
       "      <td>1</td>\n",
       "      <td>0</td>\n",
       "      <td>0</td>\n",
       "      <td>0</td>\n",
       "    </tr>\n",
       "    <tr>\n",
       "      <th>4</th>\n",
       "      <td>Huobi Token</td>\n",
       "      <td>HT</td>\n",
       "      <td>0</td>\n",
       "      <td>0</td>\n",
       "      <td>0.525717</td>\n",
       "      <td>0.081630</td>\n",
       "      <td>0.033480</td>\n",
       "      <td>0.884940</td>\n",
       "      <td>100</td>\n",
       "      <td>779</td>\n",
       "      <td>...</td>\n",
       "      <td>0</td>\n",
       "      <td>0</td>\n",
       "      <td>0</td>\n",
       "      <td>0</td>\n",
       "      <td>0</td>\n",
       "      <td>0</td>\n",
       "      <td>0</td>\n",
       "      <td>0</td>\n",
       "      <td>0</td>\n",
       "      <td>0</td>\n",
       "    </tr>\n",
       "  </tbody>\n",
       "</table>\n",
       "<p>5 rows × 98 columns</p>\n",
       "</div>"
      ],
      "text/plain": [
       "            Name Ticker  Duration  pre_Duration  compound  negative   neutral  \\\n",
       "0       Ethereum    ETH         0             0  0.460570  0.061160  0.027390   \n",
       "1   Binance Coin    BNB        20             0  0.563773  0.096670  0.041410   \n",
       "2            EOS    EOS       350             0  0.828470  0.032200  0.858550   \n",
       "3        Cardano    ADA       488             0  0.589474  0.098387  0.032946   \n",
       "4    Huobi Token     HT         0             0  0.525717  0.081630  0.033480   \n",
       "\n",
       "   positive  no_of_posts  Longevity  ...  platform_Hyperledger  \\\n",
       "0  0.901510          100        779  ...                     0   \n",
       "1  0.861890          100        848  ...                     0   \n",
       "2  0.109270          100        522  ...                     0   \n",
       "3  0.868753           93       1049  ...                     0   \n",
       "4  0.884940          100        779  ...                     0   \n",
       "\n",
       "   platform_Litecoin  platform_NEM  platform_NEO  platform_Nxt  platform_Omni  \\\n",
       "0                  0             0             0             0              0   \n",
       "1                  0             0             0             0              0   \n",
       "2                  0             0             0             0              0   \n",
       "3                  0             0             0             0              0   \n",
       "4                  0             0             0             0              0   \n",
       "\n",
       "   platform_Own Blockchain  platform_Scrypt  platform_Stellar  platform_Waves  \n",
       "0                        0                0                 0               0  \n",
       "1                        0                0                 0               0  \n",
       "2                        1                0                 0               0  \n",
       "3                        1                0                 0               0  \n",
       "4                        0                0                 0               0  \n",
       "\n",
       "[5 rows x 98 columns]"
      ]
     },
     "execution_count": 59,
     "metadata": {},
     "output_type": "execute_result"
    }
   ],
   "source": [
    "merged_final.head()"
   ]
  },
  {
   "cell_type": "code",
   "execution_count": 61,
   "metadata": {},
   "outputs": [],
   "source": [
    "#find ICO at 360 days or more...\n",
    "merged_360_ICO = merged_final[merged_final['Longevity'] < 360]"
   ]
  },
  {
   "cell_type": "code",
   "execution_count": 66,
   "metadata": {},
   "outputs": [],
   "source": [
    "merged_360_ICO.shape"
   ]
  },
  {
   "cell_type": "code",
   "execution_count": 84,
   "metadata": {},
   "outputs": [
    {
     "data": {
      "text/plain": [
       "(array([ 97,  97,  97,  97, 105, 105, 105, 105, 124, 124, 124, 124, 127,\n",
       "        127, 127, 127, 132, 132, 132, 132, 139, 139, 139, 139, 157, 157,\n",
       "        157, 157, 175, 175, 175, 175, 180, 180, 180, 180, 187, 187, 187,\n",
       "        187, 202, 202, 202, 202, 209, 209, 209, 209, 218, 218, 218, 218,\n",
       "        246, 246, 246, 246, 252, 252, 252, 252, 258, 258, 258, 258, 262,\n",
       "        262, 262, 262, 265, 265, 265, 265, 271, 271, 271, 271, 296, 296,\n",
       "        296, 296, 300, 300, 300, 300, 309, 309, 309, 309, 315, 315, 315,\n",
       "        315, 331, 331, 331, 331, 333, 333, 333, 333, 334, 334, 334, 334,\n",
       "        337, 337, 337, 337, 339, 339, 339, 339, 345, 345, 345, 345, 349,\n",
       "        349, 349, 349, 357, 357, 357, 357, 376, 376, 376, 376, 382, 382,\n",
       "        382, 382, 388, 388, 388, 388, 395, 395, 395, 395, 403, 403, 403,\n",
       "        403, 411, 411, 411, 411, 413, 413, 413, 413, 422, 422, 422, 422,\n",
       "        427, 427, 427, 427, 437, 437, 437, 437, 443, 443, 443, 443, 449,\n",
       "        449, 449, 449, 460, 460, 460, 460, 465, 465, 465, 465, 468, 468,\n",
       "        468, 468, 472, 472, 472, 472, 475, 475, 475, 475, 482, 482, 482,\n",
       "        482, 484, 484, 484, 484, 487, 487, 487, 487, 489, 489, 489, 489,\n",
       "        490, 490, 490, 490, 502, 502, 502, 502, 510, 510, 510, 510, 515,\n",
       "        515, 515, 515, 516, 516, 516, 516, 517, 517, 517, 517, 525, 525,\n",
       "        525, 525, 527, 527, 527, 527, 533, 533, 533, 533, 537, 537, 537,\n",
       "        537, 545, 545, 545, 545, 546, 546, 546, 546, 548, 548, 548, 548,\n",
       "        549, 549, 549, 549, 554, 554, 554, 554, 565, 565, 565, 565, 566,\n",
       "        566, 566, 566, 567, 567, 567, 567], dtype=int64),\n",
       " array([11, 12, 13, 14, 11, 12, 13, 14, 11, 12, 13, 14, 11, 12, 13, 14, 11,\n",
       "        12, 13, 14, 11, 12, 13, 14, 11, 12, 13, 14, 11, 12, 13, 14, 11, 12,\n",
       "        13, 14, 11, 12, 13, 14, 11, 12, 13, 14, 11, 12, 13, 14, 11, 12, 13,\n",
       "        14, 11, 12, 13, 14, 11, 12, 13, 14, 11, 12, 13, 14, 11, 12, 13, 14,\n",
       "        11, 12, 13, 14, 11, 12, 13, 14, 11, 12, 13, 14, 11, 12, 13, 14, 11,\n",
       "        12, 13, 14, 11, 12, 13, 14, 11, 12, 13, 14, 11, 12, 13, 14, 11, 12,\n",
       "        13, 14, 11, 12, 13, 14, 11, 12, 13, 14, 11, 12, 13, 14, 11, 12, 13,\n",
       "        14, 11, 12, 13, 14, 11, 12, 13, 14, 11, 12, 13, 14, 11, 12, 13, 14,\n",
       "        11, 12, 13, 14, 11, 12, 13, 14, 11, 12, 13, 14, 11, 12, 13, 14, 11,\n",
       "        12, 13, 14, 11, 12, 13, 14, 11, 12, 13, 14, 11, 12, 13, 14, 11, 12,\n",
       "        13, 14, 11, 12, 13, 14, 11, 12, 13, 14, 11, 12, 13, 14, 11, 12, 13,\n",
       "        14, 11, 12, 13, 14, 11, 12, 13, 14, 11, 12, 13, 14, 11, 12, 13, 14,\n",
       "        11, 12, 13, 14, 11, 12, 13, 14, 11, 12, 13, 14, 11, 12, 13, 14, 11,\n",
       "        12, 13, 14, 11, 12, 13, 14, 11, 12, 13, 14, 11, 12, 13, 14, 11, 12,\n",
       "        13, 14, 11, 12, 13, 14, 11, 12, 13, 14, 11, 12, 13, 14, 11, 12, 13,\n",
       "        14, 11, 12, 13, 14, 11, 12, 13, 14, 11, 12, 13, 14, 11, 12, 13, 14,\n",
       "        11, 12, 13, 14, 11, 12, 13, 14], dtype=int64))"
      ]
     },
     "execution_count": 84,
     "metadata": {},
     "output_type": "execute_result"
    }
   ],
   "source": [
    "np.where(pd.isnull(merged_final))"
   ]
  },
  {
   "cell_type": "code",
   "execution_count": 85,
   "metadata": {},
   "outputs": [
    {
     "data": {
      "text/plain": [
       "(array([], dtype=int64), array([], dtype=int64))"
      ]
     },
     "execution_count": 85,
     "metadata": {},
     "output_type": "execute_result"
    }
   ],
   "source": [
    "np.where(merged_final.applymap(lambda x: x == ''))"
   ]
  },
  {
   "cell_type": "code",
   "execution_count": 82,
   "metadata": {},
   "outputs": [
    {
     "data": {
      "text/plain": [
       "nan"
      ]
     },
     "execution_count": 82,
     "metadata": {},
     "output_type": "execute_result"
    }
   ],
   "source": [
    "merged_360_ICO.iloc[27,11]"
   ]
  },
  {
   "cell_type": "code",
   "execution_count": 77,
   "metadata": {},
   "outputs": [
    {
     "data": {
      "text/plain": [
       "(array([], dtype=int64), array([], dtype=int64))"
      ]
     },
     "execution_count": 77,
     "metadata": {},
     "output_type": "execute_result"
    }
   ],
   "source": [
    "np.where(pd.isnull(one_hot_features))"
   ]
  },
  {
   "cell_type": "code",
   "execution_count": 76,
   "metadata": {},
   "outputs": [
    {
     "data": {
      "text/plain": [
       "(array([], dtype=int64), array([], dtype=int64))"
      ]
     },
     "execution_count": 76,
     "metadata": {},
     "output_type": "execute_result"
    }
   ],
   "source": [
    "np.where(one_hot_features.applymap(lambda x: x == ''))"
   ]
  },
  {
   "cell_type": "code",
   "execution_count": 78,
   "metadata": {},
   "outputs": [
    {
     "data": {
      "text/plain": [
       "(array([ 97,  97,  97,  97, 105, 105, 105, 105, 124, 124, 124, 124, 127,\n",
       "        127, 127, 127, 132, 132, 132, 132, 139, 139, 139, 139, 157, 157,\n",
       "        157, 157, 175, 175, 175, 175, 180, 180, 180, 180, 187, 187, 187,\n",
       "        187, 202, 202, 202, 202, 209, 209, 209, 209, 218, 218, 218, 218,\n",
       "        246, 246, 246, 246, 252, 252, 252, 252, 258, 258, 258, 258, 262,\n",
       "        262, 262, 262, 265, 265, 265, 265, 271, 271, 271, 271, 296, 296,\n",
       "        296, 296, 300, 300, 300, 300, 309, 309, 309, 309, 315, 315, 315,\n",
       "        315, 331, 331, 331, 331, 333, 333, 333, 333, 334, 334, 334, 334,\n",
       "        337, 337, 337, 337, 339, 339, 339, 339, 345, 345, 345, 345, 349,\n",
       "        349, 349, 349, 357, 357, 357, 357, 376, 376, 376, 376, 382, 382,\n",
       "        382, 382, 388, 388, 388, 388, 395, 395, 395, 395, 403, 403, 403,\n",
       "        403, 411, 411, 411, 411, 413, 413, 413, 413, 422, 422, 422, 422,\n",
       "        427, 427, 427, 427, 437, 437, 437, 437, 443, 443, 443, 443, 449,\n",
       "        449, 449, 449, 460, 460, 460, 460, 465, 465, 465, 465, 468, 468,\n",
       "        468, 468, 472, 472, 472, 472, 475, 475, 475, 475, 482, 482, 482,\n",
       "        482, 484, 484, 484, 484, 487, 487, 487, 487, 489, 489, 489, 489,\n",
       "        490, 490, 490, 490, 502, 502, 502, 502, 510, 510, 510, 510, 515,\n",
       "        515, 515, 515, 516, 516, 516, 516, 517, 517, 517, 517, 525, 525,\n",
       "        525, 525, 527, 527, 527, 527, 533, 533, 533, 533, 537, 537, 537,\n",
       "        537, 545, 545, 545, 545, 546, 546, 546, 546, 548, 548, 548, 548,\n",
       "        549, 549, 549, 549, 554, 554, 554, 554, 565, 565, 565, 565, 566,\n",
       "        566, 566, 566, 567, 567, 567, 567], dtype=int64),\n",
       " array([1, 2, 3, 4, 1, 2, 3, 4, 1, 2, 3, 4, 1, 2, 3, 4, 1, 2, 3, 4, 1, 2,\n",
       "        3, 4, 1, 2, 3, 4, 1, 2, 3, 4, 1, 2, 3, 4, 1, 2, 3, 4, 1, 2, 3, 4,\n",
       "        1, 2, 3, 4, 1, 2, 3, 4, 1, 2, 3, 4, 1, 2, 3, 4, 1, 2, 3, 4, 1, 2,\n",
       "        3, 4, 1, 2, 3, 4, 1, 2, 3, 4, 1, 2, 3, 4, 1, 2, 3, 4, 1, 2, 3, 4,\n",
       "        1, 2, 3, 4, 1, 2, 3, 4, 1, 2, 3, 4, 1, 2, 3, 4, 1, 2, 3, 4, 1, 2,\n",
       "        3, 4, 1, 2, 3, 4, 1, 2, 3, 4, 1, 2, 3, 4, 1, 2, 3, 4, 1, 2, 3, 4,\n",
       "        1, 2, 3, 4, 1, 2, 3, 4, 1, 2, 3, 4, 1, 2, 3, 4, 1, 2, 3, 4, 1, 2,\n",
       "        3, 4, 1, 2, 3, 4, 1, 2, 3, 4, 1, 2, 3, 4, 1, 2, 3, 4, 1, 2, 3, 4,\n",
       "        1, 2, 3, 4, 1, 2, 3, 4, 1, 2, 3, 4, 1, 2, 3, 4, 1, 2, 3, 4, 1, 2,\n",
       "        3, 4, 1, 2, 3, 4, 1, 2, 3, 4, 1, 2, 3, 4, 1, 2, 3, 4, 1, 2, 3, 4,\n",
       "        1, 2, 3, 4, 1, 2, 3, 4, 1, 2, 3, 4, 1, 2, 3, 4, 1, 2, 3, 4, 1, 2,\n",
       "        3, 4, 1, 2, 3, 4, 1, 2, 3, 4, 1, 2, 3, 4, 1, 2, 3, 4, 1, 2, 3, 4,\n",
       "        1, 2, 3, 4, 1, 2, 3, 4, 1, 2, 3, 4, 1, 2, 3, 4], dtype=int64))"
      ]
     },
     "execution_count": 78,
     "metadata": {},
     "output_type": "execute_result"
    }
   ],
   "source": [
    "np.where(pd.isnull(twitter_df))"
   ]
  },
  {
   "cell_type": "code",
   "execution_count": 79,
   "metadata": {},
   "outputs": [
    {
     "data": {
      "text/plain": [
       "(array([], dtype=int64), array([], dtype=int64))"
      ]
     },
     "execution_count": 79,
     "metadata": {},
     "output_type": "execute_result"
    }
   ],
   "source": [
    "np.where(twitter_df.applymap(lambda x: x == ''))"
   ]
  },
  {
   "cell_type": "code",
   "execution_count": 80,
   "metadata": {},
   "outputs": [
    {
     "data": {
      "text/plain": [
       "(array([], dtype=int64), array([], dtype=int64))"
      ]
     },
     "execution_count": 80,
     "metadata": {},
     "output_type": "execute_result"
    }
   ],
   "source": [
    "np.where(pd.isnull(success_df))"
   ]
  },
  {
   "cell_type": "code",
   "execution_count": 81,
   "metadata": {},
   "outputs": [],
   "source": [
    "np.where(success_df.applymap(lambda x: x == ''))"
   ]
  },
  {
   "cell_type": "code",
   "execution_count": 90,
   "metadata": {},
   "outputs": [],
   "source": [
    "#filling nas with 0\n",
    "merged_final.fillna(0, inplace= True)"
   ]
  },
  {
   "cell_type": "code",
   "execution_count": 91,
   "metadata": {},
   "outputs": [
    {
     "data": {
      "text/plain": [
       "(537, 98)"
      ]
     },
     "execution_count": 91,
     "metadata": {},
     "output_type": "execute_result"
    }
   ],
   "source": [
    "#find ICO at 360 days or less...\n",
    "merged_post_ICO = merged_final[merged_final['Longevity'] >= 360] \n",
    "merged_post_ICO.shape"
   ]
  },
  {
   "cell_type": "code",
   "execution_count": 92,
   "metadata": {},
   "outputs": [],
   "source": [
    "file_path = Path(\"../../../../data/cleandata/1hot_merged_post_ICO.csv\")\n",
    "merged_post_ICO.to_csv(file_path, index=False)"
   ]
  },
  {
   "cell_type": "code",
   "execution_count": 93,
   "metadata": {},
   "outputs": [],
   "source": [
    "file_path = Path(\"../../../../data/cleandata/1hot_merged_360_ICO.csv\")\n",
    "merged_360_ICO.to_csv(file_path, index=False)"
   ]
  },
  {
   "cell_type": "code",
   "execution_count": null,
   "metadata": {},
   "outputs": [],
   "source": []
  }
 ],
 "metadata": {
  "kernelspec": {
   "display_name": "Python 3",
   "language": "python",
   "name": "python3"
  },
  "language_info": {
   "codemirror_mode": {
    "name": "ipython",
    "version": 3
   },
   "file_extension": ".py",
   "mimetype": "text/x-python",
   "name": "python",
   "nbconvert_exporter": "python",
   "pygments_lexer": "ipython3",
   "version": "3.7.3"
  }
 },
 "nbformat": 4,
 "nbformat_minor": 4
}
