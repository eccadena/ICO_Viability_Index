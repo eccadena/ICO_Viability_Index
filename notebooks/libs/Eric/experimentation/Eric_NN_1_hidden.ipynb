{
 "cells": [
  {
   "cell_type": "markdown",
   "metadata": {},
   "source": [
    "# Attempt at NN"
   ]
  },
  {
   "cell_type": "code",
   "execution_count": 2,
   "metadata": {},
   "outputs": [],
   "source": [
    "from tensorflow.keras.models import Sequential\n",
    "from tensorflow.keras.layers import Dense\n",
    "from path import Path\n",
    "import pandas as pd\n",
    "import matplotlib.pyplot as plt\n",
    "\n",
    "import numpy as np\n",
    "from sklearn import preprocessing"
   ]
  },
  {
   "cell_type": "code",
   "execution_count": 112,
   "metadata": {},
   "outputs": [],
   "source": [
    "# Set the random seed for reproducibility\n",
    "# Note: This is for the homework solution, but it is good practice to comment this out and run multiple experiments to evaluate your model\n",
    "from numpy.random import seed\n",
    "seed(1)\n",
    "from tensorflow import random\n",
    "random.set_seed(2)"
   ]
  },
  {
   "cell_type": "code",
   "execution_count": 113,
   "metadata": {},
   "outputs": [],
   "source": [
    "file_path = Path(\"../../../../data/cleandata/success_PCA_df.csv\")\n",
    "df = pd.read_csv(file_path)"
   ]
  },
  {
   "cell_type": "code",
   "execution_count": 114,
   "metadata": {},
   "outputs": [
    {
     "data": {
      "text/html": [
       "<div>\n",
       "<style scoped>\n",
       "    .dataframe tbody tr th:only-of-type {\n",
       "        vertical-align: middle;\n",
       "    }\n",
       "\n",
       "    .dataframe tbody tr th {\n",
       "        vertical-align: top;\n",
       "    }\n",
       "\n",
       "    .dataframe thead th {\n",
       "        text-align: right;\n",
       "    }\n",
       "</style>\n",
       "<table border=\"1\" class=\"dataframe\">\n",
       "  <thead>\n",
       "    <tr style=\"text-align: right;\">\n",
       "      <th></th>\n",
       "      <th>rank_cnc</th>\n",
       "      <th>Name</th>\n",
       "      <th>Ticker</th>\n",
       "      <th>market_cap</th>\n",
       "      <th>price</th>\n",
       "      <th>volume24</th>\n",
       "      <th>pct1h</th>\n",
       "      <th>pct24h</th>\n",
       "      <th>pct7d</th>\n",
       "      <th>country</th>\n",
       "      <th>...</th>\n",
       "      <th>Start</th>\n",
       "      <th>Duration</th>\n",
       "      <th>pre_Duration</th>\n",
       "      <th>compound</th>\n",
       "      <th>negative</th>\n",
       "      <th>neutral</th>\n",
       "      <th>positive</th>\n",
       "      <th>no_of_posts</th>\n",
       "      <th>Longevity</th>\n",
       "      <th>success_PCA</th>\n",
       "    </tr>\n",
       "  </thead>\n",
       "  <tbody>\n",
       "    <tr>\n",
       "      <th>0</th>\n",
       "      <td>35.0</td>\n",
       "      <td>0x</td>\n",
       "      <td>ZRX</td>\n",
       "      <td>210898190</td>\n",
       "      <td>0.731445</td>\n",
       "      <td>195643</td>\n",
       "      <td>0.29</td>\n",
       "      <td>-1.20</td>\n",
       "      <td>-4.96</td>\n",
       "      <td>United States of America</td>\n",
       "      <td>...</td>\n",
       "      <td>2017-08-15 00:00:00</td>\n",
       "      <td>31</td>\n",
       "      <td>0</td>\n",
       "      <td>-0.115233</td>\n",
       "      <td>0.022333</td>\n",
       "      <td>0.029333</td>\n",
       "      <td>0.948333</td>\n",
       "      <td>3.0</td>\n",
       "      <td>364.0</td>\n",
       "      <td>0</td>\n",
       "    </tr>\n",
       "    <tr>\n",
       "      <th>1</th>\n",
       "      <td>359.0</td>\n",
       "      <td>Perlin</td>\n",
       "      <td>PERL</td>\n",
       "      <td>7547077</td>\n",
       "      <td>0.019287</td>\n",
       "      <td>23506334</td>\n",
       "      <td>0.79</td>\n",
       "      <td>1.16</td>\n",
       "      <td>-8.86</td>\n",
       "      <td>Singapore</td>\n",
       "      <td>...</td>\n",
       "      <td>2017-09-28 03:00:00</td>\n",
       "      <td>49</td>\n",
       "      <td>0</td>\n",
       "      <td>0.817167</td>\n",
       "      <td>0.053167</td>\n",
       "      <td>0.830500</td>\n",
       "      <td>0.116000</td>\n",
       "      <td>6.0</td>\n",
       "      <td>367.0</td>\n",
       "      <td>0</td>\n",
       "    </tr>\n",
       "  </tbody>\n",
       "</table>\n",
       "<p>2 rows × 27 columns</p>\n",
       "</div>"
      ],
      "text/plain": [
       "   rank_cnc     Name Ticker  market_cap     price  volume24  pct1h  pct24h  \\\n",
       "0      35.0       0x    ZRX   210898190  0.731445    195643   0.29   -1.20   \n",
       "1     359.0   Perlin   PERL     7547077  0.019287  23506334   0.79    1.16   \n",
       "\n",
       "   pct7d                   country  ...                Start Duration  \\\n",
       "0  -4.96  United States of America  ...  2017-08-15 00:00:00       31   \n",
       "1  -8.86                 Singapore  ...  2017-09-28 03:00:00       49   \n",
       "\n",
       "  pre_Duration  compound  negative   neutral  positive no_of_posts  Longevity  \\\n",
       "0            0 -0.115233  0.022333  0.029333  0.948333         3.0      364.0   \n",
       "1            0  0.817167  0.053167  0.830500  0.116000         6.0      367.0   \n",
       "\n",
       "   success_PCA  \n",
       "0            0  \n",
       "1            0  \n",
       "\n",
       "[2 rows x 27 columns]"
      ]
     },
     "execution_count": 114,
     "metadata": {},
     "output_type": "execute_result"
    }
   ],
   "source": [
    "df.head(2)"
   ]
  },
  {
   "cell_type": "code",
   "execution_count": 115,
   "metadata": {},
   "outputs": [
    {
     "data": {
      "text/plain": [
       "(535, 27)"
      ]
     },
     "execution_count": 115,
     "metadata": {},
     "output_type": "execute_result"
    }
   ],
   "source": [
    "df.shape"
   ]
  },
  {
   "cell_type": "code",
   "execution_count": 116,
   "metadata": {},
   "outputs": [
    {
     "data": {
      "text/plain": [
       "Index(['rank_cnc', 'Name', 'Ticker', 'market_cap', 'price', 'volume24',\n",
       "       'pct1h', 'pct24h', 'pct7d', 'country', 'platform', 'pre_ico_end',\n",
       "       'pre_ico_start', 'rating', 'status', 'type', 'End', 'Start', 'Duration',\n",
       "       'pre_Duration', 'compound', 'negative', 'neutral', 'positive',\n",
       "       'no_of_posts', 'Longevity', 'success_PCA'],\n",
       "      dtype='object')"
      ]
     },
     "execution_count": 116,
     "metadata": {},
     "output_type": "execute_result"
    }
   ],
   "source": [
    "df.columns"
   ]
  },
  {
   "cell_type": "code",
   "execution_count": 125,
   "metadata": {},
   "outputs": [],
   "source": [
    "X = df.drop(columns = ['Name','Ticker','country','platform','status','type','pre_ico_end','pre_ico_start','End','Start', 'pre_Duration','success_PCA'])"
   ]
  },
  {
   "cell_type": "code",
   "execution_count": 126,
   "metadata": {},
   "outputs": [
    {
     "data": {
      "text/plain": [
       "Index(['rank_cnc', 'market_cap', 'price', 'volume24', 'pct1h', 'pct24h',\n",
       "       'pct7d', 'rating', 'Duration', 'compound', 'negative', 'neutral',\n",
       "       'positive', 'no_of_posts', 'Longevity'],\n",
       "      dtype='object')"
      ]
     },
     "execution_count": 126,
     "metadata": {},
     "output_type": "execute_result"
    }
   ],
   "source": [
    "X.columns"
   ]
  },
  {
   "cell_type": "code",
   "execution_count": 127,
   "metadata": {},
   "outputs": [
    {
     "data": {
      "text/plain": [
       "(535, 15)"
      ]
     },
     "execution_count": 127,
     "metadata": {},
     "output_type": "execute_result"
    }
   ],
   "source": [
    "X = X.values\n",
    "X.shape"
   ]
  },
  {
   "cell_type": "code",
   "execution_count": 128,
   "metadata": {},
   "outputs": [
    {
     "data": {
      "text/plain": [
       "(535,)"
      ]
     },
     "execution_count": 128,
     "metadata": {},
     "output_type": "execute_result"
    }
   ],
   "source": [
    "y = df[\"success_PCA\"].values\n",
    "y.shape"
   ]
  },
  {
   "cell_type": "code",
   "execution_count": null,
   "metadata": {},
   "outputs": [],
   "source": []
  },
  {
   "cell_type": "code",
   "execution_count": 129,
   "metadata": {},
   "outputs": [],
   "source": [
    "# Scale the data\n",
    "from sklearn.preprocessing import StandardScaler\n",
    "\n",
    "scaler = StandardScaler().fit(X)\n",
    "X = scaler.transform(X)"
   ]
  },
  {
   "cell_type": "code",
   "execution_count": 130,
   "metadata": {},
   "outputs": [],
   "source": [
    "# Define the model - shallow neural network\n",
    "nn = Sequential()\n",
    "\n",
    "# Hidden layer\n",
    "nn.add(Dense(units=8, input_dim=15, activation=\"relu\"))\n",
    "\n",
    "# Output layer\n",
    "nn.add(Dense(units=1, activation=\"linear\"))"
   ]
  },
  {
   "cell_type": "code",
   "execution_count": 131,
   "metadata": {},
   "outputs": [],
   "source": [
    "# Compile the model\n",
    "nn.compile(loss=\"mean_squared_error\", optimizer=\"adam\", metrics=[\"mse\"])\n",
    "\n",
    "# Fit the model\n",
    "model = nn.fit(X, y, epochs=1000, verbose=0)"
   ]
  },
  {
   "cell_type": "code",
   "execution_count": 132,
   "metadata": {},
   "outputs": [],
   "source": [
    "# Save model as JSON\n",
    "nn_json = nn.to_json()\n",
    "\n",
    "file_path = Path(\"../NN_model/model_PCA_test_nn.json\")\n",
    "\n",
    "with open(file_path, \"w\") as json_file:\n",
    "    json_file.write(nn_json)\n",
    "\n",
    "# Save weights\n",
    "file_path = Path(\"../NN_model/model_PCA_test_nn.h5\")\n",
    "nn.save_weights(file_path)"
   ]
  },
  {
   "cell_type": "code",
   "execution_count": 133,
   "metadata": {},
   "outputs": [],
   "source": [
    "# Load the saved model to make predictions\n",
    "from tensorflow.keras.models import model_from_json\n",
    "\n",
    "# load json and create model\n",
    "file_path = Path(\"../NN_model/model_PCA_test_nn.json\")\n",
    "\n",
    "with open(file_path, \"r\") as json_file:\n",
    "    model_json = json_file.read()\n",
    "    \n",
    "loaded_model = model_from_json(model_json)\n",
    "\n",
    "# load weights into new model\n",
    "file_path = Path(\"../NN_model/model_PCA_test_nn.h5\")\n",
    "loaded_model.load_weights(\"../NN_model/model_PCA_test_nn.h5\")"
   ]
  },
  {
   "cell_type": "code",
   "execution_count": 134,
   "metadata": {},
   "outputs": [
    {
     "data": {
      "text/html": [
       "<div>\n",
       "<style scoped>\n",
       "    .dataframe tbody tr th:only-of-type {\n",
       "        vertical-align: middle;\n",
       "    }\n",
       "\n",
       "    .dataframe tbody tr th {\n",
       "        vertical-align: top;\n",
       "    }\n",
       "\n",
       "    .dataframe thead th {\n",
       "        text-align: right;\n",
       "    }\n",
       "</style>\n",
       "<table border=\"1\" class=\"dataframe\">\n",
       "  <thead>\n",
       "    <tr style=\"text-align: right;\">\n",
       "      <th></th>\n",
       "      <th>rank_cnc</th>\n",
       "      <th>Name</th>\n",
       "      <th>Ticker</th>\n",
       "      <th>market_cap</th>\n",
       "      <th>price</th>\n",
       "      <th>volume24</th>\n",
       "      <th>pct1h</th>\n",
       "      <th>pct24h</th>\n",
       "      <th>pct7d</th>\n",
       "      <th>country</th>\n",
       "      <th>...</th>\n",
       "      <th>Duration</th>\n",
       "      <th>pre_Duration</th>\n",
       "      <th>compound</th>\n",
       "      <th>negative</th>\n",
       "      <th>neutral</th>\n",
       "      <th>positive</th>\n",
       "      <th>no_of_posts</th>\n",
       "      <th>Longevity</th>\n",
       "      <th>success_PCA</th>\n",
       "      <th>predicted_NN</th>\n",
       "    </tr>\n",
       "  </thead>\n",
       "  <tbody>\n",
       "    <tr>\n",
       "      <th>78</th>\n",
       "      <td>8.0</td>\n",
       "      <td>Cardano</td>\n",
       "      <td>ADA</td>\n",
       "      <td>3214893394</td>\n",
       "      <td>3.420000</td>\n",
       "      <td>1735988258</td>\n",
       "      <td>0.11</td>\n",
       "      <td>-1.49</td>\n",
       "      <td>-2.55</td>\n",
       "      <td>Switzerland</td>\n",
       "      <td>...</td>\n",
       "      <td>350</td>\n",
       "      <td>0</td>\n",
       "      <td>0.828470</td>\n",
       "      <td>0.032200</td>\n",
       "      <td>0.858550</td>\n",
       "      <td>0.109270</td>\n",
       "      <td>100.0</td>\n",
       "      <td>522.0</td>\n",
       "      <td>1</td>\n",
       "      <td>0.822949</td>\n",
       "    </tr>\n",
       "    <tr>\n",
       "      <th>404</th>\n",
       "      <td>22.0</td>\n",
       "      <td>Ethereum Classic</td>\n",
       "      <td>ETC</td>\n",
       "      <td>632251075</td>\n",
       "      <td>69.070000</td>\n",
       "      <td>346367843</td>\n",
       "      <td>-0.12</td>\n",
       "      <td>-1.18</td>\n",
       "      <td>-5.06</td>\n",
       "      <td>NaN</td>\n",
       "      <td>...</td>\n",
       "      <td>0</td>\n",
       "      <td>0</td>\n",
       "      <td>0.663146</td>\n",
       "      <td>0.102770</td>\n",
       "      <td>0.025100</td>\n",
       "      <td>0.872110</td>\n",
       "      <td>100.0</td>\n",
       "      <td>779.0</td>\n",
       "      <td>1</td>\n",
       "      <td>1.022269</td>\n",
       "    </tr>\n",
       "    <tr>\n",
       "      <th>438</th>\n",
       "      <td>23.0</td>\n",
       "      <td>Basic Attenti...</td>\n",
       "      <td>BAT</td>\n",
       "      <td>547458892</td>\n",
       "      <td>4.760000</td>\n",
       "      <td>642121534</td>\n",
       "      <td>-0.20</td>\n",
       "      <td>-2.10</td>\n",
       "      <td>-9.16</td>\n",
       "      <td>United States of America</td>\n",
       "      <td>...</td>\n",
       "      <td>0</td>\n",
       "      <td>0</td>\n",
       "      <td>0.377329</td>\n",
       "      <td>0.079930</td>\n",
       "      <td>0.037850</td>\n",
       "      <td>0.882180</td>\n",
       "      <td>100.0</td>\n",
       "      <td>779.0</td>\n",
       "      <td>1</td>\n",
       "      <td>0.944530</td>\n",
       "    </tr>\n",
       "    <tr>\n",
       "      <th>481</th>\n",
       "      <td>7.0</td>\n",
       "      <td>EOS</td>\n",
       "      <td>EOS</td>\n",
       "      <td>3277372658</td>\n",
       "      <td>21.070000</td>\n",
       "      <td>231846713</td>\n",
       "      <td>-0.46</td>\n",
       "      <td>-1.33</td>\n",
       "      <td>2.49</td>\n",
       "      <td>Cayman Islands</td>\n",
       "      <td>...</td>\n",
       "      <td>20</td>\n",
       "      <td>0</td>\n",
       "      <td>0.563773</td>\n",
       "      <td>0.096670</td>\n",
       "      <td>0.041410</td>\n",
       "      <td>0.861890</td>\n",
       "      <td>100.0</td>\n",
       "      <td>848.0</td>\n",
       "      <td>1</td>\n",
       "      <td>0.945958</td>\n",
       "    </tr>\n",
       "    <tr>\n",
       "      <th>524</th>\n",
       "      <td>13.0</td>\n",
       "      <td>Huobi Token</td>\n",
       "      <td>HT</td>\n",
       "      <td>1105888653</td>\n",
       "      <td>0.042654</td>\n",
       "      <td>53437224</td>\n",
       "      <td>-0.50</td>\n",
       "      <td>-1.72</td>\n",
       "      <td>-2.12</td>\n",
       "      <td>Seychelles</td>\n",
       "      <td>...</td>\n",
       "      <td>488</td>\n",
       "      <td>0</td>\n",
       "      <td>0.589474</td>\n",
       "      <td>0.098387</td>\n",
       "      <td>0.032946</td>\n",
       "      <td>0.868753</td>\n",
       "      <td>93.0</td>\n",
       "      <td>1049.0</td>\n",
       "      <td>1</td>\n",
       "      <td>0.960800</td>\n",
       "    </tr>\n",
       "  </tbody>\n",
       "</table>\n",
       "<p>5 rows × 28 columns</p>\n",
       "</div>"
      ],
      "text/plain": [
       "     rank_cnc               Name Ticker  market_cap      price    volume24  \\\n",
       "78        8.0            Cardano    ADA  3214893394   3.420000  1735988258   \n",
       "404      22.0   Ethereum Classic    ETC   632251075  69.070000   346367843   \n",
       "438      23.0   Basic Attenti...    BAT   547458892   4.760000   642121534   \n",
       "481       7.0                EOS    EOS  3277372658  21.070000   231846713   \n",
       "524      13.0        Huobi Token     HT  1105888653   0.042654    53437224   \n",
       "\n",
       "     pct1h  pct24h  pct7d                   country  ... Duration  \\\n",
       "78    0.11   -1.49  -2.55               Switzerland  ...      350   \n",
       "404  -0.12   -1.18  -5.06                       NaN  ...        0   \n",
       "438  -0.20   -2.10  -9.16  United States of America  ...        0   \n",
       "481  -0.46   -1.33   2.49            Cayman Islands  ...       20   \n",
       "524  -0.50   -1.72  -2.12                Seychelles  ...      488   \n",
       "\n",
       "    pre_Duration  compound  negative   neutral  positive no_of_posts  \\\n",
       "78             0  0.828470  0.032200  0.858550  0.109270       100.0   \n",
       "404            0  0.663146  0.102770  0.025100  0.872110       100.0   \n",
       "438            0  0.377329  0.079930  0.037850  0.882180       100.0   \n",
       "481            0  0.563773  0.096670  0.041410  0.861890       100.0   \n",
       "524            0  0.589474  0.098387  0.032946  0.868753        93.0   \n",
       "\n",
       "    Longevity  success_PCA  predicted_NN  \n",
       "78      522.0            1      0.822949  \n",
       "404     779.0            1      1.022269  \n",
       "438     779.0            1      0.944530  \n",
       "481     848.0            1      0.945958  \n",
       "524    1049.0            1      0.960800  \n",
       "\n",
       "[5 rows x 28 columns]"
      ]
     },
     "execution_count": 134,
     "metadata": {},
     "output_type": "execute_result"
    }
   ],
   "source": [
    "df[\"predicted_NN\"] = loaded_model.predict(X)\n",
    "df.iloc[df.index[df['success_PCA'] == 1].tolist()]"
   ]
  },
  {
   "cell_type": "code",
   "execution_count": 135,
   "metadata": {},
   "outputs": [
    {
     "data": {
      "text/plain": [
       "0.011442810297012329"
      ]
     },
     "execution_count": 135,
     "metadata": {},
     "output_type": "execute_result"
    }
   ],
   "source": [
    "df['predicted_NN'].mean()"
   ]
  },
  {
   "cell_type": "code",
   "execution_count": 136,
   "metadata": {},
   "outputs": [
    {
     "data": {
      "image/png": "[encoded data removed]",
      "text/plain": [
       "<Figure size 432x288 with 1 Axes>"
      ]
     },
     "metadata": {
      "needs_background": "light"
     },
     "output_type": "display_data"
    }
   ],
   "source": [
    "plt.plot(model.history[\"loss\"])\n",
    "plt.title(\"loss_function - Training - 1 hidden layer\")\n",
    "plt.legend([\"1 hidden layer\"])\n",
    "plt.show()\n",
    "#This was after I dropped the custom index"
   ]
  },
  {
   "cell_type": "code",
   "execution_count": 137,
   "metadata": {},
   "outputs": [
    {
     "data": {
      "text/plain": [
       "3.3703136299851037e-05"
      ]
     },
     "execution_count": 137,
     "metadata": {},
     "output_type": "execute_result"
    }
   ],
   "source": [
    "min(model.history[\"loss\"])"
   ]
  },
  {
   "cell_type": "code",
   "execution_count": 138,
   "metadata": {},
   "outputs": [],
   "source": [
    "file_path = Path(\"../../../../data/cleandata/success_NN_1H_testICO_df.csv\")\n",
    "df.to_csv(file_path, index=False)"
   ]
  },
  {
   "cell_type": "markdown",
   "metadata": {},
   "source": [
    "# Time to predict using the 360 day ICOs"
   ]
  },
  {
   "cell_type": "code",
   "execution_count": 139,
   "metadata": {},
   "outputs": [],
   "source": [
    "file_path2 = Path(\"../../../../data/cleandata/test_and_post_ico/ico_360days_df.csv\")\n",
    "ico_360 = pd.read_csv(file_path2)"
   ]
  },
  {
   "cell_type": "code",
   "execution_count": 140,
   "metadata": {},
   "outputs": [],
   "source": [
    "# Load the saved model to make predictions\n",
    "from tensorflow.keras.models import model_from_json\n",
    "\n",
    "# load json and create model\n",
    "file_path = Path(\"../NN_model/model_PCA_test_nn.json\")\n",
    "\n",
    "with open(file_path, \"r\") as json_file:\n",
    "    model_json = json_file.read()\n",
    "    \n",
    "loaded_model = model_from_json(model_json)\n",
    "\n",
    "# load weights into new model\n",
    "file_path = Path(\"../NN_model/model_PCA_test_nn.h5\")\n",
    "loaded_model.load_weights(\"../NN_model/model_PCA_test_nn.h5\")"
   ]
  },
  {
   "cell_type": "code",
   "execution_count": 141,
   "metadata": {},
   "outputs": [
    {
     "data": {
      "text/plain": [
       "Index(['rank_cnc', 'Name', 'Ticker', 'market_cap', 'price', 'volume24',\n",
       "       'pct1h', 'pct24h', 'pct7d', 'country', 'platform', 'pre_ico_end',\n",
       "       'pre_ico_start', 'rating', 'status', 'type', 'End', 'Start', 'Duration',\n",
       "       'pre_Duration', 'compound', 'negative', 'neutral', 'positive',\n",
       "       'no_of_posts', 'Longevity', 'custom_index', 'custom_index_scaled',\n",
       "       'success_index', 'success_PCA', 'predicted_NN'],\n",
       "      dtype='object')"
      ]
     },
     "execution_count": 141,
     "metadata": {},
     "output_type": "execute_result"
    }
   ],
   "source": [
    "ico_360.columns"
   ]
  },
  {
   "cell_type": "code",
   "execution_count": 145,
   "metadata": {},
   "outputs": [
    {
     "data": {
      "text/plain": [
       "(36, 15)"
      ]
     },
     "execution_count": 145,
     "metadata": {},
     "output_type": "execute_result"
    }
   ],
   "source": [
    "X = ico_360[['rank_cnc', 'market_cap', 'price', 'volume24', 'pct1h', 'pct24h','pct7d', 'rating', 'Duration', 'compound', 'negative', 'neutral','positive', 'no_of_posts', 'Longevity']].values\n",
    "X.shape"
   ]
  },
  {
   "cell_type": "code",
   "execution_count": 146,
   "metadata": {},
   "outputs": [],
   "source": [
    "ico_360[\"Success_Index\"] = loaded_model.predict(X)"
   ]
  },
  {
   "cell_type": "code",
   "execution_count": 148,
   "metadata": {},
   "outputs": [],
   "source": [
    "ico_360.drop(columns = ['predicted_NN','success_PCA','success_index','custom_index','custom_index_scaled'], inplace = True)"
   ]
  },
  {
   "cell_type": "code",
   "execution_count": 149,
   "metadata": {
    "collapsed": true,
    "jupyter": {
     "outputs_hidden": true
    }
   },
   "outputs": [],
   "source": [
    "ico_360"
   ]
  },
  {
   "cell_type": "code",
   "execution_count": 149,
   "metadata": {
    "collapsed": true,
    "jupyter": {
     "outputs_hidden": true
    }
   },
   "outputs": [],
   "source": []
  },
  {
   "cell_type": "code",
   "execution_count": 5,
   "metadata": {},
   "outputs": [],
   "source": []
  },
  {
   "cell_type": "code",
   "execution_count": 6,
   "metadata": {},
   "outputs": [],
   "source": [
    "scaler = preprocessing.MinMaxScaler()"
   ]
  },
  {
   "cell_type": "code",
   "execution_count": 7,
   "metadata": {},
   "outputs": [],
   "source": [
    "scaled_index = scaler.fit_transform(ico_360[['Success_Index']])"
   ]
  },
  {
   "cell_type": "code",
   "execution_count": 9,
   "metadata": {},
   "outputs": [
    {
     "data": {
      "text/plain": [
       "array([[0.11028202],\n",
       "       [0.11023023],\n",
       "       [1.        ],\n",
       "       [0.11009409],\n",
       "       [0.11017737],\n",
       "       [0.10938136],\n",
       "       [0.11403253],\n",
       "       [0.2312912 ],\n",
       "       [0.12776755],\n",
       "       [0.10990553],\n",
       "       [0.11113208],\n",
       "       [0.1080885 ],\n",
       "       [0.15503961],\n",
       "       [0.10846057],\n",
       "       [0.        ],\n",
       "       [0.10967755],\n",
       "       [0.10495522],\n",
       "       [0.08066181],\n",
       "       [0.11025659],\n",
       "       [0.11022325],\n",
       "       [0.11031342],\n",
       "       [0.11005346],\n",
       "       [0.11029666],\n",
       "       [0.11007507],\n",
       "       [0.1111309 ],\n",
       "       [0.11026623],\n",
       "       [0.1077558 ],\n",
       "       [0.10775055],\n",
       "       [0.11054204],\n",
       "       [0.10560236],\n",
       "       [0.10680545],\n",
       "       [0.10850633],\n",
       "       [0.19486845],\n",
       "       [0.10986413],\n",
       "       [0.0922033 ],\n",
       "       [0.11061201]])"
      ]
     },
     "execution_count": 9,
     "metadata": {},
     "output_type": "execute_result"
    }
   ],
   "source": [
    "scaled_index"
   ]
  },
  {
   "cell_type": "code",
   "execution_count": 10,
   "metadata": {},
   "outputs": [],
   "source": [
    "ico_360[['Success_Index']] = scaled_index"
   ]
  },
  {
   "cell_type": "code",
   "execution_count": 12,
   "metadata": {},
   "outputs": [],
   "source": [
    "file_path = Path(\"../../../../data/cleandata/Final_success_NN_1H_ICO360_df.csv\")\n",
    "ico_360.to_csv(file_path, index=False)"
   ]
  },
  {
   "cell_type": "code",
   "execution_count": null,
   "metadata": {},
   "outputs": [],
   "source": []
  }
 ],
 "metadata": {
  "kernelspec": {
   "display_name": "Python 3",
   "language": "python",
   "name": "python3"
  },
  "language_info": {
   "codemirror_mode": {
    "name": "ipython",
    "version": 3
   },
   "file_extension": ".py",
   "mimetype": "text/x-python",
   "name": "python",
   "nbconvert_exporter": "python",
   "pygments_lexer": "ipython3",
   "version": "3.7.3"
  }
 },
 "nbformat": 4,
 "nbformat_minor": 4
}
