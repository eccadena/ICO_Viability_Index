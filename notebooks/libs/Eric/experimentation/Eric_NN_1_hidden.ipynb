{
 "cells": [
  {
   "cell_type": "markdown",
   "metadata": {},
   "source": [
    "# Attempt at NN"
   ]
  },
  {
   "cell_type": "code",
   "execution_count": 1,
   "metadata": {},
   "outputs": [],
   "source": [
    "from tensorflow.keras.models import Sequential\n",
    "from tensorflow.keras.layers import Dense\n",
    "from path import Path\n",
    "import pandas as pd\n",
    "import matplotlib.pyplot as plt\n",
    "from sklearn.preprocessing import StandardScaler\n",
    "import numpy as np\n",
    "from sklearn import preprocessing\n",
    "from sklearn.model_selection import train_test_split\n",
    "\n",
    "%load_ext autotime"
   ]
  },
  {
   "cell_type": "code",
   "execution_count": 2,
   "metadata": {},
   "outputs": [
    {
     "name": "stdout",
     "output_type": "stream",
     "text": [
      "time: 1 ms\n"
     ]
    }
   ],
   "source": [
    "# Set the random seed for reproducibility\n",
    "# Note: This is for the homework solution, but it is good practice to comment this out and run multiple experiments to evaluate your model\n",
    "from numpy.random import seed\n",
    "seed(1)\n",
    "from tensorflow import random\n",
    "random.set_seed(2)"
   ]
  },
  {
   "cell_type": "code",
   "execution_count": 32,
   "metadata": {},
   "outputs": [],
   "source": [
    "file_path = Path(\"../../../../data/cleandata/test_and_post_ico/ico_test_df.csv\")\n",
    "test_icos = pd.read_csv(file_path)"
   ]
  },
  {
   "cell_type": "code",
   "execution_count": 50,
   "metadata": {},
   "outputs": [
    {
     "name": "stdout",
     "output_type": "stream",
     "text": [
      "time: 4 ms\n"
     ]
    }
   ],
   "source": [
    "mean_custom_index = list(test_icos[['custom_index_scaled']].mean())[0]"
   ]
  },
  {
   "cell_type": "code",
   "execution_count": 52,
   "metadata": {},
   "outputs": [
    {
     "name": "stdout",
     "output_type": "stream",
     "text": [
      "time: 570 ms\n"
     ]
    }
   ],
   "source": [
    "success = pd.DataFrame()\n",
    "for i in range(len(test_icos)) : \n",
    "        #print(str(df.at[i,\"pre_Duration\"])[:-24])\n",
    "        if test_icos.at[i, 'custom_index_scaled'] > mean_custom_index:\n",
    "            success.at[i,'success'] = 1\n",
    "        else:\n",
    "            success.at[i,'success'] = 0"
   ]
  },
  {
   "cell_type": "code",
   "execution_count": 59,
   "metadata": {},
   "outputs": [
    {
     "data": {
      "text/plain": [
       "0.0    522\n",
       "1.0     13\n",
       "Name: success, dtype: int64"
      ]
     },
     "execution_count": 59,
     "metadata": {},
     "output_type": "execute_result"
    },
    {
     "name": "stdout",
     "output_type": "stream",
     "text": [
      "time: 8 ms\n"
     ]
    }
   ],
   "source": [
    "success['success'].value_counts()"
   ]
  },
  {
   "cell_type": "code",
   "execution_count": 3,
   "metadata": {},
   "outputs": [
    {
     "name": "stdout",
     "output_type": "stream",
     "text": [
      "time: 23 ms\n"
     ]
    }
   ],
   "source": [
    "file_path = Path(\"../../../../data/cleandata/1hot_merged_post_ICO.csv\")\n",
    "df = pd.read_csv(file_path)"
   ]
  },
  {
   "cell_type": "code",
   "execution_count": 61,
   "metadata": {},
   "outputs": [],
   "source": [
    "df['success'] = success"
   ]
  },
  {
   "cell_type": "code",
   "execution_count": 76,
   "metadata": {},
   "outputs": [],
   "source": [
    "np.where(pd.isnull(df))"
   ]
  },
  {
   "cell_type": "code",
   "execution_count": 77,
   "metadata": {},
   "outputs": [
    {
     "name": "stdout",
     "output_type": "stream",
     "text": [
      "time: 3 ms\n"
     ]
    }
   ],
   "source": [
    "df.fillna(0, inplace= True)"
   ]
  },
  {
   "cell_type": "code",
   "execution_count": 78,
   "metadata": {},
   "outputs": [
    {
     "data": {
      "text/plain": [
       "(537, 98)"
      ]
     },
     "execution_count": 78,
     "metadata": {},
     "output_type": "execute_result"
    },
    {
     "name": "stdout",
     "output_type": "stream",
     "text": [
      "time: 2 ms\n"
     ]
    }
   ],
   "source": [
    "df.shape"
   ]
  },
  {
   "cell_type": "code",
   "execution_count": 79,
   "metadata": {},
   "outputs": [
    {
     "data": {
      "text/plain": [
       "Index(['Name', 'Ticker', 'Duration', 'pre_Duration', 'compound', 'negative',\n",
       "       'neutral', 'positive', 'no_of_posts', 'Longevity', 'success',\n",
       "       'Twitter_Compound', 'Twitter_Negative', 'Twitter_Neutral',\n",
       "       'Twitter_Positive', 'country_Argentina', 'country_Armenia',\n",
       "       'country_Australia', 'country_Austria', 'country_Azerbaijan',\n",
       "       'country_Bahamas', 'country_Belarus', 'country_Belgium',\n",
       "       'country_Belize', 'country_British Indian Ocean Territory',\n",
       "       'country_Bulgaria', 'country_Cambodia', 'country_Canada',\n",
       "       'country_Cayman Islands', 'country_China', 'country_Costa Rica',\n",
       "       'country_Cyprus', 'country_Czech Republic', 'country_Denmark',\n",
       "       'country_Estonia', 'country_Finland', 'country_France',\n",
       "       'country_Germany', 'country_Gibraltar', 'country_Hong Kong',\n",
       "       'country_Ireland', 'country_Isle of Man', 'country_Israel',\n",
       "       'country_Japan', 'country_Kenya', 'country_Kyrgyzstan', 'country_Laos',\n",
       "       'country_Latvia', 'country_Liechtenstein', 'country_Lithuania',\n",
       "       'country_Luxembourg', 'country_Malaysia', 'country_Malta',\n",
       "       'country_Marshall Islands', 'country_Mexico', 'country_Netherlands',\n",
       "       'country_New Caledonia', 'country_New Zealand', 'country_Nigeria',\n",
       "       'country_Panama', 'country_Poland', 'country_Portugal',\n",
       "       'country_Romania', 'country_Russia', 'country_Saint Kitts and Nevis',\n",
       "       'country_Seychelles', 'country_Singapore', 'country_Slovenia',\n",
       "       'country_South Africa', 'country_South Korea', 'country_Spain',\n",
       "       'country_Sweden', 'country_Switzerland', 'country_Taiwan',\n",
       "       'country_Thailand', 'country_Turkey', 'country_Ukraine',\n",
       "       'country_United Arab Emirates', 'country_United Kingdom',\n",
       "       'country_United States of America', 'country_Virgin Islands (British)',\n",
       "       'platform_Bitcoin', 'platform_Bitshares', 'platform_Blockchain',\n",
       "       'platform_DAG', 'platform_EOS', 'platform_Ethereum',\n",
       "       'platform_Graphene', 'platform_Hyperledger', 'platform_Litecoin',\n",
       "       'platform_NEM', 'platform_NEO', 'platform_Nxt', 'platform_Omni',\n",
       "       'platform_Own Blockchain', 'platform_Scrypt', 'platform_Stellar',\n",
       "       'platform_Waves'],\n",
       "      dtype='object')"
      ]
     },
     "execution_count": 79,
     "metadata": {},
     "output_type": "execute_result"
    },
    {
     "name": "stdout",
     "output_type": "stream",
     "text": [
      "time: 3.99 ms\n"
     ]
    }
   ],
   "source": [
    "df.columns"
   ]
  },
  {
   "cell_type": "code",
   "execution_count": 80,
   "metadata": {},
   "outputs": [
    {
     "name": "stdout",
     "output_type": "stream",
     "text": [
      "time: 2.02 ms\n"
     ]
    }
   ],
   "source": [
    "X = df.drop(columns = ['Ticker','Name'])"
   ]
  },
  {
   "cell_type": "code",
   "execution_count": 81,
   "metadata": {},
   "outputs": [
    {
     "data": {
      "text/plain": [
       "Index(['Duration', 'pre_Duration', 'compound', 'negative', 'neutral',\n",
       "       'positive', 'no_of_posts', 'Longevity', 'success', 'Twitter_Compound',\n",
       "       'Twitter_Negative', 'Twitter_Neutral', 'Twitter_Positive',\n",
       "       'country_Argentina', 'country_Armenia', 'country_Australia',\n",
       "       'country_Austria', 'country_Azerbaijan', 'country_Bahamas',\n",
       "       'country_Belarus', 'country_Belgium', 'country_Belize',\n",
       "       'country_British Indian Ocean Territory', 'country_Bulgaria',\n",
       "       'country_Cambodia', 'country_Canada', 'country_Cayman Islands',\n",
       "       'country_China', 'country_Costa Rica', 'country_Cyprus',\n",
       "       'country_Czech Republic', 'country_Denmark', 'country_Estonia',\n",
       "       'country_Finland', 'country_France', 'country_Germany',\n",
       "       'country_Gibraltar', 'country_Hong Kong', 'country_Ireland',\n",
       "       'country_Isle of Man', 'country_Israel', 'country_Japan',\n",
       "       'country_Kenya', 'country_Kyrgyzstan', 'country_Laos', 'country_Latvia',\n",
       "       'country_Liechtenstein', 'country_Lithuania', 'country_Luxembourg',\n",
       "       'country_Malaysia', 'country_Malta', 'country_Marshall Islands',\n",
       "       'country_Mexico', 'country_Netherlands', 'country_New Caledonia',\n",
       "       'country_New Zealand', 'country_Nigeria', 'country_Panama',\n",
       "       'country_Poland', 'country_Portugal', 'country_Romania',\n",
       "       'country_Russia', 'country_Saint Kitts and Nevis', 'country_Seychelles',\n",
       "       'country_Singapore', 'country_Slovenia', 'country_South Africa',\n",
       "       'country_South Korea', 'country_Spain', 'country_Sweden',\n",
       "       'country_Switzerland', 'country_Taiwan', 'country_Thailand',\n",
       "       'country_Turkey', 'country_Ukraine', 'country_United Arab Emirates',\n",
       "       'country_United Kingdom', 'country_United States of America',\n",
       "       'country_Virgin Islands (British)', 'platform_Bitcoin',\n",
       "       'platform_Bitshares', 'platform_Blockchain', 'platform_DAG',\n",
       "       'platform_EOS', 'platform_Ethereum', 'platform_Graphene',\n",
       "       'platform_Hyperledger', 'platform_Litecoin', 'platform_NEM',\n",
       "       'platform_NEO', 'platform_Nxt', 'platform_Omni',\n",
       "       'platform_Own Blockchain', 'platform_Scrypt', 'platform_Stellar',\n",
       "       'platform_Waves'],\n",
       "      dtype='object')"
      ]
     },
     "execution_count": 81,
     "metadata": {},
     "output_type": "execute_result"
    },
    {
     "name": "stdout",
     "output_type": "stream",
     "text": [
      "time: 4 ms\n"
     ]
    }
   ],
   "source": [
    "X.columns"
   ]
  },
  {
   "cell_type": "code",
   "execution_count": 82,
   "metadata": {},
   "outputs": [
    {
     "data": {
      "text/plain": [
       "(537,)"
      ]
     },
     "execution_count": 82,
     "metadata": {},
     "output_type": "execute_result"
    },
    {
     "name": "stdout",
     "output_type": "stream",
     "text": [
      "time: 3.98 ms\n"
     ]
    }
   ],
   "source": [
    "y = df[\"success\"].values\n",
    "y.shape"
   ]
  },
  {
   "cell_type": "code",
   "execution_count": 83,
   "metadata": {},
   "outputs": [
    {
     "data": {
      "text/plain": [
       "(537, 96)"
      ]
     },
     "execution_count": 83,
     "metadata": {},
     "output_type": "execute_result"
    },
    {
     "name": "stdout",
     "output_type": "stream",
     "text": [
      "time: 4 ms\n"
     ]
    }
   ],
   "source": [
    "X = X.values\n",
    "X.shape"
   ]
  },
  {
   "cell_type": "code",
   "execution_count": 84,
   "metadata": {},
   "outputs": [
    {
     "name": "stdout",
     "output_type": "stream",
     "text": [
      "time: 2 ms\n"
     ]
    }
   ],
   "source": [
    "X_train, X_test, y_train, y_test = train_test_split(X, y, random_state=1, test_size=0.33)"
   ]
  },
  {
   "cell_type": "code",
   "execution_count": 85,
   "metadata": {},
   "outputs": [
    {
     "data": {
      "text/plain": [
       "StandardScaler(copy=True, with_mean=True, with_std=True)"
      ]
     },
     "execution_count": 85,
     "metadata": {},
     "output_type": "execute_result"
    },
    {
     "name": "stdout",
     "output_type": "stream",
     "text": [
      "time: 4.99 ms\n"
     ]
    }
   ],
   "source": [
    "X_scaler = StandardScaler()\n",
    "X_scaler.fit(X_train)"
   ]
  },
  {
   "cell_type": "code",
   "execution_count": 86,
   "metadata": {},
   "outputs": [
    {
     "name": "stdout",
     "output_type": "stream",
     "text": [
      "time: 3 ms\n"
     ]
    }
   ],
   "source": [
    "X_train_scaled = X_scaler.transform(X_train)\n",
    "X_test_scaled = X_scaler.transform(X_test)"
   ]
  },
  {
   "cell_type": "code",
   "execution_count": 87,
   "metadata": {},
   "outputs": [
    {
     "name": "stdout",
     "output_type": "stream",
     "text": [
      "time: 168 ms\n"
     ]
    }
   ],
   "source": [
    "# Define the model - shallow neural network\n",
    "nn = Sequential()\n",
    "\n",
    "nn.add(Dense(units=8, input_dim=96, activation='softplus'))\n",
    "\n",
    "nn.add(Dense(units=10, input_dim=96, activation='selu'))\n",
    "# Output layer\n",
    "nn.add(Dense(units=1, activation=\"sigmoid\"))"
   ]
  },
  {
   "cell_type": "code",
   "execution_count": 143,
   "metadata": {},
   "outputs": [
    {
     "name": "stdout",
     "output_type": "stream",
     "text": [
      "time: 3min 47s\n"
     ]
    }
   ],
   "source": [
    "# Compile the model\n",
    "nn.compile(loss='kullback_leibler_divergence', optimizer='Adagrad', metrics=[\"mse\"])\n",
    "\n",
    "# Fit the model\n",
    "model = nn.fit(X_train_scaled, y_train, epochs=10000, verbose=0)"
   ]
  },
  {
   "cell_type": "code",
   "execution_count": 144,
   "metadata": {},
   "outputs": [
    {
     "name": "stdout",
     "output_type": "stream",
     "text": [
      "time: 30 ms\n"
     ]
    }
   ],
   "source": [
    "# Save model as JSON\n",
    "nn_json = nn.to_json()\n",
    "\n",
    "file_path = Path(\"../NN_model/model_1hot_test_nn.json\")\n",
    "\n",
    "with open(file_path, \"w\") as json_file:\n",
    "    json_file.write(nn_json)\n",
    "\n",
    "# Save weights\n",
    "file_path = Path(\"../NN_model/model_1hot_test_nn.h5\")\n",
    "nn.save_weights(file_path)"
   ]
  },
  {
   "cell_type": "code",
   "execution_count": 145,
   "metadata": {},
   "outputs": [
    {
     "name": "stdout",
     "output_type": "stream",
     "text": [
      "time: 183 ms\n"
     ]
    }
   ],
   "source": [
    "# Load the saved model to make predictions\n",
    "from tensorflow.keras.models import model_from_json\n",
    "\n",
    "# load json and create model\n",
    "file_path = Path(\"../NN_model/model_1hot_test_nn.json\")\n",
    "\n",
    "with open(file_path, \"r\") as json_file:\n",
    "    model_json = json_file.read()\n",
    "    \n",
    "loaded_model = model_from_json(model_json)\n",
    "\n",
    "# load weights into new model\n",
    "file_path = Path(\"../NN_model/model_1hot_test_nn.h5\")\n",
    "loaded_model.load_weights(\"../NN_model/model_1hot_test_nn.h5\")"
   ]
  },
  {
   "cell_type": "code",
   "execution_count": 146,
   "metadata": {},
   "outputs": [
    {
     "name": "stdout",
     "output_type": "stream",
     "text": [
      "time: 107 ms\n"
     ]
    }
   ],
   "source": [
    "predicted = loaded_model.predict(X_test_scaled)"
   ]
  },
  {
   "cell_type": "code",
   "execution_count": 147,
   "metadata": {},
   "outputs": [
    {
     "data": {
      "text/plain": [
       "dict_keys(['loss', 'mse'])"
      ]
     },
     "execution_count": 147,
     "metadata": {},
     "output_type": "execute_result"
    },
    {
     "name": "stdout",
     "output_type": "stream",
     "text": [
      "time: 2 ms\n"
     ]
    }
   ],
   "source": [
    "model.history.keys()"
   ]
  },
  {
   "cell_type": "code",
   "execution_count": 148,
   "metadata": {},
   "outputs": [
    {
     "name": "stdout",
     "output_type": "stream",
     "text": [
      "178/1 - 0s - loss: -1.5982e-06 - mse: 0.9831\n",
      "Normal Neural Network - Loss: -1.5846430358762742e-06, Accuracy: 0.9831212759017944\n",
      "time: 223 ms\n"
     ]
    }
   ],
   "source": [
    "model_loss, model_accuracy = nn.evaluate(X_test_scaled, y_test, verbose=2)\n",
    "print(f\"Normal Neural Network - Loss: {model_loss}, Accuracy: {model_accuracy}\")"
   ]
  },
  {
   "cell_type": "code",
   "execution_count": 149,
   "metadata": {},
   "outputs": [
    {
     "data": {
      "image/png": "[encoded data removed]",
      "text/plain": [
       "<Figure size 432x288 with 1 Axes>"
      ]
     },
     "metadata": {
      "needs_background": "light"
     },
     "output_type": "display_data"
    },
    {
     "name": "stdout",
     "output_type": "stream",
     "text": [
      "time: 271 ms\n"
     ]
    }
   ],
   "source": [
    "plt.plot(model.history[\"loss\"])\n",
    "plt.title(\"loss_function - Training - 8 hidden layer\")\n",
    "plt.legend([\"1 hidden layer\"])\n",
    "plt.show()\n",
    "#This was after I dropped the custom index"
   ]
  },
  {
   "cell_type": "code",
   "execution_count": 150,
   "metadata": {},
   "outputs": [
    {
     "data": {
      "image/png": "[encoded data removed]",
      "text/plain": [
       "<Figure size 432x288 with 1 Axes>"
      ]
     },
     "metadata": {
      "needs_background": "light"
     },
     "output_type": "display_data"
    },
    {
     "name": "stdout",
     "output_type": "stream",
     "text": [
      "time: 238 ms\n"
     ]
    }
   ],
   "source": [
    "plt.plot(model.history['loss'])\n",
    "plt.plot(model.history['mse'])\n",
    "plt.title('Model loss')\n",
    "plt.ylabel('Loss')\n",
    "plt.xlabel('Epoch')\n",
    "plt.legend(['Train', 'mse'], loc='upper right')\n",
    "plt.show()"
   ]
  },
  {
   "cell_type": "code",
   "execution_count": 151,
   "metadata": {},
   "outputs": [
    {
     "data": {
      "text/plain": [
       "-1.5669106399534604e-06"
      ]
     },
     "execution_count": 151,
     "metadata": {},
     "output_type": "execute_result"
    },
    {
     "name": "stdout",
     "output_type": "stream",
     "text": [
      "time: 3.99 ms\n"
     ]
    }
   ],
   "source": [
    "min(model.history[\"loss\"])"
   ]
  },
  {
   "cell_type": "code",
   "execution_count": 95,
   "metadata": {},
   "outputs": [
    {
     "name": "stdout",
     "output_type": "stream",
     "text": [
      "Error in callback <function LineWatcher.stop at 0x0000029DB8797E18> (for post_run_cell):\n"
     ]
    },
    {
     "ename": "AssertionError",
     "evalue": "",
     "output_type": "error",
     "traceback": [
      "\u001b[1;31m---------------------------------------------------------------------------\u001b[0m",
      "\u001b[1;31mAssertionError\u001b[0m                            Traceback (most recent call last)",
      "\u001b[1;32m~\\Anaconda3\\lib\\site-packages\\backcall\\backcall.py\u001b[0m in \u001b[0;36madapted\u001b[1;34m(*args, **kwargs)\u001b[0m\n\u001b[0;32m    102\u001b[0m                 \u001b[0mkwargs\u001b[0m\u001b[1;33m.\u001b[0m\u001b[0mpop\u001b[0m\u001b[1;33m(\u001b[0m\u001b[0mname\u001b[0m\u001b[1;33m)\u001b[0m\u001b[1;33m\u001b[0m\u001b[1;33m\u001b[0m\u001b[0m\n\u001b[0;32m    103\u001b[0m \u001b[1;31m#            print(args, kwargs, unmatched_pos, cut_positional, unmatched_kw)\u001b[0m\u001b[1;33m\u001b[0m\u001b[1;33m\u001b[0m\u001b[1;33m\u001b[0m\u001b[0m\n\u001b[1;32m--> 104\u001b[1;33m             \u001b[1;32mreturn\u001b[0m \u001b[0mcallback\u001b[0m\u001b[1;33m(\u001b[0m\u001b[1;33m*\u001b[0m\u001b[0margs\u001b[0m\u001b[1;33m,\u001b[0m \u001b[1;33m**\u001b[0m\u001b[0mkwargs\u001b[0m\u001b[1;33m)\u001b[0m\u001b[1;33m\u001b[0m\u001b[1;33m\u001b[0m\u001b[0m\n\u001b[0m\u001b[0;32m    105\u001b[0m \u001b[1;33m\u001b[0m\u001b[0m\n\u001b[0;32m    106\u001b[0m         \u001b[1;32mreturn\u001b[0m \u001b[0madapted\u001b[0m\u001b[1;33m\u001b[0m\u001b[1;33m\u001b[0m\u001b[0m\n",
      "\u001b[1;32m~\\Anaconda3\\lib\\site-packages\\autotime.py\u001b[0m in \u001b[0;36mstop\u001b[1;34m(self)\u001b[0m\n\u001b[0;32m     23\u001b[0m         \u001b[1;32mif\u001b[0m \u001b[0mself\u001b[0m\u001b[1;33m.\u001b[0m\u001b[0mstart_time\u001b[0m\u001b[1;33m:\u001b[0m\u001b[1;33m\u001b[0m\u001b[1;33m\u001b[0m\u001b[0m\n\u001b[0;32m     24\u001b[0m             \u001b[0mdiff\u001b[0m \u001b[1;33m=\u001b[0m \u001b[0mtime\u001b[0m\u001b[1;33m.\u001b[0m\u001b[0mtime\u001b[0m\u001b[1;33m(\u001b[0m\u001b[1;33m)\u001b[0m \u001b[1;33m-\u001b[0m \u001b[0mself\u001b[0m\u001b[1;33m.\u001b[0m\u001b[0mstart_time\u001b[0m\u001b[1;33m\u001b[0m\u001b[1;33m\u001b[0m\u001b[0m\n\u001b[1;32m---> 25\u001b[1;33m             \u001b[1;32massert\u001b[0m \u001b[0mdiff\u001b[0m \u001b[1;33m>\u001b[0m \u001b[1;36m0\u001b[0m\u001b[1;33m\u001b[0m\u001b[1;33m\u001b[0m\u001b[0m\n\u001b[0m\u001b[0;32m     26\u001b[0m             \u001b[0mprint\u001b[0m\u001b[1;33m(\u001b[0m\u001b[1;34m'time: %s'\u001b[0m \u001b[1;33m%\u001b[0m \u001b[0mformat_delta\u001b[0m\u001b[1;33m(\u001b[0m\u001b[0mdiff\u001b[0m\u001b[1;33m)\u001b[0m\u001b[1;33m)\u001b[0m\u001b[1;33m\u001b[0m\u001b[1;33m\u001b[0m\u001b[0m\n\u001b[0;32m     27\u001b[0m \u001b[1;33m\u001b[0m\u001b[0m\n",
      "\u001b[1;31mAssertionError\u001b[0m: "
     ]
    }
   ],
   "source": [
    "# file_path = Path(\"../../../../data/cleandata/success_NN_1H_testICO_df.csv\")\n",
    "# df.to_csv(file_path, index=False)"
   ]
  },
  {
   "cell_type": "markdown",
   "metadata": {},
   "source": [
    "# Time to predict using the 360 day ICOs"
   ]
  },
  {
   "cell_type": "code",
   "execution_count": 152,
   "metadata": {},
   "outputs": [
    {
     "name": "stdout",
     "output_type": "stream",
     "text": [
      "time: 15.1 ms\n"
     ]
    }
   ],
   "source": [
    "file_path2 = Path(\"../../../../data/cleandata/1hot_merged_360_ICO.csv\")\n",
    "ico_360 = pd.read_csv(file_path2)"
   ]
  },
  {
   "cell_type": "code",
   "execution_count": 153,
   "metadata": {},
   "outputs": [
    {
     "name": "stdout",
     "output_type": "stream",
     "text": [
      "time: 169 ms\n"
     ]
    }
   ],
   "source": [
    "# Load the saved model to make predictions\n",
    "from tensorflow.keras.models import model_from_json\n",
    "\n",
    "# load json and create model\n",
    "file_path = Path(\"../NN_model/model_1hot_test_nn.json\")\n",
    "\n",
    "with open(file_path, \"r\") as json_file:\n",
    "    model_json = json_file.read()\n",
    "    \n",
    "loaded_model = model_from_json(model_json)\n",
    "\n",
    "# load weights into new model\n",
    "file_path = Path(\"../NN_model/model_1hot_test_nn.h5\")\n",
    "loaded_model.load_weights(\"../NN_model/model_1hot_test_nn.h5\")"
   ]
  },
  {
   "cell_type": "code",
   "execution_count": 154,
   "metadata": {},
   "outputs": [
    {
     "data": {
      "text/plain": [
       "Index(['Name', 'Ticker', 'Duration', 'pre_Duration', 'compound', 'negative',\n",
       "       'neutral', 'positive', 'no_of_posts', 'Longevity', 'success',\n",
       "       'Twitter_Compound', 'Twitter_Negative', 'Twitter_Neutral',\n",
       "       'Twitter_Positive', 'country_Argentina', 'country_Armenia',\n",
       "       'country_Australia', 'country_Austria', 'country_Azerbaijan',\n",
       "       'country_Bahamas', 'country_Belarus', 'country_Belgium',\n",
       "       'country_Belize', 'country_British Indian Ocean Territory',\n",
       "       'country_Bulgaria', 'country_Cambodia', 'country_Canada',\n",
       "       'country_Cayman Islands', 'country_China', 'country_Costa Rica',\n",
       "       'country_Cyprus', 'country_Czech Republic', 'country_Denmark',\n",
       "       'country_Estonia', 'country_Finland', 'country_France',\n",
       "       'country_Germany', 'country_Gibraltar', 'country_Hong Kong',\n",
       "       'country_Ireland', 'country_Isle of Man', 'country_Israel',\n",
       "       'country_Japan', 'country_Kenya', 'country_Kyrgyzstan', 'country_Laos',\n",
       "       'country_Latvia', 'country_Liechtenstein', 'country_Lithuania',\n",
       "       'country_Luxembourg', 'country_Malaysia', 'country_Malta',\n",
       "       'country_Marshall Islands', 'country_Mexico', 'country_Netherlands',\n",
       "       'country_New Caledonia', 'country_New Zealand', 'country_Nigeria',\n",
       "       'country_Panama', 'country_Poland', 'country_Portugal',\n",
       "       'country_Romania', 'country_Russia', 'country_Saint Kitts and Nevis',\n",
       "       'country_Seychelles', 'country_Singapore', 'country_Slovenia',\n",
       "       'country_South Africa', 'country_South Korea', 'country_Spain',\n",
       "       'country_Sweden', 'country_Switzerland', 'country_Taiwan',\n",
       "       'country_Thailand', 'country_Turkey', 'country_Ukraine',\n",
       "       'country_United Arab Emirates', 'country_United Kingdom',\n",
       "       'country_United States of America', 'country_Virgin Islands (British)',\n",
       "       'platform_Bitcoin', 'platform_Bitshares', 'platform_Blockchain',\n",
       "       'platform_DAG', 'platform_EOS', 'platform_Ethereum',\n",
       "       'platform_Graphene', 'platform_Hyperledger', 'platform_Litecoin',\n",
       "       'platform_NEM', 'platform_NEO', 'platform_Nxt', 'platform_Omni',\n",
       "       'platform_Own Blockchain', 'platform_Scrypt', 'platform_Stellar',\n",
       "       'platform_Waves'],\n",
       "      dtype='object')"
      ]
     },
     "execution_count": 154,
     "metadata": {},
     "output_type": "execute_result"
    },
    {
     "name": "stdout",
     "output_type": "stream",
     "text": [
      "time: 5 ms\n"
     ]
    }
   ],
   "source": [
    "ico_360.columns"
   ]
  },
  {
   "cell_type": "code",
   "execution_count": 155,
   "metadata": {},
   "outputs": [
    {
     "name": "stdout",
     "output_type": "stream",
     "text": [
      "time: 2 ms\n"
     ]
    }
   ],
   "source": [
    "X = ico_360.drop(columns = ['Ticker','Name'])"
   ]
  },
  {
   "cell_type": "code",
   "execution_count": 156,
   "metadata": {},
   "outputs": [
    {
     "data": {
      "text/plain": [
       "(36, 96)"
      ]
     },
     "execution_count": 156,
     "metadata": {},
     "output_type": "execute_result"
    },
    {
     "name": "stdout",
     "output_type": "stream",
     "text": [
      "time: 3 ms\n"
     ]
    }
   ],
   "source": [
    "X = X.values\n",
    "X.shape"
   ]
  },
  {
   "cell_type": "code",
   "execution_count": 157,
   "metadata": {},
   "outputs": [
    {
     "name": "stdout",
     "output_type": "stream",
     "text": [
      "time: 148 ms\n"
     ]
    }
   ],
   "source": [
    "X_scaler = StandardScaler()\n",
    "X_scaler.fit(X)\n",
    "X_scaled = X_scaler.transform(X)\n",
    "predictions = nn.predict(X_scaled)"
   ]
  },
  {
   "cell_type": "code",

   "execution_count": 158,
   "metadata": {},

   "outputs": [
    {
     "data": {
      "text/plain": [
       "array([[-0.390723  , -0.32494699,  0.46499344, ...,  0.        ,\n",
       "        -0.24253563, -0.16903085],\n",
       "       [-0.18686752,  1.98508475,  0.56353735, ...,  0.        ,\n",
       "        -0.24253563, -0.16903085],\n",
       "       [-0.43149409, -0.27942913,  0.90378238, ...,  0.        ,\n",
       "        -0.24253563, -0.16903085],\n",
       "       ...,\n",
       "       [-0.67612067, -0.43874166, -0.74796412, ...,  0.        ,\n",
       "        -0.24253563, -0.16903085],\n",
       "       [-0.81202432, -0.14287553,  1.03493778, ...,  0.        ,\n",
       "        -0.24253563, -0.16903085],\n",
       "       [ 0.58778329,  0.58541034,  1.13943765, ...,  0.        ,\n",
       "         4.12310563, -0.16903085]])"
      ]
     },
     "execution_count": 158,
     "metadata": {},
     "output_type": "execute_result"
    },
    {
     "name": "stdout",
     "output_type": "stream",
     "text": [
      "time: 3.99 ms\n"
     ]
    }
   ],
   "source": [
    "X_scaled"
   ]
  },
  {
   "cell_type": "code",
   "execution_count": 159,
   "metadata": {},
   "outputs": [
    {
     "data": {
      "text/plain": [
       "36"
      ]
     },
     "execution_count": 159,
     "metadata": {},
     "output_type": "execute_result"
    },
    {
     "name": "stdout",
     "output_type": "stream",
     "text": [
      "time: 1.99 ms\n"
     ]
    }
   ],
   "source": [
    "len(predictions)"
   ]
  },
  {
   "cell_type": "code",
   "execution_count": null,
   "metadata": {},
   "outputs": [],
   "source": []
  },
  {
   "cell_type": "code",
   "execution_count": 160,
   "metadata": {},
   "outputs": [
    {
     "name": "stdout",
     "output_type": "stream",
     "text": [
      "time: 11 ms\n"
     ]
    }
   ],
   "source": [
    "file_path = Path(\"../../../../data/cleandata/test_and_post_ico/ico_360days_df.csv\")\n",
    "ico_360days_df = pd.read_csv(file_path)"
   ]
  },
  {
   "cell_type": "code",
   "execution_count": 161,
   "metadata": {},
   "outputs": [
    {
     "name": "stdout",
     "output_type": "stream",
     "text": [
      "time: 1.99 ms\n"
     ]
    }
   ],
   "source": [
    "ico_360days_df['Success_Index'] = predictions*100"
   ]
  },
  {
   "cell_type": "code",
   "execution_count": 162,
   "metadata": {},
   "outputs": [
    {
     "data": {
      "text/plain": [
       "0      99.999985\n",
       "1      99.999870\n",
       "2     100.000000\n",
       "3     100.000000\n",
       "4     100.000000\n",
       "5      99.999977\n",
       "6     100.000000\n",
       "7     100.000000\n",
       "8     100.000000\n",
       "9      99.999985\n",
       "10    100.000000\n",
       "11    100.000000\n",
       "12    100.000000\n",
       "13     99.999969\n",
       "14    100.000000\n",
       "15    100.000000\n",
       "16    100.000000\n",
       "17    100.000000\n",
       "18     99.991379\n",
       "19    100.000000\n",
       "20     99.999260\n",
       "21     99.999908\n",
       "22    100.000000\n",
       "23    100.000000\n",
       "24    100.000000\n",
       "25    100.000000\n",
       "26    100.000000\n",
       "27           NaN\n",
       "28           NaN\n",
       "29    100.000000\n",
       "30     99.999992\n",
       "31     99.999405\n",
       "32    100.000000\n",
       "33     99.999977\n",
       "34     99.999985\n",
       "35     99.999031\n",
       "Name: Success_Index, dtype: float32"
      ]
     },
     "execution_count": 162,
     "metadata": {},
     "output_type": "execute_result"
    },
    {
     "name": "stdout",
     "output_type": "stream",
     "text": [
      "time: 4.01 ms\n"
     ]
    }
   ],
   "source": [
    "ico_360days_df['Success_Index']"
   ]
  },
  {
   "cell_type": "code",
   "execution_count": 139,
   "metadata": {},
   "outputs": [
    {
     "name": "stdout",
     "output_type": "stream",
     "text": [
      "time: 21 ms\n"
     ]
    }
   ],
   "source": [
    "file_path = Path(\"../../../../data/cleandata/final_success_NN_1H_ICO360_df.csv\")\n",
    "ico_360.to_csv(file_path, index=False)"
   ]
  },
  {
   "cell_type": "code",
   "execution_count": null,
   "metadata": {},
   "outputs": [],
   "source": []
  }
 ],
 "metadata": {
  "kernelspec": {
   "display_name": "Python 3",
   "language": "python",
   "name": "python3"
  },
  "language_info": {
   "codemirror_mode": {
    "name": "ipython",
    "version": 3
   },
   "file_extension": ".py",
   "mimetype": "text/x-python",
   "name": "python",
   "nbconvert_exporter": "python",
   "pygments_lexer": "ipython3",
   "version": "3.7.3"
  }
 },
 "nbformat": 4,
 "nbformat_minor": 4
}
