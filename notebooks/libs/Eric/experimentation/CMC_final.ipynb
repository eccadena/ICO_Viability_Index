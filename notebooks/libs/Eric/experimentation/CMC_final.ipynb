{
 "cells": [
  {
   "cell_type": "markdown",
   "metadata": {},
   "source": [
    "### All code for CMC placed here, detailed with markdown. "
   ]
  },
  {
   "cell_type": "code",
   "execution_count": 31,
   "metadata": {},
   "outputs": [],
   "source": [
    "import requests\n",
    "import pprint\n",
    "import requests\n",
    "from requests.exceptions import HTTPError\n",
    "from datetime import datetime as dt\n",
    "import pandas as pd\n",
    "import numpy as np\n",
    "from path import Path\n",
    "\n",
    "from requests import Request, Session\n",
    "from requests.exceptions import ConnectionError, Timeout, TooManyRedirects\n",
    "import json\n",
    "import pprint\n",
    "import os\n",
    "from coinmarketcap import Market\n",
    "from prettytable import PrettyTable"
   ]
  },
  {
   "cell_type": "markdown",
   "metadata": {},
   "source": [
    "### WrapAPI"
   ]
  },
  {
   "cell_type": "code",
   "execution_count": 2,
   "metadata": {},
   "outputs": [
    {
     "name": "stdout",
     "output_type": "stream",
     "text": [
      "Success!\n"
     ]
    }
   ],
   "source": [
    "for url in [\"https://wrapapi.com/use/eccadena/trackico/finances1/0.0.1?wrapAPIKey=HzqWb8NGMMD0VcX0CF4VWYvcle67YWC5\"]:\n",
    "    try:\n",
    "        response = requests.get(url)\n",
    "\n",
    "        # If the response was successful, no Exception will be raised\n",
    "        response.raise_for_status()\n",
    "    except HTTPError as http_err:\n",
    "        print(f'HTTP error occurred: {http_err}')  # Python 3.6\n",
    "    except Exception as err:\n",
    "        print(f'Other error occurred: {err}')  # Python 3.6\n",
    "    else:\n",
    "        print('Success!')"
   ]
  },
  {
   "cell_type": "code",
   "execution_count": 3,
   "metadata": {},
   "outputs": [
    {
     "data": {
      "text/plain": [
       "dict"
      ]
     },
     "execution_count": 3,
     "metadata": {},
     "output_type": "execute_result"
    }
   ],
   "source": [
    "response = requests.get(f\"https://wrapapi.com/use/eccadena/trackico/finances1/0.0.1?wrapAPIKey=HzqWb8NGMMD0VcX0CF4VWYvcle67YWC5\")\n",
    "response = response.json()\n",
    "type(response)"
   ]
  },
  {
   "cell_type": "code",
   "execution_count": 4,
   "metadata": {},
   "outputs": [
    {
     "data": {
      "text/plain": [
       "{'success': True,\n",
       " 'outputScenario': 'Default',\n",
       " 'data': {'output': ['04/18/2019 midnight\\n- Unspecified',\n",
       "   'Switzerland',\n",
       "   'ICO',\n",
       "   'ICO',\n",
       "   'INBIT',\n",
       "   'Ethereum',\n",
       "   '0.01 EUR\\n\\n(0.01103 USD)',\n",
       "   '6,500,000,000 INBIT\\n (51%)',\n",
       "   '12,763,636,364 INBIT',\n",
       "   '50,000,000\\nEUR\\n (55,150,000 USD)',\n",
       "   'ETH, BTC, LTC, BCH',\n",
       "   'Afghanistan, Bosnia and Herzegovina, Central African Republic, Congo, Cuba, Eritrea, Ethiopia, Guinea-Bissau, Iran, Iraq, Lebanon, Libya, North Korea, Somalia, South Sudan, Sudan, Switzerland, Syria, Uganda, United States of America, Vanuatu, Yemen',\n",
       "   'Yes',\n",
       "   'Presale Tier 5Period: 07.10.2019 - 27.10.2019Discount: 20%Amount of sale: 250 000 €',\n",
       "   'Dec. 19, 2018',\n",
       "   'May 5, 2019',\n",
       "   '133,333,000 InBit',\n",
       "   '1,470,662 USD',\n",
       "   '1.0 %',\n",
       "   '04/18/2019 midnight\\n- Unspecified',\n",
       "   'Switzerland',\n",
       "   'ICO',\n",
       "   'Ethereum',\n",
       "   '0.01 EUR',\n",
       "   'Available',\n",
       "   '694,420 th',\n",
       "   '8,929',\n",
       "   '4,933']},\n",
       " 'stateToken': 'eyJqYXIiOnsidmVyc2lvbiI6InRvdWdoLWNvb2tpZUAyLjMuNCIsInN0b3JlVHlwZSI6Ik1lbW9yeUNvb2tpZVN0b3JlIiwicmVqZWN0UHVibGljU3VmZml4ZXMiOnRydWUsImNvb2tpZXMiOlt7ImtleSI6ImNzcmZ0b2tlbiIsInZhbHVlIjoiZmFBeXZOSkRpcjcxaW1XUm9NbUpXZ2hQZ0t3RkJsQUNycjFKVENhTE4yNWg3MHVTUmpNamloZEk2RUNCcmZ2UyIsImV4cGlyZXMiOiIyMDIwLTExLTEzVDAyOjU3OjA0LjAwMFoiLCJtYXhBZ2UiOjMxNDQ5NjAwLCJkb21haW4iOiJ3d3cudHJhY2tpY28uaW8iLCJwYXRoIjoiLyIsImV4dGVuc2lvbnMiOlsiU2FtZVNpdGU9TGF4Il0sImhvc3RPbmx5Ijp0cnVlLCJjcmVhdGlvbiI6IjIwMTktMTEtMTVUMDI6NTc6MDQuMzQ1WiIsImxhc3RBY2Nlc3NlZCI6IjIwMTktMTEtMTVUMDI6NTc6MDQuMzQ1WiJ9XX0sInZlcnNpb24iOjF9',\n",
       " 'cookies': [{'key': 'csrftoken',\n",
       "   'value': 'faAyvNJDir71imWRoMmJWghPgKwFBlACrr1JTCaLN25h70uSRjMjihdI6ECBrfvS',\n",
       "   'expires': '2020-11-13T02:57:04.000Z',\n",
       "   'maxAge': 31449600,\n",
       "   'domain': 'www.trackico.io',\n",
       "   'path': '/',\n",
       "   'extensions': ['SameSite=Lax'],\n",
       "   'hostOnly': True,\n",
       "   'creation': '2019-11-15T02:57:04.345Z',\n",
       "   'lastAccessed': '2019-11-15T02:57:04.345Z'}]}"
      ]
     },
     "execution_count": 4,
     "metadata": {},
     "output_type": "execute_result"
    }
   ],
   "source": [
    "response"
   ]
  },
  {
   "cell_type": "code",
   "execution_count": 5,
   "metadata": {},
   "outputs": [
    {
     "data": {
      "text/plain": [
       "dict"
      ]
     },
     "execution_count": 5,
     "metadata": {},
     "output_type": "execute_result"
    }
   ],
   "source": [
    "# different url/wrap... attempt at bring in all cryptos from CMCAPI\n",
    "response = requests.get(f\"https://wrapapi.com/use/eccadena/cmcapi/all/0.0.1?wrapAPIKey=HzqWb8NGMMD0VcX0CF4VWYvcle67YWC5\")\n",
    "response = response.json()\n",
    "type(response)"
   ]
  },
  {
   "cell_type": "code",
   "execution_count": 9,
   "metadata": {},
   "outputs": [],
   "source": [
    "# function to create a df from CMC api all crypto call\n",
    "def CMC_api_all():\n",
    "    \n",
    "    df_all = pd.DataFrame()\n",
    "    \n",
    "    l = list(range(20000))\n",
    "    \n",
    "    for i in l[0::11]:\n",
    "        df_raw = pd.DataFrame(response['data']['output'][0+i:11+i]).T\n",
    "        df_all = pd.concat([df_raw,df_all])\n",
    "        # print('Joining Dataframe')\n",
    "    return df_all    \n",
    "\n",
    "df_all_CMC = CMC_api_all()\n",
    "df_all_CMC.rename(columns = {'0':'rank_cmc','1':'title','2':'ticker','3':'market_cap','4':'price','5':'supply','6':'volume24','7':'pct1h','8':'pct24h','9':'pct7d','10':'addremove'}, \n",
    "                  inplace = True) #unsure why this will not work. tried inside the function"
   ]
  },
  {
   "cell_type": "code",
   "execution_count": 11,
   "metadata": {},
   "outputs": [
    {
     "data": {
      "text/html": [
       "<div>\n",
       "<style scoped>\n",
       "    .dataframe tbody tr th:only-of-type {\n",
       "        vertical-align: middle;\n",
       "    }\n",
       "\n",
       "    .dataframe tbody tr th {\n",
       "        vertical-align: top;\n",
       "    }\n",
       "\n",
       "    .dataframe thead th {\n",
       "        text-align: right;\n",
       "    }\n",
       "</style>\n",
       "<table border=\"1\" class=\"dataframe\">\n",
       "  <thead>\n",
       "    <tr style=\"text-align: right;\">\n",
       "      <th></th>\n",
       "      <th>0</th>\n",
       "      <th>1</th>\n",
       "      <th>2</th>\n",
       "      <th>3</th>\n",
       "      <th>4</th>\n",
       "      <th>5</th>\n",
       "      <th>6</th>\n",
       "      <th>7</th>\n",
       "      <th>8</th>\n",
       "      <th>9</th>\n",
       "      <th>10</th>\n",
       "    </tr>\n",
       "  </thead>\n",
       "  <tbody>\n",
       "    <tr>\n",
       "      <th>0</th>\n",
       "      <td>1819</td>\n",
       "      <td>PKB\\n\\nParkByte</td>\n",
       "      <td>PKB</td>\n",
       "      <td>$17,605</td>\n",
       "      <td>$0.003695</td>\n",
       "      <td>4,764,026\\n*</td>\n",
       "      <td>Low Vol</td>\n",
       "      <td>0.00%</td>\n",
       "      <td>0.00%</td>\n",
       "      <td>-4.74%</td>\n",
       "      <td>Add to Watchlist\\nRemove from Watchlist\\nWatch...</td>\n",
       "    </tr>\n",
       "    <tr>\n",
       "      <th>0</th>\n",
       "      <td>1818</td>\n",
       "      <td>PAK\\n\\nPakcoin</td>\n",
       "      <td>PAK</td>\n",
       "      <td>$17,746</td>\n",
       "      <td>$0.000259</td>\n",
       "      <td>68,594,750</td>\n",
       "      <td>Low Vol</td>\n",
       "      <td>-0.60%</td>\n",
       "      <td>-26.45%</td>\n",
       "      <td>-6.63%</td>\n",
       "      <td>Add to Watchlist\\nRemove from Watchlist\\nWatch...</td>\n",
       "    </tr>\n",
       "    <tr>\n",
       "      <th>0</th>\n",
       "      <td>1817</td>\n",
       "      <td>IQ\\n\\nIQ.cash</td>\n",
       "      <td>IQ</td>\n",
       "      <td>$17,808</td>\n",
       "      <td>$0.004571</td>\n",
       "      <td>3,896,163</td>\n",
       "      <td>Low Vol</td>\n",
       "      <td>-0.60%</td>\n",
       "      <td>48.53%</td>\n",
       "      <td>12.57%</td>\n",
       "      <td>Add to Watchlist\\nRemove from Watchlist\\nWatch...</td>\n",
       "    </tr>\n",
       "    <tr>\n",
       "      <th>0</th>\n",
       "      <td>1816</td>\n",
       "      <td>BND\\n\\nBlocknode</td>\n",
       "      <td>BND</td>\n",
       "      <td>$18,118</td>\n",
       "      <td>$0.000086</td>\n",
       "      <td>210,095,225</td>\n",
       "      <td>Low Vol</td>\n",
       "      <td>-0.60%</td>\n",
       "      <td>-1.92%</td>\n",
       "      <td>-10.47%</td>\n",
       "      <td>Add to Watchlist\\nRemove from Watchlist\\nWatch...</td>\n",
       "    </tr>\n",
       "    <tr>\n",
       "      <th>0</th>\n",
       "      <td>1815</td>\n",
       "      <td>DMB\\n\\nDigital Money...</td>\n",
       "      <td>DMB</td>\n",
       "      <td>$18,206</td>\n",
       "      <td>$0.000172</td>\n",
       "      <td>105,560,695</td>\n",
       "      <td>Low Vol</td>\n",
       "      <td>-0.60%</td>\n",
       "      <td>-34.61%</td>\n",
       "      <td>-46.24%</td>\n",
       "      <td>Add to Watchlist\\nRemove from Watchlist\\nWatch...</td>\n",
       "    </tr>\n",
       "  </tbody>\n",
       "</table>\n",
       "</div>"
      ],
      "text/plain": [
       "     0                        1    2        3          4             5   \\\n",
       "0  1819          PKB\\n\\nParkByte  PKB  $17,605  $0.003695  4,764,026\\n*   \n",
       "0  1818           PAK\\n\\nPakcoin  PAK  $17,746  $0.000259    68,594,750   \n",
       "0  1817            IQ\\n\\nIQ.cash   IQ  $17,808  $0.004571     3,896,163   \n",
       "0  1816         BND\\n\\nBlocknode  BND  $18,118  $0.000086   210,095,225   \n",
       "0  1815  DMB\\n\\nDigital Money...  DMB  $18,206  $0.000172   105,560,695   \n",
       "\n",
       "        6       7        8        9   \\\n",
       "0  Low Vol   0.00%    0.00%   -4.74%   \n",
       "0  Low Vol  -0.60%  -26.45%   -6.63%   \n",
       "0  Low Vol  -0.60%   48.53%   12.57%   \n",
       "0  Low Vol  -0.60%   -1.92%  -10.47%   \n",
       "0  Low Vol  -0.60%  -34.61%  -46.24%   \n",
       "\n",
       "                                                  10  \n",
       "0  Add to Watchlist\\nRemove from Watchlist\\nWatch...  \n",
       "0  Add to Watchlist\\nRemove from Watchlist\\nWatch...  \n",
       "0  Add to Watchlist\\nRemove from Watchlist\\nWatch...  \n",
       "0  Add to Watchlist\\nRemove from Watchlist\\nWatch...  \n",
       "0  Add to Watchlist\\nRemove from Watchlist\\nWatch...  "
      ]
     },
     "execution_count": 11,
     "metadata": {},
     "output_type": "execute_result"
    }
   ],
   "source": [
    "df_all_CMC.head()"
   ]
  },
  {
   "cell_type": "markdown",
   "metadata": {},
   "source": [
    "## To run the cell below go to https://coinmarketcap.com/all/views/all/\n",
    "## Copy all cryptos onto clipboard\n",
    "## This is done as the Free API calls seem to be limited and random. Free api is depricated."
   ]
  },
  {
   "cell_type": "code",
   "execution_count": null,
   "metadata": {},
   "outputs": [],
   "source": [
    "# DO NOT RUN AGAIN UNLESS YOU HAVE COPIED THE WEBSITE df_all_CMC_clipboard = pd.read_clipboard()"
   ]
  },
  {
   "cell_type": "code",
   "execution_count": null,
   "metadata": {},
   "outputs": [],
   "source": [
    "df_all_CMC_clipboard.drop(columns = ['Unnamed: 10'], inplace = True)"
   ]
  },
  {
   "cell_type": "code",
   "execution_count": null,
   "metadata": {},
   "outputs": [],
   "source": [
    "df_all_CMC_clipboard.shape"
   ]
  },
  {
   "cell_type": "code",
   "execution_count": null,
   "metadata": {},
   "outputs": [],
   "source": [
    "df_all_CMC_clipboard.head()"
   ]
  },
  {
   "cell_type": "code",
   "execution_count": null,
   "metadata": {},
   "outputs": [],
   "source": [
    "def CMC_df_cleaning(df):\n",
    "    \n",
    "    df['price'] = df['price'].apply(lambda x: x.strip('$'))\n",
    "    df['market_cap'] = df['market_cap'].apply(lambda x: x.strip('$'))\n",
    "    df['volume24'] = df['volume24'].apply(lambda x: x.strip('$'))\n",
    "    \n",
    "    df['pct1h'] = df['pct1h'].apply(lambda x: x.strip('%'))\n",
    "    df['pct24h'] = df['pct24h'].apply(lambda x: x.strip('%'))\n",
    "    df['pct7d'] = df['pct7d'].apply(lambda x: x.strip('%'))\n",
    "    \n",
    "    df['supply'] = df['pct7d'].apply(lambda x: x.strip('*'))\n",
    "    \n",
    "    df = df.replace('?',0)\n",
    "    \n",
    "    return df"
   ]
  },
  {
   "cell_type": "code",
   "execution_count": null,
   "metadata": {},
   "outputs": [],
   "source": [
    "df_all_CMC = CMC_df_cleaning(df_all_CMC_clipboard)"
   ]
  },
  {
   "cell_type": "code",
   "execution_count": null,
   "metadata": {},
   "outputs": [],
   "source": [
    "df_all_CMC.head()"
   ]
  },
  {
   "cell_type": "code",
   "execution_count": null,
   "metadata": {},
   "outputs": [],
   "source": [
    "file_path = Path(\"../../../../data/cleandata/CMC_df.csv\")\n",
    "df_all_CMC.to_csv(file_path, index=False)"
   ]
  },
  {
   "cell_type": "markdown",
   "metadata": {},
   "source": [
    "### Example code from SandBox. This code is in Python 2... abandoned after it was realized the FREE api will only allow for 333 calls. Have code here for future use if we decide to use this API in a function... must conver to python 3"
   ]
  },
  {
   "cell_type": "code",
   "execution_count": 14,
   "metadata": {},
   "outputs": [],
   "source": [
    "API_key = os.getenv('CMC_API')"
   ]
  },
  {
   "cell_type": "code",
   "execution_count": 15,
   "metadata": {},
   "outputs": [
    {
     "name": "stdout",
     "output_type": "stream",
     "text": [
      "{'status': {'timestamp': '2019-11-15T03:08:29.344Z', 'error_code': 401, 'error_message': 'This API Key is invalid.', 'elapsed': 0, 'credit_count': 0}}\n"
     ]
    }
   ],
   "source": [
    "url = 'https://sandbox-api.coinmarketcap.com/v1/cryptocurrency/listings/latest'\n",
    "\n",
    "API_key = os.getenv('CMC_API')\n",
    "\n",
    "parameters = {\n",
    "  'start':'1',\n",
    "  'limit':'5000',\n",
    "  'convert':'USD'\n",
    "}\n",
    "headers = {\n",
    "  'Accepts': 'application/json',\n",
    "  'X-CMC_PRO_API_KEY': API_key,\n",
    "}\n",
    "\n",
    "session = Session()\n",
    "session.headers.update(headers)\n",
    "\n",
    "try:\n",
    "  response = session.get(url, params=parameters)\n",
    "  data = json.loads(response.text)\n",
    "  print(data)\n",
    "except (ConnectionError, Timeout, TooManyRedirects) as e:\n",
    "  print(e)"
   ]
  },
  {
   "cell_type": "code",
   "execution_count": 16,
   "metadata": {},
   "outputs": [
    {
     "name": "stdout",
     "output_type": "stream",
     "text": [
      "{'status': {'credit_count': 0,\n",
      "            'elapsed': 0,\n",
      "            'error_code': 401,\n",
      "            'error_message': 'This API Key is invalid.',\n",
      "            'timestamp': '2019-11-15T03:08:34.511Z'}}\n"
     ]
    }
   ],
   "source": [
    "url = 'https://sandbox-api.coinmarketcap.com/v1/cryptocurrency/map'\n",
    "parameters = {\n",
    "  'symbol':'BTC,USDT,BNB'\n",
    "}\n",
    "headers = {\n",
    "  'Accepts': 'application/json',\n",
    "  'X-CMC_PRO_API_KEY': API_key,\n",
    "}\n",
    "\n",
    "session = Session()\n",
    "session.headers.update(headers)\n",
    "\n",
    "try:\n",
    "  response = session.get(url, params=parameters)\n",
    "  data = json.loads(response.text)\n",
    "  pprint.pprint(data)\n",
    "except (ConnectionError, Timeout, TooManyRedirects) as e:\n",
    "  print(e)"
   ]
  },
  {
   "cell_type": "code",
   "execution_count": 18,
   "metadata": {},
   "outputs": [
    {
     "name": "stdout",
     "output_type": "stream",
     "text": [
      "{'status': {'credit_count': 0,\n",
      "            'elapsed': 0,\n",
      "            'error_code': 401,\n",
      "            'error_message': 'This API Key is invalid.',\n",
      "            'timestamp': '2019-11-15T03:08:58.118Z'}}\n"
     ]
    }
   ],
   "source": [
    "#Historical Data\n",
    "url = 'https://sandbox-api.coinmarketcap.com/v1/cryptocurrency/quotes/latest'\n",
    "parameters = {\n",
    "  'id':'1',\n",
    "  'time_start':'2018-01-01',\n",
    "  'time_end':'2019-01-03'\n",
    "}\n",
    "headers = {\n",
    "  'Accepts': 'application/json',\n",
    "  'X-CMC_PRO_API_KEY': API_key,\n",
    "}\n",
    "\n",
    "session = Session()\n",
    "session.headers.update(headers)\n",
    "\n",
    "try:\n",
    "  response = session.get(url, params=parameters)\n",
    "  data = json.loads(response.text)\n",
    "  pprint.pprint(data)\n",
    "except (ConnectionError, Timeout, TooManyRedirects) as e:\n",
    "  print(e)"
   ]
  },
  {
   "cell_type": "markdown",
   "metadata": {},
   "source": [
    "# Calling crupto currencies with depricated API. As of 11/14/2019 this code will still call a large amount of Cryptos\n",
    "\n",
    "## URL - https://pypi.org/project/coinmarketcap/"
   ]
  },
  {
   "cell_type": "code",
   "execution_count": 19,
   "metadata": {},
   "outputs": [],
   "source": [
    "coinmarketcap = Market()"
   ]
  },
  {
   "cell_type": "code",
   "execution_count": 20,
   "metadata": {},
   "outputs": [
    {
     "data": {
      "text/html": [
       "<div>\n",
       "<style scoped>\n",
       "    .dataframe tbody tr th:only-of-type {\n",
       "        vertical-align: middle;\n",
       "    }\n",
       "\n",
       "    .dataframe tbody tr th {\n",
       "        vertical-align: top;\n",
       "    }\n",
       "\n",
       "    .dataframe thead th {\n",
       "        text-align: right;\n",
       "    }\n",
       "</style>\n",
       "<table border=\"1\" class=\"dataframe\">\n",
       "  <thead>\n",
       "    <tr style=\"text-align: right;\">\n",
       "      <th></th>\n",
       "      <th>id</th>\n",
       "      <th>name</th>\n",
       "      <th>symbol</th>\n",
       "      <th>website_slug</th>\n",
       "    </tr>\n",
       "  </thead>\n",
       "  <tbody>\n",
       "    <tr>\n",
       "      <th>0</th>\n",
       "      <td>1</td>\n",
       "      <td>Bitcoin</td>\n",
       "      <td>BTC</td>\n",
       "      <td>bitcoin</td>\n",
       "    </tr>\n",
       "    <tr>\n",
       "      <th>1</th>\n",
       "      <td>2</td>\n",
       "      <td>Litecoin</td>\n",
       "      <td>LTC</td>\n",
       "      <td>litecoin</td>\n",
       "    </tr>\n",
       "    <tr>\n",
       "      <th>2</th>\n",
       "      <td>3</td>\n",
       "      <td>Namecoin</td>\n",
       "      <td>NMC</td>\n",
       "      <td>namecoin</td>\n",
       "    </tr>\n",
       "    <tr>\n",
       "      <th>3</th>\n",
       "      <td>4</td>\n",
       "      <td>Terracoin</td>\n",
       "      <td>TRC</td>\n",
       "      <td>terracoin</td>\n",
       "    </tr>\n",
       "    <tr>\n",
       "      <th>4</th>\n",
       "      <td>5</td>\n",
       "      <td>Peercoin</td>\n",
       "      <td>PPC</td>\n",
       "      <td>peercoin</td>\n",
       "    </tr>\n",
       "  </tbody>\n",
       "</table>\n",
       "</div>"
      ],
      "text/plain": [
       "   id       name symbol website_slug\n",
       "0   1    Bitcoin    BTC      bitcoin\n",
       "1   2   Litecoin    LTC     litecoin\n",
       "2   3   Namecoin    NMC     namecoin\n",
       "3   4  Terracoin    TRC    terracoin\n",
       "4   5   Peercoin    PPC     peercoin"
      ]
     },
     "execution_count": 20,
     "metadata": {},
     "output_type": "execute_result"
    }
   ],
   "source": [
    "cryptos_available = pd.DataFrame.from_dict(coinmarketcap.listings()['data'])\n",
    "cryptos_available.head()"
   ]
  },
  {
   "cell_type": "code",
   "execution_count": 21,
   "metadata": {},
   "outputs": [
    {
     "data": {
      "text/html": [
       "<div>\n",
       "<style scoped>\n",
       "    .dataframe tbody tr th:only-of-type {\n",
       "        vertical-align: middle;\n",
       "    }\n",
       "\n",
       "    .dataframe tbody tr th {\n",
       "        vertical-align: top;\n",
       "    }\n",
       "\n",
       "    .dataframe thead th {\n",
       "        text-align: right;\n",
       "    }\n",
       "</style>\n",
       "<table border=\"1\" class=\"dataframe\">\n",
       "  <thead>\n",
       "    <tr style=\"text-align: right;\">\n",
       "      <th></th>\n",
       "      <th>circulating_supply</th>\n",
       "      <th>id</th>\n",
       "      <th>last_updated</th>\n",
       "      <th>max_supply</th>\n",
       "      <th>name</th>\n",
       "      <th>quotes</th>\n",
       "      <th>rank</th>\n",
       "      <th>symbol</th>\n",
       "      <th>total_supply</th>\n",
       "      <th>website_slug</th>\n",
       "    </tr>\n",
       "  </thead>\n",
       "  <tbody>\n",
       "    <tr>\n",
       "      <th>1</th>\n",
       "      <td>1.8048e+07</td>\n",
       "      <td>1</td>\n",
       "      <td>1573787375</td>\n",
       "      <td>2.1e+07</td>\n",
       "      <td>Bitcoin</td>\n",
       "      <td>{'USD': {'price': 8617.9398866, 'volume_24h': ...</td>\n",
       "      <td>1</td>\n",
       "      <td>BTC</td>\n",
       "      <td>1.8048e+07</td>\n",
       "      <td>bitcoin</td>\n",
       "    </tr>\n",
       "    <tr>\n",
       "      <th>1027</th>\n",
       "      <td>1.08557e+08</td>\n",
       "      <td>1027</td>\n",
       "      <td>1573787422</td>\n",
       "      <td>None</td>\n",
       "      <td>Ethereum</td>\n",
       "      <td>{'USD': {'price': 183.525444117, 'volume_24h':...</td>\n",
       "      <td>2</td>\n",
       "      <td>ETH</td>\n",
       "      <td>1.08557e+08</td>\n",
       "      <td>ethereum</td>\n",
       "    </tr>\n",
       "    <tr>\n",
       "      <th>52</th>\n",
       "      <td>4.32985e+10</td>\n",
       "      <td>52</td>\n",
       "      <td>1573787403</td>\n",
       "      <td>1e+11</td>\n",
       "      <td>XRP</td>\n",
       "      <td>{'USD': {'price': 0.2670287203, 'volume_24h': ...</td>\n",
       "      <td>3</td>\n",
       "      <td>XRP</td>\n",
       "      <td>9.99913e+10</td>\n",
       "      <td>ripple</td>\n",
       "    </tr>\n",
       "  </tbody>\n",
       "</table>\n",
       "</div>"
      ],
      "text/plain": [
       "     circulating_supply    id last_updated max_supply      name  \\\n",
       "1            1.8048e+07     1   1573787375    2.1e+07   Bitcoin   \n",
       "1027        1.08557e+08  1027   1573787422       None  Ethereum   \n",
       "52          4.32985e+10    52   1573787403      1e+11       XRP   \n",
       "\n",
       "                                                 quotes rank symbol  \\\n",
       "1     {'USD': {'price': 8617.9398866, 'volume_24h': ...    1    BTC   \n",
       "1027  {'USD': {'price': 183.525444117, 'volume_24h':...    2    ETH   \n",
       "52    {'USD': {'price': 0.2670287203, 'volume_24h': ...    3    XRP   \n",
       "\n",
       "     total_supply website_slug  \n",
       "1      1.8048e+07      bitcoin  \n",
       "1027  1.08557e+08     ethereum  \n",
       "52    9.99913e+10       ripple  "
      ]
     },
     "execution_count": 21,
     "metadata": {},
     "output_type": "execute_result"
    }
   ],
   "source": [
    "pd.DataFrame.from_dict(coinmarketcap.ticker(start=0, limit=3, convert='USD')['data']).T"
   ]
  },
  {
   "cell_type": "code",
   "execution_count": 23,
   "metadata": {},
   "outputs": [],
   "source": [
    "# pd.DataFrame.from_dict(coinmarketcap.ticker(start=0, limit=3, convert='USD')['data']['1']['quotes']['USD'])"
   ]
  },
  {
   "cell_type": "code",
   "execution_count": 24,
   "metadata": {},
   "outputs": [
    {
     "data": {
      "text/html": [
       "<div>\n",
       "<style scoped>\n",
       "    .dataframe tbody tr th:only-of-type {\n",
       "        vertical-align: middle;\n",
       "    }\n",
       "\n",
       "    .dataframe tbody tr th {\n",
       "        vertical-align: top;\n",
       "    }\n",
       "\n",
       "    .dataframe thead th {\n",
       "        text-align: right;\n",
       "    }\n",
       "</style>\n",
       "<table border=\"1\" class=\"dataframe\">\n",
       "  <thead>\n",
       "    <tr style=\"text-align: right;\">\n",
       "      <th></th>\n",
       "      <th>price</th>\n",
       "      <th>volume_24h</th>\n",
       "      <th>market_cap</th>\n",
       "      <th>percent_change_1h</th>\n",
       "      <th>percent_change_24h</th>\n",
       "      <th>percent_change_7d</th>\n",
       "    </tr>\n",
       "  </thead>\n",
       "  <tbody>\n",
       "    <tr>\n",
       "      <th>1</th>\n",
       "      <td>8617.939887</td>\n",
       "      <td>1.973485e+10</td>\n",
       "      <td>1.555368e+11</td>\n",
       "      <td>-0.35</td>\n",
       "      <td>-1.95</td>\n",
       "      <td>-6.68</td>\n",
       "    </tr>\n",
       "  </tbody>\n",
       "</table>\n",
       "</div>"
      ],
      "text/plain": [
       "0        price    volume_24h    market_cap  percent_change_1h  \\\n",
       "1  8617.939887  1.973485e+10  1.555368e+11              -0.35   \n",
       "\n",
       "0  percent_change_24h  percent_change_7d  \n",
       "1               -1.95              -6.68  "
      ]
     },
     "execution_count": 24,
     "metadata": {},
     "output_type": "execute_result"
    }
   ],
   "source": [
    "df_cmc_USD = pd.DataFrame(coinmarketcap.ticker(start=0, limit=3, convert='USD')['data']['1']['quotes']['USD'].items())\n",
    "df_cmc_USD.set_index(0).T"
   ]
  },
  {
   "cell_type": "code",
   "execution_count": 25,
   "metadata": {},
   "outputs": [
    {
     "data": {
      "text/html": [
       "<div>\n",
       "<style scoped>\n",
       "    .dataframe tbody tr th:only-of-type {\n",
       "        vertical-align: middle;\n",
       "    }\n",
       "\n",
       "    .dataframe tbody tr th {\n",
       "        vertical-align: top;\n",
       "    }\n",
       "\n",
       "    .dataframe thead th {\n",
       "        text-align: right;\n",
       "    }\n",
       "</style>\n",
       "<table border=\"1\" class=\"dataframe\">\n",
       "  <thead>\n",
       "    <tr style=\"text-align: right;\">\n",
       "      <th></th>\n",
       "      <th>0</th>\n",
       "      <th>1</th>\n",
       "      <th>2</th>\n",
       "      <th>3</th>\n",
       "      <th>4</th>\n",
       "      <th>5</th>\n",
       "    </tr>\n",
       "  </thead>\n",
       "  <tbody>\n",
       "    <tr>\n",
       "      <th>0</th>\n",
       "      <td>price</td>\n",
       "      <td>volume_24h</td>\n",
       "      <td>market_cap</td>\n",
       "      <td>percent_change_1h</td>\n",
       "      <td>percent_change_24h</td>\n",
       "      <td>percent_change_7d</td>\n",
       "    </tr>\n",
       "    <tr>\n",
       "      <th>1</th>\n",
       "      <td>8617.94</td>\n",
       "      <td>1.97349e+10</td>\n",
       "      <td>1.55537e+11</td>\n",
       "      <td>-0.35</td>\n",
       "      <td>-1.95</td>\n",
       "      <td>-6.68</td>\n",
       "    </tr>\n",
       "  </tbody>\n",
       "</table>\n",
       "</div>"
      ],
      "text/plain": [
       "         0            1            2                  3                   4  \\\n",
       "0    price   volume_24h   market_cap  percent_change_1h  percent_change_24h   \n",
       "1  8617.94  1.97349e+10  1.55537e+11              -0.35               -1.95   \n",
       "\n",
       "                   5  \n",
       "0  percent_change_7d  \n",
       "1              -6.68  "
      ]
     },
     "execution_count": 25,
     "metadata": {},
     "output_type": "execute_result"
    }
   ],
   "source": [
    "df_cmc_USD = pd.DataFrame(coinmarketcap.ticker(start=0, limit=3, convert='USD')['data']['1']['quotes']['USD'].items()).T\n",
    "# df_cmc_USD = df_cmc_USD.reindex(['price', 'volume_24h', 'market_cap', 'percent_change_1h', 'percent_change_24h', 'percent_change_7d'], axis=1)\n",
    "\n",
    "df_cmc_USD"
   ]
  },
  {
   "cell_type": "markdown",
   "metadata": {},
   "source": [
    "### Call below is cached at 120 seconds. Not an issue for a sleep timer.\n",
    "### However each call is the same tickers... documentation does not show how to call new tickers"
   ]
  },
  {
   "cell_type": "code",
   "execution_count": null,
   "metadata": {},
   "outputs": [],
   "source": [
    "api = \"https://api.coinmarketcap.com/v2/ticker/\"\n",
    "raw_data = requests.get(api).json()\n",
    "data = raw_data['data']\n",
    "\n",
    "df = pd.DataFrame()\n",
    "\n",
    "for currency in data:\n",
    "    name = data[currency]['name']\n",
    "    price = data[currency]['quotes']['USD']['price']\n",
    "    change_1h = data[currency]['quotes']['USD']['percent_change_1h']\n",
    "    change_24h = data[currency]['quotes']['USD']['percent_change_24h']\n",
    "    change_7d = data[currency]['quotes']['USD']['percent_change_7d']\n",
    "    \n",
    "    df_2 = pd.DataFrame({'name': [name], 'price': [price], 'change_1h': [change_1h], 'change_24h': [change_24h], 'change_7d': [change_7d]})\n",
    "    \n",
    "    df = df.append(df_2, ignore_index=True)\n",
    "    \n",
    "df"
   ]
  },
  {
   "cell_type": "code",
   "execution_count": 28,
   "metadata": {},
   "outputs": [
    {
     "data": {
      "text/html": [
       "<div>\n",
       "<style scoped>\n",
       "    .dataframe tbody tr th:only-of-type {\n",
       "        vertical-align: middle;\n",
       "    }\n",
       "\n",
       "    .dataframe tbody tr th {\n",
       "        vertical-align: top;\n",
       "    }\n",
       "\n",
       "    .dataframe thead th {\n",
       "        text-align: right;\n",
       "    }\n",
       "</style>\n",
       "<table border=\"1\" class=\"dataframe\">\n",
       "  <thead>\n",
       "    <tr style=\"text-align: right;\">\n",
       "      <th></th>\n",
       "      <th>name</th>\n",
       "      <th>price</th>\n",
       "      <th>change_1h</th>\n",
       "      <th>change_24h</th>\n",
       "      <th>change_7d</th>\n",
       "    </tr>\n",
       "  </thead>\n",
       "  <tbody>\n",
       "    <tr>\n",
       "      <th>0</th>\n",
       "      <td>Bitcoin</td>\n",
       "      <td>8617.688003</td>\n",
       "      <td>-0.35</td>\n",
       "      <td>-1.95</td>\n",
       "      <td>-6.68</td>\n",
       "    </tr>\n",
       "    <tr>\n",
       "      <th>1</th>\n",
       "      <td>Ethereum</td>\n",
       "      <td>183.493907</td>\n",
       "      <td>-0.99</td>\n",
       "      <td>-2.26</td>\n",
       "      <td>-2.01</td>\n",
       "    </tr>\n",
       "    <tr>\n",
       "      <th>2</th>\n",
       "      <td>XRP</td>\n",
       "      <td>0.266968</td>\n",
       "      <td>-0.28</td>\n",
       "      <td>-2.19</td>\n",
       "      <td>-7.38</td>\n",
       "    </tr>\n",
       "    <tr>\n",
       "      <th>3</th>\n",
       "      <td>Bitcoin Cash</td>\n",
       "      <td>273.165148</td>\n",
       "      <td>-1.11</td>\n",
       "      <td>-4.26</td>\n",
       "      <td>-6.54</td>\n",
       "    </tr>\n",
       "    <tr>\n",
       "      <th>4</th>\n",
       "      <td>Tether</td>\n",
       "      <td>1.007406</td>\n",
       "      <td>-0.15</td>\n",
       "      <td>0.34</td>\n",
       "      <td>0.42</td>\n",
       "    </tr>\n",
       "  </tbody>\n",
       "</table>\n",
       "</div>"
      ],
      "text/plain": [
       "           name        price  change_1h  change_24h  change_7d\n",
       "0       Bitcoin  8617.688003      -0.35       -1.95      -6.68\n",
       "1      Ethereum   183.493907      -0.99       -2.26      -2.01\n",
       "2           XRP     0.266968      -0.28       -2.19      -7.38\n",
       "3  Bitcoin Cash   273.165148      -1.11       -4.26      -6.54\n",
       "4        Tether     1.007406      -0.15        0.34       0.42"
      ]
     },
     "execution_count": 28,
     "metadata": {},
     "output_type": "execute_result"
    }
   ],
   "source": [
    "df.head()"
   ]
  },
  {
   "cell_type": "code",
   "execution_count": 33,
   "metadata": {},
   "outputs": [
    {
     "name": "stdout",
     "output_type": "stream",
     "text": [
      "+-------------------------+---------------+-----------+------------+-----------+--------+----------------+------+\n",
      "|           Name          |     Price     | Change 1h | Change 24h | Change 7d | symbol |     supply     | rank |\n",
      "+-------------------------+---------------+-----------+------------+-----------+--------+----------------+------+\n",
      "|      Maximine Coin      |  0.0589737828 |   -1.26   |   41.03    |   182.0   |  MXM   |  1649000000.0  |  63  |\n",
      "|          Seele          |  0.1355270633 |   -1.15   |   21.77    |   65.35   | SEELE  |  696705193.0   |  66  |\n",
      "|         VeChain         |  0.0071981414 |    -1.4   |    14.0    |   26.14   |  VET   | 55454734800.0  |  27  |\n",
      "|          Beldex         |  0.0747463798 |    0.98   |   13.66    |   10.15   |  BDX   |  980222595.0   |  85  |\n",
      "|          Verge          |  0.0044191371 |    0.22   |   12.44    |   11.42   |  XVG   | 16051236999.0  |  89  |\n",
      "|          Tezos          |  1.2463500764 |    0.61   |   10.76    |    2.96   |  XTZ   |  660373612.0   |  18  |\n",
      "|          Decred         | 24.1860027796 |    1.34   |   10.26    |   20.82   |  DCR   |   10675492.0   |  34  |\n",
      "|        FTX Token        |  1.5277236054 |   -0.23   |    8.71    |   12.83   |  FTT   |   52631546.0   |  76  |\n",
      "|     Crypto.com Coin     |  0.0373543179 |   -0.38   |    6.35    |   -2.42   |  CRO   | 11666666667.0  |  26  |\n",
      "|         Bytecoin        |  0.0004222569 |   -0.14   |    4.97    |    1.79   |  BCN   | 184066828814.0 |  79  |\n",
      "|          MINDOL         |  1.5758572887 |    0.24   |    2.12    |   65.06   |  MIN   |  141339316.0   |  37  |\n",
      "|        MEXC Token       |  0.2446463876 |   -0.54   |    2.09    |   12.86   |  MEXC  |  920072826.0   |  36  |\n",
      "|        ThoreNext        |  7.8172289499 |   -0.25   |    1.89    |   -4.65   |  THX   |   21652254.0   |  42  |\n",
      "|        Centrality       |  0.146655816  |    1.13   |    1.85    |    9.33   | CENNZ  |  1063737442.0  |  45  |\n",
      "|        Chainlink        |  3.0534067994 |    0.1    |    1.71    |   12.95   |  LINK  |  350000000.0   |  14  |\n",
      "|           Lisk          |  0.7637709833 |   -0.65   |    1.4     |    -3.8   |  LSK   |  121491781.0   |  67  |\n",
      "|           IOTA          |  0.2621211064 |   -0.43   |    1.27    |   -3.23   | MIOTA  |  2779530283.0  |  20  |\n",
      "|         OmiseGO         |  0.9980963538 |   -0.27   |    1.07    |    0.25   |  OMG   |  140245398.0   |  49  |\n",
      "|          Cosmos         |  3.9382708037 |    0.61   |    0.52    |    0.71   |  ATOM  |  190688439.0   |  19  |\n",
      "|         USD Coin        |  1.0099976711 |   -0.08   |    0.44    |    0.57   |  USDC  |  439148301.0   |  25  |\n",
      "|           Dai           |  1.0110566251 |   -0.11   |    0.43    |    0.41   |  DAI   |  102565499.0   |  62  |\n",
      "|      Paxos Standard     |  1.009866258  |   -0.23   |    0.35    |    0.51   |  PAX   |  231850313.0   |  35  |\n",
      "|         TrueUSD         |  1.007289507  |    -0.3   |    0.27    |    0.37   |  TUSD  |  167660838.0   |  43  |\n",
      "|          Tether         |  1.0064402273 |   -0.24   |    0.24    |    0.32   |  USDT  |  4108044456.0  |  5   |\n",
      "|          Monero         | 65.2924503367 |    0.79   |    0.15    |    3.02   |  XMR   |   17308097.0   |  12  |\n",
      "|       UNUS SED LEO      |  0.9601018805 |   -0.33   |    0.12    |   -3.15   |  LEO   |  999498893.0   |  15  |\n",
      "|          Quant          |  6.6945054111 |   -0.44   |   -0.16    |   -2.35   |  QNT   |   12072738.0   |  74  |\n",
      "|     Bitcoin Diamond     |  0.4927816784 |    2.65   |   -0.33    |   -4.54   |  BCD   |  186492898.0   |  68  |\n",
      "|       BitMax Token      |  0.0694895205 |   -0.72   |   -0.36    |    0.78   |  BTMX  |  787683608.0   |  98  |\n",
      "|      DxChain Token      |  0.0018324321 |   -0.97   |   -0.44    |   55.99   |   DX   | 50000000000.0  |  70  |\n",
      "|           Nexo          |  0.1064995116 |    0.1    |   -0.65    |    3.37   |  NEXO  |  560000011.0   |  94  |\n",
      "|            ZB           |  0.2883505942 |   -0.22   |   -0.68    |   -3.91   |   ZB   |  463288810.0   |  50  |\n",
      "|     Dimension Chain     |  0.3123463367 |   -1.49   |   -0.74    |   -6.86   |  EON   |  244783561.0   |  82  |\n",
      "|          Chiliz         |  0.0141388037 |    -0.2   |   -0.84    |   -0.59   |  CHZ   |  3762769182.0  | 100  |\n",
      "|          Swipe          |  1.2807563257 |   -0.46   |   -0.86    |    0.92   |  SXP   |   61135911.0   |  78  |\n",
      "|           NEM           |  0.0400040428 |   -0.04   |    -0.9    |   -4.26   |  XEM   |  8999999999.0  |  28  |\n",
      "|          Mixin          | 260.980128386 |    -0.8   |   -1.18    |   -0.31   |  XIN   |    463424.0    |  55  |\n",
      "|     Bitbook Gambling    |  0.1960596173 |   -2.39   |   -1.21    |   -3.37   |  BXK   |  368387491.0   |  88  |\n",
      "|         Dogecoin        |  0.0026353704 |   -1.03   |   -1.43    |   -2.29   |  DOGE  | 122050253672.0 |  31  |\n",
      "|          PRIZM          |  0.6834601873 |   -0.41   |   -1.45    |   -11.92  |  PZM   |  385100587.0   |  33  |\n",
      "|           GAPS          |  7.7123286162 |   -1.19   |   -1.45    |   -3.38   |  GAP   |   10000000.0   |  80  |\n",
      "|         MonaCoin        |  1.0690220916 |   -0.46   |   -1.47    |   -2.55   |  MONA  |   65729675.0   |  90  |\n",
      "|         INO COIN        |  1.9735850651 |    -0.6   |   -1.74    |   -2.02   |  INO   |  180003180.0   |  29  |\n",
      "|           Holo          |  0.0009851282 |    0.02   |   -1.75    |    1.23   |  HOT   | 161335841957.0 |  44  |\n",
      "|        ThoreCoin        | 1632.21603254 |   -0.25   |   -1.76    |   -6.64   |  THR   |    86686.0     |  48  |\n",
      "|           EOS           |  3.405697835  |   -0.29   |   -1.78    |   -2.92   |  EOS   |  940206820.0   |  8   |\n",
      "|         Bitcoin         | 8630.76770801 |   -0.11   |   -1.78    |   -6.53   |  BTC   |   18048037.0   |  1   |\n",
      "|       MaidSafeCoin      |  0.1301997948 |   -0.28   |   -1.81    |    -2.2   |  MAID  |  452552412.0   |  95  |\n",
      "|      KuCoin Shares      |  1.1764435143 |   -0.25   |   -1.85    |   -10.34  |  KCS   |   82363551.0   |  64  |\n",
      "|        BitShares        |  0.0263161707 |   -0.59   |   -1.85    |   -10.03  |  BTS   |  2747940000.0  |  87  |\n",
      "|           Dash          | 68.4808867656 |   -0.48   |   -2.04    |    -5.7   |  DASH  |   9154110.0    |  22  |\n",
      "|         Ethereum        |  183.75469286 |   -0.79   |    -2.1    |   -1.86   |  ETH   |  108556744.0   |  2   |\n",
      "|        HedgeTrade       |  0.7280173229 |    0.01   |   -2.12    |   -5.19   |  HEDG  |  288330855.0   |  40  |\n",
      "|           XRP           |  0.2669869409 |   -0.24   |   -2.16    |   -7.35   |  XRP   | 43298481757.0  |  3   |\n",
      "|        Cryptonex        |  1.9618654549 |   -0.19   |   -2.16    |   -3.63   |  CNX   |   55686329.0   |  59  |\n",
      "|          Komodo         |  0.9019466755 |   -0.38   |   -2.18    |   28.47   |  KMD   |  116929088.0   |  60  |\n",
      "|           IOST          |  0.0063398749 |   -0.54   |   -2.22    |   -2.01   |  IOST  | 12013965609.0  |  83  |\n",
      "|       Binance Coin      | 20.8722637468 |   -0.37   |   -2.22    |    1.66   |  BNB   |  155536713.0   |  7   |\n",
      "|          Maker          | 640.233457886 |   -1.24   |   -2.31    |   -4.06   |  MKR   |   1000000.0    |  21  |\n",
      "|          Ardor          |  0.0535986127 |    -0.6   |   -2.32    |   -2.14   |  ARDR  |  998999495.0   |  99  |\n",
      "|         Cardano         |  0.0423452774 |   -0.45   |   -2.35    |   -2.59   |  ADA   | 25927070538.0  |  13  |\n",
      "|          Waves          |  0.7627409381 |   -0.67   |   -2.42    |   -6.21   | WAVES  |  100335346.0   |  81  |\n",
      "|        Bitcoin SV       | 125.179168179 |   -0.19   |   -2.45    |   -5.49   |  BSV   |   18068415.0   |  9   |\n",
      "|        BitTorrent       |  0.0004254005 |   -0.23   |   -2.46    |   -6.55   |  BTT   | 212116500000.0 |  71  |\n",
      "|          Zcash          | 36.0493154485 |   -0.25   |   -2.48    |   -6.43   |  ZEC   |   7852994.0    |  32  |\n",
      "|           OKB           |  3.2371140427 |   -1.03   |   -2.52    |   -1.83   |  OKB   |   20000000.0   |  93  |\n",
      "|         EDUCare         |  0.0998648821 |   -1.14   |   -2.54    |   -17.73  |  EKT   |  950000000.0   |  65  |\n",
      "|     Ethereum Classic    |  4.7364887903 |   -0.09   |   -2.57    |   -9.51   |  ETC   |  115088267.0   |  23  |\n",
      "|           Nano          |  0.9556628613 |   -0.24   |   -2.61    |   -5.79   |  NANO  |  133248297.0   |  52  |\n",
      "|          THETA          |  0.0868785331 |   -0.26   |   -2.83    |   -5.57   | THETA  |  870502690.0   |  84  |\n",
      "|         Litecoin        | 59.2265046634 |   -0.54   |   -2.86    |   -4.42   |  LTC   |   63681683.0   |  6   |\n",
      "|        Silverway        |  0.9175787688 |   -0.36   |   -2.96    |   -13.08  |  SLV   |  100000000.0   |  69  |\n",
      "|  Basic Attention Token  |  0.2507389081 |   -1.39   |    -3.1    |   -0.88   |  BAT   |  1356386751.0  |  30  |\n",
      "|         Stellar         |   0.07366419  |   -0.39   |   -3.17    |   -2.22   |  XLM   | 20054779554.0  |  10  |\n",
      "|        HyperCash        |  1.8183595177 |   -0.29   |   -3.19    |   -5.31   |   HC   |   44429498.0   |  75  |\n",
      "|           Qtum          |  2.2700629549 |    -0.5   |   -3.23    |    2.55   |  QTUM  |   96164596.0   |  38  |\n",
      "|         Algorand        |  0.2810346724 |    0.72   |   -3.33    |    2.84   |  ALGO  |  433293041.0   |  54  |\n",
      "|       Huobi Token       |  3.7459307409 |   -0.78   |   -3.34    |   -5.67   |   HT   |  241284047.0   |  16  |\n",
      "|        Aeternity        |  0.2308056087 |   -0.36   |   -3.72    |   -3.29   |   AE   |  290925862.0   |  92  |\n",
      "|        iExec RLC        |  0.7144171061 |    0.16   |   -3.78    |    7.62   |  RLC   |   80070793.0   |  96  |\n",
      "|       Bitcoin Cash      |  274.01566483 |   -0.77   |   -3.93    |   -6.24   |  BCH   |   18113525.0   |  4   |\n",
      "|       Bitcoin Gold      |  8.1302371288 |   -0.65   |   -4.01    |   -7.77   |  BTG   |   17513924.0   |  46  |\n",
      "|         DigiByte        |  0.0069102703 |   -1.73   |   -4.04    |   -4.86   |  DGB   | 12491128174.0  |  72  |\n",
      "|        V Systems        |  0.076743914  |    0.28   |    -4.1    |    0.53   |  VSYS  |  1851751032.0  |  47  |\n",
      "|        ABBC Coin        |  0.2192284582 |   -0.72   |   -4.16    |    3.09   |  ABBC  |  556626634.0   |  53  |\n",
      "|          Bytom          |  0.1128958505 |   -0.69   |   -4.22    |   -16.33  |  BTM   |  1002499275.0  |  58  |\n",
      "|      Insight Chain      |  0.6169800507 |   -0.52   |   -4.24    |   -16.27  |  INB   |  349902689.0   |  39  |\n",
      "|           LUNA          |  0.3659059962 |    1.21   |   -4.54    |   -17.96  |  LUNA  |  287765804.0   |  61  |\n",
      "|           TRON          |  0.0191696303 |   -0.28   |   -4.76    |   -1.91   |  TRX   | 66682072191.0  |  11  |\n",
      "|           NEO           | 12.4443126442 |   -2.23   |   -4.92    |   11.94   |  NEO   |   70538831.0   |  17  |\n",
      "|           MCO           |   4.27775175  |    0.16   |   -5.02    |    -1.4   |  MCO   |   15793831.0   |  91  |\n",
      "|      Karatgold Coin     |  0.0193038872 |    -0.4   |   -5.16    |   -6.99   |  KBC   |  3752553044.0  |  86  |\n",
      "|         Ontology        |  0.8691627173 |   -1.37   |   -5.23    |   -1.78   |  ONT   |  587351170.0   |  24  |\n",
      "|        Ravencoin        |  0.0266897327 |   -2.01   |   -5.25    |   -9.08   |  RVN   |  4856115000.0  |  51  |\n",
      "|            0x           |  0.2862482527 |    0.2    |   -5.31    |   -7.85   |  ZRX   |  602005041.0   |  41  |\n",
      "|          Augur          | 10.9769100223 |   -1.57   |   -5.35    |   -2.98   |  REP   |   11000000.0   |  56  |\n",
      "|         Siacoin         |  0.0019801332 |   -0.96   |   -6.76    |   -6.27   |   SC   | 41817047634.0  |  73  |\n",
      "|          Aurora         |  0.0086046176 |   -2.06   |   -7.58    |    3.98   |  AOA   |  6542330148.0  |  97  |\n",
      "|           ICON          |  0.1577530914 |   -0.54   |   -7.59    |   -11.65  |  ICX   |  504476900.0   |  77  |\n",
      "| Synthetix Network Token |  0.7991512557 |   -1.07   |   -10.86   |   -5.91   |  SNX   |  145171923.0   |  57  |\n",
      "+-------------------------+---------------+-----------+------------+-----------+--------+----------------+------+\n"
     ]
    }
   ],
   "source": [
    "# experiment with pretty table\n",
    "api = \"https://api.coinmarketcap.com/v2/ticker/\"\n",
    "raw_data = requests.get(api).json()\n",
    "data = raw_data['data']\n",
    "\n",
    "table = PrettyTable()\n",
    "\n",
    "for currency in data:\n",
    "    name = data[currency]['name']\n",
    "    symbol = data[currency]['symbol']\n",
    "    rank = data[currency]['rank']\n",
    "    supply = data[currency]['circulating_supply']\n",
    "    price = data[currency]['quotes']['USD']['price']\n",
    "    change_1h = data[currency]['quotes']['USD']['percent_change_1h']\n",
    "    change_24h = data[currency]['quotes']['USD']['percent_change_24h']\n",
    "    change_7d = data[currency]['quotes']['USD']['percent_change_7d']\n",
    "    \n",
    "\n",
    "    table.add_row([name, price, change_1h, change_24h, change_7d, symbol, supply, rank])\n",
    "\n",
    "table.field_names = [\"Name\",\"Price\",\"Change 1h\",\"Change 24h\",\"Change 7d\",'symbol', 'supply', 'rank']\n",
    "table.sortby = \"Change 24h\"\n",
    "table.reversesort = True\n",
    "print(table)"
   ]
  },
  {
   "cell_type": "code",
   "execution_count": 35,
   "metadata": {},
   "outputs": [
    {
     "ename": "ValueError",
     "evalue": "If using all scalar values, you must pass an index",
     "output_type": "error",
     "traceback": [
      "\u001b[1;31m---------------------------------------------------------------------------\u001b[0m",
      "\u001b[1;31mValueError\u001b[0m                                Traceback (most recent call last)",
      "\u001b[1;32m<ipython-input-35-ab7ada131788>\u001b[0m in \u001b[0;36m<module>\u001b[1;34m\u001b[0m\n\u001b[0;32m     16\u001b[0m     \u001b[0mchange_7d\u001b[0m \u001b[1;33m=\u001b[0m \u001b[0mdata\u001b[0m\u001b[1;33m[\u001b[0m\u001b[0mcurrency\u001b[0m\u001b[1;33m]\u001b[0m\u001b[1;33m[\u001b[0m\u001b[1;34m'quotes'\u001b[0m\u001b[1;33m]\u001b[0m\u001b[1;33m[\u001b[0m\u001b[1;34m'USD'\u001b[0m\u001b[1;33m]\u001b[0m\u001b[1;33m[\u001b[0m\u001b[1;34m'percent_change_7d'\u001b[0m\u001b[1;33m]\u001b[0m\u001b[1;33m\u001b[0m\u001b[1;33m\u001b[0m\u001b[0m\n\u001b[0;32m     17\u001b[0m \u001b[1;33m\u001b[0m\u001b[0m\n\u001b[1;32m---> 18\u001b[1;33m     \u001b[0mdf\u001b[0m \u001b[1;33m=\u001b[0m \u001b[0mpd\u001b[0m\u001b[1;33m.\u001b[0m\u001b[0mDataFrame\u001b[0m\u001b[1;33m(\u001b[0m\u001b[1;33m{\u001b[0m\u001b[1;34m'name'\u001b[0m\u001b[1;33m:\u001b[0m \u001b[0mname\u001b[0m\u001b[1;33m,\u001b[0m\u001b[1;34m'symbole'\u001b[0m\u001b[1;33m:\u001b[0m \u001b[0msymbol\u001b[0m\u001b[1;33m,\u001b[0m\u001b[1;34m'rank'\u001b[0m\u001b[1;33m:\u001b[0m \u001b[0mrank\u001b[0m\u001b[1;33m,\u001b[0m\u001b[1;34m'supply'\u001b[0m\u001b[1;33m:\u001b[0m \u001b[0msupply\u001b[0m\u001b[1;33m,\u001b[0m\u001b[1;34m'price'\u001b[0m\u001b[1;33m:\u001b[0m \u001b[0mprice\u001b[0m\u001b[1;33m,\u001b[0m\u001b[1;34m'pct1h'\u001b[0m\u001b[1;33m:\u001b[0m \u001b[0mchange_1h\u001b[0m\u001b[1;33m,\u001b[0m\u001b[1;34m'pct24h'\u001b[0m\u001b[1;33m:\u001b[0m\u001b[0mchange_24h\u001b[0m \u001b[1;33m,\u001b[0m\u001b[1;34m'pct7d'\u001b[0m\u001b[1;33m:\u001b[0m\u001b[0mchange_7d\u001b[0m\u001b[1;33m}\u001b[0m\u001b[1;33m)\u001b[0m\u001b[1;33m\u001b[0m\u001b[1;33m\u001b[0m\u001b[0m\n\u001b[0m\u001b[0;32m     19\u001b[0m \u001b[1;33m\u001b[0m\u001b[0m\n\u001b[0;32m     20\u001b[0m     \u001b[0mcmc_api_depricated\u001b[0m \u001b[1;33m=\u001b[0m \u001b[0mcmc_api_depricated\u001b[0m\u001b[1;33m.\u001b[0m\u001b[0mappend\u001b[0m\u001b[1;33m(\u001b[0m\u001b[0mdf\u001b[0m\u001b[1;33m,\u001b[0m \u001b[0mignore_index\u001b[0m\u001b[1;33m=\u001b[0m\u001b[1;32mTrue\u001b[0m\u001b[1;33m)\u001b[0m\u001b[1;33m\u001b[0m\u001b[1;33m\u001b[0m\u001b[0m\n",
      "\u001b[1;32m~\\Anaconda3\\lib\\site-packages\\pandas\\core\\frame.py\u001b[0m in \u001b[0;36m__init__\u001b[1;34m(self, data, index, columns, dtype, copy)\u001b[0m\n\u001b[0;32m    390\u001b[0m                                  dtype=dtype, copy=copy)\n\u001b[0;32m    391\u001b[0m         \u001b[1;32melif\u001b[0m \u001b[0misinstance\u001b[0m\u001b[1;33m(\u001b[0m\u001b[0mdata\u001b[0m\u001b[1;33m,\u001b[0m \u001b[0mdict\u001b[0m\u001b[1;33m)\u001b[0m\u001b[1;33m:\u001b[0m\u001b[1;33m\u001b[0m\u001b[1;33m\u001b[0m\u001b[0m\n\u001b[1;32m--> 392\u001b[1;33m             \u001b[0mmgr\u001b[0m \u001b[1;33m=\u001b[0m \u001b[0minit_dict\u001b[0m\u001b[1;33m(\u001b[0m\u001b[0mdata\u001b[0m\u001b[1;33m,\u001b[0m \u001b[0mindex\u001b[0m\u001b[1;33m,\u001b[0m \u001b[0mcolumns\u001b[0m\u001b[1;33m,\u001b[0m \u001b[0mdtype\u001b[0m\u001b[1;33m=\u001b[0m\u001b[0mdtype\u001b[0m\u001b[1;33m)\u001b[0m\u001b[1;33m\u001b[0m\u001b[1;33m\u001b[0m\u001b[0m\n\u001b[0m\u001b[0;32m    393\u001b[0m         \u001b[1;32melif\u001b[0m \u001b[0misinstance\u001b[0m\u001b[1;33m(\u001b[0m\u001b[0mdata\u001b[0m\u001b[1;33m,\u001b[0m \u001b[0mma\u001b[0m\u001b[1;33m.\u001b[0m\u001b[0mMaskedArray\u001b[0m\u001b[1;33m)\u001b[0m\u001b[1;33m:\u001b[0m\u001b[1;33m\u001b[0m\u001b[1;33m\u001b[0m\u001b[0m\n\u001b[0;32m    394\u001b[0m             \u001b[1;32mimport\u001b[0m \u001b[0mnumpy\u001b[0m\u001b[1;33m.\u001b[0m\u001b[0mma\u001b[0m\u001b[1;33m.\u001b[0m\u001b[0mmrecords\u001b[0m \u001b[1;32mas\u001b[0m \u001b[0mmrecords\u001b[0m\u001b[1;33m\u001b[0m\u001b[1;33m\u001b[0m\u001b[0m\n",
      "\u001b[1;32m~\\Anaconda3\\lib\\site-packages\\pandas\\core\\internals\\construction.py\u001b[0m in \u001b[0;36minit_dict\u001b[1;34m(data, index, columns, dtype)\u001b[0m\n\u001b[0;32m    210\u001b[0m         \u001b[0marrays\u001b[0m \u001b[1;33m=\u001b[0m \u001b[1;33m[\u001b[0m\u001b[0mdata\u001b[0m\u001b[1;33m[\u001b[0m\u001b[0mk\u001b[0m\u001b[1;33m]\u001b[0m \u001b[1;32mfor\u001b[0m \u001b[0mk\u001b[0m \u001b[1;32min\u001b[0m \u001b[0mkeys\u001b[0m\u001b[1;33m]\u001b[0m\u001b[1;33m\u001b[0m\u001b[1;33m\u001b[0m\u001b[0m\n\u001b[0;32m    211\u001b[0m \u001b[1;33m\u001b[0m\u001b[0m\n\u001b[1;32m--> 212\u001b[1;33m     \u001b[1;32mreturn\u001b[0m \u001b[0marrays_to_mgr\u001b[0m\u001b[1;33m(\u001b[0m\u001b[0marrays\u001b[0m\u001b[1;33m,\u001b[0m \u001b[0mdata_names\u001b[0m\u001b[1;33m,\u001b[0m \u001b[0mindex\u001b[0m\u001b[1;33m,\u001b[0m \u001b[0mcolumns\u001b[0m\u001b[1;33m,\u001b[0m \u001b[0mdtype\u001b[0m\u001b[1;33m=\u001b[0m\u001b[0mdtype\u001b[0m\u001b[1;33m)\u001b[0m\u001b[1;33m\u001b[0m\u001b[1;33m\u001b[0m\u001b[0m\n\u001b[0m\u001b[0;32m    213\u001b[0m \u001b[1;33m\u001b[0m\u001b[0m\n\u001b[0;32m    214\u001b[0m \u001b[1;33m\u001b[0m\u001b[0m\n",
      "\u001b[1;32m~\\Anaconda3\\lib\\site-packages\\pandas\\core\\internals\\construction.py\u001b[0m in \u001b[0;36marrays_to_mgr\u001b[1;34m(arrays, arr_names, index, columns, dtype)\u001b[0m\n\u001b[0;32m     49\u001b[0m     \u001b[1;31m# figure out the index, if necessary\u001b[0m\u001b[1;33m\u001b[0m\u001b[1;33m\u001b[0m\u001b[1;33m\u001b[0m\u001b[0m\n\u001b[0;32m     50\u001b[0m     \u001b[1;32mif\u001b[0m \u001b[0mindex\u001b[0m \u001b[1;32mis\u001b[0m \u001b[1;32mNone\u001b[0m\u001b[1;33m:\u001b[0m\u001b[1;33m\u001b[0m\u001b[1;33m\u001b[0m\u001b[0m\n\u001b[1;32m---> 51\u001b[1;33m         \u001b[0mindex\u001b[0m \u001b[1;33m=\u001b[0m \u001b[0mextract_index\u001b[0m\u001b[1;33m(\u001b[0m\u001b[0marrays\u001b[0m\u001b[1;33m)\u001b[0m\u001b[1;33m\u001b[0m\u001b[1;33m\u001b[0m\u001b[0m\n\u001b[0m\u001b[0;32m     52\u001b[0m     \u001b[1;32melse\u001b[0m\u001b[1;33m:\u001b[0m\u001b[1;33m\u001b[0m\u001b[1;33m\u001b[0m\u001b[0m\n\u001b[0;32m     53\u001b[0m         \u001b[0mindex\u001b[0m \u001b[1;33m=\u001b[0m \u001b[0mensure_index\u001b[0m\u001b[1;33m(\u001b[0m\u001b[0mindex\u001b[0m\u001b[1;33m)\u001b[0m\u001b[1;33m\u001b[0m\u001b[1;33m\u001b[0m\u001b[0m\n",
      "\u001b[1;32m~\\Anaconda3\\lib\\site-packages\\pandas\\core\\internals\\construction.py\u001b[0m in \u001b[0;36mextract_index\u001b[1;34m(data)\u001b[0m\n\u001b[0;32m    306\u001b[0m \u001b[1;33m\u001b[0m\u001b[0m\n\u001b[0;32m    307\u001b[0m         \u001b[1;32mif\u001b[0m \u001b[1;32mnot\u001b[0m \u001b[0mindexes\u001b[0m \u001b[1;32mand\u001b[0m \u001b[1;32mnot\u001b[0m \u001b[0mraw_lengths\u001b[0m\u001b[1;33m:\u001b[0m\u001b[1;33m\u001b[0m\u001b[1;33m\u001b[0m\u001b[0m\n\u001b[1;32m--> 308\u001b[1;33m             raise ValueError('If using all scalar values, you must pass'\n\u001b[0m\u001b[0;32m    309\u001b[0m                              ' an index')\n\u001b[0;32m    310\u001b[0m \u001b[1;33m\u001b[0m\u001b[0m\n",
      "\u001b[1;31mValueError\u001b[0m: If using all scalar values, you must pass an index"
     ]
    }
   ],
   "source": [
    "# experiment with pretty table\n",
    "api = \"https://api.coinmarketcap.com/v2/ticker/\"\n",
    "raw_data = requests.get(api).json()\n",
    "data = raw_data['data']\n",
    "\n",
    "cmc_api_depricated = pd.DataFrame()\n",
    "\n",
    "for currency in data:\n",
    "    name = data[currency]['name']\n",
    "    symbol = data[currency]['symbol']\n",
    "    rank = data[currency]['rank']\n",
    "    supply = data[currency]['circulating_supply']\n",
    "    price = data[currency]['quotes']['USD']['price']\n",
    "    change_1h = data[currency]['quotes']['USD']['percent_change_1h']\n",
    "    change_24h = data[currency]['quotes']['USD']['percent_change_24h']\n",
    "    change_7d = data[currency]['quotes']['USD']['percent_change_7d']\n",
    "    \n",
    "    df = pd.DataFrame({'name': name,'symbol': symbol,'rank': rank,'supply': supply,'price': price,'pct1h': change_1h,'pct24h':change_24h ,'pct7d':change_7d})\n",
    "    \n",
    "    cmc_api_depricated = cmc_api_depricated.append(df, ignore_index=True)\n",
    "    "
   ]
  },
  {
   "cell_type": "code",
   "execution_count": null,
   "metadata": {},
   "outputs": [],
   "source": []
  }
 ],
 "metadata": {
  "kernelspec": {
   "display_name": "Python 3",
   "language": "python",
   "name": "python3"
  },
  "language_info": {
   "codemirror_mode": {
    "name": "ipython",
    "version": 3
   },
   "file_extension": ".py",
   "mimetype": "text/x-python",
   "name": "python",
   "nbconvert_exporter": "python",
   "pygments_lexer": "ipython3",
   "version": "3.7.3"
  }
 },
 "nbformat": 4,
 "nbformat_minor": 4
}
