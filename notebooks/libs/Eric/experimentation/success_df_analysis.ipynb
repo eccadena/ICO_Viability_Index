{
 "cells": [
  {
   "cell_type": "markdown",
   "metadata": {},
   "source": [
    "# Working with final df to scale everything."
   ]
  },
  {
   "cell_type": "code",
   "execution_count": 106,
   "metadata": {},
   "outputs": [],
   "source": [
    "import pandas as pd\n",
    "from path import Path\n",
    "\n",
    "import requests\n",
    "import pprint\n",
    "import requests\n",
    "from requests.exceptions import HTTPError\n",
    "from datetime import datetime as dt\n",
    "import pandas as pd\n",
    "import numpy as np\n",
    "import timeit\n",
    "import time\n",
    "import datetime\n",
    "import copy\n",
    "\n",
    "import numpy as np\n",
    "from sklearn import preprocessing\n",
    "%matplotlib inline\n",
    "\n",
    "import pandas as pd\n",
    "from path import Path\n",
    "from sklearn.preprocessing import StandardScaler\n",
    "from sklearn.decomposition import PCA\n",
    "from sklearn.cluster import KMeans\n",
    "import hvplot.pandas\n",
    "\n",
    "import plotly.express as px\n",
    "\n",
    "import matplotlib.pyplot as plt"
   ]
  },
  {
   "cell_type": "code",
   "execution_count": 107,
   "metadata": {},
   "outputs": [],
   "source": [
    "file_path = Path(\"../../../../data/cleandata/test_and_post_ico/ico_test_df.csv\")"
   ]
  },
  {
   "cell_type": "code",
   "execution_count": 108,
   "metadata": {},
   "outputs": [],
   "source": [
    "success_df = pd.read_csv(file_path)"
   ]
  },
  {
   "cell_type": "code",
   "execution_count": 109,
   "metadata": {},
   "outputs": [],
   "source": [
    "success_df.drop(columns = ['custom_index_scaled','custom_index', 'success_index'], inplace = True)"
   ]
  },
  {
   "cell_type": "code",
   "execution_count": 110,
   "metadata": {},
   "outputs": [
    {
     "data": {
      "text/html": [
       "<div>\n",
       "<style scoped>\n",
       "    .dataframe tbody tr th:only-of-type {\n",
       "        vertical-align: middle;\n",
       "    }\n",
       "\n",
       "    .dataframe tbody tr th {\n",
       "        vertical-align: top;\n",
       "    }\n",
       "\n",
       "    .dataframe thead th {\n",
       "        text-align: right;\n",
       "    }\n",
       "</style>\n",
       "<table border=\"1\" class=\"dataframe\">\n",
       "  <thead>\n",
       "    <tr style=\"text-align: right;\">\n",
       "      <th></th>\n",
       "      <th>rank_cnc</th>\n",
       "      <th>Name</th>\n",
       "      <th>Ticker</th>\n",
       "      <th>market_cap</th>\n",
       "      <th>price</th>\n",
       "      <th>volume24</th>\n",
       "      <th>pct1h</th>\n",
       "      <th>pct24h</th>\n",
       "      <th>pct7d</th>\n",
       "      <th>country</th>\n",
       "      <th>...</th>\n",
       "      <th>pre_Duration</th>\n",
       "      <th>compound</th>\n",
       "      <th>negative</th>\n",
       "      <th>neutral</th>\n",
       "      <th>positive</th>\n",
       "      <th>no_of_posts</th>\n",
       "      <th>Longevity</th>\n",
       "      <th>success_PCA</th>\n",
       "      <th>predicted_NN</th>\n",
       "      <th>success</th>\n",
       "    </tr>\n",
       "  </thead>\n",
       "  <tbody>\n",
       "    <tr>\n",
       "      <th>0</th>\n",
       "      <td>35.0</td>\n",
       "      <td>0x</td>\n",
       "      <td>ZRX</td>\n",
       "      <td>210898190</td>\n",
       "      <td>0.731445</td>\n",
       "      <td>195643</td>\n",
       "      <td>0.29</td>\n",
       "      <td>-1.2</td>\n",
       "      <td>-4.96</td>\n",
       "      <td>United States of America</td>\n",
       "      <td>...</td>\n",
       "      <td>0 days 00:00:00.000000000</td>\n",
       "      <td>-0.115233</td>\n",
       "      <td>0.022333</td>\n",
       "      <td>0.029333</td>\n",
       "      <td>0.948333</td>\n",
       "      <td>3.0</td>\n",
       "      <td>364.0</td>\n",
       "      <td>0</td>\n",
       "      <td>0.000003</td>\n",
       "      <td>0.0</td>\n",
       "    </tr>\n",
       "  </tbody>\n",
       "</table>\n",
       "<p>1 rows × 29 columns</p>\n",
       "</div>"
      ],
      "text/plain": [
       "   rank_cnc Name Ticker  market_cap     price  volume24  pct1h  pct24h  pct7d  \\\n",
       "0      35.0   0x    ZRX   210898190  0.731445    195643   0.29    -1.2  -4.96   \n",
       "\n",
       "                    country  ...               pre_Duration  compound  \\\n",
       "0  United States of America  ...  0 days 00:00:00.000000000 -0.115233   \n",
       "\n",
       "   negative   neutral  positive no_of_posts Longevity success_PCA  \\\n",
       "0  0.022333  0.029333  0.948333         3.0     364.0           0   \n",
       "\n",
       "   predicted_NN success  \n",
       "0      0.000003     0.0  \n",
       "\n",
       "[1 rows x 29 columns]"
      ]
     },
     "execution_count": 110,
     "metadata": {},
     "output_type": "execute_result"
    }
   ],
   "source": [
    "success_df.head(1)"
   ]
  },
  {
   "cell_type": "code",
   "execution_count": 111,
   "metadata": {},
   "outputs": [
    {
     "data": {
      "text/plain": [
       "(535, 29)"
      ]
     },
     "execution_count": 111,
     "metadata": {},
     "output_type": "execute_result"
    }
   ],
   "source": [
    "success_df.shape"
   ]
  },
  {
   "cell_type": "markdown",
   "metadata": {},
   "source": [
    "# drop unncessary columns and scale all"
   ]
  },
  {
   "cell_type": "code",
   "execution_count": 112,
   "metadata": {},
   "outputs": [
    {
     "data": {
      "text/plain": [
       "Index(['rank_cnc', 'Name', 'Ticker', 'market_cap', 'price', 'volume24',\n",
       "       'pct1h', 'pct24h', 'pct7d', 'country', 'platform', 'pre_ico_end',\n",
       "       'pre_ico_start', 'rating', 'status', 'type', 'End', 'Start', 'Duration',\n",
       "       'pre_Duration', 'compound', 'negative', 'neutral', 'positive',\n",
       "       'no_of_posts', 'Longevity', 'success_PCA', 'predicted_NN', 'success'],\n",
       "      dtype='object')"
      ]
     },
     "execution_count": 112,
     "metadata": {},
     "output_type": "execute_result"
    }
   ],
   "source": [
    "success_df.columns"
   ]
  },
  {
   "cell_type": "code",
   "execution_count": 113,
   "metadata": {},
   "outputs": [],
   "source": [
    "success_df.drop(columns = ['country', 'platform', 'pre_ico_end',\n",
    "       'pre_ico_start', 'status', 'type', 'End', 'Start', 'predicted_NN', 'success_PCA', 'price'], inplace = True)"
   ]
  },
  {
   "cell_type": "code",
   "execution_count": 114,
   "metadata": {},
   "outputs": [
    {
     "data": {
      "text/plain": [
       "Index(['rank_cnc', 'Name', 'Ticker', 'market_cap', 'volume24', 'pct1h',\n",
       "       'pct24h', 'pct7d', 'rating', 'Duration', 'pre_Duration', 'compound',\n",
       "       'negative', 'neutral', 'positive', 'no_of_posts', 'Longevity',\n",
       "       'success'],\n",
       "      dtype='object')"
      ]
     },
     "execution_count": 114,
     "metadata": {},
     "output_type": "execute_result"
    }
   ],
   "source": [
    "success_df.columns"
   ]
  },
  {
   "cell_type": "code",
   "execution_count": 115,
   "metadata": {},
   "outputs": [
    {
     "data": {
      "text/plain": [
       "0    0 days 00:00:00.000000000\n",
       "1    0 days 00:00:00.000000000\n",
       "2    0 days 00:00:00.000000000\n",
       "3    0 days 00:00:00.000000000\n",
       "4    0 days 00:00:00.000000000\n",
       "Name: pre_Duration, dtype: object"
      ]
     },
     "execution_count": 115,
     "metadata": {},
     "output_type": "execute_result"
    }
   ],
   "source": [
    "success_df['pre_Duration'].head()"
   ]
  },
  {
   "cell_type": "code",
   "execution_count": 116,
   "metadata": {},
   "outputs": [],
   "source": [
    "def removing_days(df):\n",
    "    \n",
    "    for i in range(len(df)) : \n",
    "        #print(str(df.at[i,\"pre_Duration\"])[:-24])\n",
    "        df.at[i,'pre_Duration'] = int(str(df.at[i, \"pre_Duration\"])[:-24])\n",
    "    return df"
   ]
  },
  {
   "cell_type": "code",
   "execution_count": 117,
   "metadata": {},
   "outputs": [
    {
     "data": {
      "text/html": [
       "<div>\n",
       "<style scoped>\n",
       "    .dataframe tbody tr th:only-of-type {\n",
       "        vertical-align: middle;\n",
       "    }\n",
       "\n",
       "    .dataframe tbody tr th {\n",
       "        vertical-align: top;\n",
       "    }\n",
       "\n",
       "    .dataframe thead th {\n",
       "        text-align: right;\n",
       "    }\n",
       "</style>\n",
       "<table border=\"1\" class=\"dataframe\">\n",
       "  <thead>\n",
       "    <tr style=\"text-align: right;\">\n",
       "      <th></th>\n",
       "      <th>rank_cnc</th>\n",
       "      <th>Name</th>\n",
       "      <th>Ticker</th>\n",
       "      <th>market_cap</th>\n",
       "      <th>volume24</th>\n",
       "      <th>pct1h</th>\n",
       "      <th>pct24h</th>\n",
       "      <th>pct7d</th>\n",
       "      <th>rating</th>\n",
       "      <th>Duration</th>\n",
       "      <th>pre_Duration</th>\n",
       "      <th>compound</th>\n",
       "      <th>negative</th>\n",
       "      <th>neutral</th>\n",
       "      <th>positive</th>\n",
       "      <th>no_of_posts</th>\n",
       "      <th>Longevity</th>\n",
       "      <th>success</th>\n",
       "    </tr>\n",
       "  </thead>\n",
       "  <tbody>\n",
       "    <tr>\n",
       "      <th>0</th>\n",
       "      <td>35.0</td>\n",
       "      <td>0x</td>\n",
       "      <td>ZRX</td>\n",
       "      <td>210898190</td>\n",
       "      <td>195643</td>\n",
       "      <td>0.29</td>\n",
       "      <td>-1.20</td>\n",
       "      <td>-4.96</td>\n",
       "      <td>2.6</td>\n",
       "      <td>31</td>\n",
       "      <td>0</td>\n",
       "      <td>-0.115233</td>\n",
       "      <td>0.022333</td>\n",
       "      <td>0.029333</td>\n",
       "      <td>0.948333</td>\n",
       "      <td>3.0</td>\n",
       "      <td>364.0</td>\n",
       "      <td>0.0</td>\n",
       "    </tr>\n",
       "    <tr>\n",
       "      <th>1</th>\n",
       "      <td>359.0</td>\n",
       "      <td>Perlin</td>\n",
       "      <td>PERL</td>\n",
       "      <td>7547077</td>\n",
       "      <td>23506334</td>\n",
       "      <td>0.79</td>\n",
       "      <td>1.16</td>\n",
       "      <td>-8.86</td>\n",
       "      <td>4.6</td>\n",
       "      <td>49</td>\n",
       "      <td>0</td>\n",
       "      <td>0.817167</td>\n",
       "      <td>0.053167</td>\n",
       "      <td>0.830500</td>\n",
       "      <td>0.116000</td>\n",
       "      <td>6.0</td>\n",
       "      <td>367.0</td>\n",
       "      <td>0.0</td>\n",
       "    </tr>\n",
       "    <tr>\n",
       "      <th>2</th>\n",
       "      <td>823.0</td>\n",
       "      <td>Medicalchain</td>\n",
       "      <td>MTN</td>\n",
       "      <td>1279470</td>\n",
       "      <td>52</td>\n",
       "      <td>-0.20</td>\n",
       "      <td>-34.19</td>\n",
       "      <td>-6.05</td>\n",
       "      <td>5.0</td>\n",
       "      <td>86</td>\n",
       "      <td>0</td>\n",
       "      <td>0.746697</td>\n",
       "      <td>0.025394</td>\n",
       "      <td>0.892535</td>\n",
       "      <td>0.082042</td>\n",
       "      <td>71.0</td>\n",
       "      <td>381.0</td>\n",
       "      <td>0.0</td>\n",
       "    </tr>\n",
       "    <tr>\n",
       "      <th>3</th>\n",
       "      <td>1310.0</td>\n",
       "      <td>GoPower</td>\n",
       "      <td>GPT</td>\n",
       "      <td>204249</td>\n",
       "      <td>0</td>\n",
       "      <td>0.00</td>\n",
       "      <td>-0.06</td>\n",
       "      <td>5.58</td>\n",
       "      <td>3.3</td>\n",
       "      <td>60</td>\n",
       "      <td>0</td>\n",
       "      <td>-0.356840</td>\n",
       "      <td>0.016600</td>\n",
       "      <td>0.975800</td>\n",
       "      <td>0.007200</td>\n",
       "      <td>5.0</td>\n",
       "      <td>381.0</td>\n",
       "      <td>0.0</td>\n",
       "    </tr>\n",
       "    <tr>\n",
       "      <th>4</th>\n",
       "      <td>603.0</td>\n",
       "      <td>Swarm</td>\n",
       "      <td>SWM</td>\n",
       "      <td>2752050</td>\n",
       "      <td>5</td>\n",
       "      <td>-0.21</td>\n",
       "      <td>-5.07</td>\n",
       "      <td>2.12</td>\n",
       "      <td>3.5</td>\n",
       "      <td>13</td>\n",
       "      <td>0</td>\n",
       "      <td>0.435584</td>\n",
       "      <td>0.069211</td>\n",
       "      <td>0.032684</td>\n",
       "      <td>0.898158</td>\n",
       "      <td>19.0</td>\n",
       "      <td>381.0</td>\n",
       "      <td>0.0</td>\n",
       "    </tr>\n",
       "  </tbody>\n",
       "</table>\n",
       "</div>"
      ],
      "text/plain": [
       "   rank_cnc           Name Ticker  market_cap  volume24  pct1h  pct24h  pct7d  \\\n",
       "0      35.0             0x    ZRX   210898190    195643   0.29   -1.20  -4.96   \n",
       "1     359.0         Perlin   PERL     7547077  23506334   0.79    1.16  -8.86   \n",
       "2     823.0   Medicalchain    MTN     1279470        52  -0.20  -34.19  -6.05   \n",
       "3    1310.0        GoPower    GPT      204249         0   0.00   -0.06   5.58   \n",
       "4     603.0          Swarm    SWM     2752050         5  -0.21   -5.07   2.12   \n",
       "\n",
       "   rating  Duration pre_Duration  compound  negative   neutral  positive  \\\n",
       "0     2.6        31            0 -0.115233  0.022333  0.029333  0.948333   \n",
       "1     4.6        49            0  0.817167  0.053167  0.830500  0.116000   \n",
       "2     5.0        86            0  0.746697  0.025394  0.892535  0.082042   \n",
       "3     3.3        60            0 -0.356840  0.016600  0.975800  0.007200   \n",
       "4     3.5        13            0  0.435584  0.069211  0.032684  0.898158   \n",
       "\n",
       "   no_of_posts  Longevity  success  \n",
       "0          3.0      364.0      0.0  \n",
       "1          6.0      367.0      0.0  \n",
       "2         71.0      381.0      0.0  \n",
       "3          5.0      381.0      0.0  \n",
       "4         19.0      381.0      0.0  "
      ]
     },
     "execution_count": 117,
     "metadata": {},
     "output_type": "execute_result"
    }
   ],
   "source": [
    "removing_days(success_df).head()"
   ]
  },
  {
   "cell_type": "code",
   "execution_count": 118,
   "metadata": {},
   "outputs": [],
   "source": [
    "success_df['pre_Duration'] = success_df['pre_Duration'].astype(int)"
   ]
  },
  {
   "cell_type": "code",
   "execution_count": 119,
   "metadata": {},
   "outputs": [],
   "source": [
    "# Note above\n",
    "#removing_days(success_df)"
   ]
  },
  {
   "cell_type": "code",
   "execution_count": 120,
   "metadata": {},
   "outputs": [
    {
     "data": {
      "text/plain": [
       "rank_cnc        float64\n",
       "Name             object\n",
       "Ticker           object\n",
       "market_cap        int64\n",
       "volume24          int64\n",
       "pct1h           float64\n",
       "pct24h          float64\n",
       "pct7d           float64\n",
       "rating          float64\n",
       "Duration          int64\n",
       "pre_Duration      int32\n",
       "compound        float64\n",
       "negative        float64\n",
       "neutral         float64\n",
       "positive        float64\n",
       "no_of_posts     float64\n",
       "Longevity       float64\n",
       "success         float64\n",
       "dtype: object"
      ]
     },
     "execution_count": 120,
     "metadata": {},
     "output_type": "execute_result"
    }
   ],
   "source": [
    "success_df.dtypes"
   ]
  },
  {
   "cell_type": "code",
   "execution_count": 121,
   "metadata": {},
   "outputs": [
    {
     "data": {
      "text/html": [
       "<div>\n",
       "<style scoped>\n",
       "    .dataframe tbody tr th:only-of-type {\n",
       "        vertical-align: middle;\n",
       "    }\n",
       "\n",
       "    .dataframe tbody tr th {\n",
       "        vertical-align: top;\n",
       "    }\n",
       "\n",
       "    .dataframe thead th {\n",
       "        text-align: right;\n",
       "    }\n",
       "</style>\n",
       "<table border=\"1\" class=\"dataframe\">\n",
       "  <thead>\n",
       "    <tr style=\"text-align: right;\">\n",
       "      <th></th>\n",
       "      <th>rank_cnc</th>\n",
       "      <th>Name</th>\n",
       "      <th>Ticker</th>\n",
       "      <th>market_cap</th>\n",
       "      <th>volume24</th>\n",
       "      <th>pct1h</th>\n",
       "      <th>pct24h</th>\n",
       "      <th>pct7d</th>\n",
       "      <th>rating</th>\n",
       "      <th>Duration</th>\n",
       "      <th>pre_Duration</th>\n",
       "      <th>compound</th>\n",
       "      <th>negative</th>\n",
       "      <th>neutral</th>\n",
       "      <th>positive</th>\n",
       "      <th>no_of_posts</th>\n",
       "      <th>Longevity</th>\n",
       "      <th>success</th>\n",
       "    </tr>\n",
       "  </thead>\n",
       "  <tbody>\n",
       "    <tr>\n",
       "      <th>0</th>\n",
       "      <td>35.0</td>\n",
       "      <td>0x</td>\n",
       "      <td>ZRX</td>\n",
       "      <td>210898190</td>\n",
       "      <td>195643</td>\n",
       "      <td>0.29</td>\n",
       "      <td>-1.2</td>\n",
       "      <td>-4.96</td>\n",
       "      <td>2.6</td>\n",
       "      <td>31</td>\n",
       "      <td>0</td>\n",
       "      <td>-0.115233</td>\n",
       "      <td>0.022333</td>\n",
       "      <td>0.029333</td>\n",
       "      <td>0.948333</td>\n",
       "      <td>3.0</td>\n",
       "      <td>364.0</td>\n",
       "      <td>0.0</td>\n",
       "    </tr>\n",
       "  </tbody>\n",
       "</table>\n",
       "</div>"
      ],
      "text/plain": [
       "   rank_cnc Name Ticker  market_cap  volume24  pct1h  pct24h  pct7d  rating  \\\n",
       "0      35.0   0x    ZRX   210898190    195643   0.29    -1.2  -4.96     2.6   \n",
       "\n",
       "   Duration  pre_Duration  compound  negative   neutral  positive  \\\n",
       "0        31             0 -0.115233  0.022333  0.029333  0.948333   \n",
       "\n",
       "   no_of_posts  Longevity  success  \n",
       "0          3.0      364.0      0.0  "
      ]
     },
     "execution_count": 121,
     "metadata": {},
     "output_type": "execute_result"
    }
   ],
   "source": [
    "success_df.head(1)"
   ]
  },
  {
   "cell_type": "code",
   "execution_count": 122,
   "metadata": {},
   "outputs": [],
   "source": [
    "#these kept coming up as an issue...\n",
    "success_df.replace(\"1,284.19\",\"1284.19\", inplace=True)\n",
    "\n",
    "success_df.replace(\"-126 d\",\"-126\", inplace=True)"
   ]
  },
  {
   "cell_type": "code",
   "execution_count": 123,
   "metadata": {},
   "outputs": [],
   "source": [
    "file_path = Path(\"../../../../data/cleandata/1hot_merged_post_ICO.csv\")\n",
    "df = pd.read_csv(file_path)"
   ]
  },
  {
   "cell_type": "code",
   "execution_count": 124,
   "metadata": {},
   "outputs": [],
   "source": [
    "df = df[['Name','Ticker','Twitter_Compound', 'Twitter_Negative', 'Twitter_Neutral','Twitter_Positive']]"
   ]
  },
  {
   "cell_type": "code",
   "execution_count": 125,
   "metadata": {},
   "outputs": [],
   "source": [
    "#merging twitter and success by Name\n",
    "success_df = pd.merge(left=success_df, right=df, left_on='Name', right_on='Name')"
   ]
  },
  {
   "cell_type": "code",
   "execution_count": 126,
   "metadata": {},
   "outputs": [],
   "source": [
    "success_df.drop(columns = ['Name', 'Ticker_x', 'Ticker_y'], inplace = True)"
   ]
  },
  {
   "cell_type": "code",
   "execution_count": 127,
   "metadata": {},
   "outputs": [
    {
     "data": {
      "text/plain": [
       "Index(['rank_cnc', 'market_cap', 'volume24', 'pct1h', 'pct24h', 'pct7d',\n",
       "       'rating', 'Duration', 'pre_Duration', 'compound', 'negative', 'neutral',\n",
       "       'positive', 'no_of_posts', 'Longevity', 'success', 'Twitter_Compound',\n",
       "       'Twitter_Negative', 'Twitter_Neutral', 'Twitter_Positive'],\n",
       "      dtype='object')"
      ]
     },
     "execution_count": 127,
     "metadata": {},
     "output_type": "execute_result"
    }
   ],
   "source": [
    "success_df.columns"
   ]
  },
  {
   "cell_type": "code",
   "execution_count": 255,
   "metadata": {},
   "outputs": [],
   "source": []
  },
  {
   "cell_type": "code",
   "execution_count": 128,
   "metadata": {},
   "outputs": [
    {
     "data": {
      "text/plain": [
       "rank_cnc            float64\n",
       "market_cap            int64\n",
       "volume24              int64\n",
       "pct1h               float64\n",
       "pct24h              float64\n",
       "pct7d               float64\n",
       "rating              float64\n",
       "Duration              int64\n",
       "pre_Duration          int64\n",
       "compound            float64\n",
       "negative            float64\n",
       "neutral             float64\n",
       "positive            float64\n",
       "no_of_posts         float64\n",
       "Longevity           float64\n",
       "success             float64\n",
       "Twitter_Compound    float64\n",
       "Twitter_Negative    float64\n",
       "Twitter_Neutral     float64\n",
       "Twitter_Positive    float64\n",
       "dtype: object"
      ]
     },
     "execution_count": 128,
     "metadata": {},
     "output_type": "execute_result"
    }
   ],
   "source": [
    "success_df.dtypes\n",
    "# Removing ETH... very successful but highly skewing the processes. Needed when you are using ETH!\n",
    "#success_df = success_df.iloc[1:]"
   ]
  },
  {
   "cell_type": "markdown",
   "metadata": {},
   "source": [
    "### Start PCA"
   ]
  },
  {
   "cell_type": "code",
   "execution_count": 129,
   "metadata": {},
   "outputs": [],
   "source": [
    "success_scaled = StandardScaler().fit_transform(success_df)"
   ]
  },
  {
   "cell_type": "code",
   "execution_count": 130,
   "metadata": {},
   "outputs": [
    {
     "data": {
      "text/plain": [
       "array([[-1.46339295,  0.80057162, -0.1090052 , ..., -0.35089677,\n",
       "         0.62489674, -0.78258118],\n",
       "       [-0.93662757, -0.10858557,  0.15757469, ...,  0.449811  ,\n",
       "         0.51067195, -0.68201754],\n",
       "       [-0.18224751, -0.13660725, -0.11124197, ...,  0.04071244,\n",
       "         0.30293267,  0.51907275],\n",
       "       ...,\n",
       "       [-1.01304106, -0.09832618, -0.11123235, ...,  1.34804087,\n",
       "         0.32146644, -0.28225373],\n",
       "       [-1.4081151 ,  0.20252329,  0.16943024, ..., -0.72444633,\n",
       "         0.52680263, -0.11685102],\n",
       "       [-1.28455285, -0.03267193, -0.107162  , ..., -0.72444633,\n",
       "         0.13785305,  1.71298487]])"
      ]
     },
     "execution_count": 130,
     "metadata": {},
     "output_type": "execute_result"
    }
   ],
   "source": [
    "success_scaled"
   ]
  },
  {
   "cell_type": "code",
   "execution_count": 141,
   "metadata": {},
   "outputs": [],
   "source": [
    "pca = PCA(n_components=6)"
   ]
  },
  {
   "cell_type": "code",
   "execution_count": 142,
   "metadata": {},
   "outputs": [
    {
     "data": {
      "text/plain": [
       "20"
      ]
     },
     "execution_count": 142,
     "metadata": {},
     "output_type": "execute_result"
    }
   ],
   "source": [
    "success_scaled.shape[1] #number of features... ie, the number of components minus 1 we can use."
   ]
  },
  {
   "cell_type": "code",
   "execution_count": 143,
   "metadata": {},
   "outputs": [],
   "source": [
    "success_pca = pca.fit_transform(success_scaled)"
   ]
  },
  {
   "cell_type": "code",
   "execution_count": 145,
   "metadata": {},
   "outputs": [
    {
     "data": {
      "text/html": [
       "<div>\n",
       "<style scoped>\n",
       "    .dataframe tbody tr th:only-of-type {\n",
       "        vertical-align: middle;\n",
       "    }\n",
       "\n",
       "    .dataframe tbody tr th {\n",
       "        vertical-align: top;\n",
       "    }\n",
       "\n",
       "    .dataframe thead th {\n",
       "        text-align: right;\n",
       "    }\n",
       "</style>\n",
       "<table border=\"1\" class=\"dataframe\">\n",
       "  <thead>\n",
       "    <tr style=\"text-align: right;\">\n",
       "      <th></th>\n",
       "      <th>principal component 1</th>\n",
       "      <th>principal component 2</th>\n",
       "      <th>principal component 3</th>\n",
       "      <th>principal component 4</th>\n",
       "      <th>principal component 5</th>\n",
       "      <th>principal component 6</th>\n",
       "    </tr>\n",
       "  </thead>\n",
       "  <tbody>\n",
       "    <tr>\n",
       "      <th>0</th>\n",
       "      <td>0.843943</td>\n",
       "      <td>0.160179</td>\n",
       "      <td>0.082077</td>\n",
       "      <td>0.233779</td>\n",
       "      <td>0.034743</td>\n",
       "      <td>1.648387</td>\n",
       "    </tr>\n",
       "    <tr>\n",
       "      <th>1</th>\n",
       "      <td>-0.475742</td>\n",
       "      <td>-0.029405</td>\n",
       "      <td>1.523160</td>\n",
       "      <td>-1.246973</td>\n",
       "      <td>-0.131856</td>\n",
       "      <td>-0.845201</td>\n",
       "    </tr>\n",
       "    <tr>\n",
       "      <th>2</th>\n",
       "      <td>-1.105605</td>\n",
       "      <td>0.209994</td>\n",
       "      <td>0.515133</td>\n",
       "      <td>-2.792764</td>\n",
       "      <td>0.266939</td>\n",
       "      <td>-0.803782</td>\n",
       "    </tr>\n",
       "    <tr>\n",
       "      <th>3</th>\n",
       "      <td>-1.914812</td>\n",
       "      <td>-0.405088</td>\n",
       "      <td>1.142618</td>\n",
       "      <td>-0.769082</td>\n",
       "      <td>0.569510</td>\n",
       "      <td>0.678509</td>\n",
       "    </tr>\n",
       "    <tr>\n",
       "      <th>4</th>\n",
       "      <td>1.280394</td>\n",
       "      <td>-0.741815</td>\n",
       "      <td>-0.389472</td>\n",
       "      <td>-0.738458</td>\n",
       "      <td>-0.268929</td>\n",
       "      <td>-0.502905</td>\n",
       "    </tr>\n",
       "  </tbody>\n",
       "</table>\n",
       "</div>"
      ],
      "text/plain": [
       "   principal component 1  principal component 2  principal component 3  \\\n",
       "0               0.843943               0.160179               0.082077   \n",
       "1              -0.475742              -0.029405               1.523160   \n",
       "2              -1.105605               0.209994               0.515133   \n",
       "3              -1.914812              -0.405088               1.142618   \n",
       "4               1.280394              -0.741815              -0.389472   \n",
       "\n",
       "   principal component 4  principal component 5  principal component 6  \n",
       "0               0.233779               0.034743               1.648387  \n",
       "1              -1.246973              -0.131856              -0.845201  \n",
       "2              -2.792764               0.266939              -0.803782  \n",
       "3              -0.769082               0.569510               0.678509  \n",
       "4              -0.738458              -0.268929              -0.502905  "
      ]
     },
     "execution_count": 145,
     "metadata": {},
     "output_type": "execute_result"
    }
   ],
   "source": [
    "# Transform PCA data to a DataFrame\n",
    "df_success_pca = pd.DataFrame(\n",
    "    data=success_pca, columns=[\"principal component 1\", \"principal component 2\", 'principal component 3', 'principal component 4','principal component 5','principal component 6'])\n",
    "df_success_pca.head()"
   ]
  },
  {
   "cell_type": "code",
   "execution_count": 146,
   "metadata": {},
   "outputs": [
    {
     "data": {
      "text/plain": [
       "0.5664890695379774"
      ]
     },
     "execution_count": 146,
     "metadata": {},
     "output_type": "execute_result"
    }
   ],
   "source": [
    "pca.explained_variance_ratio_.sum() #horrible but 3 what we need according to the elbow curve"
   ]
  },
  {
   "cell_type": "code",
   "execution_count": 147,
   "metadata": {},
   "outputs": [
    {
     "data": {
      "application/vnd.holoviews_exec.v0+json": "",
      "text/html": [
       "<div id='1109' style='display: table; margin: 0 auto;'>\n",
       "\n",
       "\n",
       "\n",
       "\n",
       "\n",
       "  <div class=\"bk-root\" id=\"dbb2cdc6-51ac-4bbe-80ef-5e9c091d4dde\" data-root-id=\"1109\"></div>\n",
       "</div>\n",
       "<script type=\"application/javascript\">(function(root) {\n",
       "  function embed_document(root) {\n",
       "    \n",
       "  var docs_json = {\"543db45a-2075-41ee-b051-3aa6ad349c56\":{\"roots\":{\"references\":[{\"attributes\":{\"below\":[{\"id\":\"1118\",\"type\":\"LinearAxis\"}],\"center\":[{\"id\":\"1122\",\"type\":\"Grid\"},{\"id\":\"1127\",\"type\":\"Grid\"}],\"left\":[{\"id\":\"1123\",\"type\":\"LinearAxis\"}],\"margin\":null,\"min_border_bottom\":10,\"min_border_left\":10,\"min_border_right\":10,\"min_border_top\":10,\"plot_height\":300,\"plot_width\":700,\"renderers\":[{\"id\":\"1146\",\"type\":\"GlyphRenderer\"}],\"sizing_mode\":\"fixed\",\"title\":{\"id\":\"1110\",\"type\":\"Title\"},\"toolbar\":{\"id\":\"1133\",\"type\":\"Toolbar\"},\"x_range\":{\"id\":\"1106\",\"type\":\"Range1d\"},\"x_scale\":{\"id\":\"1114\",\"type\":\"LinearScale\"},\"y_range\":{\"id\":\"1107\",\"type\":\"Range1d\"},\"y_scale\":{\"id\":\"1116\",\"type\":\"LinearScale\"}},\"id\":\"1109\",\"subtype\":\"Figure\",\"type\":\"Plot\"},{\"attributes\":{\"callback\":null,\"end\":10.0,\"reset_end\":10.0,\"reset_start\":1.0,\"start\":1.0,\"tags\":[[[\"k\",\"k\",null]]]},\"id\":\"1106\",\"type\":\"Range1d\"},{\"attributes\":{},\"id\":\"1128\",\"type\":\"SaveTool\"},{\"attributes\":{\"callback\":null,\"renderers\":[{\"id\":\"1146\",\"type\":\"GlyphRenderer\"}],\"tags\":[\"hv_created\"],\"tooltips\":[[\"k\",\"@{k}\"],[\"inertia\",\"@{inertia}\"]]},\"id\":\"1108\",\"type\":\"HoverTool\"},{\"attributes\":{},\"id\":\"1129\",\"type\":\"PanTool\"},{\"attributes\":{\"data_source\":{\"id\":\"1140\",\"type\":\"ColumnDataSource\"},\"glyph\":{\"id\":\"1143\",\"type\":\"Line\"},\"hover_glyph\":null,\"muted_glyph\":{\"id\":\"1145\",\"type\":\"Line\"},\"nonselection_glyph\":{\"id\":\"1144\",\"type\":\"Line\"},\"selection_glyph\":null,\"view\":{\"id\":\"1147\",\"type\":\"CDSView\"}},\"id\":\"1146\",\"type\":\"GlyphRenderer\"},{\"attributes\":{\"callback\":null,\"data\":{\"inertia\":{\"__ndarray__\":\"92YqcTgstkAsjFKV1wuyQMoOYue4sa9A/gRXu7SGq0DuCHMLDGepQBAIyUXPzqVAsdDVE6awo0DwhZyzbwSiQEze3F4IPqBABykthIkOnkA=\",\"dtype\":\"float64\",\"shape\":[10]},\"k\":[1,2,3,4,5,6,7,8,9,10]},\"selected\":{\"id\":\"1141\",\"type\":\"Selection\"},\"selection_policy\":{\"id\":\"1161\",\"type\":\"UnionRenderers\"}},\"id\":\"1140\",\"type\":\"ColumnDataSource\"},{\"attributes\":{\"source\":{\"id\":\"1140\",\"type\":\"ColumnDataSource\"}},\"id\":\"1147\",\"type\":\"CDSView\"},{\"attributes\":{},\"id\":\"1161\",\"type\":\"UnionRenderers\"},{\"attributes\":{},\"id\":\"1130\",\"type\":\"WheelZoomTool\"},{\"attributes\":{\"overlay\":{\"id\":\"1159\",\"type\":\"BoxAnnotation\"}},\"id\":\"1131\",\"type\":\"BoxZoomTool\"},{\"attributes\":{\"line_alpha\":0.2,\"line_color\":\"#1f77b4\",\"line_width\":2,\"x\":{\"field\":\"k\"},\"y\":{\"field\":\"inertia\"}},\"id\":\"1145\",\"type\":\"Line\"},{\"attributes\":{},\"id\":\"1132\",\"type\":\"ResetTool\"},{\"attributes\":{\"callback\":null,\"end\":5676.2204767705325,\"reset_end\":5676.2204767705325,\"reset_start\":1923.6342932754794,\"start\":1923.6342932754794,\"tags\":[[[\"inertia\",\"inertia\",null]]]},\"id\":\"1107\",\"type\":\"Range1d\"},{\"attributes\":{\"active_drag\":\"auto\",\"active_inspect\":\"auto\",\"active_multi\":null,\"active_scroll\":\"auto\",\"active_tap\":\"auto\",\"tools\":[{\"id\":\"1108\",\"type\":\"HoverTool\"},{\"id\":\"1128\",\"type\":\"SaveTool\"},{\"id\":\"1129\",\"type\":\"PanTool\"},{\"id\":\"1130\",\"type\":\"WheelZoomTool\"},{\"id\":\"1131\",\"type\":\"BoxZoomTool\"},{\"id\":\"1132\",\"type\":\"ResetTool\"}]},\"id\":\"1133\",\"type\":\"Toolbar\"},{\"attributes\":{\"line_color\":\"#1f77b4\",\"line_width\":2,\"x\":{\"field\":\"k\"},\"y\":{\"field\":\"inertia\"}},\"id\":\"1143\",\"type\":\"Line\"},{\"attributes\":{\"line_alpha\":0.1,\"line_color\":\"#1f77b4\",\"line_width\":2,\"x\":{\"field\":\"k\"},\"y\":{\"field\":\"inertia\"}},\"id\":\"1144\",\"type\":\"Line\"},{\"attributes\":{\"text\":\"Elbow Curve\",\"text_color\":{\"value\":\"black\"},\"text_font_size\":{\"value\":\"12pt\"}},\"id\":\"1110\",\"type\":\"Title\"},{\"attributes\":{},\"id\":\"1114\",\"type\":\"LinearScale\"},{\"attributes\":{},\"id\":\"1116\",\"type\":\"LinearScale\"},{\"attributes\":{},\"id\":\"1153\",\"type\":\"BasicTickFormatter\"},{\"attributes\":{\"axis_label\":\"k\",\"bounds\":\"auto\",\"formatter\":{\"id\":\"1149\",\"type\":\"BasicTickFormatter\"},\"major_label_orientation\":\"horizontal\",\"ticker\":{\"id\":\"1148\",\"type\":\"FixedTicker\"}},\"id\":\"1118\",\"type\":\"LinearAxis\"},{\"attributes\":{\"grid_line_color\":null,\"ticker\":{\"id\":\"1119\",\"type\":\"BasicTicker\"}},\"id\":\"1122\",\"type\":\"Grid\"},{\"attributes\":{},\"id\":\"1149\",\"type\":\"BasicTickFormatter\"},{\"attributes\":{\"ticks\":[1,2,3,4,5,6,7,8,9,10]},\"id\":\"1148\",\"type\":\"FixedTicker\"},{\"attributes\":{\"axis_label\":\"inertia\",\"bounds\":\"auto\",\"formatter\":{\"id\":\"1153\",\"type\":\"BasicTickFormatter\"},\"major_label_orientation\":\"horizontal\",\"ticker\":{\"id\":\"1124\",\"type\":\"BasicTicker\"}},\"id\":\"1123\",\"type\":\"LinearAxis\"},{\"attributes\":{},\"id\":\"1124\",\"type\":\"BasicTicker\"},{\"attributes\":{\"dimension\":1,\"grid_line_color\":null,\"ticker\":{\"id\":\"1124\",\"type\":\"BasicTicker\"}},\"id\":\"1127\",\"type\":\"Grid\"},{\"attributes\":{\"bottom_units\":\"screen\",\"fill_alpha\":{\"value\":0.5},\"fill_color\":{\"value\":\"lightgrey\"},\"left_units\":\"screen\",\"level\":\"overlay\",\"line_alpha\":{\"value\":1.0},\"line_color\":{\"value\":\"black\"},\"line_dash\":[4,4],\"line_width\":{\"value\":2},\"render_mode\":\"css\",\"right_units\":\"screen\",\"top_units\":\"screen\"},\"id\":\"1159\",\"type\":\"BoxAnnotation\"},{\"attributes\":{},\"id\":\"1119\",\"type\":\"BasicTicker\"},{\"attributes\":{},\"id\":\"1141\",\"type\":\"Selection\"}],\"root_ids\":[\"1109\"]},\"title\":\"Bokeh Application\",\"version\":\"1.2.0\"}};\n",
       "  var render_items = [{\"docid\":\"543db45a-2075-41ee-b051-3aa6ad349c56\",\"roots\":{\"1109\":\"dbb2cdc6-51ac-4bbe-80ef-5e9c091d4dde\"}}];\n",
       "  root.Bokeh.embed.embed_items_notebook(docs_json, render_items);\n",
       "\n",
       "  }\n",
       "  if (root.Bokeh !== undefined) {\n",
       "    embed_document(root);\n",
       "  } else {\n",
       "    var attempts = 0;\n",
       "    var timer = setInterval(function(root) {\n",
       "      if (root.Bokeh !== undefined) {\n",
       "        embed_document(root);\n",
       "        clearInterval(timer);\n",
       "      }\n",
       "      attempts++;\n",
       "      if (attempts > 100) {\n",
       "        console.log(\"Bokeh: ERROR: Unable to run BokehJS code because BokehJS library is missing\");\n",
       "        clearInterval(timer);\n",
       "      }\n",
       "    }, 10, root)\n",
       "  }\n",
       "})(window);</script>"
      ],
      "text/plain": [
       ":Curve   [k]   (inertia)"
      ]
     },
     "execution_count": 147,
     "metadata": {
      "application/vnd.holoviews_exec.v0+json": {
       "id": "1109"
      }
     },
     "output_type": "execute_result"
    }
   ],
   "source": [
    "# Finding the best value for k\n",
    "inertia = []\n",
    "k = list(range(1, 11))\n",
    "\n",
    "# Calculate the inertia for the range ok k values\n",
    "for i in k:\n",
    "    km = KMeans(n_clusters=i, random_state=0)\n",
    "    km.fit(df_success_pca)\n",
    "    inertia.append(km.inertia_)\n",
    "\n",
    "# Creating the Elbow Curve\n",
    "elbow_data = {\"k\": k, \"inertia\": inertia}\n",
    "df_elbow = pd.DataFrame(elbow_data)\n",
    "df_elbow.hvplot.line(x=\"k\", y=\"inertia\", xticks=k, title=\"Elbow Curve\")"
   ]
  },
  {
   "cell_type": "code",
   "execution_count": 148,
   "metadata": {},
   "outputs": [
    {
     "data": {
      "image/png": "[encoded data removed]",
      "text/plain": [
       "<Figure size 432x288 with 1 Axes>"
      ]
     },
     "metadata": {
      "needs_background": "light"
     },
     "output_type": "display_data"
    }
   ],
   "source": [
    "pca = PCA().fit(success_scaled)\n",
    "plt.plot(np.cumsum(pca.explained_variance_ratio_))\n",
    "plt.xlabel('number of components')\n",
    "plt.ylabel('cumulative explained variance');"
   ]
  },
  {
   "cell_type": "code",
   "execution_count": 153,
   "metadata": {},
   "outputs": [
    {
     "data": {
      "text/plain": [
       "0    171\n",
       "3    150\n",
       "1     85\n",
       "4     82\n",
       "2      8\n",
       "5      5\n",
       "Name: class, dtype: int64"
      ]
     },
     "execution_count": 153,
     "metadata": {},
     "output_type": "execute_result"
    }
   ],
   "source": [
    "# Predicting clusters with k=3 USED 3 there is an outlier.... \n",
    "\n",
    "# Initialize the K-Means model\n",
    "model = KMeans(n_clusters=6, random_state=0)\n",
    "\n",
    "# Fit the model\n",
    "model.fit(df_success_pca)\n",
    "\n",
    "# Predict clusters\n",
    "predictions = model.predict(df_success_pca)\n",
    "\n",
    "# Add the predicted class columns\n",
    "df_success_pca[\"class\"] = model.labels_\n",
    "df_success_pca['class'].value_counts()"
   ]
  },
  {
   "cell_type": "code",
   "execution_count": 150,
   "metadata": {},
   "outputs": [
    {
     "data": {
      "application/vnd.plotly.v1+json": {
       "config": {
        "plotlyServerURL": "https://plot.ly"
       },
       "data": [
        {
         "hoverlabel": {
          "namelength": 0
         },
         "hovertemplate": "class=%{marker.color}<br>principal component 1=%{x}<br>principal component 2=%{y}<br>principal component 3=%{z}",
         "legendgroup": "class=1",
         "marker": {
          "color": [
           1,
           1,
           1,
           1,
           1,
           1,
           1,
           1,
           1,
           1,
           1,
           1,
           1,
           1,
           1,
           1,
           1,
           1,
           1,
           1,
           1,
           1,
           1,
           1,
           1,
           1,
           1,
           1,
           1,
           1,
           1,
           1,
           1,
           1,
           1,
           1,
           1,
           1,
           1,
           1,
           1,
           1,
           1,
           1,
           1,
           1,
           1,
           1,
           1,
           1,
           1,
           1,
           1,
           1,
           1,
           1,
           1,
           1,
           1,
           1,
           1,
           1,
           1,
           1,
           1,
           1,
           1,
           1,
           1,
           1,
           1,
           1,
           1,
           1,
           1,
           1,
           1,
           1,
           1,
           1,
           1,
           1,
           1,
           1,
           1,
           1,
           1,
           1,
           1,
           1,
           1,
           1,
           1,
           1,
           1,
           1,
           1,
           1,
           1,
           1,
           1,
           1,
           1,
           1,
           1,
           1,
           1,
           1,
           1,
           1,
           1,
           1,
           1,
           1,
           1,
           1,
           1,
           1,
           1,
           1,
           1,
           1,
           1,
           1,
           1,
           1,
           1,
           1,
           1,
           1,
           1,
           1,
           1,
           1,
           1,
           1,
           1,
           1,
           1,
           1,
           1,
           1,
           1,
           1,
           1,
           1,
           1,
           1,
           1,
           1,
           1,
           1,
           1,
           1,
           1,
           1,
           1,
           1,
           1,
           1,
           1,
           1,
           1,
           1,
           1,
           1,
           1,
           1,
           1,
           1,
           1,
           1,
           1,
           1,
           1,
           1,
           1,
           1,
           1,
           1,
           1,
           1,
           1,
           1,
           1,
           1,
           1,
           1,
           1,
           1,
           1,
           1,
           1,
           1,
           1,
           1,
           1,
           1,
           1,
           1,
           1,
           1,
           1,
           1,
           1,
           1,
           1,
           1,
           1,
           1,
           1,
           1,
           1,
           1,
           1,
           1,
           1,
           1,
           1,
           1,
           1,
           1,
           1,
           1,
           1,
           1,
           1,
           1,
           1,
           1,
           1,
           1,
           1,
           1,
           1,
           1,
           1,
           1
          ],
          "coloraxis": "coloraxis",
          "symbol": "circle"
         },
         "mode": "markers",
         "name": "class=1",
         "scene": "scene",
         "showlegend": true,
         "type": "scatter3d",
         "x": [
          0.8439432972993086,
          1.2803941551575833,
          1.5735047398550943,
          2.6498571425010238,
          1.9791969392822637,
          1.806534412950177,
          1.3380443406488811,
          0.01169736851676261,
          2.2026643834066064,
          1.2480565533334773,
          1.9267945261946262,
          0.4471528440601589,
          2.086655219941461,
          1.059863218510034,
          1.8092579659485646,
          -0.21211312816790556,
          2.709873617006366,
          0.7164458038944267,
          0.6140244518955272,
          1.6077893506069498,
          1.8626900782977287,
          1.6909222928211496,
          0.36118329242605623,
          1.6655534575322437,
          1.8880725927427726,
          1.376711762722491,
          1.511953604722708,
          1.6430210234633087,
          2.3543517331994255,
          1.6176042433901268,
          1.7054018782466025,
          2.5616402361924813,
          0.38989537842815647,
          1.8695761817721637,
          2.341505248799635,
          1.1922992974188111,
          1.213524502816066,
          1.7433881720463078,
          1.9539696108105586,
          1.778002794661186,
          1.6733565347420425,
          1.2471490131065872,
          2.4204334517071646,
          2.2068530933840718,
          1.582875018200643,
          1.8916941027370058,
          2.154507288736107,
          2.057575135618424,
          1.4756867945734082,
          1.797864772588028,
          1.1688106067761028,
          2.271784606515743,
          1.4084439673961313,
          2.098187344904528,
          1.735087222054592,
          0.33475716743014783,
          1.9817663111611548,
          1.4779333498561413,
          1.1128247626689205,
          0.12384465153886136,
          1.965623987247595,
          2.392192743668053,
          1.1211146332471182,
          1.7057222908912446,
          1.8705516942047689,
          2.4038203841304515,
          2.6395621796339053,
          2.5391161752410256,
          2.141923515167323,
          1.9705002926252733,
          3.0223068255174677,
          1.8797235164657216,
          1.7039188193033585,
          1.3249146709253266,
          1.981983001332306,
          2.215166903309609,
          -0.5200671492240693,
          0.9845946485965857,
          -0.5030195880151205,
          1.2684775793064378,
          1.779574186310804,
          1.109044957535285,
          0.6222557734178692,
          1.1637950004527269,
          1.986670932869391,
          0.8184638831667084,
          1.7124344724531,
          0.7191590129682965,
          0.46316049505299284,
          1.5646243991270479,
          0.9985543809332513,
          1.4167854769969235,
          0.08773694690625468,
          1.7578828083182576,
          1.304205548030777,
          0.06823347652372183,
          1.5820837966098298,
          1.9877378844503688,
          0.5947491748298535,
          1.0833935627748534,
          0.4638093147425164,
          2.2886199860746816,
          1.7073083094772563,
          0.9717674827401575,
          0.34044777630039624,
          0.30405720298122274,
          2.5690545909969225,
          2.8260107646191597,
          -0.11298115074600001,
          1.558239607225349,
          1.9410280601330918,
          0.8314620018592834,
          1.487844602523462,
          0.2304094061790089,
          0.7397408241041676,
          0.38423940421865016,
          1.7941691741098302,
          2.1937417977741265,
          1.3230034020423562,
          1.254474111198977,
          0.15350458316821355,
          1.9474147974331972,
          0.08602555884757795,
          0.6591763024438859,
          0.6500409325482072,
          0.05059951005777398,
          2.6030359633917772,
          -0.6404320911861058,
          0.8139004159430885,
          3.203419718038703,
          1.3321176569180204,
          0.6750605325370775,
          1.4941997201346102,
          1.6440653070537643,
          0.34980357797945155,
          1.4654225965493242,
          1.879896124907888,
          0.8293415722729599,
          2.0656326627347887,
          0.3562994784273253,
          1.6921031619073053,
          1.0240738850953752,
          1.8260653436718297,
          1.9863204512532486,
          1.3070714495146942,
          1.2744603128704541,
          2.2663755139835473,
          1.7836140101926885,
          0.3818372730758412,
          1.509654873679014,
          1.1876238749727432,
          0.5497155693871736,
          1.6604630006035845,
          -0.09039728091081824,
          2.0337143465103598,
          2.7103367697397163,
          -0.27058852656860016,
          -0.18227707835972246,
          2.4032395440680068,
          1.2624743097254008,
          2.7479094690700374,
          2.423327970490109,
          1.942200397017092,
          1.3613029505050562,
          2.18164213756453,
          1.1266988478318816,
          0.5367871471072887,
          0.6146256451444609,
          0.9059805170329785,
          0.7283038665547726,
          1.7468375844320791,
          0.272762249901359,
          2.399378448181759,
          1.6786040211793707,
          0.3867677699084512,
          0.18828401586156962,
          2.6946984194325525,
          0.6019212771106692,
          1.023110117175984,
          0.24246769892605105,
          1.5121319371721635,
          1.1679380683538447,
          3.0609875379366347,
          1.71831525546178,
          0.3659911809970362,
          1.0651279345267424,
          2.5231063148556365,
          2.9958024986825342,
          0.15152451541812215,
          1.7152310233764534,
          2.2799081642865016,
          1.5988905717051607,
          0.9077953606810331,
          -0.7520071105964852,
          2.5558628663189475,
          1.8911788076473597,
          0.24744990001796469,
          0.5864836357793535,
          4.079782132723759,
          1.3449665165572025,
          -0.3414377903440613,
          2.742540980467156,
          1.0898764591553367,
          0.15000514302299212,
          1.4193505927131262,
          1.0263178265002366,
          1.718870377795857,
          2.4174895400826872,
          0.056145466499369884,
          1.8733680525363288,
          -0.13953572168891787,
          0.5521222811480122,
          0.392068949207717,
          1.6784011873169649,
          2.936270379885707,
          -0.07697387213006576,
          0.83723859518825,
          1.2322589046672514,
          1.4228895561490384,
          1.0380110893258758,
          1.5159886398927702,
          0.7431753135232311,
          1.7082434425985193,
          1.1029027773694737,
          0.6663078351153846,
          0.9360896430058911,
          0.4083445937346384,
          1.178389238251301,
          1.7568345689568752,
          2.0071826317593477,
          5.171392919103165,
          1.273605170495606,
          2.2076174627920806,
          1.8521281208748026,
          2.23330261763438,
          2.2502585487821882,
          3.56223418702149,
          1.128972021463162
         ],
         "y": [
          0.16017877590296786,
          -0.741814866467037,
          1.0803008569303834,
          -0.6951915533373546,
          -0.8543410960957981,
          -2.110745951679241,
          -1.7164568193442,
          -1.5968207305237232,
          -1.6331492968232033,
          -0.18131481930102133,
          -0.9039001563192528,
          -0.766026470413268,
          -0.7418656544117972,
          -0.6335097574138802,
          -1.0019620597512056,
          -0.37523161974190233,
          -1.313562257012276,
          -0.7704823992441612,
          -1.5862925078664714,
          -1.2819120064166474,
          -0.7992824297057293,
          0.07389401996709265,
          -1.4410451291891144,
          -0.12151880318531559,
          -0.4700157934534739,
          -1.3902732486400544,
          0.06697051119979795,
          -0.5433604560362666,
          -1.469731173222205,
          -1.1065610350307715,
          -1.9202818899537748,
          -1.634592681731345,
          -1.5538552561193075,
          -1.4017200043920939,
          1.5321191322797587,
          -1.5069325163780025,
          -0.9291745930059206,
          -1.2755470878012503,
          -1.4243193284254867,
          -0.4976471747424257,
          -1.335815659919639,
          -1.8725079019936948,
          -0.812361061569635,
          -1.253521893720451,
          -0.6482895840697113,
          -1.2939928844546527,
          -0.27650327211970666,
          -0.176558477524226,
          -0.8777528847397201,
          -0.9098869290174325,
          -1.2450468854976067,
          -0.11334530516515533,
          -0.10798924903339069,
          -0.2583637226862187,
          -0.7706720787136319,
          -0.9492038950655783,
          -0.612671139471531,
          0.40992602413949686,
          -0.3430464372951077,
          -0.5339138192964353,
          -1.4561888938382264,
          0.05955965667047773,
          -0.7650721650969998,
          0.4976718844294499,
          -0.21766900724462185,
          -1.6390112629357814,
          -1.0568351872856319,
          -1.3510395201104035,
          -2.1825785163424163,
          -0.9981719059182651,
          -1.5418553230827814,
          -0.7360332637057786,
          -0.825508900740185,
          -2.8989828648729636,
          -2.443441391399233,
          -0.25435008366655093,
          -1.0644193299988611,
          -0.5525113610270801,
          -0.7037589319244563,
          -0.1916382757288594,
          -0.3419903624923117,
          -0.38953323115766847,
          -0.4967968560480318,
          -0.08386430240061303,
          -0.6956968250579685,
          0.6165549126753759,
          -0.4124643860345992,
          -0.4122141537065966,
          -0.5028981234324413,
          -0.34033087523095257,
          -0.5497727528619966,
          0.161910956227063,
          -0.5988099196666589,
          0.196115955315567,
          -1.164514733143996,
          -0.7874056472990766,
          -0.5895218333908625,
          -0.36390442913299514,
          -1.080260781048892,
          -0.9294118774384629,
          -0.37209812019664906,
          0.31118978122140184,
          0.07158986389369347,
          0.3386844159775582,
          -0.44023446058850474,
          -0.7968328735857655,
          -1.6296095119591023,
          -1.5749607353297135,
          0.23420604655602498,
          -0.020792131765821262,
          -0.44154902370634524,
          0.40786936221284953,
          -0.04109967461361723,
          -0.3680806919103126,
          -1.13521643935682,
          -0.11271654083346876,
          0.05168075762067938,
          -1.122331734832212,
          0.4236979769814101,
          -0.153387035620787,
          -1.6999491515293115,
          -0.27800449629028295,
          -0.5156505260455118,
          0.009982859337779447,
          0.5277567458124847,
          -1.2197264351234858,
          -1.0367216971880848,
          -0.7140058850966012,
          -0.5460211489028236,
          -0.5136123186622792,
          -0.6005299350882958,
          -0.5053270317830338,
          -0.4009573530594965,
          -0.3802637896155839,
          -0.6456799332780381,
          0.6592323286470948,
          0.27255141979281466,
          0.5325014589201024,
          -1.601563339826822,
          -0.679541054279029,
          -0.21720481038296732,
          0.45591940363239286,
          -0.24892690665108583,
          0.47827007974185615,
          0.32057484219686866,
          -0.5051345804479028,
          -0.9292997738053482,
          -0.030472657449499348,
          0.46284082379275726,
          -0.6664573945382742,
          -0.3675023635149944,
          0.24057676745522283,
          0.5420597238976109,
          -1.04512054378947,
          -0.14647537528911836,
          -0.14043352493356118,
          0.19799138712453124,
          -0.2812648824201514,
          0.6743832145712086,
          0.2556889598778184,
          0.24822868928064892,
          0.21116020560837193,
          0.09195716805982325,
          0.515864401817183,
          -0.1459779990135155,
          -0.8162258187533148,
          0.06529272993575941,
          -0.36923020961871816,
          -0.6184219785892798,
          -0.9242038194633079,
          -0.3258268047430152,
          -1.4093873833550816,
          -0.12942504642683014,
          -0.6755482762078983,
          -0.5275625526179095,
          -1.415592867513669,
          -1.3733748055807307,
          0.11649514891735117,
          -0.47174900367367356,
          0.18407155587105642,
          0.7696083460737276,
          -0.016583987260076812,
          -0.99943670435812,
          -1.4720550390051337,
          -0.1492958400836807,
          0.5057703068627623,
          0.4363642042605994,
          0.2453787628594535,
          -0.38894289250783476,
          -0.6850585661293376,
          -0.2858217686771866,
          0.9316937492911936,
          -0.6780916478274045,
          -0.5995394011608421,
          -0.3594445469425511,
          -0.6633222342373809,
          -0.7955596028621664,
          0.7270458163646111,
          6.072017300902273,
          -1.2240455410629651,
          -1.2886560996517749,
          4.326801075448386,
          -0.364271786782296,
          -1.4147683267880768,
          -0.008645483360386815,
          0.19122040754531394,
          1.117487255641741,
          1.030058051806096,
          -0.24651357576834573,
          0.06602189202671314,
          -0.14403169143215597,
          0.05586086175295525,
          0.589916687618074,
          -1.4958168851409968,
          6.207420536555363,
          -0.9888705964115522,
          -0.40623550263117775,
          -0.08049997226417878,
          -0.0355319393414173,
          -0.25948139895579375,
          -0.062143767881712345,
          -0.09400583974099488,
          -0.3862588469546058,
          -0.5582917224569226,
          -1.413740313633494,
          -0.4772554153136516,
          -1.7820559729891061,
          -0.8643524837554647,
          -0.3797006374895996,
          0.2086208478558864,
          10.598536043251963,
          -0.11408430219759502,
          -0.28600956369797,
          0.19724724892526507,
          4.420246249404059,
          0.5174785975783374,
          8.063537580608656,
          0.24007841007685043
         ],
         "z": [
          0.08207683384084409,
          -0.38947184592041006,
          0.7646316237505776,
          0.4590916563901068,
          -0.6833662189035996,
          1.1780116795308435,
          1.891827511398257,
          0.36355069276640944,
          1.4607092149903336,
          -2.904178563914273,
          0.316267033497155,
          -2.012609829306647,
          1.1547187780945263,
          -2.2883984334840313,
          -1.402242596103956,
          -1.8940463715967923,
          0.7722414052221197,
          0.05383998466599613,
          0.3513573386165501,
          -0.6531627752047497,
          -0.21926774738299237,
          0.9970157634061615,
          0.1753338167273729,
          -1.1448129428699014,
          -0.15232398971106872,
          0.36095216691521315,
          -1.11349314939183,
          -0.3908782101532013,
          1.425038695789272,
          -0.44339707407969753,
          1.2622313843985042,
          1.2010120366435744,
          -1.041040734191887,
          0.32583494739933017,
          -0.20958571006899882,
          1.1584273580448448,
          -0.8188005396235383,
          -0.2518826708925444,
          1.3034853844576115,
          -0.4059728776038867,
          0.16473634730911152,
          1.2304924264835746,
          -0.19039568152986677,
          1.1106269314802586,
          -0.9920506450842179,
          0.12930573447182955,
          0.07251261280357327,
          0.8551614694386942,
          0.1425241712383362,
          0.25452663317743884,
          0.9065913939731843,
          0.39461016464151444,
          -1.5196233334856386,
          -1.3302949593793059,
          0.452475304074121,
          0.3467872165894323,
          0.542169953449765,
          -2.0301053821511705,
          0.1679333649354834,
          -0.7677622957919891,
          0.8543669505837337,
          0.22494121035826403,
          -0.1478409704459265,
          -0.7310420854351964,
          -0.4897401281541168,
          1.5055347756537742,
          2.1946691265961538,
          0.29770884389670604,
          1.044000768544415,
          -0.1875646460485598,
          2.805353497076019,
          0.04018797105523619,
          0.8699451420922583,
          0.9223419412757318,
          1.0532947005720694,
          0.18329842868622703,
          -0.9077639056287184,
          -0.37359846330292934,
          -1.7775352394772332,
          -2.0126852942756637,
          -1.429471214317455,
          0.1676574511560812,
          0.11992133375439645,
          0.3206886849754011,
          0.3171565196421692,
          -1.6203864652168345,
          -0.8628436631149032,
          -3.1721691452806673,
          0.17081646482539195,
          0.2644728561945782,
          -2.820569921368585,
          -0.2150343786868354,
          0.15564051157024383,
          -1.7904903081516441,
          1.152314331253947,
          -1.504083470665562,
          -0.1426992915733888,
          -0.7681459631656541,
          1.0156407601601596,
          0.3522087213239118,
          -1.3774368038889129,
          -0.1420655008637906,
          -0.9347162173477472,
          -1.32804765146022,
          0.2579801608630806,
          0.16234297717906546,
          0.9984237591279379,
          3.5336734953413123,
          -3.3824560068656844,
          -0.7658798790184197,
          -0.27206910934298756,
          -2.3055976577309356,
          -0.46119333902820064,
          -1.7289361394785159,
          0.1185665864742492,
          -0.7288409879509957,
          -0.5802928817680171,
          0.23321147516066018,
          -2.736147705591354,
          0.573697371170485,
          0.9796414097675213,
          -0.7942406668189508,
          -0.28865129839757453,
          -0.4145601285731355,
          -3.063482562624434,
          0.12585950560149098,
          -0.058815976487499595,
          -0.8978038925180274,
          -0.5450770920306175,
          3.189795505981577,
          0.1516407748736547,
          -0.40842554256581687,
          -1.5911828351159347,
          -0.38107283534877096,
          -0.963004570597513,
          -1.9089910423683363,
          0.06408639153713197,
          -3.900213684146476,
          1.3210787411803737,
          -0.837207509676548,
          0.003494599306950202,
          -1.6634309022467775,
          -1.517933582939741,
          -0.9013213107472536,
          -2.2943899305366493,
          -0.8616739184522431,
          0.5988307601561157,
          -1.1976642401428839,
          -1.8428856261061357,
          0.5086596457944862,
          -0.11040860900696031,
          -0.9253932406591948,
          -1.7392362962682926,
          0.580817902799682,
          0.0499505445898539,
          -0.6682072328645426,
          -2.6292933492602617,
          -0.8979416824729393,
          0.0015173937086778479,
          -1.4837968618336679,
          -1.7624060707106437,
          0.32961802309116556,
          -0.07822342924142398,
          -2.4679368019911068,
          -0.049656863930464444,
          0.5717780098093966,
          -2.4966256301545577,
          -1.2843872269175112,
          -0.8113755771188521,
          0.4255716041554798,
          -1.5271045431550758,
          0.6604205911117191,
          -0.8044819258454252,
          -0.3888560852247327,
          -0.3483596717478181,
          0.4719824006413451,
          1.3729199180715501,
          -1.1917189702638997,
          -0.9734536876199937,
          -0.441056505115685,
          -2.337992970417893,
          -1.823153744198257,
          0.1395792250549307,
          1.2779946862040046,
          -1.780447121628,
          -3.144360600284885,
          -0.8275169851279505,
          0.420720799541284,
          -2.099671700658408,
          -0.9358072712304043,
          -0.77869835179438,
          -2.8338425709136486,
          -2.977599295769738,
          -2.8346608048706994,
          -0.8182797353252994,
          -0.546912800859142,
          -1.1305883184820702,
          -0.9985805880513876,
          0.8551507565053871,
          -0.23424675810621154,
          -2.243941668015681,
          -0.5011456976785212,
          -1.3526923458815292,
          0.8096140923827435,
          1.130499307411903,
          -2.204069341276508,
          -0.9475558434312972,
          -3.178929921103788,
          -1.0903277610754463,
          0.13507614598632434,
          -2.2807367225816266,
          -2.4901470277012727,
          -1.7807486285790275,
          0.8875669814825343,
          -1.1930005673629547,
          -3.7039787810287246,
          0.08583266471423713,
          -1.1026615831497588,
          -0.3574518855396433,
          -1.4963626855252656,
          -1.2308522706998934,
          0.16243439245820251,
          -0.5582953166157646,
          -1.4939730748184112,
          0.7351837027176098,
          -0.9915985071261885,
          0.5752197954048588,
          0.19516359880579906,
          -0.8219390013607899,
          -0.6631366834013601,
          0.9804402622415322,
          -0.9512659467253711,
          -1.5304837613223992,
          -2.098166007428229,
          1.1687580540457265,
          -1.2563971017311593,
          0.6490938666120748,
          -0.5549074737071389
         ]
        },
        {
         "hoverlabel": {
          "namelength": 0
         },
         "hovertemplate": "class=%{marker.color}<br>principal component 1=%{x}<br>principal component 2=%{y}<br>principal component 3=%{z}",
         "legendgroup": "class=0",
         "marker": {
          "color": [
           0,
           0,
           0,
           0,
           0,
           0,
           0,
           0,
           0,
           0,
           0,
           0,
           0,
           0,
           0,
           0,
           0,
           0,
           0,
           0,
           0,
           0,
           0,
           0,
           0,
           0,
           0,
           0,
           0,
           0,
           0,
           0,
           0,
           0,
           0,
           0,
           0,
           0,
           0,
           0,
           0,
           0,
           0,
           0,
           0,
           0,
           0,
           0,
           0,
           0,
           0,
           0,
           0,
           0,
           0,
           0,
           0,
           0,
           0,
           0,
           0,
           0,
           0,
           0,
           0,
           0,
           0,
           0,
           0,
           0,
           0,
           0,
           0,
           0,
           0,
           0,
           0,
           0,
           0,
           0,
           0,
           0,
           0,
           0,
           0,
           0,
           0,
           0,
           0,
           0,
           0,
           0,
           0,
           0,
           0,
           0,
           0,
           0,
           0,
           0,
           0,
           0,
           0,
           0,
           0,
           0,
           0,
           0,
           0,
           0,
           0,
           0,
           0,
           0,
           0,
           0,
           0,
           0,
           0,
           0,
           0,
           0,
           0,
           0,
           0,
           0,
           0,
           0,
           0,
           0,
           0,
           0,
           0,
           0,
           0,
           0,
           0,
           0,
           0,
           0,
           0,
           0,
           0,
           0,
           0,
           0,
           0,
           0,
           0,
           0,
           0,
           0,
           0,
           0,
           0,
           0,
           0,
           0,
           0,
           0,
           0,
           0,
           0,
           0,
           0,
           0,
           0,
           0,
           0,
           0,
           0,
           0,
           0,
           0,
           0,
           0,
           0,
           0,
           0,
           0,
           0,
           0,
           0,
           0,
           0,
           0,
           0,
           0,
           0,
           0,
           0,
           0,
           0,
           0,
           0,
           0,
           0,
           0,
           0,
           0,
           0,
           0,
           0,
           0,
           0,
           0,
           0,
           0,
           0,
           0,
           0,
           0,
           0,
           0,
           0,
           0,
           0,
           0,
           0,
           0,
           0,
           0,
           0,
           0,
           0,
           0,
           0,
           0,
           0,
           0,
           0,
           0,
           0,
           0,
           0,
           0,
           0,
           0,
           0,
           0,
           0,
           0,
           0,
           0,
           0,
           0,
           0,
           0,
           0,
           0,
           0,
           0,
           0,
           0,
           0,
           0,
           0,
           0,
           0,
           0,
           0,
           0
          ],
          "coloraxis": "coloraxis",
          "symbol": "diamond"
         },
         "mode": "markers",
         "name": "class=0",
         "scene": "scene",
         "showlegend": true,
         "type": "scatter3d",
         "x": [
          -0.47574177710071286,
          -1.1056054374687525,
          -1.9148116059836637,
          -1.0316242583095392,
          -1.8171804271030274,
          -1.9790453237841592,
          -0.38100410706206783,
          -1.655151198808506,
          -0.13433871116654195,
          -0.18798403945505876,
          -0.9984972216293516,
          -0.681244350618561,
          -0.08171712019089551,
          -1.5271118824406371,
          -1.0474996387507485,
          -0.6427722636457708,
          -0.8896230397039732,
          -0.7103650916789745,
          -0.23910229469137975,
          0.17984243664701793,
          -0.31297769329497893,
          -0.8748347882225023,
          -1.5244043678996326,
          -0.26848803264281335,
          -1.0797184094804144,
          -1.1558748530858463,
          -0.5273089342151831,
          -1.5342557960739533,
          -1.3856473465399188,
          -2.9269573172637977,
          -0.5989253616452951,
          0.35175044298672686,
          -1.0551290593518547,
          0.5124801991897754,
          -0.9487934163701398,
          -1.282966460182623,
          -2.01821505222802,
          -2.2564368332016014,
          -2.2636825293834306,
          0.10371995028730129,
          -1.3397773998548812,
          -1.1202897548723572,
          -1.4331611971018048,
          -0.6860649889891077,
          -0.0806483718558967,
          -1.0659607285408668,
          -1.2588815259492487,
          -2.0766909512076217,
          -0.7357971158499929,
          -3.064222105348754,
          -1.0589396810543403,
          -0.9467259270263642,
          -1.1438094787958082,
          -2.026645085384717,
          -1.4403603924069877,
          -0.8773567487682101,
          -0.21662094341030963,
          -0.29224989747981933,
          -1.9560581142601208,
          -2.257656548321222,
          -1.178213755341457,
          -0.7388871727029315,
          -2.1019281165064525,
          -0.34286085264928534,
          -0.6424110096053488,
          -2.3287811482614784,
          -0.2664973517200038,
          -1.5362302309356184,
          -1.5771379966630328,
          -1.276611439716909,
          -0.8711877221562911,
          -0.8404105667259646,
          -1.4252413892622096,
          -1.138835692328334,
          -0.7862384977126431,
          -0.5111750480898132,
          -0.7896948449561282,
          -0.3715669744679549,
          -0.5286740190639363,
          -2.6396984158843626,
          -2.4019536244551105,
          -1.9523618107512593,
          -1.0506964406325237,
          -1.6389675145336007,
          -1.6643317322812048,
          -1.6998332157620977,
          -0.3647587419002521,
          -0.6804444541537271,
          -0.7313606722142815,
          -3.0618195600442872,
          -1.472683660813176,
          -1.5743231471470451,
          -1.3417343145087648,
          -1.104540488926341,
          -1.8192710817839552,
          -1.949395093515735,
          -1.219821486260457,
          -1.2212278645496477,
          -0.1234906818338625,
          -1.268172842775473,
          -2.334493966134522,
          -1.526718389775792,
          -0.6862748701629586,
          -0.97124081686008,
          -1.1615786713615324,
          -1.2565124253812148,
          -2.1112424069922637,
          -2.0072514173027214,
          -2.0987020893140977,
          -0.7301817244984793,
          -2.095524204621565,
          -1.0421494259266817,
          -1.173895480092385,
          -1.6714907392998173,
          -1.6315762769537914,
          -2.738050381303953,
          -0.9895246201608557,
          -1.715713293471968,
          -1.1027754901687323,
          -1.0993418712623353,
          -1.4397866764878304,
          -0.9772521488419402,
          -0.5101319525804695,
          -1.8537591740985981,
          -2.0207867932913186,
          -1.92292495057376,
          -0.7092061093125753,
          -0.4817242624600578,
          -1.7184075467078144,
          -0.6392129467997929,
          -1.244696736061261,
          -2.52120696232173,
          -1.3957472131385247,
          -1.2668157247861085,
          -0.7802767211170979,
          -1.9036926120537985,
          -2.8144616931330666,
          -0.22478063352750213,
          -0.2815317863861315,
          -1.787369591187301,
          -0.7459348074360944,
          -3.3233024861058515,
          -2.2697443701124467,
          -2.083327625924597,
          -2.005205868856176,
          -3.1411405786045203,
          -0.8776308115263132,
          -1.6819827769970117,
          -2.1857726925821686,
          -0.9493559327613946,
          -1.1734145752818015,
          -1.695148398263895,
          -1.2607780452476933,
          -1.838777685257196,
          -1.4263003272477517,
          -1.0323551701741516,
          -0.8423429314334245,
          -0.7452101582400454,
          -1.4593248064675874,
          -2.249332867803839,
          -2.648235425779453,
          -2.607322171179001,
          -0.6846989578158041,
          -2.888656412171168,
          -1.486469581752379,
          -2.1411944877709836,
          -0.5564462532765748,
          -1.7082761849452084,
          -1.2706279416999255,
          -1.3548554630379785,
          -0.9426464696800753,
          -1.5173579427117123,
          -0.712900767478661,
          -0.676282898047504,
          -2.2386875104018844,
          -1.3334941830055222,
          -1.4250518024400163,
          -0.8409329682675646,
          -1.2376570348409723,
          -2.5291899701499574,
          -0.4982338745188336,
          0.061883394742843885,
          -1.2435674818981368,
          -1.6225425582769386,
          -1.4343803923115641,
          -0.7427239099167793,
          -1.565447966672301,
          0.04556487910213548,
          -0.8513996927038586,
          -1.1435006912095909,
          -0.5654500208454392,
          -1.956111545548656,
          -0.9581822327137199,
          -1.5495042581775518,
          -0.6849698738178901,
          -0.8492102427029449,
          -1.0706592173757359,
          -0.6511079316143149,
          -1.067020233423956,
          -0.65747594624516,
          -0.3357519809031124,
          -1.8851446496590736,
          -1.57311609152434,
          -1.686617397210667,
          -1.8819815273000184,
          -1.8586247753632361,
          -1.3880773800728212,
          -1.3557277260863574,
          -1.4974456619544196,
          -1.246078453226603,
          -0.6328631991728833,
          -1.2725456265314017,
          -0.9324558707911438,
          -1.352673127526138,
          -1.6687906292141188,
          -1.9944824331408,
          -0.9875274560249291,
          -1.0188807310036496,
          -0.6105236621944603,
          -0.7435976476473153,
          -1.915132984196313,
          -0.2550174326724386,
          -1.8882648622834297,
          -1.1998890260869102,
          -0.10327179047159762,
          -0.9864348245077432,
          -1.7633247836887307,
          -0.20938704233623157,
          -0.5529758597053681,
          -1.0410334770712883,
          -1.0027381937303117,
          -2.331477030557236,
          -1.8543114028096281,
          -0.27954020379866396,
          -0.6976119175287933,
          -1.5689739118616848,
          -1.1396698001330916,
          0.17682731835990054,
          -2.4098870424034473,
          -0.9602165127192406,
          -1.4693019245510655,
          -2.6661131156349454,
          -1.754698703569619,
          -2.021616608092572,
          -2.464819781074208,
          -2.675629402570843,
          -1.9707100037476186,
          -1.3988852404617718,
          -2.094196642297938,
          -0.8461298915939202,
          -2.4262301564702837,
          -1.1945143104388625,
          -1.9675038190981056,
          -2.000168382664589,
          -1.1558607173083155,
          -1.2674342063534345,
          -0.3696689815669177,
          -0.9384873818876744,
          -1.2224689050453335,
          -1.1449949784997653,
          -1.1077706810610102,
          -2.4031805554455388
         ],
         "y": [
          -0.029404853559606734,
          0.20999424943061723,
          -0.4050883033157945,
          -1.0804553598930164,
          -1.104010935333246,
          -0.20384643374655567,
          -1.1022376710644293,
          0.1289391356828092,
          -0.6140190088782043,
          0.48596585803447384,
          -0.37595873925940415,
          0.20408375121376848,
          -0.8798001202677815,
          0.3435890074141067,
          -1.249332143861964,
          -0.24845722717871757,
          -0.2389418177026733,
          -0.1550867492745168,
          -1.2502003981015608,
          -0.7525641308384182,
          -0.2748889850693097,
          -1.0422183508257474,
          -0.696566018009794,
          0.2772076947796435,
          -0.06838664465987403,
          -0.4938259787033633,
          0.42336856812602036,
          -0.12533892684386208,
          -1.0420651861399919,
          0.20260195434185804,
          -0.3414312796156256,
          -1.2201155663076724,
          -0.06083881078573888,
          -0.3568889047522768,
          -0.3100532162323143,
          0.12617117740516712,
          -0.5395663518357987,
          0.07564260684736801,
          -0.10763604388401858,
          0.6194703199650023,
          -0.7780650564319747,
          -0.2768559966928298,
          -0.2928075998652608,
          0.2397905792580784,
          -0.624423891770662,
          -1.507874176017727,
          -0.5557203318295385,
          0.49926024006970404,
          0.24482918478456053,
          0.8214578244039408,
          0.18688866878230706,
          -0.404716160342064,
          0.4113722589995998,
          1.7631243169127635,
          -0.6426665419099347,
          -0.9490200913149723,
          -0.7360035389153821,
          1.7662885732631335,
          0.039628300455130876,
          0.27920855357139485,
          -0.019440429713231316,
          -0.4496844226343873,
          -0.10340008007745603,
          -0.7457013367363016,
          -0.40428922060616707,
          -0.35619746300192723,
          -0.04426558305034868,
          -0.2575995485510953,
          0.07953191342753448,
          -0.022746917355688068,
          -1.1251171565119351,
          -1.2491308349109633,
          -1.219129421283978,
          -1.684726004200784,
          -0.10962530187009631,
          -0.04705522881995411,
          -0.20603976658201847,
          -0.12548473653543837,
          0.9353622358430289,
          0.03449987990778646,
          0.79502700529089,
          -0.48521287800759644,
          -0.6966631640649801,
          -0.46961847402887213,
          -0.35241353717962,
          -0.07467409546314904,
          -1.0084045099392118,
          -0.4633867052523307,
          0.2639769217681621,
          0.6004698706461882,
          -0.1038666931919379,
          -1.2786779560849255,
          -0.8051589199370542,
          -0.6865020181494346,
          -0.13894525278914527,
          -0.14473143103113936,
          0.5935812406836045,
          0.12243538228320978,
          0.3529434026160607,
          -1.3278940564188668,
          0.01660955949001437,
          -0.4953393537038981,
          -1.060899939847515,
          -0.384292146937406,
          0.46014229020250585,
          -0.4562198193087535,
          -0.31300229150397646,
          0.11681290519229412,
          -0.6350592841067491,
          0.10274022475831225,
          0.38186701567070414,
          -1.03134318472023,
          -0.1053644062900528,
          -0.10484256818556988,
          -0.7003900958900225,
          0.5994228538573666,
          1.133016780570489,
          -0.20469475911046747,
          -1.3191931355728952,
          -0.4098379405952363,
          0.8937770215479585,
          0.3876206414976295,
          0.6447442239269507,
          0.6901531088419496,
          0.6803372372738203,
          -0.10302986961885041,
          -1.0712255145792795,
          -0.40859147885430797,
          -0.8879644965526793,
          0.21705343813059327,
          0.3424558804432733,
          -0.15221016108022054,
          0.227312450830514,
          -0.3272153076693403,
          1.253730803659427,
          -0.34571432615322234,
          0.32446587093875695,
          -0.3906740441847972,
          0.41775070365479144,
          0.04192738400175561,
          0.7116226219490879,
          0.2307649587148334,
          1.1807707210181781,
          -0.13579630477376572,
          0.04623669999628274,
          -0.22647345328561796,
          1.4699712578886708,
          1.4313741640490014,
          0.29529498955386835,
          0.30274796768214396,
          0.29273129357601946,
          0.7224298483563076,
          0.34796662192913586,
          0.4439912810274252,
          0.40882979425433286,
          1.0150042736228684,
          0.5673199974372797,
          0.6320642117023999,
          0.32627967461932716,
          0.18608517598296045,
          0.09463393364555231,
          1.0500846727650153,
          0.021408103447249253,
          0.3421096295599916,
          -0.3069395046098748,
          0.2956553665646843,
          0.19848786197752064,
          0.3476796112941502,
          0.7525320644239549,
          0.5989245123777259,
          1.0213256966764637,
          0.9757181311322927,
          0.7438343475093796,
          -1.0519196012095948,
          0.5862087275143161,
          0.3231695796134769,
          0.1692870855451858,
          0.4321316772246528,
          0.5091135430147548,
          -0.20119882216121435,
          0.5161824943789732,
          -0.47855917226228056,
          0.14528936124456834,
          0.9952281053610775,
          0.6209295194980988,
          -1.2956567914567065,
          1.3066651965506084,
          1.3331979975854107,
          2.7816396060736914,
          -0.06521393943596109,
          1.469529076463492,
          0.559510516014826,
          0.6167840754547759,
          0.6908527408513898,
          -0.5416948649849573,
          -0.25793598164245796,
          1.2499347674584178,
          0.21401813944508916,
          -0.2278937006646358,
          0.33601737196412523,
          0.7954408243523293,
          0.5104851148626636,
          -0.04709240937450565,
          1.4315334283638028,
          0.17817394382806817,
          1.629821747421076,
          0.578749719249499,
          0.9176121780173508,
          -0.39206340038485166,
          0.20568695454345998,
          0.5013359341106974,
          1.480746370743123,
          -0.7409027754463643,
          -0.40957139348464433,
          0.18931174019700864,
          0.2765144983110504,
          1.3411842358848916,
          0.40777921528262423,
          0.654398988224453,
          0.3683825808589356,
          1.3863104272407227,
          4.641894816855148,
          0.2747526381909852,
          1.3233778677578854,
          0.4662125613867413,
          0.9229499396298769,
          0.5785915838470835,
          3.3759264693022355,
          2.255206471346129,
          1.556415634787503,
          -0.2742786949920374,
          0.4718788395275289,
          0.8897926569264277,
          1.171870057207011,
          3.0719956305196017,
          1.0595129068297828,
          -0.8546969026791821,
          3.9847983899316675,
          0.18999314617301322,
          -0.25885874642508405,
          0.15033464010433778,
          0.5780586227829251,
          1.441411613198115,
          1.1384101789006336,
          0.6476335354885189,
          1.1059103736643259,
          0.44212969568791144,
          0.7470993311797437,
          1.1448813096582737,
          3.545260005055242,
          0.7048097977618271,
          0.5947698592075356,
          0.5092649289148184,
          0.5311749880173134,
          1.766011979260901,
          1.0874857233561064,
          1.1737918257294668,
          -0.041467351256351155,
          -0.0971386411049693,
          1.2644333106418657,
          2.021633578612156,
          1.6860619775501158
         ],
         "z": [
          1.5231598679765008,
          0.5151328801142249,
          1.1426182199632582,
          1.102288442630554,
          2.638282756227386,
          2.2280126569513263,
          0.2820051788708756,
          1.5268705797000899,
          2.822029373612682,
          0.8242688757849824,
          1.319008249507374,
          1.3868418362805506,
          1.9566268776095905,
          1.805272739551267,
          1.1462144722256042,
          1.0599261557182444,
          0.28364938331451606,
          0.2911137549232561,
          2.36705210000555,
          2.669490255011188,
          1.6734060542995086,
          1.5464974410080647,
          -1.2561132836464053,
          1.818087906013632,
          1.5444094737420566,
          1.4230563293026648,
          -0.6075607597924575,
          -0.8653530763314788,
          0.25858027978462494,
          -4.03641318924734,
          1.2378724530025491,
          5.117107191080672,
          1.2890404647067049,
          4.318756322399315,
          1.1378750425105084,
          -0.3824254653825797,
          0.5438055833579032,
          0.11884653861370273,
          -0.7856090183761819,
          2.641115887691108,
          1.1367639125225408,
          0.6128559761864668,
          -0.3959413379754956,
          1.148322553952965,
          2.1010325809727006,
          2.2682699677054403,
          0.06567690667539536,
          0.7043592610988493,
          1.0307744479292924,
          -5.286853031767346,
          -0.4566727901678481,
          1.4583395773195686,
          1.3600196820335766,
          1.7257519313967191,
          -0.060970516606670945,
          2.256779308913666,
          3.3106532833054705,
          0.8025507471653408,
          -2.316501401606226,
          0.005061541050027395,
          0.18723018533699967,
          0.3864530055622778,
          -1.2607999118366544,
          2.0476234000830633,
          1.6945831503411122,
          -0.3392461223681765,
          1.753263707733369,
          -0.39329721411379676,
          0.7360242087367295,
          0.24890731822616555,
          2.509999450350963,
          2.232775652786133,
          0.11387207770574616,
          1.6761953379344592,
          0.5208815436948063,
          1.5181116939512005,
          1.4213443536797263,
          1.5770763795332905,
          0.8289899195125411,
          -0.44117489999959675,
          -0.3405209490979115,
          1.1083120755297893,
          1.669380768334448,
          1.6107186579545802,
          1.0370622320324798,
          -1.008692277287318,
          2.361941333212277,
          1.311012253150019,
          1.6541324960050119,
          -2.0761901854957,
          -0.9556880236988896,
          2.684244035555224,
          -0.047942986401797436,
          0.7270026470175603,
          -1.3964577846502784,
          1.7952428165135752,
          -1.3042042995196277,
          0.6386204097243193,
          2.3747235656140817,
          2.2996162887225027,
          0.5958614036564176,
          -0.05643032340905034,
          2.333823974251317,
          0.45328534180596025,
          -0.9494735857482881,
          0.5294756024764433,
          -0.40819236239199636,
          -0.593609775161206,
          1.9411302312960121,
          0.5960942033243768,
          1.1204785245549334,
          1.6318336713028336,
          0.3954068583897003,
          -0.6565201140374191,
          1.943556317121238,
          -1.206654023803223,
          -0.6396282600109159,
          -1.173619673225939,
          1.7300289301612675,
          0.7522992462825895,
          -1.0131126167016782,
          0.06624650615464481,
          1.0476525409707416,
          -1.7985645083674267,
          -0.5522525767019423,
          1.6170877552538279,
          2.0149391105055385,
          1.8743611614320748,
          1.7437923917252969,
          1.220092768603028,
          0.4889112620601539,
          0.39064877919365754,
          -1.1686554136528573,
          0.7292002393864738,
          -0.9425289133898241,
          -0.9979383305008868,
          -1.2183045974279545,
          1.8247570371734025,
          1.1227667483817718,
          -1.3403633955965888,
          0.6134705948345134,
          -2.3304336558259138,
          -2.017499595701345,
          -0.6400880874706355,
          -1.4017198234708341,
          -0.8111760470616948,
          0.03306593700434012,
          -2.971424874578076,
          -0.5673171994273725,
          -1.0749976515748092,
          0.09803476752079682,
          -0.6208694110399291,
          -0.1270906965315679,
          0.6255824814178071,
          0.3286232558243284,
          -0.11047753312687165,
          -0.22523335494022786,
          0.691398387661924,
          0.08923441277107531,
          -0.09740000129491191,
          -0.45644378446695216,
          -1.688797780147275,
          2.1136685994487334,
          -1.6498880616496674,
          1.4292264502770349,
          0.564940455582557,
          0.3940592285594498,
          -0.3982108172564073,
          -0.2411379646289938,
          1.2036787781393787,
          -1.1426401187433177,
          -0.9899600641996628,
          0.3032423264059938,
          0.6587767888542639,
          -0.4464583317242279,
          -0.6219893060896388,
          0.215746609675603,
          0.09871412470636001,
          -0.1354131939410133,
          -0.3378061441575795,
          0.1693655776982172,
          1.484045077346899,
          0.6090219468345907,
          -0.19124624959716235,
          -0.967398248384118,
          1.1043141580139852,
          -2.550567912611941,
          0.7008138383125948,
          -0.18256120041506962,
          0.140009237107786,
          -1.8147595861830057,
          -0.05193528958030495,
          -0.15401555620694704,
          0.2811530143075865,
          1.1740620297260425,
          1.5297182853744022,
          -0.739785751180357,
          0.9386400291198713,
          1.5226819620150631,
          1.5522710043925114,
          1.484044062367158,
          -1.2509437826983634,
          -0.3418607245407414,
          -2.687452244027455,
          -0.0904448008184007,
          1.2480446646438625,
          0.7909220723245034,
          1.2973254609429583,
          0.3606258827163541,
          0.2744136552825839,
          0.8912969695352665,
          0.03728034861838325,
          1.5092081868666076,
          0.11227285183103945,
          0.9311238402401493,
          -0.5850118151746683,
          -1.267984885591459,
          0.8932837406146318,
          1.07216836087922,
          0.4162733108099414,
          -2.53797852975185,
          1.7858711009493564,
          0.7979872281741609,
          -1.5631223005697494,
          2.0737271572665175,
          -0.6729199754391189,
          0.003644446814569623,
          1.1816446564061311,
          0.6619698150468581,
          0.26890799719870395,
          1.3902482276883288,
          -3.5466237982128637,
          0.3517949715887245,
          0.5986474992941729,
          1.0783186504852063,
          0.12688835524290235,
          1.1255283183312526,
          1.438592724007693,
          -0.20976769280701474,
          1.6157492701295249,
          -0.7142491395183028,
          -0.6823468144816335,
          -1.7489145624691493,
          -0.5081401588160351,
          -0.474602561121341,
          -1.0678048410671261,
          0.3526037203219506,
          0.4141869957946213,
          -0.10889166136804006,
          0.7028112554027803,
          -0.11252653600275922,
          -1.469098180566577,
          0.2305560075270946,
          1.4538550255161649,
          0.695718999026807,
          0.5470292356346981,
          0.4700765623595155,
          1.2730254768561182,
          0.684337178380021,
          0.5744106405772278,
          -0.24654294263645554,
          -3.6089076575348447
         ]
        },
        {
         "hoverlabel": {
          "namelength": 0
         },
         "hovertemplate": "class=%{marker.color}<br>principal component 1=%{x}<br>principal component 2=%{y}<br>principal component 3=%{z}",
         "legendgroup": "class=2",
         "marker": {
          "color": [
           2
          ],
          "coloraxis": "coloraxis",
          "symbol": "square"
         },
         "mode": "markers",
         "name": "class=2",
         "scene": "scene",
         "showlegend": true,
         "type": "scatter3d",
         "x": [
          4.423478912915251
         ],
         "y": [
          19.738302625332356
         ],
         "z": [
          6.846202483552501
         ]
        }
       ],
       "layout": {
        "coloraxis": {
         "colorbar": {
          "title": {
           "text": "class"
          }
         },
         "colorscale": [
          [
           0,
           "#0d0887"
          ],
          [
           0.1111111111111111,
           "#46039f"
          ],
          [
           0.2222222222222222,
           "#7201a8"
          ],
          [
           0.3333333333333333,
           "#9c179e"
          ],
          [
           0.4444444444444444,
           "#bd3786"
          ],
          [
           0.5555555555555556,
           "#d8576b"
          ],
          [
           0.6666666666666666,
           "#ed7953"
          ],
          [
           0.7777777777777778,
           "#fb9f3a"
          ],
          [
           0.8888888888888888,
           "#fdca26"
          ],
          [
           1,
           "#f0f921"
          ]
         ]
        },
        "height": 600,
        "legend": {
         "tracegroupgap": 0,
         "x": 0,
         "y": 1
        },
        "margin": {
         "t": 60
        },
        "scene": {
         "aspectmode": "auto",
         "aspectratio": {
          "x": 0.640472316997972,
          "y": 1.70677746485951,
          "z": 0.9147927980321406
         },
         "camera": {
          "center": {
           "x": 0,
           "y": 0,
           "z": 0
          },
          "eye": {
           "x": 1.4193236365948803,
           "y": -1.2052576966690642,
           "z": 1.1047055260217842
          },
          "projection": {
           "type": "perspective"
          },
          "up": {
           "x": 0,
           "y": 0,
           "z": 1
          }
         },
         "domain": {
          "x": [
           0,
           0.98
          ],
          "y": [
           0,
           1
          ]
         },
         "xaxis": {
          "title": {
           "text": "principal component 1"
          },
          "type": "linear"
         },
         "yaxis": {
          "title": {
           "text": "principal component 2"
          },
          "type": "linear"
         },
         "zaxis": {
          "title": {
           "text": "principal component 3"
          },
          "type": "linear"
         }
        },
        "template": {
         "data": {
          "bar": [
           {
            "error_x": {
             "color": "#2a3f5f"
            },
            "error_y": {
             "color": "#2a3f5f"
            },
            "marker": {
             "line": {
              "color": "#E5ECF6",
              "width": 0.5
             }
            },
            "type": "bar"
           }
          ],
          "barpolar": [
           {
            "marker": {
             "line": {
              "color": "#E5ECF6",
              "width": 0.5
             }
            },
            "type": "barpolar"
           }
          ],
          "carpet": [
           {
            "aaxis": {
             "endlinecolor": "#2a3f5f",
             "gridcolor": "white",
             "linecolor": "white",
             "minorgridcolor": "white",
             "startlinecolor": "#2a3f5f"
            },
            "baxis": {
             "endlinecolor": "#2a3f5f",
             "gridcolor": "white",
             "linecolor": "white",
             "minorgridcolor": "white",
             "startlinecolor": "#2a3f5f"
            },
            "type": "carpet"
           }
          ],
          "choropleth": [
           {
            "colorbar": {
             "outlinewidth": 0,
             "ticks": ""
            },
            "type": "choropleth"
           }
          ],
          "contour": [
           {
            "colorbar": {
             "outlinewidth": 0,
             "ticks": ""
            },
            "colorscale": [
             [
              0,
              "#0d0887"
             ],
             [
              0.1111111111111111,
              "#46039f"
             ],
             [
              0.2222222222222222,
              "#7201a8"
             ],
             [
              0.3333333333333333,
              "#9c179e"
             ],
             [
              0.4444444444444444,
              "#bd3786"
             ],
             [
              0.5555555555555556,
              "#d8576b"
             ],
             [
              0.6666666666666666,
              "#ed7953"
             ],
             [
              0.7777777777777778,
              "#fb9f3a"
             ],
             [
              0.8888888888888888,
              "#fdca26"
             ],
             [
              1,
              "#f0f921"
             ]
            ],
            "type": "contour"
           }
          ],
          "contourcarpet": [
           {
            "colorbar": {
             "outlinewidth": 0,
             "ticks": ""
            },
            "type": "contourcarpet"
           }
          ],
          "heatmap": [
           {
            "colorbar": {
             "outlinewidth": 0,
             "ticks": ""
            },
            "colorscale": [
             [
              0,
              "#0d0887"
             ],
             [
              0.1111111111111111,
              "#46039f"
             ],
             [
              0.2222222222222222,
              "#7201a8"
             ],
             [
              0.3333333333333333,
              "#9c179e"
             ],
             [
              0.4444444444444444,
              "#bd3786"
             ],
             [
              0.5555555555555556,
              "#d8576b"
             ],
             [
              0.6666666666666666,
              "#ed7953"
             ],
             [
              0.7777777777777778,
              "#fb9f3a"
             ],
             [
              0.8888888888888888,
              "#fdca26"
             ],
             [
              1,
              "#f0f921"
             ]
            ],
            "type": "heatmap"
           }
          ],
          "heatmapgl": [
           {
            "colorbar": {
             "outlinewidth": 0,
             "ticks": ""
            },
            "colorscale": [
             [
              0,
              "#0d0887"
             ],
             [
              0.1111111111111111,
              "#46039f"
             ],
             [
              0.2222222222222222,
              "#7201a8"
             ],
             [
              0.3333333333333333,
              "#9c179e"
             ],
             [
              0.4444444444444444,
              "#bd3786"
             ],
             [
              0.5555555555555556,
              "#d8576b"
             ],
             [
              0.6666666666666666,
              "#ed7953"
             ],
             [
              0.7777777777777778,
              "#fb9f3a"
             ],
             [
              0.8888888888888888,
              "#fdca26"
             ],
             [
              1,
              "#f0f921"
             ]
            ],
            "type": "heatmapgl"
           }
          ],
          "histogram": [
           {
            "marker": {
             "colorbar": {
              "outlinewidth": 0,
              "ticks": ""
             }
            },
            "type": "histogram"
           }
          ],
          "histogram2d": [
           {
            "colorbar": {
             "outlinewidth": 0,
             "ticks": ""
            },
            "colorscale": [
             [
              0,
              "#0d0887"
             ],
             [
              0.1111111111111111,
              "#46039f"
             ],
             [
              0.2222222222222222,
              "#7201a8"
             ],
             [
              0.3333333333333333,
              "#9c179e"
             ],
             [
              0.4444444444444444,
              "#bd3786"
             ],
             [
              0.5555555555555556,
              "#d8576b"
             ],
             [
              0.6666666666666666,
              "#ed7953"
             ],
             [
              0.7777777777777778,
              "#fb9f3a"
             ],
             [
              0.8888888888888888,
              "#fdca26"
             ],
             [
              1,
              "#f0f921"
             ]
            ],
            "type": "histogram2d"
           }
          ],
          "histogram2dcontour": [
           {
            "colorbar": {
             "outlinewidth": 0,
             "ticks": ""
            },
            "colorscale": [
             [
              0,
              "#0d0887"
             ],
             [
              0.1111111111111111,
              "#46039f"
             ],
             [
              0.2222222222222222,
              "#7201a8"
             ],
             [
              0.3333333333333333,
              "#9c179e"
             ],
             [
              0.4444444444444444,
              "#bd3786"
             ],
             [
              0.5555555555555556,
              "#d8576b"
             ],
             [
              0.6666666666666666,
              "#ed7953"
             ],
             [
              0.7777777777777778,
              "#fb9f3a"
             ],
             [
              0.8888888888888888,
              "#fdca26"
             ],
             [
              1,
              "#f0f921"
             ]
            ],
            "type": "histogram2dcontour"
           }
          ],
          "mesh3d": [
           {
            "colorbar": {
             "outlinewidth": 0,
             "ticks": ""
            },
            "type": "mesh3d"
           }
          ],
          "parcoords": [
           {
            "line": {
             "colorbar": {
              "outlinewidth": 0,
              "ticks": ""
             }
            },
            "type": "parcoords"
           }
          ],
          "scatter": [
           {
            "marker": {
             "colorbar": {
              "outlinewidth": 0,
              "ticks": ""
             }
            },
            "type": "scatter"
           }
          ],
          "scatter3d": [
           {
            "line": {
             "colorbar": {
              "outlinewidth": 0,
              "ticks": ""
             }
            },
            "marker": {
             "colorbar": {
              "outlinewidth": 0,
              "ticks": ""
             }
            },
            "type": "scatter3d"
           }
          ],
          "scattercarpet": [
           {
            "marker": {
             "colorbar": {
              "outlinewidth": 0,
              "ticks": ""
             }
            },
            "type": "scattercarpet"
           }
          ],
          "scattergeo": [
           {
            "marker": {
             "colorbar": {
              "outlinewidth": 0,
              "ticks": ""
             }
            },
            "type": "scattergeo"
           }
          ],
          "scattergl": [
           {
            "marker": {
             "colorbar": {
              "outlinewidth": 0,
              "ticks": ""
             }
            },
            "type": "scattergl"
           }
          ],
          "scattermapbox": [
           {
            "marker": {
             "colorbar": {
              "outlinewidth": 0,
              "ticks": ""
             }
            },
            "type": "scattermapbox"
           }
          ],
          "scatterpolar": [
           {
            "marker": {
             "colorbar": {
              "outlinewidth": 0,
              "ticks": ""
             }
            },
            "type": "scatterpolar"
           }
          ],
          "scatterpolargl": [
           {
            "marker": {
             "colorbar": {
              "outlinewidth": 0,
              "ticks": ""
             }
            },
            "type": "scatterpolargl"
           }
          ],
          "scatterternary": [
           {
            "marker": {
             "colorbar": {
              "outlinewidth": 0,
              "ticks": ""
             }
            },
            "type": "scatterternary"
           }
          ],
          "surface": [
           {
            "colorbar": {
             "outlinewidth": 0,
             "ticks": ""
            },
            "colorscale": [
             [
              0,
              "#0d0887"
             ],
             [
              0.1111111111111111,
              "#46039f"
             ],
             [
              0.2222222222222222,
              "#7201a8"
             ],
             [
              0.3333333333333333,
              "#9c179e"
             ],
             [
              0.4444444444444444,
              "#bd3786"
             ],
             [
              0.5555555555555556,
              "#d8576b"
             ],
             [
              0.6666666666666666,
              "#ed7953"
             ],
             [
              0.7777777777777778,
              "#fb9f3a"
             ],
             [
              0.8888888888888888,
              "#fdca26"
             ],
             [
              1,
              "#f0f921"
             ]
            ],
            "type": "surface"
           }
          ],
          "table": [
           {
            "cells": {
             "fill": {
              "color": "#EBF0F8"
             },
             "line": {
              "color": "white"
             }
            },
            "header": {
             "fill": {
              "color": "#C8D4E3"
             },
             "line": {
              "color": "white"
             }
            },
            "type": "table"
           }
          ]
         },
         "layout": {
          "annotationdefaults": {
           "arrowcolor": "#2a3f5f",
           "arrowhead": 0,
           "arrowwidth": 1
          },
          "colorscale": {
           "diverging": [
            [
             0,
             "#8e0152"
            ],
            [
             0.1,
             "#c51b7d"
            ],
            [
             0.2,
             "#de77ae"
            ],
            [
             0.3,
             "#f1b6da"
            ],
            [
             0.4,
             "#fde0ef"
            ],
            [
             0.5,
             "#f7f7f7"
            ],
            [
             0.6,
             "#e6f5d0"
            ],
            [
             0.7,
             "#b8e186"
            ],
            [
             0.8,
             "#7fbc41"
            ],
            [
             0.9,
             "#4d9221"
            ],
            [
             1,
             "#276419"
            ]
           ],
           "sequential": [
            [
             0,
             "#0d0887"
            ],
            [
             0.1111111111111111,
             "#46039f"
            ],
            [
             0.2222222222222222,
             "#7201a8"
            ],
            [
             0.3333333333333333,
             "#9c179e"
            ],
            [
             0.4444444444444444,
             "#bd3786"
            ],
            [
             0.5555555555555556,
             "#d8576b"
            ],
            [
             0.6666666666666666,
             "#ed7953"
            ],
            [
             0.7777777777777778,
             "#fb9f3a"
            ],
            [
             0.8888888888888888,
             "#fdca26"
            ],
            [
             1,
             "#f0f921"
            ]
           ],
           "sequentialminus": [
            [
             0,
             "#0d0887"
            ],
            [
             0.1111111111111111,
             "#46039f"
            ],
            [
             0.2222222222222222,
             "#7201a8"
            ],
            [
             0.3333333333333333,
             "#9c179e"
            ],
            [
             0.4444444444444444,
             "#bd3786"
            ],
            [
             0.5555555555555556,
             "#d8576b"
            ],
            [
             0.6666666666666666,
             "#ed7953"
            ],
            [
             0.7777777777777778,
             "#fb9f3a"
            ],
            [
             0.8888888888888888,
             "#fdca26"
            ],
            [
             1,
             "#f0f921"
            ]
           ]
          },
          "colorway": [
           "#636efa",
           "#EF553B",
           "#00cc96",
           "#ab63fa",
           "#FFA15A",
           "#19d3f3",
           "#FF6692",
           "#B6E880",
           "#FF97FF",
           "#FECB52"
          ],
          "font": {
           "color": "#2a3f5f"
          },
          "geo": {
           "bgcolor": "white",
           "lakecolor": "white",
           "landcolor": "#E5ECF6",
           "showlakes": true,
           "showland": true,
           "subunitcolor": "white"
          },
          "hoverlabel": {
           "align": "left"
          },
          "hovermode": "closest",
          "mapbox": {
           "style": "light"
          },
          "paper_bgcolor": "white",
          "plot_bgcolor": "#E5ECF6",
          "polar": {
           "angularaxis": {
            "gridcolor": "white",
            "linecolor": "white",
            "ticks": ""
           },
           "bgcolor": "#E5ECF6",
           "radialaxis": {
            "gridcolor": "white",
            "linecolor": "white",
            "ticks": ""
           }
          },
          "scene": {
           "xaxis": {
            "backgroundcolor": "#E5ECF6",
            "gridcolor": "white",
            "gridwidth": 2,
            "linecolor": "white",
            "showbackground": true,
            "ticks": "",
            "zerolinecolor": "white"
           },
           "yaxis": {
            "backgroundcolor": "#E5ECF6",
            "gridcolor": "white",
            "gridwidth": 2,
            "linecolor": "white",
            "showbackground": true,
            "ticks": "",
            "zerolinecolor": "white"
           },
           "zaxis": {
            "backgroundcolor": "#E5ECF6",
            "gridcolor": "white",
            "gridwidth": 2,
            "linecolor": "white",
            "showbackground": true,
            "ticks": "",
            "zerolinecolor": "white"
           }
          },
          "shapedefaults": {
           "line": {
            "color": "#2a3f5f"
           }
          },
          "ternary": {
           "aaxis": {
            "gridcolor": "white",
            "linecolor": "white",
            "ticks": ""
           },
           "baxis": {
            "gridcolor": "white",
            "linecolor": "white",
            "ticks": ""
           },
           "bgcolor": "#E5ECF6",
           "caxis": {
            "gridcolor": "white",
            "linecolor": "white",
            "ticks": ""
           }
          },
          "title": {
           "x": 0.05
          },
          "xaxis": {
           "automargin": true,
           "gridcolor": "white",
           "linecolor": "white",
           "ticks": "",
           "zerolinecolor": "white",
           "zerolinewidth": 2
          },
          "yaxis": {
           "automargin": true,
           "gridcolor": "white",
           "linecolor": "white",
           "ticks": "",
           "zerolinecolor": "white",
           "zerolinewidth": 2
          }
         }
        },
        "width": 800
       }
      },
      "image/png": "[encoded data removed]",
      "text/html": [
       "<div>\n",
       "        \n",
       "        \n",
       "            <div id=\"e7f325ec-8df7-4520-a74c-0e6a9f1d3ab4\" class=\"plotly-graph-div\" style=\"height:600px; width:800px;\"></div>\n",
       "            <script type=\"text/javascript\">\n",
       "                require([\"plotly\"], function(Plotly) {\n",
       "                    window.PLOTLYENV=window.PLOTLYENV || {};\n",
       "                    \n",
       "                if (document.getElementById(\"e7f325ec-8df7-4520-a74c-0e6a9f1d3ab4\")) {\n",
       "                    Plotly.newPlot(\n",
       "                        'e7f325ec-8df7-4520-a74c-0e6a9f1d3ab4',\n",
       "                        [{\"hoverlabel\": {\"namelength\": 0}, \"hovertemplate\": \"class=%{marker.color}<br>principal component 1=%{x}<br>principal component 2=%{y}<br>principal component 3=%{z}\", \"legendgroup\": \"class=1\", \"marker\": {\"color\": [1, 1, 1, 1, 1, 1, 1, 1, 1, 1, 1, 1, 1, 1, 1, 1, 1, 1, 1, 1, 1, 1, 1, 1, 1, 1, 1, 1, 1, 1, 1, 1, 1, 1, 1, 1, 1, 1, 1, 1, 1, 1, 1, 1, 1, 1, 1, 1, 1, 1, 1, 1, 1, 1, 1, 1, 1, 1, 1, 1, 1, 1, 1, 1, 1, 1, 1, 1, 1, 1, 1, 1, 1, 1, 1, 1, 1, 1, 1, 1, 1, 1, 1, 1, 1, 1, 1, 1, 1, 1, 1, 1, 1, 1, 1, 1, 1, 1, 1, 1, 1, 1, 1, 1, 1, 1, 1, 1, 1, 1, 1, 1, 1, 1, 1, 1, 1, 1, 1, 1, 1, 1, 1, 1, 1, 1, 1, 1, 1, 1, 1, 1, 1, 1, 1, 1, 1, 1, 1, 1, 1, 1, 1, 1, 1, 1, 1, 1, 1, 1, 1, 1, 1, 1, 1, 1, 1, 1, 1, 1, 1, 1, 1, 1, 1, 1, 1, 1, 1, 1, 1, 1, 1, 1, 1, 1, 1, 1, 1, 1, 1, 1, 1, 1, 1, 1, 1, 1, 1, 1, 1, 1, 1, 1, 1, 1, 1, 1, 1, 1, 1, 1, 1, 1, 1, 1, 1, 1, 1, 1, 1, 1, 1, 1, 1, 1, 1, 1, 1, 1, 1, 1, 1, 1, 1, 1, 1, 1, 1, 1, 1, 1, 1, 1, 1, 1, 1, 1], \"coloraxis\": \"coloraxis\", \"symbol\": \"circle\"}, \"mode\": \"markers\", \"name\": \"class=1\", \"scene\": \"scene\", \"showlegend\": true, \"type\": \"scatter3d\", \"x\": [0.8439432972993086, 1.2803941551575833, 1.5735047398550943, 2.6498571425010238, 1.9791969392822637, 1.806534412950177, 1.3380443406488811, 0.01169736851676261, 2.2026643834066064, 1.2480565533334773, 1.9267945261946262, 0.4471528440601589, 2.086655219941461, 1.059863218510034, 1.8092579659485646, -0.21211312816790556, 2.709873617006366, 0.7164458038944267, 0.6140244518955272, 1.6077893506069498, 1.8626900782977287, 1.6909222928211496, 0.36118329242605623, 1.6655534575322437, 1.8880725927427726, 1.376711762722491, 1.511953604722708, 1.6430210234633087, 2.3543517331994255, 1.6176042433901268, 1.7054018782466025, 2.5616402361924813, 0.38989537842815647, 1.8695761817721637, 2.341505248799635, 1.1922992974188111, 1.213524502816066, 1.7433881720463078, 1.9539696108105586, 1.778002794661186, 1.6733565347420425, 1.2471490131065872, 2.4204334517071646, 2.2068530933840718, 1.582875018200643, 1.8916941027370058, 2.154507288736107, 2.057575135618424, 1.4756867945734082, 1.797864772588028, 1.1688106067761028, 2.271784606515743, 1.4084439673961313, 2.098187344904528, 1.735087222054592, 0.33475716743014783, 1.9817663111611548, 1.4779333498561413, 1.1128247626689205, 0.12384465153886136, 1.965623987247595, 2.392192743668053, 1.1211146332471182, 1.7057222908912446, 1.8705516942047689, 2.4038203841304515, 2.6395621796339053, 2.5391161752410256, 2.141923515167323, 1.9705002926252733, 3.0223068255174677, 1.8797235164657216, 1.7039188193033585, 1.3249146709253266, 1.981983001332306, 2.215166903309609, -0.5200671492240693, 0.9845946485965857, -0.5030195880151205, 1.2684775793064378, 1.779574186310804, 1.109044957535285, 0.6222557734178692, 1.1637950004527269, 1.986670932869391, 0.8184638831667084, 1.7124344724531, 0.7191590129682965, 0.46316049505299284, 1.5646243991270479, 0.9985543809332513, 1.4167854769969235, 0.08773694690625468, 1.7578828083182576, 1.304205548030777, 0.06823347652372183, 1.5820837966098298, 1.9877378844503688, 0.5947491748298535, 1.0833935627748534, 0.4638093147425164, 2.2886199860746816, 1.7073083094772563, 0.9717674827401575, 0.34044777630039624, 0.30405720298122274, 2.5690545909969225, 2.8260107646191597, -0.11298115074600001, 1.558239607225349, 1.9410280601330918, 0.8314620018592834, 1.487844602523462, 0.2304094061790089, 0.7397408241041676, 0.38423940421865016, 1.7941691741098302, 2.1937417977741265, 1.3230034020423562, 1.254474111198977, 0.15350458316821355, 1.9474147974331972, 0.08602555884757795, 0.6591763024438859, 0.6500409325482072, 0.05059951005777398, 2.6030359633917772, -0.6404320911861058, 0.8139004159430885, 3.203419718038703, 1.3321176569180204, 0.6750605325370775, 1.4941997201346102, 1.6440653070537643, 0.34980357797945155, 1.4654225965493242, 1.879896124907888, 0.8293415722729599, 2.0656326627347887, 0.3562994784273253, 1.6921031619073053, 1.0240738850953752, 1.8260653436718297, 1.9863204512532486, 1.3070714495146942, 1.2744603128704541, 2.2663755139835473, 1.7836140101926885, 0.3818372730758412, 1.509654873679014, 1.1876238749727432, 0.5497155693871736, 1.6604630006035845, -0.09039728091081824, 2.0337143465103598, 2.7103367697397163, -0.27058852656860016, -0.18227707835972246, 2.4032395440680068, 1.2624743097254008, 2.7479094690700374, 2.423327970490109, 1.942200397017092, 1.3613029505050562, 2.18164213756453, 1.1266988478318816, 0.5367871471072887, 0.6146256451444609, 0.9059805170329785, 0.7283038665547726, 1.7468375844320791, 0.272762249901359, 2.399378448181759, 1.6786040211793707, 0.3867677699084512, 0.18828401586156962, 2.6946984194325525, 0.6019212771106692, 1.023110117175984, 0.24246769892605105, 1.5121319371721635, 1.1679380683538447, 3.0609875379366347, 1.71831525546178, 0.3659911809970362, 1.0651279345267424, 2.5231063148556365, 2.9958024986825342, 0.15152451541812215, 1.7152310233764534, 2.2799081642865016, 1.5988905717051607, 0.9077953606810331, -0.7520071105964852, 2.5558628663189475, 1.8911788076473597, 0.24744990001796469, 0.5864836357793535, 4.079782132723759, 1.3449665165572025, -0.3414377903440613, 2.742540980467156, 1.0898764591553367, 0.15000514302299212, 1.4193505927131262, 1.0263178265002366, 1.718870377795857, 2.4174895400826872, 0.056145466499369884, 1.8733680525363288, -0.13953572168891787, 0.5521222811480122, 0.392068949207717, 1.6784011873169649, 2.936270379885707, -0.07697387213006576, 0.83723859518825, 1.2322589046672514, 1.4228895561490384, 1.0380110893258758, 1.5159886398927702, 0.7431753135232311, 1.7082434425985193, 1.1029027773694737, 0.6663078351153846, 0.9360896430058911, 0.4083445937346384, 1.178389238251301, 1.7568345689568752, 2.0071826317593477, 5.171392919103165, 1.273605170495606, 2.2076174627920806, 1.8521281208748026, 2.23330261763438, 2.2502585487821882, 3.56223418702149, 1.128972021463162], \"y\": [0.16017877590296786, -0.741814866467037, 1.0803008569303834, -0.6951915533373546, -0.8543410960957981, -2.110745951679241, -1.7164568193442, -1.5968207305237232, -1.6331492968232033, -0.18131481930102133, -0.9039001563192528, -0.766026470413268, -0.7418656544117972, -0.6335097574138802, -1.0019620597512056, -0.37523161974190233, -1.313562257012276, -0.7704823992441612, -1.5862925078664714, -1.2819120064166474, -0.7992824297057293, 0.07389401996709265, -1.4410451291891144, -0.12151880318531559, -0.4700157934534739, -1.3902732486400544, 0.06697051119979795, -0.5433604560362666, -1.469731173222205, -1.1065610350307715, -1.9202818899537748, -1.634592681731345, -1.5538552561193075, -1.4017200043920939, 1.5321191322797587, -1.5069325163780025, -0.9291745930059206, -1.2755470878012503, -1.4243193284254867, -0.4976471747424257, -1.335815659919639, -1.8725079019936948, -0.812361061569635, -1.253521893720451, -0.6482895840697113, -1.2939928844546527, -0.27650327211970666, -0.176558477524226, -0.8777528847397201, -0.9098869290174325, -1.2450468854976067, -0.11334530516515533, -0.10798924903339069, -0.2583637226862187, -0.7706720787136319, -0.9492038950655783, -0.612671139471531, 0.40992602413949686, -0.3430464372951077, -0.5339138192964353, -1.4561888938382264, 0.05955965667047773, -0.7650721650969998, 0.4976718844294499, -0.21766900724462185, -1.6390112629357814, -1.0568351872856319, -1.3510395201104035, -2.1825785163424163, -0.9981719059182651, -1.5418553230827814, -0.7360332637057786, -0.825508900740185, -2.8989828648729636, -2.443441391399233, -0.25435008366655093, -1.0644193299988611, -0.5525113610270801, -0.7037589319244563, -0.1916382757288594, -0.3419903624923117, -0.38953323115766847, -0.4967968560480318, -0.08386430240061303, -0.6956968250579685, 0.6165549126753759, -0.4124643860345992, -0.4122141537065966, -0.5028981234324413, -0.34033087523095257, -0.5497727528619966, 0.161910956227063, -0.5988099196666589, 0.196115955315567, -1.164514733143996, -0.7874056472990766, -0.5895218333908625, -0.36390442913299514, -1.080260781048892, -0.9294118774384629, -0.37209812019664906, 0.31118978122140184, 0.07158986389369347, 0.3386844159775582, -0.44023446058850474, -0.7968328735857655, -1.6296095119591023, -1.5749607353297135, 0.23420604655602498, -0.020792131765821262, -0.44154902370634524, 0.40786936221284953, -0.04109967461361723, -0.3680806919103126, -1.13521643935682, -0.11271654083346876, 0.05168075762067938, -1.122331734832212, 0.4236979769814101, -0.153387035620787, -1.6999491515293115, -0.27800449629028295, -0.5156505260455118, 0.009982859337779447, 0.5277567458124847, -1.2197264351234858, -1.0367216971880848, -0.7140058850966012, -0.5460211489028236, -0.5136123186622792, -0.6005299350882958, -0.5053270317830338, -0.4009573530594965, -0.3802637896155839, -0.6456799332780381, 0.6592323286470948, 0.27255141979281466, 0.5325014589201024, -1.601563339826822, -0.679541054279029, -0.21720481038296732, 0.45591940363239286, -0.24892690665108583, 0.47827007974185615, 0.32057484219686866, -0.5051345804479028, -0.9292997738053482, -0.030472657449499348, 0.46284082379275726, -0.6664573945382742, -0.3675023635149944, 0.24057676745522283, 0.5420597238976109, -1.04512054378947, -0.14647537528911836, -0.14043352493356118, 0.19799138712453124, -0.2812648824201514, 0.6743832145712086, 0.2556889598778184, 0.24822868928064892, 0.21116020560837193, 0.09195716805982325, 0.515864401817183, -0.1459779990135155, -0.8162258187533148, 0.06529272993575941, -0.36923020961871816, -0.6184219785892798, -0.9242038194633079, -0.3258268047430152, -1.4093873833550816, -0.12942504642683014, -0.6755482762078983, -0.5275625526179095, -1.415592867513669, -1.3733748055807307, 0.11649514891735117, -0.47174900367367356, 0.18407155587105642, 0.7696083460737276, -0.016583987260076812, -0.99943670435812, -1.4720550390051337, -0.1492958400836807, 0.5057703068627623, 0.4363642042605994, 0.2453787628594535, -0.38894289250783476, -0.6850585661293376, -0.2858217686771866, 0.9316937492911936, -0.6780916478274045, -0.5995394011608421, -0.3594445469425511, -0.6633222342373809, -0.7955596028621664, 0.7270458163646111, 6.072017300902273, -1.2240455410629651, -1.2886560996517749, 4.326801075448386, -0.364271786782296, -1.4147683267880768, -0.008645483360386815, 0.19122040754531394, 1.117487255641741, 1.030058051806096, -0.24651357576834573, 0.06602189202671314, -0.14403169143215597, 0.05586086175295525, 0.589916687618074, -1.4958168851409968, 6.207420536555363, -0.9888705964115522, -0.40623550263117775, -0.08049997226417878, -0.0355319393414173, -0.25948139895579375, -0.062143767881712345, -0.09400583974099488, -0.3862588469546058, -0.5582917224569226, -1.413740313633494, -0.4772554153136516, -1.7820559729891061, -0.8643524837554647, -0.3797006374895996, 0.2086208478558864, 10.598536043251963, -0.11408430219759502, -0.28600956369797, 0.19724724892526507, 4.420246249404059, 0.5174785975783374, 8.063537580608656, 0.24007841007685043], \"z\": [0.08207683384084409, -0.38947184592041006, 0.7646316237505776, 0.4590916563901068, -0.6833662189035996, 1.1780116795308435, 1.891827511398257, 0.36355069276640944, 1.4607092149903336, -2.904178563914273, 0.316267033497155, -2.012609829306647, 1.1547187780945263, -2.2883984334840313, -1.402242596103956, -1.8940463715967923, 0.7722414052221197, 0.05383998466599613, 0.3513573386165501, -0.6531627752047497, -0.21926774738299237, 0.9970157634061615, 0.1753338167273729, -1.1448129428699014, -0.15232398971106872, 0.36095216691521315, -1.11349314939183, -0.3908782101532013, 1.425038695789272, -0.44339707407969753, 1.2622313843985042, 1.2010120366435744, -1.041040734191887, 0.32583494739933017, -0.20958571006899882, 1.1584273580448448, -0.8188005396235383, -0.2518826708925444, 1.3034853844576115, -0.4059728776038867, 0.16473634730911152, 1.2304924264835746, -0.19039568152986677, 1.1106269314802586, -0.9920506450842179, 0.12930573447182955, 0.07251261280357327, 0.8551614694386942, 0.1425241712383362, 0.25452663317743884, 0.9065913939731843, 0.39461016464151444, -1.5196233334856386, -1.3302949593793059, 0.452475304074121, 0.3467872165894323, 0.542169953449765, -2.0301053821511705, 0.1679333649354834, -0.7677622957919891, 0.8543669505837337, 0.22494121035826403, -0.1478409704459265, -0.7310420854351964, -0.4897401281541168, 1.5055347756537742, 2.1946691265961538, 0.29770884389670604, 1.044000768544415, -0.1875646460485598, 2.805353497076019, 0.04018797105523619, 0.8699451420922583, 0.9223419412757318, 1.0532947005720694, 0.18329842868622703, -0.9077639056287184, -0.37359846330292934, -1.7775352394772332, -2.0126852942756637, -1.429471214317455, 0.1676574511560812, 0.11992133375439645, 0.3206886849754011, 0.3171565196421692, -1.6203864652168345, -0.8628436631149032, -3.1721691452806673, 0.17081646482539195, 0.2644728561945782, -2.820569921368585, -0.2150343786868354, 0.15564051157024383, -1.7904903081516441, 1.152314331253947, -1.504083470665562, -0.1426992915733888, -0.7681459631656541, 1.0156407601601596, 0.3522087213239118, -1.3774368038889129, -0.1420655008637906, -0.9347162173477472, -1.32804765146022, 0.2579801608630806, 0.16234297717906546, 0.9984237591279379, 3.5336734953413123, -3.3824560068656844, -0.7658798790184197, -0.27206910934298756, -2.3055976577309356, -0.46119333902820064, -1.7289361394785159, 0.1185665864742492, -0.7288409879509957, -0.5802928817680171, 0.23321147516066018, -2.736147705591354, 0.573697371170485, 0.9796414097675213, -0.7942406668189508, -0.28865129839757453, -0.4145601285731355, -3.063482562624434, 0.12585950560149098, -0.058815976487499595, -0.8978038925180274, -0.5450770920306175, 3.189795505981577, 0.1516407748736547, -0.40842554256581687, -1.5911828351159347, -0.38107283534877096, -0.963004570597513, -1.9089910423683363, 0.06408639153713197, -3.900213684146476, 1.3210787411803737, -0.837207509676548, 0.003494599306950202, -1.6634309022467775, -1.517933582939741, -0.9013213107472536, -2.2943899305366493, -0.8616739184522431, 0.5988307601561157, -1.1976642401428839, -1.8428856261061357, 0.5086596457944862, -0.11040860900696031, -0.9253932406591948, -1.7392362962682926, 0.580817902799682, 0.0499505445898539, -0.6682072328645426, -2.6292933492602617, -0.8979416824729393, 0.0015173937086778479, -1.4837968618336679, -1.7624060707106437, 0.32961802309116556, -0.07822342924142398, -2.4679368019911068, -0.049656863930464444, 0.5717780098093966, -2.4966256301545577, -1.2843872269175112, -0.8113755771188521, 0.4255716041554798, -1.5271045431550758, 0.6604205911117191, -0.8044819258454252, -0.3888560852247327, -0.3483596717478181, 0.4719824006413451, 1.3729199180715501, -1.1917189702638997, -0.9734536876199937, -0.441056505115685, -2.337992970417893, -1.823153744198257, 0.1395792250549307, 1.2779946862040046, -1.780447121628, -3.144360600284885, -0.8275169851279505, 0.420720799541284, -2.099671700658408, -0.9358072712304043, -0.77869835179438, -2.8338425709136486, -2.977599295769738, -2.8346608048706994, -0.8182797353252994, -0.546912800859142, -1.1305883184820702, -0.9985805880513876, 0.8551507565053871, -0.23424675810621154, -2.243941668015681, -0.5011456976785212, -1.3526923458815292, 0.8096140923827435, 1.130499307411903, -2.204069341276508, -0.9475558434312972, -3.178929921103788, -1.0903277610754463, 0.13507614598632434, -2.2807367225816266, -2.4901470277012727, -1.7807486285790275, 0.8875669814825343, -1.1930005673629547, -3.7039787810287246, 0.08583266471423713, -1.1026615831497588, -0.3574518855396433, -1.4963626855252656, -1.2308522706998934, 0.16243439245820251, -0.5582953166157646, -1.4939730748184112, 0.7351837027176098, -0.9915985071261885, 0.5752197954048588, 0.19516359880579906, -0.8219390013607899, -0.6631366834013601, 0.9804402622415322, -0.9512659467253711, -1.5304837613223992, -2.098166007428229, 1.1687580540457265, -1.2563971017311593, 0.6490938666120748, -0.5549074737071389]}, {\"hoverlabel\": {\"namelength\": 0}, \"hovertemplate\": \"class=%{marker.color}<br>principal component 1=%{x}<br>principal component 2=%{y}<br>principal component 3=%{z}\", \"legendgroup\": \"class=0\", \"marker\": {\"color\": [0, 0, 0, 0, 0, 0, 0, 0, 0, 0, 0, 0, 0, 0, 0, 0, 0, 0, 0, 0, 0, 0, 0, 0, 0, 0, 0, 0, 0, 0, 0, 0, 0, 0, 0, 0, 0, 0, 0, 0, 0, 0, 0, 0, 0, 0, 0, 0, 0, 0, 0, 0, 0, 0, 0, 0, 0, 0, 0, 0, 0, 0, 0, 0, 0, 0, 0, 0, 0, 0, 0, 0, 0, 0, 0, 0, 0, 0, 0, 0, 0, 0, 0, 0, 0, 0, 0, 0, 0, 0, 0, 0, 0, 0, 0, 0, 0, 0, 0, 0, 0, 0, 0, 0, 0, 0, 0, 0, 0, 0, 0, 0, 0, 0, 0, 0, 0, 0, 0, 0, 0, 0, 0, 0, 0, 0, 0, 0, 0, 0, 0, 0, 0, 0, 0, 0, 0, 0, 0, 0, 0, 0, 0, 0, 0, 0, 0, 0, 0, 0, 0, 0, 0, 0, 0, 0, 0, 0, 0, 0, 0, 0, 0, 0, 0, 0, 0, 0, 0, 0, 0, 0, 0, 0, 0, 0, 0, 0, 0, 0, 0, 0, 0, 0, 0, 0, 0, 0, 0, 0, 0, 0, 0, 0, 0, 0, 0, 0, 0, 0, 0, 0, 0, 0, 0, 0, 0, 0, 0, 0, 0, 0, 0, 0, 0, 0, 0, 0, 0, 0, 0, 0, 0, 0, 0, 0, 0, 0, 0, 0, 0, 0, 0, 0, 0, 0, 0, 0, 0, 0, 0, 0, 0, 0, 0, 0, 0, 0, 0, 0, 0, 0, 0, 0, 0, 0, 0, 0, 0, 0, 0, 0], \"coloraxis\": \"coloraxis\", \"symbol\": \"diamond\"}, \"mode\": \"markers\", \"name\": \"class=0\", \"scene\": \"scene\", \"showlegend\": true, \"type\": \"scatter3d\", \"x\": [-0.47574177710071286, -1.1056054374687525, -1.9148116059836637, -1.0316242583095392, -1.8171804271030274, -1.9790453237841592, -0.38100410706206783, -1.655151198808506, -0.13433871116654195, -0.18798403945505876, -0.9984972216293516, -0.681244350618561, -0.08171712019089551, -1.5271118824406371, -1.0474996387507485, -0.6427722636457708, -0.8896230397039732, -0.7103650916789745, -0.23910229469137975, 0.17984243664701793, -0.31297769329497893, -0.8748347882225023, -1.5244043678996326, -0.26848803264281335, -1.0797184094804144, -1.1558748530858463, -0.5273089342151831, -1.5342557960739533, -1.3856473465399188, -2.9269573172637977, -0.5989253616452951, 0.35175044298672686, -1.0551290593518547, 0.5124801991897754, -0.9487934163701398, -1.282966460182623, -2.01821505222802, -2.2564368332016014, -2.2636825293834306, 0.10371995028730129, -1.3397773998548812, -1.1202897548723572, -1.4331611971018048, -0.6860649889891077, -0.0806483718558967, -1.0659607285408668, -1.2588815259492487, -2.0766909512076217, -0.7357971158499929, -3.064222105348754, -1.0589396810543403, -0.9467259270263642, -1.1438094787958082, -2.026645085384717, -1.4403603924069877, -0.8773567487682101, -0.21662094341030963, -0.29224989747981933, -1.9560581142601208, -2.257656548321222, -1.178213755341457, -0.7388871727029315, -2.1019281165064525, -0.34286085264928534, -0.6424110096053488, -2.3287811482614784, -0.2664973517200038, -1.5362302309356184, -1.5771379966630328, -1.276611439716909, -0.8711877221562911, -0.8404105667259646, -1.4252413892622096, -1.138835692328334, -0.7862384977126431, -0.5111750480898132, -0.7896948449561282, -0.3715669744679549, -0.5286740190639363, -2.6396984158843626, -2.4019536244551105, -1.9523618107512593, -1.0506964406325237, -1.6389675145336007, -1.6643317322812048, -1.6998332157620977, -0.3647587419002521, -0.6804444541537271, -0.7313606722142815, -3.0618195600442872, -1.472683660813176, -1.5743231471470451, -1.3417343145087648, -1.104540488926341, -1.8192710817839552, -1.949395093515735, -1.219821486260457, -1.2212278645496477, -0.1234906818338625, -1.268172842775473, -2.334493966134522, -1.526718389775792, -0.6862748701629586, -0.97124081686008, -1.1615786713615324, -1.2565124253812148, -2.1112424069922637, -2.0072514173027214, -2.0987020893140977, -0.7301817244984793, -2.095524204621565, -1.0421494259266817, -1.173895480092385, -1.6714907392998173, -1.6315762769537914, -2.738050381303953, -0.9895246201608557, -1.715713293471968, -1.1027754901687323, -1.0993418712623353, -1.4397866764878304, -0.9772521488419402, -0.5101319525804695, -1.8537591740985981, -2.0207867932913186, -1.92292495057376, -0.7092061093125753, -0.4817242624600578, -1.7184075467078144, -0.6392129467997929, -1.244696736061261, -2.52120696232173, -1.3957472131385247, -1.2668157247861085, -0.7802767211170979, -1.9036926120537985, -2.8144616931330666, -0.22478063352750213, -0.2815317863861315, -1.787369591187301, -0.7459348074360944, -3.3233024861058515, -2.2697443701124467, -2.083327625924597, -2.005205868856176, -3.1411405786045203, -0.8776308115263132, -1.6819827769970117, -2.1857726925821686, -0.9493559327613946, -1.1734145752818015, -1.695148398263895, -1.2607780452476933, -1.838777685257196, -1.4263003272477517, -1.0323551701741516, -0.8423429314334245, -0.7452101582400454, -1.4593248064675874, -2.249332867803839, -2.648235425779453, -2.607322171179001, -0.6846989578158041, -2.888656412171168, -1.486469581752379, -2.1411944877709836, -0.5564462532765748, -1.7082761849452084, -1.2706279416999255, -1.3548554630379785, -0.9426464696800753, -1.5173579427117123, -0.712900767478661, -0.676282898047504, -2.2386875104018844, -1.3334941830055222, -1.4250518024400163, -0.8409329682675646, -1.2376570348409723, -2.5291899701499574, -0.4982338745188336, 0.061883394742843885, -1.2435674818981368, -1.6225425582769386, -1.4343803923115641, -0.7427239099167793, -1.565447966672301, 0.04556487910213548, -0.8513996927038586, -1.1435006912095909, -0.5654500208454392, -1.956111545548656, -0.9581822327137199, -1.5495042581775518, -0.6849698738178901, -0.8492102427029449, -1.0706592173757359, -0.6511079316143149, -1.067020233423956, -0.65747594624516, -0.3357519809031124, -1.8851446496590736, -1.57311609152434, -1.686617397210667, -1.8819815273000184, -1.8586247753632361, -1.3880773800728212, -1.3557277260863574, -1.4974456619544196, -1.246078453226603, -0.6328631991728833, -1.2725456265314017, -0.9324558707911438, -1.352673127526138, -1.6687906292141188, -1.9944824331408, -0.9875274560249291, -1.0188807310036496, -0.6105236621944603, -0.7435976476473153, -1.915132984196313, -0.2550174326724386, -1.8882648622834297, -1.1998890260869102, -0.10327179047159762, -0.9864348245077432, -1.7633247836887307, -0.20938704233623157, -0.5529758597053681, -1.0410334770712883, -1.0027381937303117, -2.331477030557236, -1.8543114028096281, -0.27954020379866396, -0.6976119175287933, -1.5689739118616848, -1.1396698001330916, 0.17682731835990054, -2.4098870424034473, -0.9602165127192406, -1.4693019245510655, -2.6661131156349454, -1.754698703569619, -2.021616608092572, -2.464819781074208, -2.675629402570843, -1.9707100037476186, -1.3988852404617718, -2.094196642297938, -0.8461298915939202, -2.4262301564702837, -1.1945143104388625, -1.9675038190981056, -2.000168382664589, -1.1558607173083155, -1.2674342063534345, -0.3696689815669177, -0.9384873818876744, -1.2224689050453335, -1.1449949784997653, -1.1077706810610102, -2.4031805554455388], \"y\": [-0.029404853559606734, 0.20999424943061723, -0.4050883033157945, -1.0804553598930164, -1.104010935333246, -0.20384643374655567, -1.1022376710644293, 0.1289391356828092, -0.6140190088782043, 0.48596585803447384, -0.37595873925940415, 0.20408375121376848, -0.8798001202677815, 0.3435890074141067, -1.249332143861964, -0.24845722717871757, -0.2389418177026733, -0.1550867492745168, -1.2502003981015608, -0.7525641308384182, -0.2748889850693097, -1.0422183508257474, -0.696566018009794, 0.2772076947796435, -0.06838664465987403, -0.4938259787033633, 0.42336856812602036, -0.12533892684386208, -1.0420651861399919, 0.20260195434185804, -0.3414312796156256, -1.2201155663076724, -0.06083881078573888, -0.3568889047522768, -0.3100532162323143, 0.12617117740516712, -0.5395663518357987, 0.07564260684736801, -0.10763604388401858, 0.6194703199650023, -0.7780650564319747, -0.2768559966928298, -0.2928075998652608, 0.2397905792580784, -0.624423891770662, -1.507874176017727, -0.5557203318295385, 0.49926024006970404, 0.24482918478456053, 0.8214578244039408, 0.18688866878230706, -0.404716160342064, 0.4113722589995998, 1.7631243169127635, -0.6426665419099347, -0.9490200913149723, -0.7360035389153821, 1.7662885732631335, 0.039628300455130876, 0.27920855357139485, -0.019440429713231316, -0.4496844226343873, -0.10340008007745603, -0.7457013367363016, -0.40428922060616707, -0.35619746300192723, -0.04426558305034868, -0.2575995485510953, 0.07953191342753448, -0.022746917355688068, -1.1251171565119351, -1.2491308349109633, -1.219129421283978, -1.684726004200784, -0.10962530187009631, -0.04705522881995411, -0.20603976658201847, -0.12548473653543837, 0.9353622358430289, 0.03449987990778646, 0.79502700529089, -0.48521287800759644, -0.6966631640649801, -0.46961847402887213, -0.35241353717962, -0.07467409546314904, -1.0084045099392118, -0.4633867052523307, 0.2639769217681621, 0.6004698706461882, -0.1038666931919379, -1.2786779560849255, -0.8051589199370542, -0.6865020181494346, -0.13894525278914527, -0.14473143103113936, 0.5935812406836045, 0.12243538228320978, 0.3529434026160607, -1.3278940564188668, 0.01660955949001437, -0.4953393537038981, -1.060899939847515, -0.384292146937406, 0.46014229020250585, -0.4562198193087535, -0.31300229150397646, 0.11681290519229412, -0.6350592841067491, 0.10274022475831225, 0.38186701567070414, -1.03134318472023, -0.1053644062900528, -0.10484256818556988, -0.7003900958900225, 0.5994228538573666, 1.133016780570489, -0.20469475911046747, -1.3191931355728952, -0.4098379405952363, 0.8937770215479585, 0.3876206414976295, 0.6447442239269507, 0.6901531088419496, 0.6803372372738203, -0.10302986961885041, -1.0712255145792795, -0.40859147885430797, -0.8879644965526793, 0.21705343813059327, 0.3424558804432733, -0.15221016108022054, 0.227312450830514, -0.3272153076693403, 1.253730803659427, -0.34571432615322234, 0.32446587093875695, -0.3906740441847972, 0.41775070365479144, 0.04192738400175561, 0.7116226219490879, 0.2307649587148334, 1.1807707210181781, -0.13579630477376572, 0.04623669999628274, -0.22647345328561796, 1.4699712578886708, 1.4313741640490014, 0.29529498955386835, 0.30274796768214396, 0.29273129357601946, 0.7224298483563076, 0.34796662192913586, 0.4439912810274252, 0.40882979425433286, 1.0150042736228684, 0.5673199974372797, 0.6320642117023999, 0.32627967461932716, 0.18608517598296045, 0.09463393364555231, 1.0500846727650153, 0.021408103447249253, 0.3421096295599916, -0.3069395046098748, 0.2956553665646843, 0.19848786197752064, 0.3476796112941502, 0.7525320644239549, 0.5989245123777259, 1.0213256966764637, 0.9757181311322927, 0.7438343475093796, -1.0519196012095948, 0.5862087275143161, 0.3231695796134769, 0.1692870855451858, 0.4321316772246528, 0.5091135430147548, -0.20119882216121435, 0.5161824943789732, -0.47855917226228056, 0.14528936124456834, 0.9952281053610775, 0.6209295194980988, -1.2956567914567065, 1.3066651965506084, 1.3331979975854107, 2.7816396060736914, -0.06521393943596109, 1.469529076463492, 0.559510516014826, 0.6167840754547759, 0.6908527408513898, -0.5416948649849573, -0.25793598164245796, 1.2499347674584178, 0.21401813944508916, -0.2278937006646358, 0.33601737196412523, 0.7954408243523293, 0.5104851148626636, -0.04709240937450565, 1.4315334283638028, 0.17817394382806817, 1.629821747421076, 0.578749719249499, 0.9176121780173508, -0.39206340038485166, 0.20568695454345998, 0.5013359341106974, 1.480746370743123, -0.7409027754463643, -0.40957139348464433, 0.18931174019700864, 0.2765144983110504, 1.3411842358848916, 0.40777921528262423, 0.654398988224453, 0.3683825808589356, 1.3863104272407227, 4.641894816855148, 0.2747526381909852, 1.3233778677578854, 0.4662125613867413, 0.9229499396298769, 0.5785915838470835, 3.3759264693022355, 2.255206471346129, 1.556415634787503, -0.2742786949920374, 0.4718788395275289, 0.8897926569264277, 1.171870057207011, 3.0719956305196017, 1.0595129068297828, -0.8546969026791821, 3.9847983899316675, 0.18999314617301322, -0.25885874642508405, 0.15033464010433778, 0.5780586227829251, 1.441411613198115, 1.1384101789006336, 0.6476335354885189, 1.1059103736643259, 0.44212969568791144, 0.7470993311797437, 1.1448813096582737, 3.545260005055242, 0.7048097977618271, 0.5947698592075356, 0.5092649289148184, 0.5311749880173134, 1.766011979260901, 1.0874857233561064, 1.1737918257294668, -0.041467351256351155, -0.0971386411049693, 1.2644333106418657, 2.021633578612156, 1.6860619775501158], \"z\": [1.5231598679765008, 0.5151328801142249, 1.1426182199632582, 1.102288442630554, 2.638282756227386, 2.2280126569513263, 0.2820051788708756, 1.5268705797000899, 2.822029373612682, 0.8242688757849824, 1.319008249507374, 1.3868418362805506, 1.9566268776095905, 1.805272739551267, 1.1462144722256042, 1.0599261557182444, 0.28364938331451606, 0.2911137549232561, 2.36705210000555, 2.669490255011188, 1.6734060542995086, 1.5464974410080647, -1.2561132836464053, 1.818087906013632, 1.5444094737420566, 1.4230563293026648, -0.6075607597924575, -0.8653530763314788, 0.25858027978462494, -4.03641318924734, 1.2378724530025491, 5.117107191080672, 1.2890404647067049, 4.318756322399315, 1.1378750425105084, -0.3824254653825797, 0.5438055833579032, 0.11884653861370273, -0.7856090183761819, 2.641115887691108, 1.1367639125225408, 0.6128559761864668, -0.3959413379754956, 1.148322553952965, 2.1010325809727006, 2.2682699677054403, 0.06567690667539536, 0.7043592610988493, 1.0307744479292924, -5.286853031767346, -0.4566727901678481, 1.4583395773195686, 1.3600196820335766, 1.7257519313967191, -0.060970516606670945, 2.256779308913666, 3.3106532833054705, 0.8025507471653408, -2.316501401606226, 0.005061541050027395, 0.18723018533699967, 0.3864530055622778, -1.2607999118366544, 2.0476234000830633, 1.6945831503411122, -0.3392461223681765, 1.753263707733369, -0.39329721411379676, 0.7360242087367295, 0.24890731822616555, 2.509999450350963, 2.232775652786133, 0.11387207770574616, 1.6761953379344592, 0.5208815436948063, 1.5181116939512005, 1.4213443536797263, 1.5770763795332905, 0.8289899195125411, -0.44117489999959675, -0.3405209490979115, 1.1083120755297893, 1.669380768334448, 1.6107186579545802, 1.0370622320324798, -1.008692277287318, 2.361941333212277, 1.311012253150019, 1.6541324960050119, -2.0761901854957, -0.9556880236988896, 2.684244035555224, -0.047942986401797436, 0.7270026470175603, -1.3964577846502784, 1.7952428165135752, -1.3042042995196277, 0.6386204097243193, 2.3747235656140817, 2.2996162887225027, 0.5958614036564176, -0.05643032340905034, 2.333823974251317, 0.45328534180596025, -0.9494735857482881, 0.5294756024764433, -0.40819236239199636, -0.593609775161206, 1.9411302312960121, 0.5960942033243768, 1.1204785245549334, 1.6318336713028336, 0.3954068583897003, -0.6565201140374191, 1.943556317121238, -1.206654023803223, -0.6396282600109159, -1.173619673225939, 1.7300289301612675, 0.7522992462825895, -1.0131126167016782, 0.06624650615464481, 1.0476525409707416, -1.7985645083674267, -0.5522525767019423, 1.6170877552538279, 2.0149391105055385, 1.8743611614320748, 1.7437923917252969, 1.220092768603028, 0.4889112620601539, 0.39064877919365754, -1.1686554136528573, 0.7292002393864738, -0.9425289133898241, -0.9979383305008868, -1.2183045974279545, 1.8247570371734025, 1.1227667483817718, -1.3403633955965888, 0.6134705948345134, -2.3304336558259138, -2.017499595701345, -0.6400880874706355, -1.4017198234708341, -0.8111760470616948, 0.03306593700434012, -2.971424874578076, -0.5673171994273725, -1.0749976515748092, 0.09803476752079682, -0.6208694110399291, -0.1270906965315679, 0.6255824814178071, 0.3286232558243284, -0.11047753312687165, -0.22523335494022786, 0.691398387661924, 0.08923441277107531, -0.09740000129491191, -0.45644378446695216, -1.688797780147275, 2.1136685994487334, -1.6498880616496674, 1.4292264502770349, 0.564940455582557, 0.3940592285594498, -0.3982108172564073, -0.2411379646289938, 1.2036787781393787, -1.1426401187433177, -0.9899600641996628, 0.3032423264059938, 0.6587767888542639, -0.4464583317242279, -0.6219893060896388, 0.215746609675603, 0.09871412470636001, -0.1354131939410133, -0.3378061441575795, 0.1693655776982172, 1.484045077346899, 0.6090219468345907, -0.19124624959716235, -0.967398248384118, 1.1043141580139852, -2.550567912611941, 0.7008138383125948, -0.18256120041506962, 0.140009237107786, -1.8147595861830057, -0.05193528958030495, -0.15401555620694704, 0.2811530143075865, 1.1740620297260425, 1.5297182853744022, -0.739785751180357, 0.9386400291198713, 1.5226819620150631, 1.5522710043925114, 1.484044062367158, -1.2509437826983634, -0.3418607245407414, -2.687452244027455, -0.0904448008184007, 1.2480446646438625, 0.7909220723245034, 1.2973254609429583, 0.3606258827163541, 0.2744136552825839, 0.8912969695352665, 0.03728034861838325, 1.5092081868666076, 0.11227285183103945, 0.9311238402401493, -0.5850118151746683, -1.267984885591459, 0.8932837406146318, 1.07216836087922, 0.4162733108099414, -2.53797852975185, 1.7858711009493564, 0.7979872281741609, -1.5631223005697494, 2.0737271572665175, -0.6729199754391189, 0.003644446814569623, 1.1816446564061311, 0.6619698150468581, 0.26890799719870395, 1.3902482276883288, -3.5466237982128637, 0.3517949715887245, 0.5986474992941729, 1.0783186504852063, 0.12688835524290235, 1.1255283183312526, 1.438592724007693, -0.20976769280701474, 1.6157492701295249, -0.7142491395183028, -0.6823468144816335, -1.7489145624691493, -0.5081401588160351, -0.474602561121341, -1.0678048410671261, 0.3526037203219506, 0.4141869957946213, -0.10889166136804006, 0.7028112554027803, -0.11252653600275922, -1.469098180566577, 0.2305560075270946, 1.4538550255161649, 0.695718999026807, 0.5470292356346981, 0.4700765623595155, 1.2730254768561182, 0.684337178380021, 0.5744106405772278, -0.24654294263645554, -3.6089076575348447]}, {\"hoverlabel\": {\"namelength\": 0}, \"hovertemplate\": \"class=%{marker.color}<br>principal component 1=%{x}<br>principal component 2=%{y}<br>principal component 3=%{z}\", \"legendgroup\": \"class=2\", \"marker\": {\"color\": [2], \"coloraxis\": \"coloraxis\", \"symbol\": \"square\"}, \"mode\": \"markers\", \"name\": \"class=2\", \"scene\": \"scene\", \"showlegend\": true, \"type\": \"scatter3d\", \"x\": [4.423478912915251], \"y\": [19.738302625332356], \"z\": [6.846202483552501]}],\n",
       "                        {\"coloraxis\": {\"colorbar\": {\"title\": {\"text\": \"class\"}}, \"colorscale\": [[0.0, \"#0d0887\"], [0.1111111111111111, \"#46039f\"], [0.2222222222222222, \"#7201a8\"], [0.3333333333333333, \"#9c179e\"], [0.4444444444444444, \"#bd3786\"], [0.5555555555555556, \"#d8576b\"], [0.6666666666666666, \"#ed7953\"], [0.7777777777777778, \"#fb9f3a\"], [0.8888888888888888, \"#fdca26\"], [1.0, \"#f0f921\"]]}, \"height\": 600, \"legend\": {\"tracegroupgap\": 0, \"x\": 0, \"y\": 1}, \"margin\": {\"t\": 60}, \"scene\": {\"domain\": {\"x\": [0.0, 0.98], \"y\": [0.0, 1.0]}, \"xaxis\": {\"title\": {\"text\": \"principal component 1\"}}, \"yaxis\": {\"title\": {\"text\": \"principal component 2\"}}, \"zaxis\": {\"title\": {\"text\": \"principal component 3\"}}}, \"template\": {\"data\": {\"bar\": [{\"error_x\": {\"color\": \"#2a3f5f\"}, \"error_y\": {\"color\": \"#2a3f5f\"}, \"marker\": {\"line\": {\"color\": \"#E5ECF6\", \"width\": 0.5}}, \"type\": \"bar\"}], \"barpolar\": [{\"marker\": {\"line\": {\"color\": \"#E5ECF6\", \"width\": 0.5}}, \"type\": \"barpolar\"}], \"carpet\": [{\"aaxis\": {\"endlinecolor\": \"#2a3f5f\", \"gridcolor\": \"white\", \"linecolor\": \"white\", \"minorgridcolor\": \"white\", \"startlinecolor\": \"#2a3f5f\"}, \"baxis\": {\"endlinecolor\": \"#2a3f5f\", \"gridcolor\": \"white\", \"linecolor\": \"white\", \"minorgridcolor\": \"white\", \"startlinecolor\": \"#2a3f5f\"}, \"type\": \"carpet\"}], \"choropleth\": [{\"colorbar\": {\"outlinewidth\": 0, \"ticks\": \"\"}, \"type\": \"choropleth\"}], \"contour\": [{\"colorbar\": {\"outlinewidth\": 0, \"ticks\": \"\"}, \"colorscale\": [[0.0, \"#0d0887\"], [0.1111111111111111, \"#46039f\"], [0.2222222222222222, \"#7201a8\"], [0.3333333333333333, \"#9c179e\"], [0.4444444444444444, \"#bd3786\"], [0.5555555555555556, \"#d8576b\"], [0.6666666666666666, \"#ed7953\"], [0.7777777777777778, \"#fb9f3a\"], [0.8888888888888888, \"#fdca26\"], [1.0, \"#f0f921\"]], \"type\": \"contour\"}], \"contourcarpet\": [{\"colorbar\": {\"outlinewidth\": 0, \"ticks\": \"\"}, \"type\": \"contourcarpet\"}], \"heatmap\": [{\"colorbar\": {\"outlinewidth\": 0, \"ticks\": \"\"}, \"colorscale\": [[0.0, \"#0d0887\"], [0.1111111111111111, \"#46039f\"], [0.2222222222222222, \"#7201a8\"], [0.3333333333333333, \"#9c179e\"], [0.4444444444444444, \"#bd3786\"], [0.5555555555555556, \"#d8576b\"], [0.6666666666666666, \"#ed7953\"], [0.7777777777777778, \"#fb9f3a\"], [0.8888888888888888, \"#fdca26\"], [1.0, \"#f0f921\"]], \"type\": \"heatmap\"}], \"heatmapgl\": [{\"colorbar\": {\"outlinewidth\": 0, \"ticks\": \"\"}, \"colorscale\": [[0.0, \"#0d0887\"], [0.1111111111111111, \"#46039f\"], [0.2222222222222222, \"#7201a8\"], [0.3333333333333333, \"#9c179e\"], [0.4444444444444444, \"#bd3786\"], [0.5555555555555556, \"#d8576b\"], [0.6666666666666666, \"#ed7953\"], [0.7777777777777778, \"#fb9f3a\"], [0.8888888888888888, \"#fdca26\"], [1.0, \"#f0f921\"]], \"type\": \"heatmapgl\"}], \"histogram\": [{\"marker\": {\"colorbar\": {\"outlinewidth\": 0, \"ticks\": \"\"}}, \"type\": \"histogram\"}], \"histogram2d\": [{\"colorbar\": {\"outlinewidth\": 0, \"ticks\": \"\"}, \"colorscale\": [[0.0, \"#0d0887\"], [0.1111111111111111, \"#46039f\"], [0.2222222222222222, \"#7201a8\"], [0.3333333333333333, \"#9c179e\"], [0.4444444444444444, \"#bd3786\"], [0.5555555555555556, \"#d8576b\"], [0.6666666666666666, \"#ed7953\"], [0.7777777777777778, \"#fb9f3a\"], [0.8888888888888888, \"#fdca26\"], [1.0, \"#f0f921\"]], \"type\": \"histogram2d\"}], \"histogram2dcontour\": [{\"colorbar\": {\"outlinewidth\": 0, \"ticks\": \"\"}, \"colorscale\": [[0.0, \"#0d0887\"], [0.1111111111111111, \"#46039f\"], [0.2222222222222222, \"#7201a8\"], [0.3333333333333333, \"#9c179e\"], [0.4444444444444444, \"#bd3786\"], [0.5555555555555556, \"#d8576b\"], [0.6666666666666666, \"#ed7953\"], [0.7777777777777778, \"#fb9f3a\"], [0.8888888888888888, \"#fdca26\"], [1.0, \"#f0f921\"]], \"type\": \"histogram2dcontour\"}], \"mesh3d\": [{\"colorbar\": {\"outlinewidth\": 0, \"ticks\": \"\"}, \"type\": \"mesh3d\"}], \"parcoords\": [{\"line\": {\"colorbar\": {\"outlinewidth\": 0, \"ticks\": \"\"}}, \"type\": \"parcoords\"}], \"scatter\": [{\"marker\": {\"colorbar\": {\"outlinewidth\": 0, \"ticks\": \"\"}}, \"type\": \"scatter\"}], \"scatter3d\": [{\"line\": {\"colorbar\": {\"outlinewidth\": 0, \"ticks\": \"\"}}, \"marker\": {\"colorbar\": {\"outlinewidth\": 0, \"ticks\": \"\"}}, \"type\": \"scatter3d\"}], \"scattercarpet\": [{\"marker\": {\"colorbar\": {\"outlinewidth\": 0, \"ticks\": \"\"}}, \"type\": \"scattercarpet\"}], \"scattergeo\": [{\"marker\": {\"colorbar\": {\"outlinewidth\": 0, \"ticks\": \"\"}}, \"type\": \"scattergeo\"}], \"scattergl\": [{\"marker\": {\"colorbar\": {\"outlinewidth\": 0, \"ticks\": \"\"}}, \"type\": \"scattergl\"}], \"scattermapbox\": [{\"marker\": {\"colorbar\": {\"outlinewidth\": 0, \"ticks\": \"\"}}, \"type\": \"scattermapbox\"}], \"scatterpolar\": [{\"marker\": {\"colorbar\": {\"outlinewidth\": 0, \"ticks\": \"\"}}, \"type\": \"scatterpolar\"}], \"scatterpolargl\": [{\"marker\": {\"colorbar\": {\"outlinewidth\": 0, \"ticks\": \"\"}}, \"type\": \"scatterpolargl\"}], \"scatterternary\": [{\"marker\": {\"colorbar\": {\"outlinewidth\": 0, \"ticks\": \"\"}}, \"type\": \"scatterternary\"}], \"surface\": [{\"colorbar\": {\"outlinewidth\": 0, \"ticks\": \"\"}, \"colorscale\": [[0.0, \"#0d0887\"], [0.1111111111111111, \"#46039f\"], [0.2222222222222222, \"#7201a8\"], [0.3333333333333333, \"#9c179e\"], [0.4444444444444444, \"#bd3786\"], [0.5555555555555556, \"#d8576b\"], [0.6666666666666666, \"#ed7953\"], [0.7777777777777778, \"#fb9f3a\"], [0.8888888888888888, \"#fdca26\"], [1.0, \"#f0f921\"]], \"type\": \"surface\"}], \"table\": [{\"cells\": {\"fill\": {\"color\": \"#EBF0F8\"}, \"line\": {\"color\": \"white\"}}, \"header\": {\"fill\": {\"color\": \"#C8D4E3\"}, \"line\": {\"color\": \"white\"}}, \"type\": \"table\"}]}, \"layout\": {\"annotationdefaults\": {\"arrowcolor\": \"#2a3f5f\", \"arrowhead\": 0, \"arrowwidth\": 1}, \"colorscale\": {\"diverging\": [[0, \"#8e0152\"], [0.1, \"#c51b7d\"], [0.2, \"#de77ae\"], [0.3, \"#f1b6da\"], [0.4, \"#fde0ef\"], [0.5, \"#f7f7f7\"], [0.6, \"#e6f5d0\"], [0.7, \"#b8e186\"], [0.8, \"#7fbc41\"], [0.9, \"#4d9221\"], [1, \"#276419\"]], \"sequential\": [[0.0, \"#0d0887\"], [0.1111111111111111, \"#46039f\"], [0.2222222222222222, \"#7201a8\"], [0.3333333333333333, \"#9c179e\"], [0.4444444444444444, \"#bd3786\"], [0.5555555555555556, \"#d8576b\"], [0.6666666666666666, \"#ed7953\"], [0.7777777777777778, \"#fb9f3a\"], [0.8888888888888888, \"#fdca26\"], [1.0, \"#f0f921\"]], \"sequentialminus\": [[0.0, \"#0d0887\"], [0.1111111111111111, \"#46039f\"], [0.2222222222222222, \"#7201a8\"], [0.3333333333333333, \"#9c179e\"], [0.4444444444444444, \"#bd3786\"], [0.5555555555555556, \"#d8576b\"], [0.6666666666666666, \"#ed7953\"], [0.7777777777777778, \"#fb9f3a\"], [0.8888888888888888, \"#fdca26\"], [1.0, \"#f0f921\"]]}, \"colorway\": [\"#636efa\", \"#EF553B\", \"#00cc96\", \"#ab63fa\", \"#FFA15A\", \"#19d3f3\", \"#FF6692\", \"#B6E880\", \"#FF97FF\", \"#FECB52\"], \"font\": {\"color\": \"#2a3f5f\"}, \"geo\": {\"bgcolor\": \"white\", \"lakecolor\": \"white\", \"landcolor\": \"#E5ECF6\", \"showlakes\": true, \"showland\": true, \"subunitcolor\": \"white\"}, \"hoverlabel\": {\"align\": \"left\"}, \"hovermode\": \"closest\", \"mapbox\": {\"style\": \"light\"}, \"paper_bgcolor\": \"white\", \"plot_bgcolor\": \"#E5ECF6\", \"polar\": {\"angularaxis\": {\"gridcolor\": \"white\", \"linecolor\": \"white\", \"ticks\": \"\"}, \"bgcolor\": \"#E5ECF6\", \"radialaxis\": {\"gridcolor\": \"white\", \"linecolor\": \"white\", \"ticks\": \"\"}}, \"scene\": {\"xaxis\": {\"backgroundcolor\": \"#E5ECF6\", \"gridcolor\": \"white\", \"gridwidth\": 2, \"linecolor\": \"white\", \"showbackground\": true, \"ticks\": \"\", \"zerolinecolor\": \"white\"}, \"yaxis\": {\"backgroundcolor\": \"#E5ECF6\", \"gridcolor\": \"white\", \"gridwidth\": 2, \"linecolor\": \"white\", \"showbackground\": true, \"ticks\": \"\", \"zerolinecolor\": \"white\"}, \"zaxis\": {\"backgroundcolor\": \"#E5ECF6\", \"gridcolor\": \"white\", \"gridwidth\": 2, \"linecolor\": \"white\", \"showbackground\": true, \"ticks\": \"\", \"zerolinecolor\": \"white\"}}, \"shapedefaults\": {\"line\": {\"color\": \"#2a3f5f\"}}, \"ternary\": {\"aaxis\": {\"gridcolor\": \"white\", \"linecolor\": \"white\", \"ticks\": \"\"}, \"baxis\": {\"gridcolor\": \"white\", \"linecolor\": \"white\", \"ticks\": \"\"}, \"bgcolor\": \"#E5ECF6\", \"caxis\": {\"gridcolor\": \"white\", \"linecolor\": \"white\", \"ticks\": \"\"}}, \"title\": {\"x\": 0.05}, \"xaxis\": {\"automargin\": true, \"gridcolor\": \"white\", \"linecolor\": \"white\", \"ticks\": \"\", \"zerolinecolor\": \"white\", \"zerolinewidth\": 2}, \"yaxis\": {\"automargin\": true, \"gridcolor\": \"white\", \"linecolor\": \"white\", \"ticks\": \"\", \"zerolinecolor\": \"white\", \"zerolinewidth\": 2}}}, \"width\": 800},\n",
       "                        {\"responsive\": true}\n",
       "                    ).then(function(){\n",
       "                            \n",
       "var gd = document.getElementById('e7f325ec-8df7-4520-a74c-0e6a9f1d3ab4');\n",
       "var x = new MutationObserver(function (mutations, observer) {{\n",
       "        var display = window.getComputedStyle(gd).display;\n",
       "        if (!display || display === 'none') {{\n",
       "            console.log([gd, 'removed!']);\n",
       "            Plotly.purge(gd);\n",
       "            observer.disconnect();\n",
       "        }}\n",
       "}});\n",
       "\n",
       "// Listen for the removal of the full notebook cells\n",
       "var notebookContainer = gd.closest('#notebook-container');\n",
       "if (notebookContainer) {{\n",
       "    x.observe(notebookContainer, {childList: true});\n",
       "}}\n",
       "\n",
       "// Listen for the clearing of the current output cell\n",
       "var outputEl = gd.closest('.output');\n",
       "if (outputEl) {{\n",
       "    x.observe(outputEl, {childList: true});\n",
       "}}\n",
       "\n",
       "                        })\n",
       "                };\n",
       "                });\n",
       "            </script>\n",
       "        </div>"
      ]
     },
     "metadata": {},
     "output_type": "display_data"
    }
   ],
   "source": [
    "fig = px.scatter_3d(\n",
    "    df_success_pca,\n",
    "    x=\"principal component 1\",\n",
    "    y=\"principal component 2\",\n",
    "    z=\"principal component 3\",\n",
    "    color=\"class\",\n",
    "    symbol=\"class\",\n",
    "    #size=\"sepal_width\",\n",
    "    width=800,\n",
    ")\n",
    "fig.update_layout(legend=dict(x=0, y=1))\n",
    "fig.show()"
   ]
  },
  {
   "cell_type": "markdown",
   "metadata": {},
   "source": [
    "### Outlier removed. The highest market cap was causing this model to fail with a huge outlier.\n",
    "### Removed. What is shown is now more telling."
   ]
  },
  {
   "cell_type": "code",
   "execution_count": 266,
   "metadata": {},
   "outputs": [],
   "source": [
    "success_df_pca_class_2 = pd.read_csv(file_path)"
   ]
  },
  {
   "cell_type": "code",
   "execution_count": 287,
   "metadata": {},
   "outputs": [],
   "source": [
    "success_df_pca_class_2.drop(columns = ['custom_index','custom_index_scaled','success_index'], inplace = True)"
   ]
  },
  {
   "cell_type": "code",
   "execution_count": 288,
   "metadata": {},
   "outputs": [],
   "source": [
    "success_df_pca_class_2['success_PCA'] = 0"
   ]
  },
  {
   "cell_type": "code",
   "execution_count": 289,
   "metadata": {},
   "outputs": [
    {
     "data": {
      "text/html": [
       "<div>\n",
       "<style scoped>\n",
       "    .dataframe tbody tr th:only-of-type {\n",
       "        vertical-align: middle;\n",
       "    }\n",
       "\n",
       "    .dataframe tbody tr th {\n",
       "        vertical-align: top;\n",
       "    }\n",
       "\n",
       "    .dataframe thead th {\n",
       "        text-align: right;\n",
       "    }\n",
       "</style>\n",
       "<table border=\"1\" class=\"dataframe\">\n",
       "  <thead>\n",
       "    <tr style=\"text-align: right;\">\n",
       "      <th></th>\n",
       "      <th>rank_cnc</th>\n",
       "      <th>Name</th>\n",
       "      <th>Ticker</th>\n",
       "      <th>market_cap</th>\n",
       "      <th>price</th>\n",
       "      <th>volume24</th>\n",
       "      <th>pct1h</th>\n",
       "      <th>pct24h</th>\n",
       "      <th>pct7d</th>\n",
       "      <th>country</th>\n",
       "      <th>...</th>\n",
       "      <th>Start</th>\n",
       "      <th>Duration</th>\n",
       "      <th>pre_Duration</th>\n",
       "      <th>compound</th>\n",
       "      <th>negative</th>\n",
       "      <th>neutral</th>\n",
       "      <th>positive</th>\n",
       "      <th>no_of_posts</th>\n",
       "      <th>Longevity</th>\n",
       "      <th>success_PCA</th>\n",
       "    </tr>\n",
       "  </thead>\n",
       "  <tbody>\n",
       "    <tr>\n",
       "      <th>78</th>\n",
       "      <td>8.0</td>\n",
       "      <td>Cardano</td>\n",
       "      <td>ADA</td>\n",
       "      <td>3214893394</td>\n",
       "      <td>3.420000</td>\n",
       "      <td>1735988258</td>\n",
       "      <td>0.11</td>\n",
       "      <td>-1.49</td>\n",
       "      <td>-2.55</td>\n",
       "      <td>Switzerland</td>\n",
       "      <td>...</td>\n",
       "      <td>2015-09-01 00:00:00</td>\n",
       "      <td>350</td>\n",
       "      <td>0</td>\n",
       "      <td>0.828470</td>\n",
       "      <td>0.032200</td>\n",
       "      <td>0.858550</td>\n",
       "      <td>0.109270</td>\n",
       "      <td>100.0</td>\n",
       "      <td>522.0</td>\n",
       "      <td>0</td>\n",
       "    </tr>\n",
       "    <tr>\n",
       "      <th>404</th>\n",
       "      <td>22.0</td>\n",
       "      <td>Ethereum Classic</td>\n",
       "      <td>ETC</td>\n",
       "      <td>632251075</td>\n",
       "      <td>69.070000</td>\n",
       "      <td>346367843</td>\n",
       "      <td>-0.12</td>\n",
       "      <td>-1.18</td>\n",
       "      <td>-5.06</td>\n",
       "      <td>NaN</td>\n",
       "      <td>...</td>\n",
       "      <td>2017-09-28 03:00:00</td>\n",
       "      <td>0</td>\n",
       "      <td>0</td>\n",
       "      <td>0.663146</td>\n",
       "      <td>0.102770</td>\n",
       "      <td>0.025100</td>\n",
       "      <td>0.872110</td>\n",
       "      <td>100.0</td>\n",
       "      <td>779.0</td>\n",
       "      <td>0</td>\n",
       "    </tr>\n",
       "    <tr>\n",
       "      <th>438</th>\n",
       "      <td>23.0</td>\n",
       "      <td>Basic Attenti...</td>\n",
       "      <td>BAT</td>\n",
       "      <td>547458892</td>\n",
       "      <td>4.760000</td>\n",
       "      <td>642121534</td>\n",
       "      <td>-0.20</td>\n",
       "      <td>-2.10</td>\n",
       "      <td>-9.16</td>\n",
       "      <td>United States of America</td>\n",
       "      <td>...</td>\n",
       "      <td>2017-05-31 00:00:00</td>\n",
       "      <td>0</td>\n",
       "      <td>0</td>\n",
       "      <td>0.377329</td>\n",
       "      <td>0.079930</td>\n",
       "      <td>0.037850</td>\n",
       "      <td>0.882180</td>\n",
       "      <td>100.0</td>\n",
       "      <td>779.0</td>\n",
       "      <td>0</td>\n",
       "    </tr>\n",
       "    <tr>\n",
       "      <th>481</th>\n",
       "      <td>7.0</td>\n",
       "      <td>EOS</td>\n",
       "      <td>EOS</td>\n",
       "      <td>3277372658</td>\n",
       "      <td>21.070000</td>\n",
       "      <td>231846713</td>\n",
       "      <td>-0.46</td>\n",
       "      <td>-1.33</td>\n",
       "      <td>2.49</td>\n",
       "      <td>Cayman Islands</td>\n",
       "      <td>...</td>\n",
       "      <td>2017-06-26 16:00:00</td>\n",
       "      <td>20</td>\n",
       "      <td>0</td>\n",
       "      <td>0.563773</td>\n",
       "      <td>0.096670</td>\n",
       "      <td>0.041410</td>\n",
       "      <td>0.861890</td>\n",
       "      <td>100.0</td>\n",
       "      <td>848.0</td>\n",
       "      <td>0</td>\n",
       "    </tr>\n",
       "    <tr>\n",
       "      <th>524</th>\n",
       "      <td>13.0</td>\n",
       "      <td>Huobi Token</td>\n",
       "      <td>HT</td>\n",
       "      <td>1105888653</td>\n",
       "      <td>0.042654</td>\n",
       "      <td>53437224</td>\n",
       "      <td>-0.50</td>\n",
       "      <td>-1.72</td>\n",
       "      <td>-2.12</td>\n",
       "      <td>Seychelles</td>\n",
       "      <td>...</td>\n",
       "      <td>2017-09-28 03:00:00</td>\n",
       "      <td>488</td>\n",
       "      <td>0</td>\n",
       "      <td>0.589474</td>\n",
       "      <td>0.098387</td>\n",
       "      <td>0.032946</td>\n",
       "      <td>0.868753</td>\n",
       "      <td>93.0</td>\n",
       "      <td>1049.0</td>\n",
       "      <td>0</td>\n",
       "    </tr>\n",
       "  </tbody>\n",
       "</table>\n",
       "<p>5 rows × 27 columns</p>\n",
       "</div>"
      ],
      "text/plain": [
       "     rank_cnc               Name Ticker  market_cap      price    volume24  \\\n",
       "78        8.0            Cardano    ADA  3214893394   3.420000  1735988258   \n",
       "404      22.0   Ethereum Classic    ETC   632251075  69.070000   346367843   \n",
       "438      23.0   Basic Attenti...    BAT   547458892   4.760000   642121534   \n",
       "481       7.0                EOS    EOS  3277372658  21.070000   231846713   \n",
       "524      13.0        Huobi Token     HT  1105888653   0.042654    53437224   \n",
       "\n",
       "     pct1h  pct24h  pct7d                   country  ...                Start  \\\n",
       "78    0.11   -1.49  -2.55               Switzerland  ...  2015-09-01 00:00:00   \n",
       "404  -0.12   -1.18  -5.06                       NaN  ...  2017-09-28 03:00:00   \n",
       "438  -0.20   -2.10  -9.16  United States of America  ...  2017-05-31 00:00:00   \n",
       "481  -0.46   -1.33   2.49            Cayman Islands  ...  2017-06-26 16:00:00   \n",
       "524  -0.50   -1.72  -2.12                Seychelles  ...  2017-09-28 03:00:00   \n",
       "\n",
       "    Duration pre_Duration  compound  negative   neutral  positive no_of_posts  \\\n",
       "78       350            0  0.828470  0.032200  0.858550  0.109270       100.0   \n",
       "404        0            0  0.663146  0.102770  0.025100  0.872110       100.0   \n",
       "438        0            0  0.377329  0.079930  0.037850  0.882180       100.0   \n",
       "481       20            0  0.563773  0.096670  0.041410  0.861890       100.0   \n",
       "524      488            0  0.589474  0.098387  0.032946  0.868753        93.0   \n",
       "\n",
       "     Longevity  success_PCA  \n",
       "78       522.0            0  \n",
       "404      779.0            0  \n",
       "438      779.0            0  \n",
       "481      848.0            0  \n",
       "524     1049.0            0  \n",
       "\n",
       "[5 rows x 27 columns]"
      ]
     },
     "execution_count": 289,
     "metadata": {},
     "output_type": "execute_result"
    }
   ],
   "source": [
    "success_df_pca_class_2.iloc[list(df_success_pca[df_success_pca['class'] == 2].index)]"
   ]
  },
  {
   "cell_type": "code",
   "execution_count": 290,
   "metadata": {},
   "outputs": [],
   "source": [
    "success_df_pca_class_2.at[list(df_success_pca[df_success_pca['class'] == 2].index),'success_PCA']=1"
   ]
  },
  {
   "cell_type": "code",
   "execution_count": 291,
   "metadata": {},
   "outputs": [
    {
     "data": {
      "text/plain": [
       "78     1\n",
       "404    1\n",
       "438    1\n",
       "481    1\n",
       "524    1\n",
       "Name: success_PCA, dtype: int64"
      ]
     },
     "execution_count": 291,
     "metadata": {},
     "output_type": "execute_result"
    }
   ],
   "source": [
    "success_df_pca_class_2.iloc[list(df_success_pca[df_success_pca['class'] == 2].index)]['success_PCA']"
   ]
  },
  {
   "cell_type": "code",
   "execution_count": 292,
   "metadata": {},
   "outputs": [
    {
     "data": {
      "text/html": [
       "<div>\n",
       "<style scoped>\n",
       "    .dataframe tbody tr th:only-of-type {\n",
       "        vertical-align: middle;\n",
       "    }\n",
       "\n",
       "    .dataframe tbody tr th {\n",
       "        vertical-align: top;\n",
       "    }\n",
       "\n",
       "    .dataframe thead th {\n",
       "        text-align: right;\n",
       "    }\n",
       "</style>\n",
       "<table border=\"1\" class=\"dataframe\">\n",
       "  <thead>\n",
       "    <tr style=\"text-align: right;\">\n",
       "      <th></th>\n",
       "      <th>rank_cnc</th>\n",
       "      <th>Name</th>\n",
       "      <th>Ticker</th>\n",
       "      <th>market_cap</th>\n",
       "      <th>price</th>\n",
       "      <th>volume24</th>\n",
       "      <th>pct1h</th>\n",
       "      <th>pct24h</th>\n",
       "      <th>pct7d</th>\n",
       "      <th>country</th>\n",
       "      <th>...</th>\n",
       "      <th>Start</th>\n",
       "      <th>Duration</th>\n",
       "      <th>pre_Duration</th>\n",
       "      <th>compound</th>\n",
       "      <th>negative</th>\n",
       "      <th>neutral</th>\n",
       "      <th>positive</th>\n",
       "      <th>no_of_posts</th>\n",
       "      <th>Longevity</th>\n",
       "      <th>success_PCA</th>\n",
       "    </tr>\n",
       "  </thead>\n",
       "  <tbody>\n",
       "    <tr>\n",
       "      <th>0</th>\n",
       "      <td>35.0</td>\n",
       "      <td>0x</td>\n",
       "      <td>ZRX</td>\n",
       "      <td>210898190</td>\n",
       "      <td>0.731445</td>\n",
       "      <td>195643</td>\n",
       "      <td>0.29</td>\n",
       "      <td>-1.20</td>\n",
       "      <td>-4.96</td>\n",
       "      <td>United States of America</td>\n",
       "      <td>...</td>\n",
       "      <td>2017-08-15 00:00:00</td>\n",
       "      <td>31</td>\n",
       "      <td>0</td>\n",
       "      <td>-0.115233</td>\n",
       "      <td>0.022333</td>\n",
       "      <td>0.029333</td>\n",
       "      <td>0.948333</td>\n",
       "      <td>3.0</td>\n",
       "      <td>364.0</td>\n",
       "      <td>0</td>\n",
       "    </tr>\n",
       "    <tr>\n",
       "      <th>1</th>\n",
       "      <td>359.0</td>\n",
       "      <td>Perlin</td>\n",
       "      <td>PERL</td>\n",
       "      <td>7547077</td>\n",
       "      <td>0.019287</td>\n",
       "      <td>23506334</td>\n",
       "      <td>0.79</td>\n",
       "      <td>1.16</td>\n",
       "      <td>-8.86</td>\n",
       "      <td>Singapore</td>\n",
       "      <td>...</td>\n",
       "      <td>2017-09-28 03:00:00</td>\n",
       "      <td>49</td>\n",
       "      <td>0</td>\n",
       "      <td>0.817167</td>\n",
       "      <td>0.053167</td>\n",
       "      <td>0.830500</td>\n",
       "      <td>0.116000</td>\n",
       "      <td>6.0</td>\n",
       "      <td>367.0</td>\n",
       "      <td>0</td>\n",
       "    </tr>\n",
       "    <tr>\n",
       "      <th>2</th>\n",
       "      <td>823.0</td>\n",
       "      <td>Medicalchain</td>\n",
       "      <td>MTN</td>\n",
       "      <td>1279470</td>\n",
       "      <td>0.000174</td>\n",
       "      <td>52</td>\n",
       "      <td>-0.20</td>\n",
       "      <td>-34.19</td>\n",
       "      <td>-6.05</td>\n",
       "      <td>United Kingdom</td>\n",
       "      <td>...</td>\n",
       "      <td>2018-02-01 00:00:00</td>\n",
       "      <td>86</td>\n",
       "      <td>0</td>\n",
       "      <td>0.746697</td>\n",
       "      <td>0.025394</td>\n",
       "      <td>0.892535</td>\n",
       "      <td>0.082042</td>\n",
       "      <td>71.0</td>\n",
       "      <td>381.0</td>\n",
       "      <td>0</td>\n",
       "    </tr>\n",
       "    <tr>\n",
       "      <th>3</th>\n",
       "      <td>1310.0</td>\n",
       "      <td>GoPower</td>\n",
       "      <td>GPT</td>\n",
       "      <td>204249</td>\n",
       "      <td>0.000128</td>\n",
       "      <td>0</td>\n",
       "      <td>0.00</td>\n",
       "      <td>-0.06</td>\n",
       "      <td>5.58</td>\n",
       "      <td>NaN</td>\n",
       "      <td>...</td>\n",
       "      <td>2018-02-27 00:00:00</td>\n",
       "      <td>60</td>\n",
       "      <td>0</td>\n",
       "      <td>-0.356840</td>\n",
       "      <td>0.016600</td>\n",
       "      <td>0.975800</td>\n",
       "      <td>0.007200</td>\n",
       "      <td>5.0</td>\n",
       "      <td>381.0</td>\n",
       "      <td>0</td>\n",
       "    </tr>\n",
       "    <tr>\n",
       "      <th>4</th>\n",
       "      <td>603.0</td>\n",
       "      <td>Swarm</td>\n",
       "      <td>SWM</td>\n",
       "      <td>2752050</td>\n",
       "      <td>0.002171</td>\n",
       "      <td>5</td>\n",
       "      <td>-0.21</td>\n",
       "      <td>-5.07</td>\n",
       "      <td>2.12</td>\n",
       "      <td>Liechtenstein</td>\n",
       "      <td>...</td>\n",
       "      <td>2017-10-21 12:00:00</td>\n",
       "      <td>13</td>\n",
       "      <td>0</td>\n",
       "      <td>0.435584</td>\n",
       "      <td>0.069211</td>\n",
       "      <td>0.032684</td>\n",
       "      <td>0.898158</td>\n",
       "      <td>19.0</td>\n",
       "      <td>381.0</td>\n",
       "      <td>0</td>\n",
       "    </tr>\n",
       "  </tbody>\n",
       "</table>\n",
       "<p>5 rows × 27 columns</p>\n",
       "</div>"
      ],
      "text/plain": [
       "   rank_cnc           Name Ticker  market_cap     price  volume24  pct1h  \\\n",
       "0      35.0             0x    ZRX   210898190  0.731445    195643   0.29   \n",
       "1     359.0         Perlin   PERL     7547077  0.019287  23506334   0.79   \n",
       "2     823.0   Medicalchain    MTN     1279470  0.000174        52  -0.20   \n",
       "3    1310.0        GoPower    GPT      204249  0.000128         0   0.00   \n",
       "4     603.0          Swarm    SWM     2752050  0.002171         5  -0.21   \n",
       "\n",
       "   pct24h  pct7d                   country  ...                Start Duration  \\\n",
       "0   -1.20  -4.96  United States of America  ...  2017-08-15 00:00:00       31   \n",
       "1    1.16  -8.86                 Singapore  ...  2017-09-28 03:00:00       49   \n",
       "2  -34.19  -6.05            United Kingdom  ...  2018-02-01 00:00:00       86   \n",
       "3   -0.06   5.58                       NaN  ...  2018-02-27 00:00:00       60   \n",
       "4   -5.07   2.12             Liechtenstein  ...  2017-10-21 12:00:00       13   \n",
       "\n",
       "  pre_Duration  compound  negative   neutral  positive no_of_posts  Longevity  \\\n",
       "0            0 -0.115233  0.022333  0.029333  0.948333         3.0      364.0   \n",
       "1            0  0.817167  0.053167  0.830500  0.116000         6.0      367.0   \n",
       "2            0  0.746697  0.025394  0.892535  0.082042        71.0      381.0   \n",
       "3            0 -0.356840  0.016600  0.975800  0.007200         5.0      381.0   \n",
       "4            0  0.435584  0.069211  0.032684  0.898158        19.0      381.0   \n",
       "\n",
       "   success_PCA  \n",
       "0            0  \n",
       "1            0  \n",
       "2            0  \n",
       "3            0  \n",
       "4            0  \n",
       "\n",
       "[5 rows x 27 columns]"
      ]
     },
     "execution_count": 292,
     "metadata": {},
     "output_type": "execute_result"
    }
   ],
   "source": [
    "success_df_pca_class_2.head()"
   ]
  },
  {
   "cell_type": "code",
   "execution_count": 293,
   "metadata": {},
   "outputs": [
    {
     "ename": "KeyError",
     "evalue": "\"['predicted_NN'] not found in axis\"",
     "output_type": "error",
     "traceback": [
      "\u001b[1;31m---------------------------------------------------------------------------\u001b[0m",
      "\u001b[1;31mKeyError\u001b[0m                                  Traceback (most recent call last)",
      "\u001b[1;32m<ipython-input-293-a357702aac03>\u001b[0m in \u001b[0;36m<module>\u001b[1;34m\u001b[0m\n\u001b[1;32m----> 1\u001b[1;33m \u001b[0msuccess_df_pca_class_2\u001b[0m\u001b[1;33m.\u001b[0m\u001b[0mdrop\u001b[0m\u001b[1;33m(\u001b[0m\u001b[0mcolumns\u001b[0m \u001b[1;33m=\u001b[0m \u001b[1;33m[\u001b[0m\u001b[1;34m'predicted_NN'\u001b[0m\u001b[1;33m]\u001b[0m\u001b[1;33m,\u001b[0m \u001b[0minplace\u001b[0m \u001b[1;33m=\u001b[0m \u001b[1;32mTrue\u001b[0m\u001b[1;33m)\u001b[0m\u001b[1;33m\u001b[0m\u001b[1;33m\u001b[0m\u001b[0m\n\u001b[0m",
      "\u001b[1;32m~\\Anaconda3\\lib\\site-packages\\pandas\\core\\frame.py\u001b[0m in \u001b[0;36mdrop\u001b[1;34m(self, labels, axis, index, columns, level, inplace, errors)\u001b[0m\n\u001b[0;32m   3938\u001b[0m                                            \u001b[0mindex\u001b[0m\u001b[1;33m=\u001b[0m\u001b[0mindex\u001b[0m\u001b[1;33m,\u001b[0m \u001b[0mcolumns\u001b[0m\u001b[1;33m=\u001b[0m\u001b[0mcolumns\u001b[0m\u001b[1;33m,\u001b[0m\u001b[1;33m\u001b[0m\u001b[1;33m\u001b[0m\u001b[0m\n\u001b[0;32m   3939\u001b[0m                                            \u001b[0mlevel\u001b[0m\u001b[1;33m=\u001b[0m\u001b[0mlevel\u001b[0m\u001b[1;33m,\u001b[0m \u001b[0minplace\u001b[0m\u001b[1;33m=\u001b[0m\u001b[0minplace\u001b[0m\u001b[1;33m,\u001b[0m\u001b[1;33m\u001b[0m\u001b[1;33m\u001b[0m\u001b[0m\n\u001b[1;32m-> 3940\u001b[1;33m                                            errors=errors)\n\u001b[0m\u001b[0;32m   3941\u001b[0m \u001b[1;33m\u001b[0m\u001b[0m\n\u001b[0;32m   3942\u001b[0m     @rewrite_axis_style_signature('mapper', [('copy', True),\n",
      "\u001b[1;32m~\\Anaconda3\\lib\\site-packages\\pandas\\core\\generic.py\u001b[0m in \u001b[0;36mdrop\u001b[1;34m(self, labels, axis, index, columns, level, inplace, errors)\u001b[0m\n\u001b[0;32m   3778\u001b[0m         \u001b[1;32mfor\u001b[0m \u001b[0maxis\u001b[0m\u001b[1;33m,\u001b[0m \u001b[0mlabels\u001b[0m \u001b[1;32min\u001b[0m \u001b[0maxes\u001b[0m\u001b[1;33m.\u001b[0m\u001b[0mitems\u001b[0m\u001b[1;33m(\u001b[0m\u001b[1;33m)\u001b[0m\u001b[1;33m:\u001b[0m\u001b[1;33m\u001b[0m\u001b[1;33m\u001b[0m\u001b[0m\n\u001b[0;32m   3779\u001b[0m             \u001b[1;32mif\u001b[0m \u001b[0mlabels\u001b[0m \u001b[1;32mis\u001b[0m \u001b[1;32mnot\u001b[0m \u001b[1;32mNone\u001b[0m\u001b[1;33m:\u001b[0m\u001b[1;33m\u001b[0m\u001b[1;33m\u001b[0m\u001b[0m\n\u001b[1;32m-> 3780\u001b[1;33m                 \u001b[0mobj\u001b[0m \u001b[1;33m=\u001b[0m \u001b[0mobj\u001b[0m\u001b[1;33m.\u001b[0m\u001b[0m_drop_axis\u001b[0m\u001b[1;33m(\u001b[0m\u001b[0mlabels\u001b[0m\u001b[1;33m,\u001b[0m \u001b[0maxis\u001b[0m\u001b[1;33m,\u001b[0m \u001b[0mlevel\u001b[0m\u001b[1;33m=\u001b[0m\u001b[0mlevel\u001b[0m\u001b[1;33m,\u001b[0m \u001b[0merrors\u001b[0m\u001b[1;33m=\u001b[0m\u001b[0merrors\u001b[0m\u001b[1;33m)\u001b[0m\u001b[1;33m\u001b[0m\u001b[1;33m\u001b[0m\u001b[0m\n\u001b[0m\u001b[0;32m   3781\u001b[0m \u001b[1;33m\u001b[0m\u001b[0m\n\u001b[0;32m   3782\u001b[0m         \u001b[1;32mif\u001b[0m \u001b[0minplace\u001b[0m\u001b[1;33m:\u001b[0m\u001b[1;33m\u001b[0m\u001b[1;33m\u001b[0m\u001b[0m\n",
      "\u001b[1;32m~\\Anaconda3\\lib\\site-packages\\pandas\\core\\generic.py\u001b[0m in \u001b[0;36m_drop_axis\u001b[1;34m(self, labels, axis, level, errors)\u001b[0m\n\u001b[0;32m   3810\u001b[0m                 \u001b[0mnew_axis\u001b[0m \u001b[1;33m=\u001b[0m \u001b[0maxis\u001b[0m\u001b[1;33m.\u001b[0m\u001b[0mdrop\u001b[0m\u001b[1;33m(\u001b[0m\u001b[0mlabels\u001b[0m\u001b[1;33m,\u001b[0m \u001b[0mlevel\u001b[0m\u001b[1;33m=\u001b[0m\u001b[0mlevel\u001b[0m\u001b[1;33m,\u001b[0m \u001b[0merrors\u001b[0m\u001b[1;33m=\u001b[0m\u001b[0merrors\u001b[0m\u001b[1;33m)\u001b[0m\u001b[1;33m\u001b[0m\u001b[1;33m\u001b[0m\u001b[0m\n\u001b[0;32m   3811\u001b[0m             \u001b[1;32melse\u001b[0m\u001b[1;33m:\u001b[0m\u001b[1;33m\u001b[0m\u001b[1;33m\u001b[0m\u001b[0m\n\u001b[1;32m-> 3812\u001b[1;33m                 \u001b[0mnew_axis\u001b[0m \u001b[1;33m=\u001b[0m \u001b[0maxis\u001b[0m\u001b[1;33m.\u001b[0m\u001b[0mdrop\u001b[0m\u001b[1;33m(\u001b[0m\u001b[0mlabels\u001b[0m\u001b[1;33m,\u001b[0m \u001b[0merrors\u001b[0m\u001b[1;33m=\u001b[0m\u001b[0merrors\u001b[0m\u001b[1;33m)\u001b[0m\u001b[1;33m\u001b[0m\u001b[1;33m\u001b[0m\u001b[0m\n\u001b[0m\u001b[0;32m   3813\u001b[0m             \u001b[0mresult\u001b[0m \u001b[1;33m=\u001b[0m \u001b[0mself\u001b[0m\u001b[1;33m.\u001b[0m\u001b[0mreindex\u001b[0m\u001b[1;33m(\u001b[0m\u001b[1;33m**\u001b[0m\u001b[1;33m{\u001b[0m\u001b[0maxis_name\u001b[0m\u001b[1;33m:\u001b[0m \u001b[0mnew_axis\u001b[0m\u001b[1;33m}\u001b[0m\u001b[1;33m)\u001b[0m\u001b[1;33m\u001b[0m\u001b[1;33m\u001b[0m\u001b[0m\n\u001b[0;32m   3814\u001b[0m \u001b[1;33m\u001b[0m\u001b[0m\n",
      "\u001b[1;32m~\\Anaconda3\\lib\\site-packages\\pandas\\core\\indexes\\base.py\u001b[0m in \u001b[0;36mdrop\u001b[1;34m(self, labels, errors)\u001b[0m\n\u001b[0;32m   4963\u001b[0m             \u001b[1;32mif\u001b[0m \u001b[0merrors\u001b[0m \u001b[1;33m!=\u001b[0m \u001b[1;34m'ignore'\u001b[0m\u001b[1;33m:\u001b[0m\u001b[1;33m\u001b[0m\u001b[1;33m\u001b[0m\u001b[0m\n\u001b[0;32m   4964\u001b[0m                 raise KeyError(\n\u001b[1;32m-> 4965\u001b[1;33m                     '{} not found in axis'.format(labels[mask]))\n\u001b[0m\u001b[0;32m   4966\u001b[0m             \u001b[0mindexer\u001b[0m \u001b[1;33m=\u001b[0m \u001b[0mindexer\u001b[0m\u001b[1;33m[\u001b[0m\u001b[1;33m~\u001b[0m\u001b[0mmask\u001b[0m\u001b[1;33m]\u001b[0m\u001b[1;33m\u001b[0m\u001b[1;33m\u001b[0m\u001b[0m\n\u001b[0;32m   4967\u001b[0m         \u001b[1;32mreturn\u001b[0m \u001b[0mself\u001b[0m\u001b[1;33m.\u001b[0m\u001b[0mdelete\u001b[0m\u001b[1;33m(\u001b[0m\u001b[0mindexer\u001b[0m\u001b[1;33m)\u001b[0m\u001b[1;33m\u001b[0m\u001b[1;33m\u001b[0m\u001b[0m\n",
      "\u001b[1;31mKeyError\u001b[0m: \"['predicted_NN'] not found in axis\""
     ]
    }
   ],
   "source": [
    "success_df_pca_class_2.drop(columns = ['predicted_NN'], inplace = True)"
   ]
  },
  {
   "cell_type": "code",
   "execution_count": 294,
   "metadata": {},
   "outputs": [
    {
     "data": {
      "text/html": [
       "<div>\n",
       "<style scoped>\n",
       "    .dataframe tbody tr th:only-of-type {\n",
       "        vertical-align: middle;\n",
       "    }\n",
       "\n",
       "    .dataframe tbody tr th {\n",
       "        vertical-align: top;\n",
       "    }\n",
       "\n",
       "    .dataframe thead th {\n",
       "        text-align: right;\n",
       "    }\n",
       "</style>\n",
       "<table border=\"1\" class=\"dataframe\">\n",
       "  <thead>\n",
       "    <tr style=\"text-align: right;\">\n",
       "      <th></th>\n",
       "      <th>rank_cnc</th>\n",
       "      <th>market_cap</th>\n",
       "      <th>price</th>\n",
       "      <th>volume24</th>\n",
       "      <th>pct1h</th>\n",
       "      <th>pct24h</th>\n",
       "      <th>pct7d</th>\n",
       "      <th>rating</th>\n",
       "      <th>Duration</th>\n",
       "      <th>pre_Duration</th>\n",
       "      <th>compound</th>\n",
       "      <th>negative</th>\n",
       "      <th>neutral</th>\n",
       "      <th>positive</th>\n",
       "      <th>no_of_posts</th>\n",
       "      <th>Longevity</th>\n",
       "    </tr>\n",
       "  </thead>\n",
       "  <tbody>\n",
       "    <tr>\n",
       "      <th>0</th>\n",
       "      <td>35.0</td>\n",
       "      <td>210898190</td>\n",
       "      <td>0.731445</td>\n",
       "      <td>195643</td>\n",
       "      <td>0.29</td>\n",
       "      <td>-1.20</td>\n",
       "      <td>-4.96</td>\n",
       "      <td>2.6</td>\n",
       "      <td>31</td>\n",
       "      <td>0</td>\n",
       "      <td>-0.115233</td>\n",
       "      <td>0.022333</td>\n",
       "      <td>0.029333</td>\n",
       "      <td>0.948333</td>\n",
       "      <td>3.0</td>\n",
       "      <td>364.0</td>\n",
       "    </tr>\n",
       "    <tr>\n",
       "      <th>1</th>\n",
       "      <td>359.0</td>\n",
       "      <td>7547077</td>\n",
       "      <td>0.019287</td>\n",
       "      <td>23506334</td>\n",
       "      <td>0.79</td>\n",
       "      <td>1.16</td>\n",
       "      <td>-8.86</td>\n",
       "      <td>4.6</td>\n",
       "      <td>49</td>\n",
       "      <td>0</td>\n",
       "      <td>0.817167</td>\n",
       "      <td>0.053167</td>\n",
       "      <td>0.830500</td>\n",
       "      <td>0.116000</td>\n",
       "      <td>6.0</td>\n",
       "      <td>367.0</td>\n",
       "    </tr>\n",
       "  </tbody>\n",
       "</table>\n",
       "</div>"
      ],
      "text/plain": [
       "   rank_cnc  market_cap     price  volume24  pct1h  pct24h  pct7d  rating  \\\n",
       "0      35.0   210898190  0.731445    195643   0.29   -1.20  -4.96     2.6   \n",
       "1     359.0     7547077  0.019287  23506334   0.79    1.16  -8.86     4.6   \n",
       "\n",
       "   Duration  pre_Duration  compound  negative   neutral  positive  \\\n",
       "0        31             0 -0.115233  0.022333  0.029333  0.948333   \n",
       "1        49             0  0.817167  0.053167  0.830500  0.116000   \n",
       "\n",
       "   no_of_posts  Longevity  \n",
       "0          3.0      364.0  \n",
       "1          6.0      367.0  "
      ]
     },
     "execution_count": 294,
     "metadata": {},
     "output_type": "execute_result"
    }
   ],
   "source": [
    "success_df.head(2)"
   ]
  },
  {
   "cell_type": "code",
   "execution_count": 295,
   "metadata": {},
   "outputs": [],
   "source": [
    "success_df_pca_class_2.replace(\"1,284.19\",\"1284.19\", inplace=True)\n",
    "\n",
    "success_df_pca_class_2.replace(\"-126 d\",\"-126\", inplace=True)"
   ]
  },
  {
   "cell_type": "code",
   "execution_count": null,
   "metadata": {},
   "outputs": [],
   "source": []
  },
  {
   "cell_type": "code",
   "execution_count": 296,
   "metadata": {},
   "outputs": [
    {
     "data": {
      "text/plain": [
       "(535, 27)"
      ]
     },
     "execution_count": 296,
     "metadata": {},
     "output_type": "execute_result"
    }
   ],
   "source": [
    "success_df_pca_class_2.shape"
   ]
  },
  {
   "cell_type": "code",
   "execution_count": 297,
   "metadata": {},
   "outputs": [
    {
     "data": {
      "text/plain": [
       "(535, 16)"
      ]
     },
     "execution_count": 297,
     "metadata": {},
     "output_type": "execute_result"
    }
   ],
   "source": [
    "success_df.shape"
   ]
  },
  {
   "cell_type": "code",
   "execution_count": 298,
   "metadata": {},
   "outputs": [],
   "source": [
    "a = set(success_df_pca_class_2['rank_cnc']) \n",
    "b = set(success_df['rank_cnc'])\n",
    "c=(a^b)&b\n",
    "d=(a^b)&a"
   ]
  },
  {
   "cell_type": "code",
   "execution_count": 299,
   "metadata": {},
   "outputs": [
    {
     "data": {
      "text/plain": [
       "set()"
      ]
     },
     "execution_count": 299,
     "metadata": {},
     "output_type": "execute_result"
    }
   ],
   "source": [
    "d"
   ]
  },
  {
   "cell_type": "code",
   "execution_count": 300,
   "metadata": {},
   "outputs": [
    {
     "data": {
      "text/plain": [
       "set()"
      ]
     },
     "execution_count": 300,
     "metadata": {},
     "output_type": "execute_result"
    }
   ],
   "source": [
    "c"
   ]
  },
  {
   "cell_type": "code",
   "execution_count": 301,
   "metadata": {},
   "outputs": [],
   "source": [
    "def check_what_matches(df1,df2):\n",
    "    duplicates = []\n",
    "    \n",
    "    for ticker1 in df1['rank_cnc'].tolist():\n",
    "        for ticker2 in df2['rank_cnc'].tolist():\n",
    "            if ticker1 != ticker2:\n",
    "                duplicates.append(ticker1)\n",
    "            else:\n",
    "                continue\n",
    "    return duplicates"
   ]
  },
  {
   "cell_type": "code",
   "execution_count": 302,
   "metadata": {},
   "outputs": [],
   "source": [
    "# check_what_matches(success_df, success_df_pca_class_2)"
   ]
  },
  {
   "cell_type": "code",
   "execution_count": 303,
   "metadata": {},
   "outputs": [
    {
     "data": {
      "text/plain": [
       "Index(['rank_cnc', 'market_cap', 'price', 'volume24', 'pct1h', 'pct24h',\n",
       "       'pct7d', 'rating', 'Duration', 'pre_Duration', 'compound', 'negative',\n",
       "       'neutral', 'positive', 'no_of_posts', 'Longevity'],\n",
       "      dtype='object')"
      ]
     },
     "execution_count": 303,
     "metadata": {},
     "output_type": "execute_result"
    }
   ],
   "source": [
    "#doing it manually.... iterations were not working at all... :\\\n",
    "success_df.columns"
   ]
  },
  {
   "cell_type": "code",
   "execution_count": 304,
   "metadata": {},
   "outputs": [
    {
     "data": {
      "text/plain": [
       "Index(['rank_cnc', 'Name', 'Ticker', 'market_cap', 'price', 'volume24',\n",
       "       'pct1h', 'pct24h', 'pct7d', 'country', 'platform', 'pre_ico_end',\n",
       "       'pre_ico_start', 'rating', 'status', 'type', 'End', 'Start', 'Duration',\n",
       "       'pre_Duration', 'compound', 'negative', 'neutral', 'positive',\n",
       "       'no_of_posts', 'Longevity', 'success_PCA'],\n",
       "      dtype='object')"
      ]
     },
     "execution_count": 304,
     "metadata": {},
     "output_type": "execute_result"
    }
   ],
   "source": [
    "success_df_pca_class_2.columns"
   ]
  },
  {
   "cell_type": "code",
   "execution_count": 305,
   "metadata": {},
   "outputs": [],
   "source": [
    "for columns in list(success_df.columns):\n",
    "    success_df_pca_class_2[columns] = success_df[columns]"
   ]
  },
  {
   "cell_type": "code",
   "execution_count": 306,
   "metadata": {},
   "outputs": [
    {
     "data": {
      "text/html": [
       "<div>\n",
       "<style scoped>\n",
       "    .dataframe tbody tr th:only-of-type {\n",
       "        vertical-align: middle;\n",
       "    }\n",
       "\n",
       "    .dataframe tbody tr th {\n",
       "        vertical-align: top;\n",
       "    }\n",
       "\n",
       "    .dataframe thead th {\n",
       "        text-align: right;\n",
       "    }\n",
       "</style>\n",
       "<table border=\"1\" class=\"dataframe\">\n",
       "  <thead>\n",
       "    <tr style=\"text-align: right;\">\n",
       "      <th></th>\n",
       "      <th>rank_cnc</th>\n",
       "      <th>Name</th>\n",
       "      <th>Ticker</th>\n",
       "      <th>market_cap</th>\n",
       "      <th>price</th>\n",
       "      <th>volume24</th>\n",
       "      <th>pct1h</th>\n",
       "      <th>pct24h</th>\n",
       "      <th>pct7d</th>\n",
       "      <th>country</th>\n",
       "      <th>...</th>\n",
       "      <th>Start</th>\n",
       "      <th>Duration</th>\n",
       "      <th>pre_Duration</th>\n",
       "      <th>compound</th>\n",
       "      <th>negative</th>\n",
       "      <th>neutral</th>\n",
       "      <th>positive</th>\n",
       "      <th>no_of_posts</th>\n",
       "      <th>Longevity</th>\n",
       "      <th>success_PCA</th>\n",
       "    </tr>\n",
       "  </thead>\n",
       "  <tbody>\n",
       "    <tr>\n",
       "      <th>0</th>\n",
       "      <td>35.0</td>\n",
       "      <td>0x</td>\n",
       "      <td>ZRX</td>\n",
       "      <td>210898190</td>\n",
       "      <td>0.731445</td>\n",
       "      <td>195643</td>\n",
       "      <td>0.29</td>\n",
       "      <td>-1.20</td>\n",
       "      <td>-4.96</td>\n",
       "      <td>United States of America</td>\n",
       "      <td>...</td>\n",
       "      <td>2017-08-15 00:00:00</td>\n",
       "      <td>31</td>\n",
       "      <td>0</td>\n",
       "      <td>-0.115233</td>\n",
       "      <td>0.022333</td>\n",
       "      <td>0.029333</td>\n",
       "      <td>0.948333</td>\n",
       "      <td>3.0</td>\n",
       "      <td>364.0</td>\n",
       "      <td>0</td>\n",
       "    </tr>\n",
       "    <tr>\n",
       "      <th>1</th>\n",
       "      <td>359.0</td>\n",
       "      <td>Perlin</td>\n",
       "      <td>PERL</td>\n",
       "      <td>7547077</td>\n",
       "      <td>0.019287</td>\n",
       "      <td>23506334</td>\n",
       "      <td>0.79</td>\n",
       "      <td>1.16</td>\n",
       "      <td>-8.86</td>\n",
       "      <td>Singapore</td>\n",
       "      <td>...</td>\n",
       "      <td>2017-09-28 03:00:00</td>\n",
       "      <td>49</td>\n",
       "      <td>0</td>\n",
       "      <td>0.817167</td>\n",
       "      <td>0.053167</td>\n",
       "      <td>0.830500</td>\n",
       "      <td>0.116000</td>\n",
       "      <td>6.0</td>\n",
       "      <td>367.0</td>\n",
       "      <td>0</td>\n",
       "    </tr>\n",
       "    <tr>\n",
       "      <th>2</th>\n",
       "      <td>823.0</td>\n",
       "      <td>Medicalchain</td>\n",
       "      <td>MTN</td>\n",
       "      <td>1279470</td>\n",
       "      <td>0.000174</td>\n",
       "      <td>52</td>\n",
       "      <td>-0.20</td>\n",
       "      <td>-34.19</td>\n",
       "      <td>-6.05</td>\n",
       "      <td>United Kingdom</td>\n",
       "      <td>...</td>\n",
       "      <td>2018-02-01 00:00:00</td>\n",
       "      <td>86</td>\n",
       "      <td>0</td>\n",
       "      <td>0.746697</td>\n",
       "      <td>0.025394</td>\n",
       "      <td>0.892535</td>\n",
       "      <td>0.082042</td>\n",
       "      <td>71.0</td>\n",
       "      <td>381.0</td>\n",
       "      <td>0</td>\n",
       "    </tr>\n",
       "    <tr>\n",
       "      <th>3</th>\n",
       "      <td>1310.0</td>\n",
       "      <td>GoPower</td>\n",
       "      <td>GPT</td>\n",
       "      <td>204249</td>\n",
       "      <td>0.000128</td>\n",
       "      <td>0</td>\n",
       "      <td>0.00</td>\n",
       "      <td>-0.06</td>\n",
       "      <td>5.58</td>\n",
       "      <td>NaN</td>\n",
       "      <td>...</td>\n",
       "      <td>2018-02-27 00:00:00</td>\n",
       "      <td>60</td>\n",
       "      <td>0</td>\n",
       "      <td>-0.356840</td>\n",
       "      <td>0.016600</td>\n",
       "      <td>0.975800</td>\n",
       "      <td>0.007200</td>\n",
       "      <td>5.0</td>\n",
       "      <td>381.0</td>\n",
       "      <td>0</td>\n",
       "    </tr>\n",
       "    <tr>\n",
       "      <th>4</th>\n",
       "      <td>603.0</td>\n",
       "      <td>Swarm</td>\n",
       "      <td>SWM</td>\n",
       "      <td>2752050</td>\n",
       "      <td>0.002171</td>\n",
       "      <td>5</td>\n",
       "      <td>-0.21</td>\n",
       "      <td>-5.07</td>\n",
       "      <td>2.12</td>\n",
       "      <td>Liechtenstein</td>\n",
       "      <td>...</td>\n",
       "      <td>2017-10-21 12:00:00</td>\n",
       "      <td>13</td>\n",
       "      <td>0</td>\n",
       "      <td>0.435584</td>\n",
       "      <td>0.069211</td>\n",
       "      <td>0.032684</td>\n",
       "      <td>0.898158</td>\n",
       "      <td>19.0</td>\n",
       "      <td>381.0</td>\n",
       "      <td>0</td>\n",
       "    </tr>\n",
       "  </tbody>\n",
       "</table>\n",
       "<p>5 rows × 27 columns</p>\n",
       "</div>"
      ],
      "text/plain": [
       "   rank_cnc           Name Ticker  market_cap     price  volume24  pct1h  \\\n",
       "0      35.0             0x    ZRX   210898190  0.731445    195643   0.29   \n",
       "1     359.0         Perlin   PERL     7547077  0.019287  23506334   0.79   \n",
       "2     823.0   Medicalchain    MTN     1279470  0.000174        52  -0.20   \n",
       "3    1310.0        GoPower    GPT      204249  0.000128         0   0.00   \n",
       "4     603.0          Swarm    SWM     2752050  0.002171         5  -0.21   \n",
       "\n",
       "   pct24h  pct7d                   country  ...                Start Duration  \\\n",
       "0   -1.20  -4.96  United States of America  ...  2017-08-15 00:00:00       31   \n",
       "1    1.16  -8.86                 Singapore  ...  2017-09-28 03:00:00       49   \n",
       "2  -34.19  -6.05            United Kingdom  ...  2018-02-01 00:00:00       86   \n",
       "3   -0.06   5.58                       NaN  ...  2018-02-27 00:00:00       60   \n",
       "4   -5.07   2.12             Liechtenstein  ...  2017-10-21 12:00:00       13   \n",
       "\n",
       "  pre_Duration  compound  negative   neutral  positive no_of_posts  Longevity  \\\n",
       "0            0 -0.115233  0.022333  0.029333  0.948333         3.0      364.0   \n",
       "1            0  0.817167  0.053167  0.830500  0.116000         6.0      367.0   \n",
       "2            0  0.746697  0.025394  0.892535  0.082042        71.0      381.0   \n",
       "3            0 -0.356840  0.016600  0.975800  0.007200         5.0      381.0   \n",
       "4            0  0.435584  0.069211  0.032684  0.898158        19.0      381.0   \n",
       "\n",
       "   success_PCA  \n",
       "0            0  \n",
       "1            0  \n",
       "2            0  \n",
       "3            0  \n",
       "4            0  \n",
       "\n",
       "[5 rows x 27 columns]"
      ]
     },
     "execution_count": 306,
     "metadata": {},
     "output_type": "execute_result"
    }
   ],
   "source": [
    "success_df_pca_class_2.head()"
   ]
  },
  {
   "cell_type": "code",
   "execution_count": 307,
   "metadata": {},
   "outputs": [],
   "source": [
    "file_path = Path(\"../../../../data/cleandata/success_PCA_df.csv\")\n",
    "success_df_pca_class_2.to_csv(file_path, index=False)"
   ]
  },
  {
   "cell_type": "code",
   "execution_count": null,
   "metadata": {},
   "outputs": [],
   "source": []
  }
 ],
 "metadata": {
  "kernelspec": {
   "display_name": "Python 3",
   "language": "python",
   "name": "python3"
  },
  "language_info": {
   "codemirror_mode": {
    "name": "ipython",
    "version": 3
   },
   "file_extension": ".py",
   "mimetype": "text/x-python",
   "name": "python",
   "nbconvert_exporter": "python",
   "pygments_lexer": "ipython3",
   "version": "3.7.3"
  }
 },
 "nbformat": 4,
 "nbformat_minor": 4
}
