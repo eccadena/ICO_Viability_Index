{
 "cells": [
  {
   "cell_type": "markdown",
   "metadata": {},
   "source": [
    "# WrapAPI"
   ]
  },
  {
   "cell_type": "code",
   "execution_count": null,
   "metadata": {},
   "outputs": [],
   "source": [
    "# https://wrapapi.com/use/eccadena/trackico/finances1/0.0.1?wrapAPIKey=HzqWb8NGMMD0VcX0CF4VWYvcle67YWC5"
   ]
  },
  {
   "cell_type": "code",
   "execution_count": 121,
   "metadata": {},
   "outputs": [],
   "source": [
    "import requests\n",
    "import pprint\n",
    "import requests\n",
    "from requests.exceptions import HTTPError\n",
    "from datetime import datetime as dt\n",
    "import pandas as pd\n",
    "import numpy as np\n",
    "from path import Path"
   ]
  },
  {
   "cell_type": "code",
   "execution_count": 3,
   "metadata": {},
   "outputs": [
    {
     "name": "stdout",
     "output_type": "stream",
     "text": [
      "Success!\n"
     ]
    }
   ],
   "source": [
    "for url in [\"https://wrapapi.com/use/eccadena/trackico/finances1/0.0.1?wrapAPIKey=HzqWb8NGMMD0VcX0CF4VWYvcle67YWC5\"]:\n",
    "    try:\n",
    "        response = requests.get(url)\n",
    "\n",
    "        # If the response was successful, no Exception will be raised\n",
    "        response.raise_for_status()\n",
    "    except HTTPError as http_err:\n",
    "        print(f'HTTP error occurred: {http_err}')  # Python 3.6\n",
    "    except Exception as err:\n",
    "        print(f'Other error occurred: {err}')  # Python 3.6\n",
    "    else:\n",
    "        print('Success!')"
   ]
  },
  {
   "cell_type": "code",
   "execution_count": 5,
   "metadata": {},
   "outputs": [
    {
     "data": {
      "text/plain": [
       "dict"
      ]
     },
     "execution_count": 5,
     "metadata": {},
     "output_type": "execute_result"
    }
   ],
   "source": [
    "response = requests.get(f\"https://wrapapi.com/use/eccadena/trackico/finances1/0.0.1?wrapAPIKey=HzqWb8NGMMD0VcX0CF4VWYvcle67YWC5\")\n",
    "response = response.json()\n",
    "type(response)"
   ]
  },
  {
   "cell_type": "code",
   "execution_count": 7,
   "metadata": {},
   "outputs": [
    {
     "data": {
      "text/plain": [
       "{'success': True,\n",
       " 'outputScenario': 'Default',\n",
       " 'data': {'output': ['04/18/2019 midnight\\n- Unspecified',\n",
       "   'Switzerland',\n",
       "   'ICO',\n",
       "   'ICO',\n",
       "   'INBIT',\n",
       "   'Ethereum',\n",
       "   '0.01 EUR\\n\\n(0.01102 USD)',\n",
       "   '6,500,000,000 INBIT\\n (51%)',\n",
       "   '12,763,636,364 INBIT',\n",
       "   '50,000,000\\nEUR\\n (55,100,000 USD)',\n",
       "   'ETH, BTC, LTC, BCH',\n",
       "   'Afghanistan, Bosnia and Herzegovina, Central African Republic, Congo, Cuba, Eritrea, Ethiopia, Guinea-Bissau, Iran, Iraq, Lebanon, Libya, North Korea, Somalia, South Sudan, Sudan, Switzerland, Syria, Uganda, United States of America, Vanuatu, Yemen',\n",
       "   'Yes',\n",
       "   'Presale Tier 5Period: 07.10.2019 - 27.10.2019Discount: 20%Amount of sale: 250 000 €',\n",
       "   'Dec. 19, 2018',\n",
       "   'May 5, 2019',\n",
       "   '133,333,000 InBit',\n",
       "   '1,469,329 USD',\n",
       "   '1.0 %',\n",
       "   '04/18/2019 midnight\\n- Unspecified',\n",
       "   'Switzerland',\n",
       "   'ICO',\n",
       "   'Ethereum',\n",
       "   '0.01 EUR',\n",
       "   'Available',\n",
       "   '694,420 th',\n",
       "   '8,957',\n",
       "   '4,933']},\n",
       " 'stateToken': 'eyJqYXIiOnsidmVyc2lvbiI6InRvdWdoLWNvb2tpZUAyLjMuNCIsInN0b3JlVHlwZSI6Ik1lbW9yeUNvb2tpZVN0b3JlIiwicmVqZWN0UHVibGljU3VmZml4ZXMiOnRydWUsImNvb2tpZXMiOlt7ImtleSI6ImNzcmZ0b2tlbiIsInZhbHVlIjoiMEd1Snl3RDRGQVZkV3l6R0I1ZUFYaE9lenR2cDB4SlhrcmNkbWREVUIyWks2TXNkRDJ0TU5SdXdTaTNtWGtPYyIsImV4cGlyZXMiOiIyMDIwLTExLTEzVDAwOjUzOjU2LjAwMFoiLCJtYXhBZ2UiOjMxNDQ5NjAwLCJkb21haW4iOiJ3d3cudHJhY2tpY28uaW8iLCJwYXRoIjoiLyIsImV4dGVuc2lvbnMiOlsiU2FtZVNpdGU9TGF4Il0sImhvc3RPbmx5Ijp0cnVlLCJjcmVhdGlvbiI6IjIwMTktMTEtMTVUMDA6NTM6NTYuMjQ4WiIsImxhc3RBY2Nlc3NlZCI6IjIwMTktMTEtMTVUMDA6NTM6NTYuMjQ4WiJ9XX0sInZlcnNpb24iOjF9',\n",
       " 'cookies': [{'key': 'csrftoken',\n",
       "   'value': '0GuJywD4FAVdWyzGB5eAXhOeztvp0xJXkrcdmdDUB2ZK6MsdD2tMNRuwSi3mXkOc',\n",
       "   'expires': '2020-11-13T00:53:56.000Z',\n",
       "   'maxAge': 31449600,\n",
       "   'domain': 'www.trackico.io',\n",
       "   'path': '/',\n",
       "   'extensions': ['SameSite=Lax'],\n",
       "   'hostOnly': True,\n",
       "   'creation': '2019-11-15T00:53:56.248Z',\n",
       "   'lastAccessed': '2019-11-15T00:53:56.248Z'}]}"
      ]
     },
     "execution_count": 7,
     "metadata": {},
     "output_type": "execute_result"
    }
   ],
   "source": [
    "response"
   ]
  },
  {
   "cell_type": "code",
   "execution_count": 15,
   "metadata": {},
   "outputs": [
    {
     "data": {
      "text/plain": [
       "dict"
      ]
     },
     "execution_count": 15,
     "metadata": {},
     "output_type": "execute_result"
    }
   ],
   "source": [
    "response = requests.get(f\"https://wrapapi.com/use/eccadena/cmcapi/all/0.0.1?wrapAPIKey=HzqWb8NGMMD0VcX0CF4VWYvcle67YWC5\")\n",
    "response = response.json()\n",
    "type(response)"
   ]
  },
  {
   "cell_type": "code",
   "execution_count": 59,
   "metadata": {},
   "outputs": [],
   "source": [
    "def CMC_api_all():\n",
    "    \n",
    "    df_all = pd.DataFrame()\n",
    "    \n",
    "    l = list(range(20000))\n",
    "    \n",
    "    for i in l[0::11]:\n",
    "        df_raw = pd.DataFrame(response['data']['output'][0+i:11+i]).T\n",
    "        df_raw.rename(columns = {'0':'rank_cmc','1':'title','2':'ticker','3':'market_cap','4':'price','5':'supply','6':'volume24','7':'pct1h','8':'pct24h','9':'pct7d','10':'addremove'})\n",
    "        df_all = pd.concat([df_raw,df_all])\n",
    "        print('Joining Dataframe')\n",
    "    return df_all                "
   ]
  },
  {
   "cell_type": "code",
   "execution_count": 60,
   "metadata": {},
   "outputs": [],
   "source": [
    "df_all_CMC = CMC_api_all()"
   ]
  },
  {
   "cell_type": "code",
   "execution_count": 76,
   "metadata": {},
   "outputs": [
    {
     "data": {
      "text/html": [
       "<div>\n",
       "<style scoped>\n",
       "    .dataframe tbody tr th:only-of-type {\n",
       "        vertical-align: middle;\n",
       "    }\n",
       "\n",
       "    .dataframe tbody tr th {\n",
       "        vertical-align: top;\n",
       "    }\n",
       "\n",
       "    .dataframe thead th {\n",
       "        text-align: right;\n",
       "    }\n",
       "</style>\n",
       "<table border=\"1\" class=\"dataframe\">\n",
       "  <thead>\n",
       "    <tr style=\"text-align: right;\">\n",
       "      <th></th>\n",
       "      <th>0</th>\n",
       "      <th>1</th>\n",
       "      <th>2</th>\n",
       "      <th>3</th>\n",
       "      <th>4</th>\n",
       "      <th>5</th>\n",
       "      <th>6</th>\n",
       "      <th>7</th>\n",
       "      <th>8</th>\n",
       "      <th>9</th>\n",
       "      <th>10</th>\n",
       "    </tr>\n",
       "  </thead>\n",
       "  <tbody>\n",
       "    <tr>\n",
       "      <th>0</th>\n",
       "      <td>1819</td>\n",
       "      <td>PKB\\n\\nParkByte</td>\n",
       "      <td>PKB</td>\n",
       "      <td>$17,605</td>\n",
       "      <td>$0.003695</td>\n",
       "      <td>4,764,026\\n*</td>\n",
       "      <td>Low Vol</td>\n",
       "      <td>0.00%</td>\n",
       "      <td>0.00%</td>\n",
       "      <td>-4.83%</td>\n",
       "      <td>Add to Watchlist\\nRemove from Watchlist\\nWatch...</td>\n",
       "    </tr>\n",
       "    <tr>\n",
       "      <th>0</th>\n",
       "      <td>1818</td>\n",
       "      <td>SUPER\\n\\nSuperCoin</td>\n",
       "      <td>SUPER</td>\n",
       "      <td>$17,712</td>\n",
       "      <td>$0.000347</td>\n",
       "      <td>51,025,981</td>\n",
       "      <td>Low Vol</td>\n",
       "      <td>-0.34%</td>\n",
       "      <td>-1.45%</td>\n",
       "      <td>-90.40%</td>\n",
       "      <td>Add to Watchlist\\nRemove from Watchlist\\nWatch...</td>\n",
       "    </tr>\n",
       "    <tr>\n",
       "      <th>0</th>\n",
       "      <td>1817</td>\n",
       "      <td>PAK\\n\\nPakcoin</td>\n",
       "      <td>PAK</td>\n",
       "      <td>$17,858</td>\n",
       "      <td>$0.000260</td>\n",
       "      <td>68,594,750</td>\n",
       "      <td>Low Vol</td>\n",
       "      <td>-0.34%</td>\n",
       "      <td>-25.99%</td>\n",
       "      <td>-6.14%</td>\n",
       "      <td>Add to Watchlist\\nRemove from Watchlist\\nWatch...</td>\n",
       "    </tr>\n",
       "    <tr>\n",
       "      <th>0</th>\n",
       "      <td>1816</td>\n",
       "      <td>ELTCOIN\\n\\nELTCOIN</td>\n",
       "      <td>ELTCOIN</td>\n",
       "      <td>$17,869</td>\n",
       "      <td>$0.000199</td>\n",
       "      <td>90,000,000\\n*</td>\n",
       "      <td>$1,044</td>\n",
       "      <td>-0.28%</td>\n",
       "      <td>-28.24%</td>\n",
       "      <td>-30.59%</td>\n",
       "      <td>Add to Watchlist\\nRemove from Watchlist\\nWatch...</td>\n",
       "    </tr>\n",
       "    <tr>\n",
       "      <th>0</th>\n",
       "      <td>1815</td>\n",
       "      <td>IQ\\n\\nIQ.cash</td>\n",
       "      <td>IQ</td>\n",
       "      <td>$17,920</td>\n",
       "      <td>$0.004599</td>\n",
       "      <td>3,896,163</td>\n",
       "      <td>Low Vol</td>\n",
       "      <td>-2.18%</td>\n",
       "      <td>49.30%</td>\n",
       "      <td>15.77%</td>\n",
       "      <td>Add to Watchlist\\nRemove from Watchlist\\nWatch...</td>\n",
       "    </tr>\n",
       "  </tbody>\n",
       "</table>\n",
       "</div>"
      ],
      "text/plain": [
       "     0                   1        2        3          4              5   \\\n",
       "0  1819     PKB\\n\\nParkByte      PKB  $17,605  $0.003695   4,764,026\\n*   \n",
       "0  1818  SUPER\\n\\nSuperCoin    SUPER  $17,712  $0.000347     51,025,981   \n",
       "0  1817      PAK\\n\\nPakcoin      PAK  $17,858  $0.000260     68,594,750   \n",
       "0  1816  ELTCOIN\\n\\nELTCOIN  ELTCOIN  $17,869  $0.000199  90,000,000\\n*   \n",
       "0  1815       IQ\\n\\nIQ.cash       IQ  $17,920  $0.004599      3,896,163   \n",
       "\n",
       "        6       7        8        9   \\\n",
       "0  Low Vol   0.00%    0.00%   -4.83%   \n",
       "0  Low Vol  -0.34%   -1.45%  -90.40%   \n",
       "0  Low Vol  -0.34%  -25.99%   -6.14%   \n",
       "0   $1,044  -0.28%  -28.24%  -30.59%   \n",
       "0  Low Vol  -2.18%   49.30%   15.77%   \n",
       "\n",
       "                                                  10  \n",
       "0  Add to Watchlist\\nRemove from Watchlist\\nWatch...  \n",
       "0  Add to Watchlist\\nRemove from Watchlist\\nWatch...  \n",
       "0  Add to Watchlist\\nRemove from Watchlist\\nWatch...  \n",
       "0  Add to Watchlist\\nRemove from Watchlist\\nWatch...  \n",
       "0  Add to Watchlist\\nRemove from Watchlist\\nWatch...  "
      ]
     },
     "execution_count": 76,
     "metadata": {},
     "output_type": "execute_result"
    }
   ],
   "source": [
    "df_all_CMC.head()"
   ]
  },
  {
   "cell_type": "code",
   "execution_count": 65,
   "metadata": {},
   "outputs": [],
   "source": [
    "# DO NOT RUN AGAIN UNLESS YOU HAVE COPIED THE WEBSITE df_all_CMC_clipboard = pd.read_clipboard()"
   ]
  },
  {
   "cell_type": "code",
   "execution_count": 79,
   "metadata": {},
   "outputs": [],
   "source": [
    "df_all_CMC_clipboard.drop(columns = ['Unnamed: 10'], inplace = True)"
   ]
  },
  {
   "cell_type": "code",
   "execution_count": 117,
   "metadata": {},
   "outputs": [
    {
     "data": {
      "text/plain": [
       "(2369, 10)"
      ]
     },
     "execution_count": 117,
     "metadata": {},
     "output_type": "execute_result"
    }
   ],
   "source": [
    "df_all_CMC_clipboard.shape"
   ]
  },
  {
   "cell_type": "code",
   "execution_count": 96,
   "metadata": {},
   "outputs": [],
   "source": [
    "#df_all_CMC_clipboard.rename(columns = {'#':'rank_cnc','Symbol':'ticker','Market Cap':'market_cap','Price':'price','Circulating Supply':'supply','Volume (24h)':'volume24','% 1h':'pct1h','% 24h':'pct24h','% 7d':'pct7d'}, inplace=True)"
   ]
  },
  {
   "cell_type": "code",
   "execution_count": 118,
   "metadata": {},
   "outputs": [
    {
     "data": {
      "text/html": [
       "<div>\n",
       "<style scoped>\n",
       "    .dataframe tbody tr th:only-of-type {\n",
       "        vertical-align: middle;\n",
       "    }\n",
       "\n",
       "    .dataframe tbody tr th {\n",
       "        vertical-align: top;\n",
       "    }\n",
       "\n",
       "    .dataframe thead th {\n",
       "        text-align: right;\n",
       "    }\n",
       "</style>\n",
       "<table border=\"1\" class=\"dataframe\">\n",
       "  <thead>\n",
       "    <tr style=\"text-align: right;\">\n",
       "      <th></th>\n",
       "      <th>rank_cnc</th>\n",
       "      <th>Name</th>\n",
       "      <th>ticker</th>\n",
       "      <th>market_cap</th>\n",
       "      <th>price</th>\n",
       "      <th>supply</th>\n",
       "      <th>volume24</th>\n",
       "      <th>pct1h</th>\n",
       "      <th>pct24h</th>\n",
       "      <th>pct7d</th>\n",
       "    </tr>\n",
       "  </thead>\n",
       "  <tbody>\n",
       "    <tr>\n",
       "      <th>0</th>\n",
       "      <td>1</td>\n",
       "      <td>Bitcoin</td>\n",
       "      <td>BTC</td>\n",
       "      <td>156,629,905,950</td>\n",
       "      <td>8,678.58</td>\n",
       "      <td>-6.14</td>\n",
       "      <td>19,216,389,896</td>\n",
       "      <td>-0.28</td>\n",
       "      <td>-1.35</td>\n",
       "      <td>-6.14</td>\n",
       "    </tr>\n",
       "    <tr>\n",
       "      <th>1</th>\n",
       "      <td>2</td>\n",
       "      <td>Ethereum</td>\n",
       "      <td>ETH</td>\n",
       "      <td>20,155,411,771</td>\n",
       "      <td>185.67</td>\n",
       "      <td>-0.96</td>\n",
       "      <td>7,906,136,399</td>\n",
       "      <td>-0.10</td>\n",
       "      <td>-1.20</td>\n",
       "      <td>-0.96</td>\n",
       "    </tr>\n",
       "    <tr>\n",
       "      <th>2</th>\n",
       "      <td>3</td>\n",
       "      <td>XRP</td>\n",
       "      <td>XRP</td>\n",
       "      <td>11,612,597,542</td>\n",
       "      <td>0.268199</td>\n",
       "      <td>-7.36</td>\n",
       "      <td>1,265,885,288</td>\n",
       "      <td>-0.57</td>\n",
       "      <td>-1.75</td>\n",
       "      <td>-7.36</td>\n",
       "    </tr>\n",
       "    <tr>\n",
       "      <th>3</th>\n",
       "      <td>4</td>\n",
       "      <td>Bitcoin Cash</td>\n",
       "      <td>BCH</td>\n",
       "      <td>5,016,918,192</td>\n",
       "      <td>276.97</td>\n",
       "      <td>-5.39</td>\n",
       "      <td>1,842,963,894</td>\n",
       "      <td>-0.75</td>\n",
       "      <td>-3.01</td>\n",
       "      <td>-5.39</td>\n",
       "    </tr>\n",
       "    <tr>\n",
       "      <th>4</th>\n",
       "      <td>5</td>\n",
       "      <td>Tether</td>\n",
       "      <td>USDT</td>\n",
       "      <td>4,135,369,515</td>\n",
       "      <td>1.01</td>\n",
       "      <td>0.34</td>\n",
       "      <td>22,054,927,684</td>\n",
       "      <td>-0.08</td>\n",
       "      <td>0.36</td>\n",
       "      <td>0.34</td>\n",
       "    </tr>\n",
       "  </tbody>\n",
       "</table>\n",
       "</div>"
      ],
      "text/plain": [
       "   rank_cnc           Name ticker       market_cap     price supply  \\\n",
       "0         1        Bitcoin    BTC  156,629,905,950  8,678.58  -6.14   \n",
       "1         2       Ethereum    ETH   20,155,411,771    185.67  -0.96   \n",
       "2         3            XRP    XRP   11,612,597,542  0.268199  -7.36   \n",
       "3         4   Bitcoin Cash    BCH    5,016,918,192    276.97  -5.39   \n",
       "4         5         Tether   USDT    4,135,369,515      1.01   0.34   \n",
       "\n",
       "         volume24  pct1h pct24h  pct7d  \n",
       "0  19,216,389,896  -0.28  -1.35  -6.14  \n",
       "1   7,906,136,399  -0.10  -1.20  -0.96  \n",
       "2   1,265,885,288  -0.57  -1.75  -7.36  \n",
       "3   1,842,963,894  -0.75  -3.01  -5.39  \n",
       "4  22,054,927,684  -0.08   0.36   0.34  "
      ]
     },
     "execution_count": 118,
     "metadata": {},
     "output_type": "execute_result"
    }
   ],
   "source": [
    "df_all_CMC_clipboard.head()"
   ]
  },
  {
   "cell_type": "code",
   "execution_count": 113,
   "metadata": {},
   "outputs": [],
   "source": [
    "def CMC_df_cleaning(df):\n",
    "    \n",
    "    df['price'] = df['price'].apply(lambda x: x.strip('$'))\n",
    "    df['market_cap'] = df['market_cap'].apply(lambda x: x.strip('$'))\n",
    "    df['volume24'] = df['volume24'].apply(lambda x: x.strip('$'))\n",
    "    \n",
    "    df['pct1h'] = df['pct1h'].apply(lambda x: x.strip('%'))\n",
    "    df['pct24h'] = df['pct24h'].apply(lambda x: x.strip('%'))\n",
    "    df['pct7d'] = df['pct7d'].apply(lambda x: x.strip('%'))\n",
    "    \n",
    "    df['supply'] = df['pct7d'].apply(lambda x: x.strip('*'))\n",
    "    \n",
    "    df = df.replace('?',0)\n",
    "    \n",
    "    return df\n",
    "\n",
    "df_all_CMC = CMC_df_cleaning(df_all_CMC_clipboard)"
   ]
  },
  {
   "cell_type": "code",
   "execution_count": 116,
   "metadata": {},
   "outputs": [],
   "source": [
    "df_all_CMC"
   ]
  },
  {
   "cell_type": "code",
   "execution_count": 123,
   "metadata": {},
   "outputs": [],
   "source": [
    "file_path = Path(\"../../../../data/cleandata/CMC_df.csv\")\n",
    "df_all_CMC.to_csv(file_path, index=False)"
   ]
  },
  {
   "cell_type": "code",
   "execution_count": null,
   "metadata": {},
   "outputs": [],
   "source": []
  },
  {
   "cell_type": "code",
   "execution_count": null,
   "metadata": {},
   "outputs": [],
   "source": []
  }
 ],
 "metadata": {
  "kernelspec": {
   "display_name": "Python 3",
   "language": "python",
   "name": "python3"
  },
  "language_info": {
   "codemirror_mode": {
    "name": "ipython",
    "version": 3
   },
   "file_extension": ".py",
   "mimetype": "text/x-python",
   "name": "python",
   "nbconvert_exporter": "python",
   "pygments_lexer": "ipython3",
   "version": "3.7.3"
  }
 },
 "nbformat": 4,
 "nbformat_minor": 4
}
