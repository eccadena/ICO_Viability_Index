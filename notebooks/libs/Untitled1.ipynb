{
 "cells": [
  {
   "cell_type": "code",
   "execution_count": 22,
   "metadata": {},
   "outputs": [],
   "source": [
    "from urllib.request import Request, urlopen as Ureq\n",
    "import urllib.request\n",
    "import requests\n",
    "import PyPDF2\n",
    "from analysis import tokenizer, twitter_sent_analysis\n",
    "import nltk\n",
    "from nltk.sentiment.vader import SentimentIntensityAnalyzer\n",
    "from bs4 import BeautifulSoup as soup\n",
    "import pandas as pd"
   ]
  },
  {
   "cell_type": "code",
   "execution_count": 16,
   "metadata": {},
   "outputs": [],
   "source": [
    "class Whitepapers():\n",
    "\n",
    "def __init__(self):\n",
    "    self.base_url = 'https://whitepaperdatabase.com/?s='\n",
    "\n",
    "\n",
    "def base_page(self, term):\n",
    "    new_url = self.base_url + term\n",
    "    uClient = Ureq(new_url)\n",
    "    raw_content = uClient.read()\n",
    "    uClient.close()\n",
    "    page_soup = soup(raw_content)\n",
    "    return page_soup\n",
    "\n",
    "def get_paper_url(page_soup):\n",
    "    containers = page_soup.findAll(\"a\")\n",
    "    url = containers[8]['href']\n",
    "    return url\n",
    "\n",
    "def get_pdf_link(paper_url):\n",
    "    uClient = Ureq(paper_url)\n",
    "    raw_content = uClient.read()\n",
    "    uClient.close()\n",
    "    page_soup = soup(raw_content)\n",
    "    pdf_link = page_soup.findAll(\"a\", {\"class\":\"pdfemb-viewer\"})\n",
    "    return pdf_link[0]['href']\n",
    "\n",
    "def get_pdf(ticker, pdf_link):\n",
    "    filename = '../../data/whitepapers/' + ticker + '_whitepaper.pdf'\n",
    "    urllib.request.urlretrieve(pdf_link, filename)\n",
    "\n",
    "def read_pdf(ticker):\n",
    "    corpus = ''\n",
    "    filename = '../../data/whitepapers/' + ticker + '_whitepaper.pdf'\n",
    "    pdf_obj = open(filename, 'rb')\n",
    "    pdfReader = PyPDF2.PdfFileReader(pdf_obj)\n",
    "    pages = pdfReader.numPages\n",
    "    for i in range(pages):\n",
    "        raw_text = pdfReader.getPage(i)\n",
    "        corpus = corpus + raw_text.extractText()\n",
    "    return corpus\n",
    "\n",
    "def check_sent(corpus):\n",
    "    analyzer = SentimentIntensityAnalyzer()\n",
    "    sentiment = analyzer.polarity_scores(corpus)\n",
    "    return sentiment"
   ]
  },
  {
   "cell_type": "code",
   "execution_count": 34,
   "metadata": {},
   "outputs": [],
   "source": [
    "name = 'Augur'\n",
    "get_pdf(name, get_pdf_link(get_paper_url(base_page(base_url, name))))"
   ]
  },
  {
   "cell_type": "code",
   "execution_count": 17,
   "metadata": {},
   "outputs": [],
   "source": [
    "wp = Whitepapers()"
   ]
  },
  {
   "cell_type": "code",
   "execution_count": 36,
   "metadata": {},
   "outputs": [],
   "source": [
    "tokens = tokenizer(x)"
   ]
  },
  {
   "cell_type": "code",
   "execution_count": 38,
   "metadata": {},
   "outputs": [
    {
     "data": {
      "text/plain": [
       "{'neg': 0.004, 'neu': 0.952, 'pos': 0.044, 'compound': 0.9984}"
      ]
     },
     "execution_count": 38,
     "metadata": {},
     "output_type": "execute_result"
    }
   ],
   "source": [
    "check_sent(x)"
   ]
  },
  {
   "cell_type": "code",
   "execution_count": 23,
   "metadata": {},
   "outputs": [],
   "source": [
    "df = pd.read_csv('../../data/cleandata/track_cmc_merged_df.csv')"
   ]
  },
  {
   "cell_type": "code",
   "execution_count": 24,
   "metadata": {},
   "outputs": [
    {
     "data": {
      "text/html": [
       "<div>\n",
       "<style scoped>\n",
       "    .dataframe tbody tr th:only-of-type {\n",
       "        vertical-align: middle;\n",
       "    }\n",
       "\n",
       "    .dataframe tbody tr th {\n",
       "        vertical-align: top;\n",
       "    }\n",
       "\n",
       "    .dataframe thead th {\n",
       "        text-align: right;\n",
       "    }\n",
       "</style>\n",
       "<table border=\"1\" class=\"dataframe\">\n",
       "  <thead>\n",
       "    <tr style=\"text-align: right;\">\n",
       "      <th></th>\n",
       "      <th>index</th>\n",
       "      <th>rank_cnc</th>\n",
       "      <th>Name</th>\n",
       "      <th>market_cap</th>\n",
       "      <th>price</th>\n",
       "      <th>supply</th>\n",
       "      <th>volume24</th>\n",
       "      <th>pct1h</th>\n",
       "      <th>pct24h</th>\n",
       "      <th>pct7d</th>\n",
       "      <th>...</th>\n",
       "      <th>platform</th>\n",
       "      <th>pre_ico_end</th>\n",
       "      <th>pre_ico_start</th>\n",
       "      <th>rating</th>\n",
       "      <th>status</th>\n",
       "      <th>type</th>\n",
       "      <th>End</th>\n",
       "      <th>Start</th>\n",
       "      <th>Duration</th>\n",
       "      <th>pre_Duration</th>\n",
       "    </tr>\n",
       "  </thead>\n",
       "  <tbody>\n",
       "    <tr>\n",
       "      <th>0</th>\n",
       "      <td>1</td>\n",
       "      <td>2</td>\n",
       "      <td>Ethereum</td>\n",
       "      <td>20,155,411,771</td>\n",
       "      <td>185.67</td>\n",
       "      <td>-0.96</td>\n",
       "      <td>7,906,136,399</td>\n",
       "      <td>-0.1</td>\n",
       "      <td>-1.2</td>\n",
       "      <td>-0.96</td>\n",
       "      <td>...</td>\n",
       "      <td>Ethereum</td>\n",
       "      <td>2017-12-15 12:00:00</td>\n",
       "      <td>2017-12-15 12:00:00</td>\n",
       "      <td>0.0</td>\n",
       "      <td>Trading</td>\n",
       "      <td>ICO</td>\n",
       "      <td>2017-12-15 12:00:00</td>\n",
       "      <td>2017-12-15 12:00:00</td>\n",
       "      <td>0 days 00:00:00.000000000</td>\n",
       "      <td>0 days 00:00:00.000000000</td>\n",
       "    </tr>\n",
       "  </tbody>\n",
       "</table>\n",
       "<p>1 rows × 21 columns</p>\n",
       "</div>"
      ],
      "text/plain": [
       "   index  rank_cnc       Name      market_cap   price  supply       volume24  \\\n",
       "0      1         2   Ethereum  20,155,411,771  185.67   -0.96  7,906,136,399   \n",
       "\n",
       "   pct1h  pct24h  pct7d  ...  platform          pre_ico_end  \\\n",
       "0   -0.1    -1.2  -0.96  ...  Ethereum  2017-12-15 12:00:00   \n",
       "\n",
       "         pre_ico_start rating   status type                  End  \\\n",
       "0  2017-12-15 12:00:00    0.0  Trading  ICO  2017-12-15 12:00:00   \n",
       "\n",
       "                 Start                   Duration               pre_Duration  \n",
       "0  2017-12-15 12:00:00  0 days 00:00:00.000000000  0 days 00:00:00.000000000  \n",
       "\n",
       "[1 rows x 21 columns]"
      ]
     },
     "execution_count": 24,
     "metadata": {},
     "output_type": "execute_result"
    }
   ],
   "source": [
    "df.head(1)"
   ]
  },
  {
   "cell_type": "code",
   "execution_count": null,
   "metadata": {},
   "outputs": [],
   "source": []
  }
 ],
 "metadata": {
  "kernelspec": {
   "display_name": "Python 3",
   "language": "python",
   "name": "python3"
  },
  "language_info": {
   "codemirror_mode": {
    "name": "ipython",
    "version": 3
   },
   "file_extension": ".py",
   "mimetype": "text/x-python",
   "name": "python",
   "nbconvert_exporter": "python",
   "pygments_lexer": "ipython3",
   "version": "3.7.3"
  }
 },
 "nbformat": 4,
 "nbformat_minor": 4
}
