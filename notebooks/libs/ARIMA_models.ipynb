{
 "cells": [
  {
   "cell_type": "code",
   "execution_count": 1,
   "metadata": {},
   "outputs": [],
   "source": [
    "from statsmodels.tsa.arima_model import ARIMA\n",
    "import pandas as pd\n",
    "from urllib.request import Request, urlopen\n",
    "import json\n",
    "import time\n",
    "import requests\n",
    "from datetime import datetime as dt\n",
    "import os\n",
    "import sys\n",
    "from datetime import date, timedelta"
   ]
  },
  {
   "cell_type": "code",
   "execution_count": 2,
   "metadata": {},
   "outputs": [],
   "source": [
    "def forecast_price(df):\n",
    "    '''\n",
    "    Requires df with ticker index\n",
    "    '''\n",
    "    fut_df = pd.DataFrame()\n",
    "    forecast_df=pd.DataFrame()\n",
    "    forecast = {}\n",
    "    for i in range(len(df)):\n",
    "        \n",
    "        try:\n",
    "            \n",
    "            ticker = df.Ticker[i]\n",
    "            ohlcv = get_crypto_daily_price(ticker)\n",
    "            fut_df[ticker] = ohlcv['close']\n",
    "\n",
    "            for i in progressbar(range(10), f\"Query Success for {ticker}!, Preparing data for next call: \", 40):\n",
    "                    time.sleep(0.1)\n",
    "\n",
    "            print(f'Building a model for {ticker}')\n",
    "            model = ARIMA(fut_df[ticker].dropna(), order=(4,1,4))\n",
    "            results = model.fit()\n",
    "            forecast[ticker] = results.forecast(steps=30)[0]\n",
    "            \n",
    "        except:\n",
    "            print('error')\n",
    "            pass\n",
    "    \n",
    "\n",
    "        \n",
    "    return forecast"
   ]
  },
  {
   "cell_type": "code",
   "execution_count": 3,
   "metadata": {},
   "outputs": [],
   "source": [
    "def get_crypto_daily_price(ticker):\n",
    "    ticker = ticker.upper()\n",
    "    api_key = os.getenv(\"CC_API\")\n",
    "    crypto_df = pd.DataFrame()\n",
    "    url = f\"https://min-api.cryptocompare.com/data/v2/histoday?fsym={ticker}&tsym=USD&tryConversion=0&allData=true&api_key={api_key}\"\n",
    "    raw_data = read_json(url)\n",
    "    df = pd.DataFrame(raw_data['Data']['Data'])\n",
    "    df['time'] = pd.to_datetime(df['time'],unit='s')\n",
    "    df.set_index(df['time'], inplace=True)\n",
    "    df['close'] = df['close'].astype(float)\n",
    "    df['var'] = df['close'].pct_change()\n",
    "    return df.dropna()"
   ]
  },
  {
   "cell_type": "code",
   "execution_count": 4,
   "metadata": {},
   "outputs": [],
   "source": [
    "def read_json(url):\n",
    "    request = Request(url)\n",
    "    response = urlopen(request)\n",
    "    data = response.read()\n",
    "    url2 = json.loads(data)\n",
    "    return url2"
   ]
  },
  {
   "cell_type": "code",
   "execution_count": 5,
   "metadata": {},
   "outputs": [],
   "source": [
    "def progressbar(it, prefix=\"\", size=60, file=sys.stdout):\n",
    "    count = len(it)\n",
    "    def show(j):\n",
    "        x = int(size*j/count)\n",
    "        file.write(\"%s[%s%s] %i/%i\\r\" % (prefix, \"#\"*x, \".\"*(size-x), j, count))\n",
    "        file.flush()        \n",
    "    show(0)\n",
    "    for i, item in enumerate(it):\n",
    "        yield item\n",
    "        show(i+1)\n",
    "    file.write(\"\\n\")\n",
    "    file.flush()"
   ]
  },
  {
   "cell_type": "code",
   "execution_count": 6,
   "metadata": {},
   "outputs": [],
   "source": [
    "def daterange(current_date, end_date):\n",
    "    current_date = date.today()\n",
    "    end_date = (date.today()+timedelta(days=29))\n",
    "    current_date.strftime(\"%Y-%m-%d\")\n",
    "    end_date.strftime(\"%Y-%m-%d\")\n",
    "    for n in range(int((end_date - current_date).days)+1):\n",
    "        yield current_date + timedelta(n)\n"
   ]
  },
  {
   "cell_type": "code",
   "execution_count": 7,
   "metadata": {},
   "outputs": [],
   "source": [
    "df = pd.read_csv('../../data/cleandata/success_df.csv')"
   ]
  },
  {
   "cell_type": "code",
   "execution_count": null,
   "metadata": {},
   "outputs": [
    {
     "name": "stdout",
     "output_type": "stream",
     "text": [
      "Query Success for ETH!, Preparing data for next call: [########################################] 10/10\n",
      "Building a model for ETH\n"
     ]
    },
    {
     "name": "stderr",
     "output_type": "stream",
     "text": [
      "C:\\Users\\cscat\\Anaconda3\\lib\\site-packages\\statsmodels\\tsa\\base\\tsa_model.py:165: ValueWarning: No frequency information was provided, so inferred frequency D will be used.\n",
      "  % freq, ValueWarning)\n",
      "C:\\Users\\cscat\\Anaconda3\\lib\\site-packages\\statsmodels\\tsa\\base\\tsa_model.py:165: ValueWarning: No frequency information was provided, so inferred frequency D will be used.\n",
      "  % freq, ValueWarning)\n"
     ]
    },
    {
     "name": "stdout",
     "output_type": "stream",
     "text": [
      "Query Success for BNB!, Preparing data for next call: [########################################] 10/10\n",
      "Building a model for BNB\n",
      "error\n"
     ]
    },
    {
     "name": "stderr",
     "output_type": "stream",
     "text": [
      "C:\\Users\\cscat\\Anaconda3\\lib\\site-packages\\statsmodels\\tsa\\base\\tsa_model.py:165: ValueWarning: No frequency information was provided, so inferred frequency D will be used.\n",
      "  % freq, ValueWarning)\n",
      "C:\\Users\\cscat\\Anaconda3\\lib\\site-packages\\statsmodels\\tsa\\base\\tsa_model.py:165: ValueWarning: No frequency information was provided, so inferred frequency D will be used.\n",
      "  % freq, ValueWarning)\n"
     ]
    },
    {
     "name": "stdout",
     "output_type": "stream",
     "text": [
      "Query Success for EOS!, Preparing data for next call: [########################################] 10/10\n",
      "Building a model for EOS\n"
     ]
    },
    {
     "name": "stderr",
     "output_type": "stream",
     "text": [
      "C:\\Users\\cscat\\Anaconda3\\lib\\site-packages\\statsmodels\\tsa\\base\\tsa_model.py:165: ValueWarning: No frequency information was provided, so inferred frequency D will be used.\n",
      "  % freq, ValueWarning)\n",
      "C:\\Users\\cscat\\Anaconda3\\lib\\site-packages\\statsmodels\\tsa\\base\\tsa_model.py:165: ValueWarning: No frequency information was provided, so inferred frequency D will be used.\n",
      "  % freq, ValueWarning)\n"
     ]
    }
   ],
   "source": [
    "ARIMA_30day_forecast = forecast_price(df)"
   ]
  },
  {
   "cell_type": "code",
   "execution_count": 88,
   "metadata": {},
   "outputs": [],
   "source": [
    "ARIMA_30day_forecast_df = pd.DataFrame(ARIMA_30day_forecast)"
   ]
  },
  {
   "cell_type": "code",
   "execution_count": 89,
   "metadata": {},
   "outputs": [],
   "source": [
    "df_index = []\n",
    "for dt in daterange(start_dt, end_dt):\n",
    "    df_index.append(dt.strftime(\"%Y-%m-%d\"))"
   ]
  },
  {
   "cell_type": "code",
   "execution_count": 90,
   "metadata": {},
   "outputs": [],
   "source": [
    "ARIMA_30day_forecast_df['date']=df_index"
   ]
  },
  {
   "cell_type": "code",
   "execution_count": 91,
   "metadata": {},
   "outputs": [],
   "source": [
    "ARIMA_30day_forecast_df.set_index('date', inplace=True)"
   ]
  },
  {
   "cell_type": "code",
   "execution_count": 92,
   "metadata": {},
   "outputs": [],
   "source": [
    "ARIMA_30day_forecast_df.to_csv('../../data/cleandata/ARIMA_30day_forecast_df.csv')"
   ]
  },
  {
   "cell_type": "code",
   "execution_count": 107,
   "metadata": {},
   "outputs": [
    {
     "data": {
      "text/plain": [
       "date\n",
       "2019-11-17    0.037297\n",
       "2019-11-18    0.033572\n",
       "2019-11-19    0.029695\n",
       "2019-11-20    0.026634\n",
       "2019-11-21    0.023999\n",
       "2019-11-22    0.021492\n",
       "2019-11-23    0.019123\n",
       "2019-11-24    0.016882\n",
       "2019-11-25    0.014729\n",
       "2019-11-26    0.012644\n",
       "2019-11-27    0.010622\n",
       "2019-11-28    0.008655\n",
       "2019-11-29    0.006740\n",
       "2019-11-30    0.004872\n",
       "2019-12-01    0.003049\n",
       "2019-12-02    0.001268\n",
       "2019-12-03   -0.000472\n",
       "2019-12-04   -0.002172\n",
       "2019-12-05   -0.003835\n",
       "2019-12-06   -0.005461\n",
       "2019-12-07   -0.007052\n",
       "2019-12-08   -0.008609\n",
       "2019-12-09   -0.010133\n",
       "2019-12-10   -0.011625\n",
       "2019-12-11   -0.013086\n",
       "2019-12-12   -0.014518\n",
       "2019-12-13   -0.015921\n",
       "2019-12-14   -0.017296\n",
       "2019-12-15   -0.018644\n",
       "2019-12-16   -0.019967\n",
       "Name: CVC, dtype: float64"
      ]
     },
     "execution_count": 107,
     "metadata": {},
     "output_type": "execute_result"
    }
   ],
   "source": [
    "ARIMA_30day_forecast_df['CVC']"
   ]
  },
  {
   "cell_type": "code",
   "execution_count": 15,
   "metadata": {},
   "outputs": [
    {
     "data": {
      "text/plain": [
       "close                            0.7175\n",
       "conversionSymbol                       \n",
       "conversionType                   direct\n",
       "high                               0.95\n",
       "low                                0.61\n",
       "open                             0.7894\n",
       "time                2017-07-05 00:00:00\n",
       "volumefrom                      23951.6\n",
       "volumeto                        19393.7\n",
       "var                          -0.0910818\n",
       "Name: 2017-07-05 00:00:00, dtype: object"
      ]
     },
     "execution_count": 15,
     "metadata": {},
     "output_type": "execute_result"
    }
   ],
   "source": [
    "x = get_crypto_daily_price('XTZ').iloc[0]\n",
    "x"
   ]
  },
  {
   "cell_type": "code",
   "execution_count": null,
   "metadata": {},
   "outputs": [],
   "source": []
  },
  {
   "cell_type": "code",
   "execution_count": null,
   "metadata": {},
   "outputs": [],
   "source": []
  }
 ],
 "metadata": {
  "kernelspec": {
   "display_name": "Python 3",
   "language": "python",
   "name": "python3"
  },
  "language_info": {
   "codemirror_mode": {
    "name": "ipython",
    "version": 3
   },
   "file_extension": ".py",
   "mimetype": "text/x-python",
   "name": "python",
   "nbconvert_exporter": "python",
   "pygments_lexer": "ipython3",
   "version": "3.7.3"
  }
 },
 "nbformat": 4,
 "nbformat_minor": 4
}
